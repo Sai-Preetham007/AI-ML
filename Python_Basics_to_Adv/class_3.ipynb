{
 "cells": [
  {
   "cell_type": "markdown",
   "id": "683bf452",
   "metadata": {},
   "source": [
    "# Booleans and Operators"
   ]
  },
  {
   "cell_type": "code",
   "execution_count": 1,
   "id": "66a7e3fe",
   "metadata": {},
   "outputs": [
    {
     "name": "stdout",
     "output_type": "stream",
     "text": [
      "False\n",
      "True\n"
     ]
    }
   ],
   "source": [
    "print(5 == 3)\n",
    "print(5 == 5)"
   ]
  },
  {
   "cell_type": "code",
   "execution_count": 2,
   "id": "2be1d957",
   "metadata": {},
   "outputs": [
    {
     "name": "stdout",
     "output_type": "stream",
     "text": [
      "True\n",
      "False\n",
      "True\n",
      "False\n"
     ]
    }
   ],
   "source": [
    "print(5 > 3)\n",
    "print(5 < 3)\n",
    "print(5 == 5)\n",
    "print(5 != 5)"
   ]
  },
  {
   "cell_type": "code",
   "execution_count": 3,
   "id": "11f8d488",
   "metadata": {},
   "outputs": [
    {
     "name": "stdout",
     "output_type": "stream",
     "text": [
      "Value might be 2 or less than 4\n"
     ]
    }
   ],
   "source": [
    "x = 4\n",
    "y = 2\n",
    "\n",
    "if (x < 3) or (x == 3):\n",
    "    print(\"Value might be 3 or less than 5\")\n",
    "\n",
    "if (y < 3) or (y == 3):\n",
    "    print(\"Value might be 2 or less than 4\")"
   ]
  },
  {
   "cell_type": "code",
   "execution_count": 4,
   "id": "51f68df4",
   "metadata": {},
   "outputs": [
    {
     "name": "stdout",
     "output_type": "stream",
     "text": [
      "Value might be 4 and less than 5\n"
     ]
    }
   ],
   "source": [
    "x = 4\n",
    "y = 2\n",
    "\n",
    "if (x < 5) and (x == 4):\n",
    "    print(\"Value might be 4 and less than 5\")\n",
    "    \n",
    "if (y < 5) and (y == 4):\n",
    "    print(\"Value might be 4 and less than 4\")"
   ]
  },
  {
   "cell_type": "markdown",
   "id": "426c5b8f",
   "metadata": {},
   "source": [
    "* find the largest and the smallest number"
   ]
  },
  {
   "cell_type": "code",
   "execution_count": 5,
   "id": "b01651dd",
   "metadata": {},
   "outputs": [
    {
     "name": "stdout",
     "output_type": "stream",
     "text": [
      "The largest number is : 15\n",
      "The smallest number is : 4\n"
     ]
    }
   ],
   "source": [
    "a, b, c = 10, 15, 4\n",
    "\n",
    "if (a > b) and (a > c):\n",
    "    print(f\"The largest number is : {a}\")\n",
    "elif (b > a) and (b > c):\n",
    "    print(f\"The largest number is : {b}\")\n",
    "else:\n",
    "    print(f\"The largest number is : {c}\")\n",
    "\n",
    "if (a < b) and (a < c):\n",
    "    print(f\"The smallest number is : {a}\")\n",
    "elif (b < a) and (b < c):\n",
    "    print(f\"The smallest number is : {b}\")\n",
    "else:\n",
    "    print(f\"The smallest number is : {c}\")"
   ]
  },
  {
   "cell_type": "code",
   "execution_count": 6,
   "id": "c4b538b1",
   "metadata": {},
   "outputs": [
    {
     "name": "stdout",
     "output_type": "stream",
     "text": [
      "True\n",
      "False\n"
     ]
    }
   ],
   "source": [
    "print(bool(\"Sai Preetham\"))\n",
    "print(bool(\"\"))"
   ]
  },
  {
   "cell_type": "code",
   "execution_count": 7,
   "id": "eefd0200",
   "metadata": {},
   "outputs": [
    {
     "name": "stdout",
     "output_type": "stream",
     "text": [
      "True\n",
      "False\n",
      "True\n"
     ]
    }
   ],
   "source": [
    "print(bool(5))\n",
    "print(bool(0))\n",
    "print(bool(-4))"
   ]
  },
  {
   "cell_type": "code",
   "execution_count": 8,
   "id": "0e6b0c5d",
   "metadata": {},
   "outputs": [
    {
     "name": "stdout",
     "output_type": "stream",
     "text": [
      "True\n",
      "True\n"
     ]
    }
   ],
   "source": [
    "print(bool(True))\n",
    "print(bool(\"true\"))"
   ]
  },
  {
   "cell_type": "code",
   "execution_count": 9,
   "id": "c4b4d2a4",
   "metadata": {},
   "outputs": [
    {
     "name": "stdout",
     "output_type": "stream",
     "text": [
      "False\n",
      "True\n"
     ]
    }
   ],
   "source": [
    "print(bool(False))\n",
    "print(bool(\"false\"))"
   ]
  },
  {
   "cell_type": "code",
   "execution_count": 10,
   "id": "db1274da",
   "metadata": {},
   "outputs": [
    {
     "name": "stdout",
     "output_type": "stream",
     "text": [
      "True\n",
      "True\n"
     ]
    }
   ],
   "source": [
    "print(bool(False == 0))\n",
    "print(bool(True == 1))"
   ]
  },
  {
   "cell_type": "code",
   "execution_count": 11,
   "id": "5bb25a21",
   "metadata": {},
   "outputs": [
    {
     "name": "stdout",
     "output_type": "stream",
     "text": [
      "False\n"
     ]
    }
   ],
   "source": [
    "print(bool(True == 4))"
   ]
  },
  {
   "cell_type": "code",
   "execution_count": 12,
   "id": "95789764",
   "metadata": {},
   "outputs": [
    {
     "name": "stdout",
     "output_type": "stream",
     "text": [
      "False\n"
     ]
    }
   ],
   "source": [
    "print(bool(None))"
   ]
  },
  {
   "cell_type": "code",
   "execution_count": 13,
   "id": "85337a67",
   "metadata": {},
   "outputs": [
    {
     "name": "stdout",
     "output_type": "stream",
     "text": [
      "Addition of two numbers 9 and 2 is : 11\n",
      "Substarction of two numbers 9 and 2 is : 7\n",
      "Multiplication of two numbers 9 and 2 is : 18\n",
      "Division of two numbers 9 and 2 is : 4.5\n",
      "Remainder of two numbers 9 and 2 is : 1\n",
      "\n",
      "9 power 2 is : 81\n",
      "Floor division of two numbers 9 and 2 is : 4\n"
     ]
    }
   ],
   "source": [
    "x = 9\n",
    "y = 2\n",
    "\n",
    "print(f\"Addition of two numbers {x} and {y} is : {x + y}\")\n",
    "print(f\"Substarction of two numbers {x} and {y} is : {x - y}\")\n",
    "print(f\"Multiplication of two numbers {x} and {y} is : {x * y}\")\n",
    "print(f\"Division of two numbers {x} and {y} is : {x / y}\")\n",
    "print(f\"Remainder of two numbers {x} and {y} is : {x % y}\")\n",
    "\n",
    "print()\n",
    "\n",
    "print(f\"{x} power {y} is : {x ** y}\")\n",
    "print(f\"Floor division of two numbers {x} and {y} is : {x // y}\")"
   ]
  },
  {
   "cell_type": "markdown",
   "id": "84480f8c",
   "metadata": {},
   "source": [
    "* BODMAS ---> Bracket, Division, Multiplication, Addition, Substraction"
   ]
  },
  {
   "cell_type": "code",
   "execution_count": 14,
   "id": "237ac880",
   "metadata": {},
   "outputs": [
    {
     "name": "stdout",
     "output_type": "stream",
     "text": [
      "115\n"
     ]
    }
   ],
   "source": [
    "print(100 + 5 * 3)"
   ]
  },
  {
   "cell_type": "code",
   "execution_count": 15,
   "id": "e94aca97",
   "metadata": {},
   "outputs": [
    {
     "name": "stdout",
     "output_type": "stream",
     "text": [
      "315\n"
     ]
    }
   ],
   "source": [
    "print((100 + 5) * 3)         # 100 + 5 ---> 105             105 * 3 ---> 315"
   ]
  },
  {
   "cell_type": "markdown",
   "id": "9846c611",
   "metadata": {},
   "source": [
    "### Bitwise operator logic"
   ]
  },
  {
   "cell_type": "raw",
   "id": "e3e22968",
   "metadata": {
    "vscode": {
     "languageId": "raw"
    }
   },
   "source": [
    "\"0\"           # 0\n",
    "\"1\"           # 2**0 ---> 1\n",
    "\"10\"          # 2**1 ---> 2\n",
    "\"11\"          # 2**1 + 2**0 ---> 2 + 1 = 3\n",
    "\"100\"         # 2**2 = 4\n",
    "\"101\"         # 2**2 + 2**0 ---> 4 + 1 = 5"
   ]
  }
 ],
 "metadata": {
  "kernelspec": {
   "display_name": "Python 3",
   "language": "python",
   "name": "python3"
  },
  "language_info": {
   "codemirror_mode": {
    "name": "ipython",
    "version": 3
   },
   "file_extension": ".py",
   "mimetype": "text/x-python",
   "name": "python",
   "nbconvert_exporter": "python",
   "pygments_lexer": "ipython3",
   "version": "3.13.7"
  }
 },
 "nbformat": 4,
 "nbformat_minor": 5
}
