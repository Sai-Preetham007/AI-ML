{
 "cells": [
  {
   "cell_type": "markdown",
   "id": "2a1de368",
   "metadata": {},
   "source": [
    "# if -elif -else"
   ]
  },
  {
   "cell_type": "code",
   "execution_count": null,
   "id": "a0dc760a",
   "metadata": {},
   "outputs": [],
   "source": [
    "a, b = 33, 200\n",
    "\n",
    "if b > a:\n",
    "  print(\"b is greater than a\")"
   ]
  },
  {
   "cell_type": "code",
   "execution_count": null,
   "id": "a98e874b",
   "metadata": {},
   "outputs": [],
   "source": [
    "a, b = 33, 20\n",
    "\n",
    "if b > a:\n",
    "  print(\"b is greater than a\")\n",
    "else:\n",
    "  print(\"b is smaller than a\")"
   ]
  },
  {
   "cell_type": "code",
   "execution_count": null,
   "id": "bf5aa6bb",
   "metadata": {},
   "outputs": [],
   "source": [
    "a, b = 33, 33\n",
    "\n",
    "if b > a:\n",
    "  print(\"b is greater than a\")\n",
    "elif a == b:\n",
    "  print(\"b is equal to a\")"
   ]
  },
  {
   "cell_type": "code",
   "execution_count": null,
   "id": "0453c21f",
   "metadata": {},
   "outputs": [],
   "source": [
    "a, b, c = 33, 80, 50\n",
    "\n",
    "if b > a:\n",
    "   print(\"b is greater than a\")\n",
    "if b > c:\n",
    "   print(\"b is also greater than c\")\n",
    "else:\n",
    "   print(\"b is smaller\")"
   ]
  },
  {
   "cell_type": "code",
   "execution_count": null,
   "id": "9a363cb6",
   "metadata": {},
   "outputs": [],
   "source": [
    "a, b, c = 33, 80, 50\n",
    "\n",
    "if b > a:\n",
    "  print(\"b is greater than a\")\n",
    "elif b > c:\n",
    "  print(\"b is also greater than c\")\n",
    "else:\n",
    "  print(\"b is smaller\")"
   ]
  },
  {
   "cell_type": "code",
   "execution_count": null,
   "id": "63dc2237",
   "metadata": {},
   "outputs": [],
   "source": [
    "a, b, c = 100, 80, 50\n",
    "\n",
    "if a > b: print(\"a is greater than b\")"
   ]
  },
  {
   "cell_type": "code",
   "execution_count": null,
   "id": "9dd72b05",
   "metadata": {},
   "outputs": [],
   "source": [
    "a = 2\n",
    "b = 330\n",
    "\n",
    "print(\"b is smaller than a\") if a > b else print(\"b is greater than a\")"
   ]
  },
  {
   "cell_type": "code",
   "execution_count": null,
   "id": "9a989c4c",
   "metadata": {},
   "outputs": [],
   "source": [
    "a = 330\n",
    "b = 330\n",
    "\n",
    "print(\"a is greater\") if a > b else print(\"=\") if a == b else print(\"b is greater\")"
   ]
  },
  {
   "cell_type": "code",
   "execution_count": null,
   "id": "dea9c5ab",
   "metadata": {},
   "outputs": [],
   "source": [
    "if a > b:\n",
    "    print(\"a is greater\")\n",
    "else:\n",
    "    if a == b:\n",
    "        print(\"=\")\n",
    "    else:\n",
    "        print(\"b is greater\")"
   ]
  },
  {
   "cell_type": "markdown",
   "id": "2823aacf",
   "metadata": {},
   "source": [
    "### not  in if condition"
   ]
  },
  {
   "cell_type": "code",
   "execution_count": null,
   "id": "630f8885",
   "metadata": {},
   "outputs": [],
   "source": [
    "a, b = 2, 5\n",
    "\n",
    "if not a > b:\n",
    "    print(\"a is greater\")"
   ]
  },
  {
   "cell_type": "markdown",
   "id": "5ce81d2d",
   "metadata": {},
   "source": [
    "### nested if"
   ]
  },
  {
   "cell_type": "code",
   "execution_count": null,
   "id": "67b5f8cc",
   "metadata": {},
   "outputs": [],
   "source": [
    "a, b = 2, 5\n",
    "\n",
    "if a < b:\n",
    "    if a%2 == 0:\n",
    "        print(\"a is smaller than b and also even number\")\n",
    "    else:\n",
    "        print(\"a is smaller than b and it is odd number\")\n",
    "else:\n",
    "    print(\"a is not smaller than b\")"
   ]
  },
  {
   "cell_type": "code",
   "execution_count": null,
   "id": "cbe7eb36",
   "metadata": {},
   "outputs": [],
   "source": [
    "if 1:\n",
    "    print(\"Hello\")"
   ]
  },
  {
   "cell_type": "code",
   "execution_count": null,
   "id": "b9d78ca1",
   "metadata": {},
   "outputs": [],
   "source": [
    "if \"sai\":\n",
    "    print(\"Hello\")"
   ]
  },
  {
   "cell_type": "code",
   "execution_count": null,
   "id": "64a8bc99",
   "metadata": {},
   "outputs": [],
   "source": [
    "if True:\n",
    "    print(\"Hello\")"
   ]
  },
  {
   "cell_type": "code",
   "execution_count": null,
   "id": "7859bc0c",
   "metadata": {},
   "outputs": [],
   "source": [
    "if 0:\n",
    "    print(\"Hello\")"
   ]
  },
  {
   "cell_type": "code",
   "execution_count": null,
   "id": "9b6c07e4",
   "metadata": {},
   "outputs": [],
   "source": [
    "if \"\":\n",
    "    print(\"Hello\")"
   ]
  },
  {
   "cell_type": "code",
   "execution_count": null,
   "id": "f197751b",
   "metadata": {},
   "outputs": [],
   "source": [
    "if False:\n",
    "    print(\"Hello\")"
   ]
  },
  {
   "cell_type": "code",
   "execution_count": null,
   "id": "b8c596e9",
   "metadata": {},
   "outputs": [],
   "source": [
    "if \"sai\":\n",
    "    pass"
   ]
  },
  {
   "cell_type": "code",
   "execution_count": null,
   "id": "50d6d7e1",
   "metadata": {},
   "outputs": [],
   "source": [
    "day = 4\n",
    "\n",
    "if day == 1:\n",
    "    print(\"Monday\")\n",
    "elif day == 2:\n",
    "    print(\"Tuesday\")\n",
    "elif day == 3:\n",
    "    print(\"wednesday\")\n",
    "elif day == 4:\n",
    "    print(\"Thursday\")\n",
    "elif day == 5:\n",
    "    print(\"Friday\")\n",
    "elif day == 6:\n",
    "    print(\"Saturday\")\n",
    "elif day == 7:\n",
    "    print(\"Sunday\")\n",
    "else:\n",
    "    print(\"Not a valid Number\")"
   ]
  },
  {
   "cell_type": "code",
   "execution_count": null,
   "id": "89c8eff7",
   "metadata": {},
   "outputs": [],
   "source": [
    "day = 4\n",
    "\n",
    "match day:\n",
    "    case 1:\n",
    "        print(\"Monday\")\n",
    "    case 2:\n",
    "        print(\"Tuesday\")\n",
    "    case 3:\n",
    "        print(\"Wednesday\")\n",
    "    case 4:\n",
    "        print(\"Thursday\")\n",
    "    case 5:\n",
    "        print(\"Friday\")\n",
    "    case 6:\n",
    "        print(\"Saturday\")\n",
    "    case 7:\n",
    "        print(\"Sunday\")"
   ]
  },
  {
   "cell_type": "markdown",
   "id": "e1e51b89",
   "metadata": {},
   "source": [
    "# Loops\n",
    "* for loop\n",
    "* while loop"
   ]
  },
  {
   "cell_type": "code",
   "execution_count": null,
   "id": "d76a839a",
   "metadata": {},
   "outputs": [],
   "source": [
    "i = 1\n",
    "\n",
    "while i < 6:\n",
    "    print(i)\n",
    "    i += 1"
   ]
  },
  {
   "cell_type": "code",
   "execution_count": null,
   "id": "49b7736d",
   "metadata": {},
   "outputs": [],
   "source": [
    "i = -1\n",
    "\n",
    "while i > -6:\n",
    "    print(i)\n",
    "    i -= 1"
   ]
  },
  {
   "cell_type": "code",
   "execution_count": null,
   "id": "de8febdf",
   "metadata": {},
   "outputs": [],
   "source": [
    "i = 0\n",
    "\n",
    "while i < 10:\n",
    "    i += 1\n",
    "    if i == 5:\n",
    "        break\n",
    "    print(i)"
   ]
  },
  {
   "cell_type": "code",
   "execution_count": null,
   "id": "324a081c",
   "metadata": {},
   "outputs": [],
   "source": [
    "i = 0\n",
    "\n",
    "while i < 10:\n",
    "    i += 1\n",
    "    if i == 5:\n",
    "        continue\n",
    "    print(i)"
   ]
  },
  {
   "cell_type": "code",
   "execution_count": null,
   "id": "14c32ceb",
   "metadata": {},
   "outputs": [],
   "source": [
    "for i in range(5):\n",
    "    print(i)"
   ]
  },
  {
   "cell_type": "code",
   "execution_count": null,
   "id": "0b22fe8d",
   "metadata": {},
   "outputs": [],
   "source": [
    "for i in range(3, 10):\n",
    "    print(i)"
   ]
  },
  {
   "cell_type": "code",
   "execution_count": null,
   "id": "9943d45a",
   "metadata": {},
   "outputs": [],
   "source": [
    "for i in range(3, 30, 3):\n",
    "    print(i)"
   ]
  },
  {
   "cell_type": "code",
   "execution_count": null,
   "id": "58be079e",
   "metadata": {},
   "outputs": [],
   "source": [
    "for i in range(5, 50, 5):\n",
    "    if i == 25:\n",
    "        print(\"Silver Juiblee\")\n",
    "        continue\n",
    "    print(i)"
   ]
  },
  {
   "cell_type": "code",
   "execution_count": null,
   "id": "3283de6c",
   "metadata": {},
   "outputs": [],
   "source": [
    "for i in range(5, 50, 5):\n",
    "    if i == 25:\n",
    "        print(\"Silver Juiblee\")\n",
    "        break\n",
    "    print(i)"
   ]
  },
  {
   "cell_type": "code",
   "execution_count": null,
   "id": "f8308e0c",
   "metadata": {},
   "outputs": [],
   "source": [
    "for i in \"sai\":\n",
    "    print(i)"
   ]
  },
  {
   "cell_type": "code",
   "execution_count": null,
   "id": "ce365544",
   "metadata": {},
   "outputs": [],
   "source": [
    "l = [\"sai\", \"preetham\", \"krishna\"]\n",
    "\n",
    "for i in l:\n",
    "    print(i)"
   ]
  },
  {
   "cell_type": "markdown",
   "id": "c13d0347",
   "metadata": {},
   "source": [
    "### nested for loop"
   ]
  },
  {
   "cell_type": "raw",
   "id": "6e269772",
   "metadata": {
    "vscode": {
     "languageId": "raw"
    }
   },
   "source": [
    "'''\n",
    "s\n",
    "a\n",
    "i\n",
    "\n",
    "p\n",
    "r\n",
    "e\n",
    "e\n",
    "t\n",
    "h\n",
    "a\n",
    "m\n",
    "\n",
    "k\n",
    "r\n",
    "i\n",
    "s\n",
    "h\n",
    "n\n",
    "a\n",
    "krishna\n",
    "'''"
   ]
  },
  {
   "cell_type": "code",
   "execution_count": null,
   "id": "45af61af",
   "metadata": {},
   "outputs": [],
   "source": [
    "l = [\"sai\", \"preetham\", \"krishna\"]\n",
    "\n",
    "for i in l:\n",
    "    for j in i:\n",
    "        print(j)\n",
    "    print()"
   ]
  },
  {
   "cell_type": "code",
   "execution_count": null,
   "id": "dbf6f414",
   "metadata": {},
   "outputs": [],
   "source": [
    "for x in range(6):\n",
    "   print(x)\n",
    "print(\"Finally finished!\")"
   ]
  },
  {
   "cell_type": "code",
   "execution_count": null,
   "id": "30b31877",
   "metadata": {},
   "outputs": [],
   "source": [
    "for i in range(1,11):\n",
    "    if i == 50:\n",
    "        continue\n",
    "else:\n",
    "    print(i)"
   ]
  },
  {
   "cell_type": "code",
   "execution_count": null,
   "id": "cd773961",
   "metadata": {},
   "outputs": [],
   "source": [
    "for x in range(6):\n",
    "    if x == 3:\n",
    "        break\n",
    "    print(x)\n",
    "print(\"Finally finished!\")"
   ]
  },
  {
   "cell_type": "code",
   "execution_count": null,
   "id": "0d9ff9b8",
   "metadata": {},
   "outputs": [],
   "source": [
    "for x in range(6):\n",
    "    if x == 10:\n",
    "        break\n",
    "    print(x)\n",
    "print(\"Finally finished!\")"
   ]
  },
  {
   "cell_type": "code",
   "execution_count": null,
   "id": "8da4de13",
   "metadata": {},
   "outputs": [],
   "source": [
    "for x in range(6):\n",
    "    if x == 3:\n",
    "        break\n",
    "    print(x)\n",
    "else:\n",
    "    print(\"Finally finished!\")"
   ]
  },
  {
   "cell_type": "code",
   "execution_count": null,
   "id": "02d3e9e3",
   "metadata": {},
   "outputs": [],
   "source": [
    "for x in range(6):\n",
    "    if x == 10:\n",
    "        break\n",
    "    print(x)\n",
    "else:\n",
    "    print(\"Finally finished!\")"
   ]
  },
  {
   "cell_type": "markdown",
   "id": "da772220",
   "metadata": {},
   "source": [
    "### print statement features\n",
    "* sep\n",
    "* end"
   ]
  },
  {
   "cell_type": "code",
   "execution_count": null,
   "id": "e8d618f5",
   "metadata": {},
   "outputs": [],
   "source": [
    "x, y = 10, 20\n",
    "\n",
    "print(x)\n",
    "print(y)"
   ]
  },
  {
   "cell_type": "code",
   "execution_count": null,
   "id": "2eb960a5",
   "metadata": {},
   "outputs": [],
   "source": [
    "x, y = 10, 20\n",
    "\n",
    "print(x, end = \"*\")\n",
    "print(y)"
   ]
  },
  {
   "cell_type": "code",
   "execution_count": null,
   "id": "7e7f054b",
   "metadata": {},
   "outputs": [],
   "source": [
    "x, y = 10, 20\n",
    "\n",
    "print(x, end = \"*\")\n",
    "print(y)\n",
    "print(\"Hello\")"
   ]
  },
  {
   "cell_type": "code",
   "execution_count": null,
   "id": "7467b3bd",
   "metadata": {},
   "outputs": [],
   "source": [
    "x, y = 10, 20\n",
    "\n",
    "print(x, end = \"*\")\n",
    "print(y, end = \"+\")\n",
    "print(\"Hello\")"
   ]
  },
  {
   "cell_type": "code",
   "execution_count": null,
   "id": "b5ea49ca",
   "metadata": {},
   "outputs": [],
   "source": [
    "print(x, y)"
   ]
  },
  {
   "cell_type": "code",
   "execution_count": null,
   "id": "84315dcf",
   "metadata": {},
   "outputs": [],
   "source": [
    "print(x, y, \"sai\", sep=\" * \")"
   ]
  },
  {
   "cell_type": "code",
   "execution_count": 1,
   "id": "54e01903",
   "metadata": {},
   "outputs": [
    {
     "name": "stdout",
     "output_type": "stream",
     "text": [
      "11 + 22 + 33 * Sai Preetham\n"
     ]
    }
   ],
   "source": [
    "x, y, z = 11, 22, 33\n",
    "\n",
    "print(x, y, z, sep=\" + \", end=\" * \")\n",
    "print(\"Sai Preetham\")"
   ]
  }
 ],
 "metadata": {
  "kernelspec": {
   "display_name": "Python 3",
   "language": "python",
   "name": "python3"
  },
  "language_info": {
   "codemirror_mode": {
    "name": "ipython",
    "version": 3
   },
   "file_extension": ".py",
   "mimetype": "text/x-python",
   "name": "python",
   "nbconvert_exporter": "python",
   "pygments_lexer": "ipython3",
   "version": "3.13.7"
  }
 },
 "nbformat": 4,
 "nbformat_minor": 5
}
