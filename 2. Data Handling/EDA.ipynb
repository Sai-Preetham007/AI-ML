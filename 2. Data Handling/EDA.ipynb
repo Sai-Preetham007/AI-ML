{
 "cells": [
  {
   "cell_type": "code",
   "execution_count": 1,
   "id": "25adeeef",
   "metadata": {},
   "outputs": [],
   "source": [
    "import numpy as np\n",
    "import pandas as pd"
   ]
  },
  {
   "cell_type": "code",
   "execution_count": 2,
   "id": "0218550c",
   "metadata": {},
   "outputs": [
    {
     "data": {
      "application/vnd.microsoft.datawrangler.viewer.v0+json": {
       "columns": [
        {
         "name": "index",
         "rawType": "int64",
         "type": "integer"
        },
        {
         "name": "App Name",
         "rawType": "object",
         "type": "string"
        },
        {
         "name": "App Id",
         "rawType": "object",
         "type": "string"
        },
        {
         "name": "Category",
         "rawType": "object",
         "type": "string"
        },
        {
         "name": "Rating",
         "rawType": "float64",
         "type": "float"
        },
        {
         "name": "Rating Count",
         "rawType": "float64",
         "type": "float"
        },
        {
         "name": "Installs",
         "rawType": "object",
         "type": "string"
        },
        {
         "name": "Minimum Installs",
         "rawType": "float64",
         "type": "float"
        },
        {
         "name": "Maximum Installs",
         "rawType": "int64",
         "type": "integer"
        },
        {
         "name": "Free",
         "rawType": "bool",
         "type": "boolean"
        },
        {
         "name": "Price",
         "rawType": "float64",
         "type": "float"
        },
        {
         "name": "Currency",
         "rawType": "object",
         "type": "string"
        },
        {
         "name": "Size",
         "rawType": "object",
         "type": "string"
        },
        {
         "name": "Minimum Android",
         "rawType": "object",
         "type": "string"
        },
        {
         "name": "Developer Id",
         "rawType": "object",
         "type": "string"
        },
        {
         "name": "Developer Website",
         "rawType": "object",
         "type": "unknown"
        },
        {
         "name": "Developer Email",
         "rawType": "object",
         "type": "string"
        },
        {
         "name": "Released",
         "rawType": "object",
         "type": "string"
        },
        {
         "name": "Last Updated",
         "rawType": "object",
         "type": "string"
        },
        {
         "name": "Content Rating",
         "rawType": "object",
         "type": "string"
        },
        {
         "name": "Privacy Policy",
         "rawType": "object",
         "type": "unknown"
        },
        {
         "name": "Ad Supported",
         "rawType": "bool",
         "type": "boolean"
        },
        {
         "name": "In App Purchases",
         "rawType": "bool",
         "type": "boolean"
        },
        {
         "name": "Editors Choice",
         "rawType": "bool",
         "type": "boolean"
        },
        {
         "name": "Scraped Time",
         "rawType": "object",
         "type": "string"
        }
       ],
       "ref": "544a6b20-6585-4b93-bfbf-8226f6230628",
       "rows": [
        [
         "0",
         "Gakondo",
         "com.ishakwe.gakondo",
         "Adventure",
         "0.0",
         "0.0",
         "10+",
         "10.0",
         "15",
         "True",
         "0.0",
         "USD",
         "10M",
         "7.1 and up",
         "Jean Confident Irénée NIYIZIBYOSE",
         "https://beniyizibyose.tk/#/",
         "jean21101999@gmail.com",
         "Feb 26, 2020",
         "Feb 26, 2020",
         "Everyone",
         "https://beniyizibyose.tk/projects/",
         "False",
         "False",
         "False",
         "2021-06-15 20:19:35"
        ],
        [
         "1",
         "Ampere Battery Info",
         "com.webserveis.batteryinfo",
         "Tools",
         "4.4",
         "64.0",
         "5,000+",
         "5000.0",
         "7662",
         "True",
         "0.0",
         "USD",
         "2.9M",
         "5.0 and up",
         "Webserveis",
         "https://webserveis.netlify.app/",
         "webserveis@gmail.com",
         "May 21, 2020",
         "May 06, 2021",
         "Everyone",
         "https://dev4phones.wordpress.com/licencia-de-uso/",
         "True",
         "False",
         "False",
         "2021-06-15 20:19:35"
        ],
        [
         "2",
         "Vibook",
         "com.doantiepvien.crm",
         "Productivity",
         "0.0",
         "0.0",
         "50+",
         "50.0",
         "58",
         "True",
         "0.0",
         "USD",
         "3.7M",
         "4.0.3 and up",
         "Cabin Crew",
         null,
         "vnacrewit@gmail.com",
         "Aug 9, 2019",
         "Aug 19, 2019",
         "Everyone",
         "https://www.vietnamairlines.com/vn/en/terms-and-conditions/privacy-policy",
         "False",
         "False",
         "False",
         "2021-06-15 20:19:35"
        ],
        [
         "3",
         "Smart City Trichy Public Service Vehicles 17UCS548",
         "cst.stJoseph.ug17ucs548",
         "Communication",
         "5.0",
         "5.0",
         "10+",
         "10.0",
         "19",
         "True",
         "0.0",
         "USD",
         "1.8M",
         "4.0.3 and up",
         "Climate Smart Tech2",
         "http://www.climatesmarttech.com/",
         "climatesmarttech2@gmail.com",
         "Sep 10, 2018",
         "Oct 13, 2018",
         "Everyone",
         null,
         "True",
         "False",
         "False",
         "2021-06-15 20:19:35"
        ],
        [
         "4",
         "GROW.me",
         "com.horodyski.grower",
         "Tools",
         "0.0",
         "0.0",
         "100+",
         "100.0",
         "478",
         "True",
         "0.0",
         "USD",
         "6.2M",
         "4.1 and up",
         "Rafal Milek-Horodyski",
         "http://www.horodyski.com.pl",
         "rmilekhorodyski@gmail.com",
         "Feb 21, 2020",
         "Nov 12, 2018",
         "Everyone",
         "http://www.horodyski.com.pl",
         "False",
         "False",
         "False",
         "2021-06-15 20:19:35"
        ]
       ],
       "shape": {
        "columns": 24,
        "rows": 5
       }
      },
      "text/html": [
       "<div>\n",
       "<style scoped>\n",
       "    .dataframe tbody tr th:only-of-type {\n",
       "        vertical-align: middle;\n",
       "    }\n",
       "\n",
       "    .dataframe tbody tr th {\n",
       "        vertical-align: top;\n",
       "    }\n",
       "\n",
       "    .dataframe thead th {\n",
       "        text-align: right;\n",
       "    }\n",
       "</style>\n",
       "<table border=\"1\" class=\"dataframe\">\n",
       "  <thead>\n",
       "    <tr style=\"text-align: right;\">\n",
       "      <th></th>\n",
       "      <th>App Name</th>\n",
       "      <th>App Id</th>\n",
       "      <th>Category</th>\n",
       "      <th>Rating</th>\n",
       "      <th>Rating Count</th>\n",
       "      <th>Installs</th>\n",
       "      <th>Minimum Installs</th>\n",
       "      <th>Maximum Installs</th>\n",
       "      <th>Free</th>\n",
       "      <th>Price</th>\n",
       "      <th>...</th>\n",
       "      <th>Developer Website</th>\n",
       "      <th>Developer Email</th>\n",
       "      <th>Released</th>\n",
       "      <th>Last Updated</th>\n",
       "      <th>Content Rating</th>\n",
       "      <th>Privacy Policy</th>\n",
       "      <th>Ad Supported</th>\n",
       "      <th>In App Purchases</th>\n",
       "      <th>Editors Choice</th>\n",
       "      <th>Scraped Time</th>\n",
       "    </tr>\n",
       "  </thead>\n",
       "  <tbody>\n",
       "    <tr>\n",
       "      <th>0</th>\n",
       "      <td>Gakondo</td>\n",
       "      <td>com.ishakwe.gakondo</td>\n",
       "      <td>Adventure</td>\n",
       "      <td>0.0</td>\n",
       "      <td>0.0</td>\n",
       "      <td>10+</td>\n",
       "      <td>10.0</td>\n",
       "      <td>15</td>\n",
       "      <td>True</td>\n",
       "      <td>0.0</td>\n",
       "      <td>...</td>\n",
       "      <td>https://beniyizibyose.tk/#/</td>\n",
       "      <td>jean21101999@gmail.com</td>\n",
       "      <td>Feb 26, 2020</td>\n",
       "      <td>Feb 26, 2020</td>\n",
       "      <td>Everyone</td>\n",
       "      <td>https://beniyizibyose.tk/projects/</td>\n",
       "      <td>False</td>\n",
       "      <td>False</td>\n",
       "      <td>False</td>\n",
       "      <td>2021-06-15 20:19:35</td>\n",
       "    </tr>\n",
       "    <tr>\n",
       "      <th>1</th>\n",
       "      <td>Ampere Battery Info</td>\n",
       "      <td>com.webserveis.batteryinfo</td>\n",
       "      <td>Tools</td>\n",
       "      <td>4.4</td>\n",
       "      <td>64.0</td>\n",
       "      <td>5,000+</td>\n",
       "      <td>5000.0</td>\n",
       "      <td>7662</td>\n",
       "      <td>True</td>\n",
       "      <td>0.0</td>\n",
       "      <td>...</td>\n",
       "      <td>https://webserveis.netlify.app/</td>\n",
       "      <td>webserveis@gmail.com</td>\n",
       "      <td>May 21, 2020</td>\n",
       "      <td>May 06, 2021</td>\n",
       "      <td>Everyone</td>\n",
       "      <td>https://dev4phones.wordpress.com/licencia-de-uso/</td>\n",
       "      <td>True</td>\n",
       "      <td>False</td>\n",
       "      <td>False</td>\n",
       "      <td>2021-06-15 20:19:35</td>\n",
       "    </tr>\n",
       "    <tr>\n",
       "      <th>2</th>\n",
       "      <td>Vibook</td>\n",
       "      <td>com.doantiepvien.crm</td>\n",
       "      <td>Productivity</td>\n",
       "      <td>0.0</td>\n",
       "      <td>0.0</td>\n",
       "      <td>50+</td>\n",
       "      <td>50.0</td>\n",
       "      <td>58</td>\n",
       "      <td>True</td>\n",
       "      <td>0.0</td>\n",
       "      <td>...</td>\n",
       "      <td>NaN</td>\n",
       "      <td>vnacrewit@gmail.com</td>\n",
       "      <td>Aug 9, 2019</td>\n",
       "      <td>Aug 19, 2019</td>\n",
       "      <td>Everyone</td>\n",
       "      <td>https://www.vietnamairlines.com/vn/en/terms-an...</td>\n",
       "      <td>False</td>\n",
       "      <td>False</td>\n",
       "      <td>False</td>\n",
       "      <td>2021-06-15 20:19:35</td>\n",
       "    </tr>\n",
       "    <tr>\n",
       "      <th>3</th>\n",
       "      <td>Smart City Trichy Public Service Vehicles 17UC...</td>\n",
       "      <td>cst.stJoseph.ug17ucs548</td>\n",
       "      <td>Communication</td>\n",
       "      <td>5.0</td>\n",
       "      <td>5.0</td>\n",
       "      <td>10+</td>\n",
       "      <td>10.0</td>\n",
       "      <td>19</td>\n",
       "      <td>True</td>\n",
       "      <td>0.0</td>\n",
       "      <td>...</td>\n",
       "      <td>http://www.climatesmarttech.com/</td>\n",
       "      <td>climatesmarttech2@gmail.com</td>\n",
       "      <td>Sep 10, 2018</td>\n",
       "      <td>Oct 13, 2018</td>\n",
       "      <td>Everyone</td>\n",
       "      <td>NaN</td>\n",
       "      <td>True</td>\n",
       "      <td>False</td>\n",
       "      <td>False</td>\n",
       "      <td>2021-06-15 20:19:35</td>\n",
       "    </tr>\n",
       "    <tr>\n",
       "      <th>4</th>\n",
       "      <td>GROW.me</td>\n",
       "      <td>com.horodyski.grower</td>\n",
       "      <td>Tools</td>\n",
       "      <td>0.0</td>\n",
       "      <td>0.0</td>\n",
       "      <td>100+</td>\n",
       "      <td>100.0</td>\n",
       "      <td>478</td>\n",
       "      <td>True</td>\n",
       "      <td>0.0</td>\n",
       "      <td>...</td>\n",
       "      <td>http://www.horodyski.com.pl</td>\n",
       "      <td>rmilekhorodyski@gmail.com</td>\n",
       "      <td>Feb 21, 2020</td>\n",
       "      <td>Nov 12, 2018</td>\n",
       "      <td>Everyone</td>\n",
       "      <td>http://www.horodyski.com.pl</td>\n",
       "      <td>False</td>\n",
       "      <td>False</td>\n",
       "      <td>False</td>\n",
       "      <td>2021-06-15 20:19:35</td>\n",
       "    </tr>\n",
       "  </tbody>\n",
       "</table>\n",
       "<p>5 rows × 24 columns</p>\n",
       "</div>"
      ],
      "text/plain": [
       "                                            App Name  \\\n",
       "0                                            Gakondo   \n",
       "1                                Ampere Battery Info   \n",
       "2                                             Vibook   \n",
       "3  Smart City Trichy Public Service Vehicles 17UC...   \n",
       "4                                            GROW.me   \n",
       "\n",
       "                       App Id       Category  Rating  Rating Count Installs  \\\n",
       "0         com.ishakwe.gakondo      Adventure     0.0           0.0      10+   \n",
       "1  com.webserveis.batteryinfo          Tools     4.4          64.0   5,000+   \n",
       "2        com.doantiepvien.crm   Productivity     0.0           0.0      50+   \n",
       "3     cst.stJoseph.ug17ucs548  Communication     5.0           5.0      10+   \n",
       "4        com.horodyski.grower          Tools     0.0           0.0     100+   \n",
       "\n",
       "   Minimum Installs  Maximum Installs  Free  Price  ...  \\\n",
       "0              10.0                15  True    0.0  ...   \n",
       "1            5000.0              7662  True    0.0  ...   \n",
       "2              50.0                58  True    0.0  ...   \n",
       "3              10.0                19  True    0.0  ...   \n",
       "4             100.0               478  True    0.0  ...   \n",
       "\n",
       "                  Developer Website              Developer Email  \\\n",
       "0       https://beniyizibyose.tk/#/       jean21101999@gmail.com   \n",
       "1   https://webserveis.netlify.app/         webserveis@gmail.com   \n",
       "2                               NaN          vnacrewit@gmail.com   \n",
       "3  http://www.climatesmarttech.com/  climatesmarttech2@gmail.com   \n",
       "4       http://www.horodyski.com.pl    rmilekhorodyski@gmail.com   \n",
       "\n",
       "       Released  Last Updated Content Rating  \\\n",
       "0  Feb 26, 2020  Feb 26, 2020       Everyone   \n",
       "1  May 21, 2020  May 06, 2021       Everyone   \n",
       "2   Aug 9, 2019  Aug 19, 2019       Everyone   \n",
       "3  Sep 10, 2018  Oct 13, 2018       Everyone   \n",
       "4  Feb 21, 2020  Nov 12, 2018       Everyone   \n",
       "\n",
       "                                      Privacy Policy Ad Supported  \\\n",
       "0                 https://beniyizibyose.tk/projects/        False   \n",
       "1  https://dev4phones.wordpress.com/licencia-de-uso/         True   \n",
       "2  https://www.vietnamairlines.com/vn/en/terms-an...        False   \n",
       "3                                                NaN         True   \n",
       "4                        http://www.horodyski.com.pl        False   \n",
       "\n",
       "  In App Purchases Editors Choice         Scraped Time  \n",
       "0            False          False  2021-06-15 20:19:35  \n",
       "1            False          False  2021-06-15 20:19:35  \n",
       "2            False          False  2021-06-15 20:19:35  \n",
       "3            False          False  2021-06-15 20:19:35  \n",
       "4            False          False  2021-06-15 20:19:35  \n",
       "\n",
       "[5 rows x 24 columns]"
      ]
     },
     "metadata": {},
     "output_type": "display_data"
    }
   ],
   "source": [
    "google_play_store_df = pd.read_csv(r\"/Users/saipreetham/Documents/AI-ML/Data_Sets/Google-Playstore.csv\")\n",
    "\n",
    "display(google_play_store_df.head())"
   ]
  },
  {
   "cell_type": "code",
   "execution_count": 3,
   "id": "25630b91",
   "metadata": {},
   "outputs": [
    {
     "data": {
      "text/plain": [
       "(2312944, 24)"
      ]
     },
     "execution_count": 3,
     "metadata": {},
     "output_type": "execute_result"
    }
   ],
   "source": [
    "df = google_play_store_df\n",
    "\n",
    "df.shape"
   ]
  },
  {
   "cell_type": "code",
   "execution_count": 4,
   "id": "72d3e4c0",
   "metadata": {},
   "outputs": [
    {
     "name": "stdout",
     "output_type": "stream",
     "text": [
      "<class 'pandas.core.frame.DataFrame'>\n",
      "RangeIndex: 2312944 entries, 0 to 2312943\n",
      "Data columns (total 24 columns):\n",
      " #   Column             Dtype  \n",
      "---  ------             -----  \n",
      " 0   App Name           object \n",
      " 1   App Id             object \n",
      " 2   Category           object \n",
      " 3   Rating             float64\n",
      " 4   Rating Count       float64\n",
      " 5   Installs           object \n",
      " 6   Minimum Installs   float64\n",
      " 7   Maximum Installs   int64  \n",
      " 8   Free               bool   \n",
      " 9   Price              float64\n",
      " 10  Currency           object \n",
      " 11  Size               object \n",
      " 12  Minimum Android    object \n",
      " 13  Developer Id       object \n",
      " 14  Developer Website  object \n",
      " 15  Developer Email    object \n",
      " 16  Released           object \n",
      " 17  Last Updated       object \n",
      " 18  Content Rating     object \n",
      " 19  Privacy Policy     object \n",
      " 20  Ad Supported       bool   \n",
      " 21  In App Purchases   bool   \n",
      " 22  Editors Choice     bool   \n",
      " 23  Scraped Time       object \n",
      "dtypes: bool(4), float64(4), int64(1), object(15)\n",
      "memory usage: 361.8+ MB\n"
     ]
    }
   ],
   "source": [
    "df.info()"
   ]
  },
  {
   "cell_type": "code",
   "execution_count": 5,
   "id": "0f9b05e0",
   "metadata": {},
   "outputs": [
    {
     "data": {
      "application/vnd.microsoft.datawrangler.viewer.v0+json": {
       "columns": [
        {
         "name": "index",
         "rawType": "object",
         "type": "string"
        },
        {
         "name": "Rating",
         "rawType": "float64",
         "type": "float"
        },
        {
         "name": "Rating Count",
         "rawType": "float64",
         "type": "float"
        },
        {
         "name": "Minimum Installs",
         "rawType": "float64",
         "type": "float"
        },
        {
         "name": "Maximum Installs",
         "rawType": "float64",
         "type": "float"
        },
        {
         "name": "Price",
         "rawType": "float64",
         "type": "float"
        }
       ],
       "ref": "e3bbe65d-d65c-4554-a763-57ff5ecebef9",
       "rows": [
        [
         "count",
         "2290061.0",
         "2290061.0",
         "2312837.0",
         "2312944.0",
         "2312944.0"
        ],
        [
         "mean",
         "2.2031515317714248",
         "2864.8388767810115",
         "183445.21395800915",
         "320201.713137456",
         "0.10349915833370804"
        ],
        [
         "std",
         "2.1062225157257513",
         "212162.5710374402",
         "15131439.059693843",
         "23554954.886547968",
         "2.6331265575705127"
        ],
        [
         "min",
         "0.0",
         "0.0",
         "0.0",
         "0.0",
         "0.0"
        ],
        [
         "25%",
         "0.0",
         "0.0",
         "50.0",
         "84.0",
         "0.0"
        ],
        [
         "50%",
         "2.9",
         "6.0",
         "500.0",
         "695.0",
         "0.0"
        ],
        [
         "75%",
         "4.3",
         "42.0",
         "5000.0",
         "7354.0",
         "0.0"
        ],
        [
         "max",
         "5.0",
         "138557570.0",
         "10000000000.0",
         "12057627016.0",
         "400.0"
        ]
       ],
       "shape": {
        "columns": 5,
        "rows": 8
       }
      },
      "text/html": [
       "<div>\n",
       "<style scoped>\n",
       "    .dataframe tbody tr th:only-of-type {\n",
       "        vertical-align: middle;\n",
       "    }\n",
       "\n",
       "    .dataframe tbody tr th {\n",
       "        vertical-align: top;\n",
       "    }\n",
       "\n",
       "    .dataframe thead th {\n",
       "        text-align: right;\n",
       "    }\n",
       "</style>\n",
       "<table border=\"1\" class=\"dataframe\">\n",
       "  <thead>\n",
       "    <tr style=\"text-align: right;\">\n",
       "      <th></th>\n",
       "      <th>Rating</th>\n",
       "      <th>Rating Count</th>\n",
       "      <th>Minimum Installs</th>\n",
       "      <th>Maximum Installs</th>\n",
       "      <th>Price</th>\n",
       "    </tr>\n",
       "  </thead>\n",
       "  <tbody>\n",
       "    <tr>\n",
       "      <th>count</th>\n",
       "      <td>2.290061e+06</td>\n",
       "      <td>2.290061e+06</td>\n",
       "      <td>2.312837e+06</td>\n",
       "      <td>2.312944e+06</td>\n",
       "      <td>2.312944e+06</td>\n",
       "    </tr>\n",
       "    <tr>\n",
       "      <th>mean</th>\n",
       "      <td>2.203152e+00</td>\n",
       "      <td>2.864839e+03</td>\n",
       "      <td>1.834452e+05</td>\n",
       "      <td>3.202017e+05</td>\n",
       "      <td>1.034992e-01</td>\n",
       "    </tr>\n",
       "    <tr>\n",
       "      <th>std</th>\n",
       "      <td>2.106223e+00</td>\n",
       "      <td>2.121626e+05</td>\n",
       "      <td>1.513144e+07</td>\n",
       "      <td>2.355495e+07</td>\n",
       "      <td>2.633127e+00</td>\n",
       "    </tr>\n",
       "    <tr>\n",
       "      <th>min</th>\n",
       "      <td>0.000000e+00</td>\n",
       "      <td>0.000000e+00</td>\n",
       "      <td>0.000000e+00</td>\n",
       "      <td>0.000000e+00</td>\n",
       "      <td>0.000000e+00</td>\n",
       "    </tr>\n",
       "    <tr>\n",
       "      <th>25%</th>\n",
       "      <td>0.000000e+00</td>\n",
       "      <td>0.000000e+00</td>\n",
       "      <td>5.000000e+01</td>\n",
       "      <td>8.400000e+01</td>\n",
       "      <td>0.000000e+00</td>\n",
       "    </tr>\n",
       "    <tr>\n",
       "      <th>50%</th>\n",
       "      <td>2.900000e+00</td>\n",
       "      <td>6.000000e+00</td>\n",
       "      <td>5.000000e+02</td>\n",
       "      <td>6.950000e+02</td>\n",
       "      <td>0.000000e+00</td>\n",
       "    </tr>\n",
       "    <tr>\n",
       "      <th>75%</th>\n",
       "      <td>4.300000e+00</td>\n",
       "      <td>4.200000e+01</td>\n",
       "      <td>5.000000e+03</td>\n",
       "      <td>7.354000e+03</td>\n",
       "      <td>0.000000e+00</td>\n",
       "    </tr>\n",
       "    <tr>\n",
       "      <th>max</th>\n",
       "      <td>5.000000e+00</td>\n",
       "      <td>1.385576e+08</td>\n",
       "      <td>1.000000e+10</td>\n",
       "      <td>1.205763e+10</td>\n",
       "      <td>4.000000e+02</td>\n",
       "    </tr>\n",
       "  </tbody>\n",
       "</table>\n",
       "</div>"
      ],
      "text/plain": [
       "             Rating  Rating Count  Minimum Installs  Maximum Installs  \\\n",
       "count  2.290061e+06  2.290061e+06      2.312837e+06      2.312944e+06   \n",
       "mean   2.203152e+00  2.864839e+03      1.834452e+05      3.202017e+05   \n",
       "std    2.106223e+00  2.121626e+05      1.513144e+07      2.355495e+07   \n",
       "min    0.000000e+00  0.000000e+00      0.000000e+00      0.000000e+00   \n",
       "25%    0.000000e+00  0.000000e+00      5.000000e+01      8.400000e+01   \n",
       "50%    2.900000e+00  6.000000e+00      5.000000e+02      6.950000e+02   \n",
       "75%    4.300000e+00  4.200000e+01      5.000000e+03      7.354000e+03   \n",
       "max    5.000000e+00  1.385576e+08      1.000000e+10      1.205763e+10   \n",
       "\n",
       "              Price  \n",
       "count  2.312944e+06  \n",
       "mean   1.034992e-01  \n",
       "std    2.633127e+00  \n",
       "min    0.000000e+00  \n",
       "25%    0.000000e+00  \n",
       "50%    0.000000e+00  \n",
       "75%    0.000000e+00  \n",
       "max    4.000000e+02  "
      ]
     },
     "execution_count": 5,
     "metadata": {},
     "output_type": "execute_result"
    }
   ],
   "source": [
    "df.describe()"
   ]
  },
  {
   "cell_type": "code",
   "execution_count": 6,
   "id": "698bb094",
   "metadata": {},
   "outputs": [
    {
     "data": {
      "application/vnd.microsoft.datawrangler.viewer.v0+json": {
       "columns": [
        {
         "name": "index",
         "rawType": "int64",
         "type": "integer"
        },
        {
         "name": "App Name",
         "rawType": "bool",
         "type": "boolean"
        },
        {
         "name": "App Id",
         "rawType": "bool",
         "type": "boolean"
        },
        {
         "name": "Category",
         "rawType": "bool",
         "type": "boolean"
        },
        {
         "name": "Rating",
         "rawType": "bool",
         "type": "boolean"
        },
        {
         "name": "Rating Count",
         "rawType": "bool",
         "type": "boolean"
        },
        {
         "name": "Installs",
         "rawType": "bool",
         "type": "boolean"
        },
        {
         "name": "Minimum Installs",
         "rawType": "bool",
         "type": "boolean"
        },
        {
         "name": "Maximum Installs",
         "rawType": "bool",
         "type": "boolean"
        },
        {
         "name": "Free",
         "rawType": "bool",
         "type": "boolean"
        },
        {
         "name": "Price",
         "rawType": "bool",
         "type": "boolean"
        },
        {
         "name": "Currency",
         "rawType": "bool",
         "type": "boolean"
        },
        {
         "name": "Size",
         "rawType": "bool",
         "type": "boolean"
        },
        {
         "name": "Minimum Android",
         "rawType": "bool",
         "type": "boolean"
        },
        {
         "name": "Developer Id",
         "rawType": "bool",
         "type": "boolean"
        },
        {
         "name": "Developer Website",
         "rawType": "bool",
         "type": "boolean"
        },
        {
         "name": "Developer Email",
         "rawType": "bool",
         "type": "boolean"
        },
        {
         "name": "Released",
         "rawType": "bool",
         "type": "boolean"
        },
        {
         "name": "Last Updated",
         "rawType": "bool",
         "type": "boolean"
        },
        {
         "name": "Content Rating",
         "rawType": "bool",
         "type": "boolean"
        },
        {
         "name": "Privacy Policy",
         "rawType": "bool",
         "type": "boolean"
        },
        {
         "name": "Ad Supported",
         "rawType": "bool",
         "type": "boolean"
        },
        {
         "name": "In App Purchases",
         "rawType": "bool",
         "type": "boolean"
        },
        {
         "name": "Editors Choice",
         "rawType": "bool",
         "type": "boolean"
        },
        {
         "name": "Scraped Time",
         "rawType": "bool",
         "type": "boolean"
        }
       ],
       "ref": "c1c01683-d6d1-4bf6-9d4c-130873973f9c",
       "rows": [
        [
         "0",
         "False",
         "False",
         "False",
         "False",
         "False",
         "False",
         "False",
         "False",
         "False",
         "False",
         "False",
         "False",
         "False",
         "False",
         "False",
         "False",
         "False",
         "False",
         "False",
         "False",
         "False",
         "False",
         "False",
         "False"
        ],
        [
         "1",
         "False",
         "False",
         "False",
         "False",
         "False",
         "False",
         "False",
         "False",
         "False",
         "False",
         "False",
         "False",
         "False",
         "False",
         "False",
         "False",
         "False",
         "False",
         "False",
         "False",
         "False",
         "False",
         "False",
         "False"
        ],
        [
         "2",
         "False",
         "False",
         "False",
         "False",
         "False",
         "False",
         "False",
         "False",
         "False",
         "False",
         "False",
         "False",
         "False",
         "False",
         "True",
         "False",
         "False",
         "False",
         "False",
         "False",
         "False",
         "False",
         "False",
         "False"
        ],
        [
         "3",
         "False",
         "False",
         "False",
         "False",
         "False",
         "False",
         "False",
         "False",
         "False",
         "False",
         "False",
         "False",
         "False",
         "False",
         "False",
         "False",
         "False",
         "False",
         "False",
         "True",
         "False",
         "False",
         "False",
         "False"
        ],
        [
         "4",
         "False",
         "False",
         "False",
         "False",
         "False",
         "False",
         "False",
         "False",
         "False",
         "False",
         "False",
         "False",
         "False",
         "False",
         "False",
         "False",
         "False",
         "False",
         "False",
         "False",
         "False",
         "False",
         "False",
         "False"
        ],
        [
         "5",
         "False",
         "False",
         "False",
         "False",
         "False",
         "False",
         "False",
         "False",
         "False",
         "False",
         "False",
         "False",
         "False",
         "False",
         "False",
         "False",
         "False",
         "False",
         "False",
         "False",
         "False",
         "False",
         "False",
         "False"
        ],
        [
         "6",
         "False",
         "False",
         "False",
         "False",
         "False",
         "False",
         "False",
         "False",
         "False",
         "False",
         "False",
         "False",
         "False",
         "False",
         "True",
         "False",
         "False",
         "False",
         "False",
         "False",
         "False",
         "False",
         "False",
         "False"
        ],
        [
         "7",
         "False",
         "False",
         "False",
         "False",
         "False",
         "False",
         "False",
         "False",
         "False",
         "False",
         "False",
         "False",
         "False",
         "False",
         "True",
         "False",
         "False",
         "False",
         "False",
         "False",
         "False",
         "False",
         "False",
         "False"
        ],
        [
         "8",
         "False",
         "False",
         "False",
         "False",
         "False",
         "False",
         "False",
         "False",
         "False",
         "False",
         "False",
         "False",
         "False",
         "False",
         "False",
         "False",
         "True",
         "False",
         "False",
         "False",
         "False",
         "False",
         "False",
         "False"
        ],
        [
         "9",
         "False",
         "False",
         "False",
         "False",
         "False",
         "False",
         "False",
         "False",
         "False",
         "False",
         "False",
         "False",
         "False",
         "False",
         "False",
         "False",
         "False",
         "False",
         "False",
         "False",
         "False",
         "False",
         "False",
         "False"
        ],
        [
         "10",
         "False",
         "False",
         "False",
         "False",
         "False",
         "False",
         "False",
         "False",
         "False",
         "False",
         "False",
         "False",
         "False",
         "False",
         "True",
         "False",
         "False",
         "False",
         "False",
         "False",
         "False",
         "False",
         "False",
         "False"
        ],
        [
         "11",
         "False",
         "False",
         "False",
         "False",
         "False",
         "False",
         "False",
         "False",
         "False",
         "False",
         "False",
         "False",
         "False",
         "False",
         "False",
         "False",
         "False",
         "False",
         "False",
         "False",
         "False",
         "False",
         "False",
         "False"
        ],
        [
         "12",
         "False",
         "False",
         "False",
         "False",
         "False",
         "False",
         "False",
         "False",
         "False",
         "False",
         "False",
         "False",
         "False",
         "False",
         "False",
         "False",
         "False",
         "False",
         "False",
         "False",
         "False",
         "False",
         "False",
         "False"
        ],
        [
         "13",
         "False",
         "False",
         "False",
         "False",
         "False",
         "False",
         "False",
         "False",
         "False",
         "False",
         "False",
         "False",
         "False",
         "False",
         "False",
         "False",
         "False",
         "False",
         "False",
         "False",
         "False",
         "False",
         "False",
         "False"
        ],
        [
         "14",
         "False",
         "False",
         "False",
         "False",
         "False",
         "False",
         "False",
         "False",
         "False",
         "False",
         "False",
         "False",
         "False",
         "False",
         "False",
         "False",
         "False",
         "False",
         "False",
         "False",
         "False",
         "False",
         "False",
         "False"
        ],
        [
         "15",
         "False",
         "False",
         "False",
         "False",
         "False",
         "False",
         "False",
         "False",
         "False",
         "False",
         "False",
         "False",
         "False",
         "False",
         "False",
         "False",
         "False",
         "False",
         "False",
         "False",
         "False",
         "False",
         "False",
         "False"
        ],
        [
         "16",
         "False",
         "False",
         "False",
         "False",
         "False",
         "False",
         "False",
         "False",
         "False",
         "False",
         "False",
         "False",
         "False",
         "False",
         "False",
         "False",
         "False",
         "False",
         "False",
         "False",
         "False",
         "False",
         "False",
         "False"
        ],
        [
         "17",
         "False",
         "False",
         "False",
         "False",
         "False",
         "False",
         "False",
         "False",
         "False",
         "False",
         "False",
         "False",
         "False",
         "False",
         "True",
         "False",
         "False",
         "False",
         "False",
         "True",
         "False",
         "False",
         "False",
         "False"
        ],
        [
         "18",
         "False",
         "False",
         "False",
         "False",
         "False",
         "False",
         "False",
         "False",
         "False",
         "False",
         "False",
         "False",
         "False",
         "False",
         "True",
         "False",
         "False",
         "False",
         "False",
         "False",
         "False",
         "False",
         "False",
         "False"
        ],
        [
         "19",
         "False",
         "False",
         "False",
         "False",
         "False",
         "False",
         "False",
         "False",
         "False",
         "False",
         "False",
         "False",
         "False",
         "False",
         "True",
         "False",
         "False",
         "False",
         "False",
         "False",
         "False",
         "False",
         "False",
         "False"
        ],
        [
         "20",
         "False",
         "False",
         "False",
         "False",
         "False",
         "False",
         "False",
         "False",
         "False",
         "False",
         "False",
         "False",
         "False",
         "False",
         "False",
         "False",
         "False",
         "False",
         "False",
         "False",
         "False",
         "False",
         "False",
         "False"
        ],
        [
         "21",
         "False",
         "False",
         "False",
         "False",
         "False",
         "False",
         "False",
         "False",
         "False",
         "False",
         "False",
         "False",
         "False",
         "False",
         "False",
         "False",
         "False",
         "False",
         "False",
         "True",
         "False",
         "False",
         "False",
         "False"
        ],
        [
         "22",
         "False",
         "False",
         "False",
         "False",
         "False",
         "False",
         "False",
         "False",
         "False",
         "False",
         "False",
         "False",
         "False",
         "False",
         "False",
         "False",
         "False",
         "False",
         "False",
         "False",
         "False",
         "False",
         "False",
         "False"
        ],
        [
         "23",
         "False",
         "False",
         "False",
         "False",
         "False",
         "False",
         "False",
         "False",
         "False",
         "False",
         "False",
         "False",
         "False",
         "False",
         "False",
         "False",
         "False",
         "False",
         "False",
         "False",
         "False",
         "False",
         "False",
         "False"
        ],
        [
         "24",
         "False",
         "False",
         "False",
         "False",
         "False",
         "False",
         "False",
         "False",
         "False",
         "False",
         "False",
         "False",
         "False",
         "False",
         "True",
         "False",
         "False",
         "False",
         "False",
         "True",
         "False",
         "False",
         "False",
         "False"
        ],
        [
         "25",
         "False",
         "False",
         "False",
         "False",
         "False",
         "False",
         "False",
         "False",
         "False",
         "False",
         "False",
         "False",
         "False",
         "False",
         "True",
         "False",
         "False",
         "False",
         "False",
         "False",
         "False",
         "False",
         "False",
         "False"
        ],
        [
         "26",
         "False",
         "False",
         "False",
         "False",
         "False",
         "False",
         "False",
         "False",
         "False",
         "False",
         "False",
         "False",
         "False",
         "False",
         "False",
         "False",
         "False",
         "False",
         "False",
         "True",
         "False",
         "False",
         "False",
         "False"
        ],
        [
         "27",
         "False",
         "False",
         "False",
         "False",
         "False",
         "False",
         "False",
         "False",
         "False",
         "False",
         "False",
         "False",
         "False",
         "False",
         "True",
         "False",
         "False",
         "False",
         "False",
         "False",
         "False",
         "False",
         "False",
         "False"
        ],
        [
         "28",
         "False",
         "False",
         "False",
         "False",
         "False",
         "False",
         "False",
         "False",
         "False",
         "False",
         "False",
         "False",
         "False",
         "False",
         "False",
         "False",
         "False",
         "False",
         "False",
         "False",
         "False",
         "False",
         "False",
         "False"
        ],
        [
         "29",
         "False",
         "False",
         "False",
         "False",
         "False",
         "False",
         "False",
         "False",
         "False",
         "False",
         "False",
         "False",
         "False",
         "False",
         "True",
         "False",
         "False",
         "False",
         "False",
         "False",
         "False",
         "False",
         "False",
         "False"
        ],
        [
         "30",
         "False",
         "False",
         "False",
         "False",
         "False",
         "False",
         "False",
         "False",
         "False",
         "False",
         "False",
         "False",
         "False",
         "False",
         "True",
         "False",
         "False",
         "False",
         "False",
         "False",
         "False",
         "False",
         "False",
         "False"
        ],
        [
         "31",
         "False",
         "False",
         "False",
         "False",
         "False",
         "False",
         "False",
         "False",
         "False",
         "False",
         "False",
         "False",
         "False",
         "False",
         "False",
         "False",
         "False",
         "False",
         "False",
         "False",
         "False",
         "False",
         "False",
         "False"
        ],
        [
         "32",
         "False",
         "False",
         "False",
         "False",
         "False",
         "False",
         "False",
         "False",
         "False",
         "False",
         "False",
         "False",
         "False",
         "False",
         "False",
         "False",
         "False",
         "False",
         "False",
         "False",
         "False",
         "False",
         "False",
         "False"
        ],
        [
         "33",
         "False",
         "False",
         "False",
         "False",
         "False",
         "False",
         "False",
         "False",
         "False",
         "False",
         "False",
         "False",
         "False",
         "False",
         "True",
         "False",
         "False",
         "False",
         "False",
         "False",
         "False",
         "False",
         "False",
         "False"
        ],
        [
         "34",
         "False",
         "False",
         "False",
         "False",
         "False",
         "False",
         "False",
         "False",
         "False",
         "False",
         "False",
         "False",
         "False",
         "False",
         "False",
         "False",
         "False",
         "False",
         "False",
         "False",
         "False",
         "False",
         "False",
         "False"
        ],
        [
         "35",
         "False",
         "False",
         "False",
         "False",
         "False",
         "False",
         "False",
         "False",
         "False",
         "False",
         "False",
         "False",
         "False",
         "False",
         "False",
         "False",
         "False",
         "False",
         "False",
         "False",
         "False",
         "False",
         "False",
         "False"
        ],
        [
         "36",
         "False",
         "False",
         "False",
         "False",
         "False",
         "False",
         "False",
         "False",
         "False",
         "False",
         "False",
         "False",
         "False",
         "False",
         "False",
         "False",
         "False",
         "False",
         "False",
         "False",
         "False",
         "False",
         "False",
         "False"
        ],
        [
         "37",
         "False",
         "False",
         "False",
         "False",
         "False",
         "False",
         "False",
         "False",
         "False",
         "False",
         "False",
         "False",
         "False",
         "False",
         "True",
         "False",
         "False",
         "False",
         "False",
         "True",
         "False",
         "False",
         "False",
         "False"
        ],
        [
         "38",
         "False",
         "False",
         "False",
         "False",
         "False",
         "False",
         "False",
         "False",
         "False",
         "False",
         "False",
         "False",
         "False",
         "False",
         "True",
         "False",
         "False",
         "False",
         "False",
         "False",
         "False",
         "False",
         "False",
         "False"
        ],
        [
         "39",
         "False",
         "False",
         "False",
         "False",
         "False",
         "False",
         "False",
         "False",
         "False",
         "False",
         "False",
         "False",
         "False",
         "False",
         "False",
         "False",
         "False",
         "False",
         "False",
         "False",
         "False",
         "False",
         "False",
         "False"
        ],
        [
         "40",
         "False",
         "False",
         "False",
         "False",
         "False",
         "False",
         "False",
         "False",
         "False",
         "False",
         "False",
         "False",
         "False",
         "False",
         "False",
         "False",
         "False",
         "False",
         "False",
         "False",
         "False",
         "False",
         "False",
         "False"
        ],
        [
         "41",
         "False",
         "False",
         "False",
         "False",
         "False",
         "False",
         "False",
         "False",
         "False",
         "False",
         "False",
         "False",
         "False",
         "False",
         "True",
         "False",
         "False",
         "False",
         "False",
         "False",
         "False",
         "False",
         "False",
         "False"
        ],
        [
         "42",
         "False",
         "False",
         "False",
         "False",
         "False",
         "False",
         "False",
         "False",
         "False",
         "False",
         "False",
         "False",
         "False",
         "False",
         "True",
         "False",
         "False",
         "False",
         "False",
         "True",
         "False",
         "False",
         "False",
         "False"
        ],
        [
         "43",
         "False",
         "False",
         "False",
         "False",
         "False",
         "False",
         "False",
         "False",
         "False",
         "False",
         "False",
         "False",
         "False",
         "False",
         "True",
         "False",
         "False",
         "False",
         "False",
         "False",
         "False",
         "False",
         "False",
         "False"
        ],
        [
         "44",
         "False",
         "False",
         "False",
         "False",
         "False",
         "False",
         "False",
         "False",
         "False",
         "False",
         "False",
         "False",
         "False",
         "False",
         "False",
         "False",
         "False",
         "False",
         "False",
         "False",
         "False",
         "False",
         "False",
         "False"
        ],
        [
         "45",
         "False",
         "False",
         "False",
         "False",
         "False",
         "False",
         "False",
         "False",
         "False",
         "False",
         "False",
         "False",
         "False",
         "False",
         "False",
         "False",
         "False",
         "False",
         "False",
         "True",
         "False",
         "False",
         "False",
         "False"
        ],
        [
         "46",
         "False",
         "False",
         "False",
         "False",
         "False",
         "False",
         "False",
         "False",
         "False",
         "False",
         "False",
         "False",
         "False",
         "False",
         "False",
         "False",
         "False",
         "False",
         "False",
         "True",
         "False",
         "False",
         "False",
         "False"
        ],
        [
         "47",
         "False",
         "False",
         "False",
         "False",
         "False",
         "False",
         "False",
         "False",
         "False",
         "False",
         "False",
         "False",
         "False",
         "False",
         "True",
         "False",
         "False",
         "False",
         "False",
         "False",
         "False",
         "False",
         "False",
         "False"
        ],
        [
         "48",
         "False",
         "False",
         "False",
         "False",
         "False",
         "False",
         "False",
         "False",
         "False",
         "False",
         "False",
         "False",
         "False",
         "False",
         "False",
         "False",
         "False",
         "False",
         "False",
         "False",
         "False",
         "False",
         "False",
         "False"
        ],
        [
         "49",
         "False",
         "False",
         "False",
         "False",
         "False",
         "False",
         "False",
         "False",
         "False",
         "False",
         "False",
         "False",
         "False",
         "False",
         "False",
         "False",
         "False",
         "False",
         "False",
         "True",
         "False",
         "False",
         "False",
         "False"
        ]
       ],
       "shape": {
        "columns": 24,
        "rows": 2312944
       }
      },
      "text/html": [
       "<div>\n",
       "<style scoped>\n",
       "    .dataframe tbody tr th:only-of-type {\n",
       "        vertical-align: middle;\n",
       "    }\n",
       "\n",
       "    .dataframe tbody tr th {\n",
       "        vertical-align: top;\n",
       "    }\n",
       "\n",
       "    .dataframe thead th {\n",
       "        text-align: right;\n",
       "    }\n",
       "</style>\n",
       "<table border=\"1\" class=\"dataframe\">\n",
       "  <thead>\n",
       "    <tr style=\"text-align: right;\">\n",
       "      <th></th>\n",
       "      <th>App Name</th>\n",
       "      <th>App Id</th>\n",
       "      <th>Category</th>\n",
       "      <th>Rating</th>\n",
       "      <th>Rating Count</th>\n",
       "      <th>Installs</th>\n",
       "      <th>Minimum Installs</th>\n",
       "      <th>Maximum Installs</th>\n",
       "      <th>Free</th>\n",
       "      <th>Price</th>\n",
       "      <th>...</th>\n",
       "      <th>Developer Website</th>\n",
       "      <th>Developer Email</th>\n",
       "      <th>Released</th>\n",
       "      <th>Last Updated</th>\n",
       "      <th>Content Rating</th>\n",
       "      <th>Privacy Policy</th>\n",
       "      <th>Ad Supported</th>\n",
       "      <th>In App Purchases</th>\n",
       "      <th>Editors Choice</th>\n",
       "      <th>Scraped Time</th>\n",
       "    </tr>\n",
       "  </thead>\n",
       "  <tbody>\n",
       "    <tr>\n",
       "      <th>0</th>\n",
       "      <td>False</td>\n",
       "      <td>False</td>\n",
       "      <td>False</td>\n",
       "      <td>False</td>\n",
       "      <td>False</td>\n",
       "      <td>False</td>\n",
       "      <td>False</td>\n",
       "      <td>False</td>\n",
       "      <td>False</td>\n",
       "      <td>False</td>\n",
       "      <td>...</td>\n",
       "      <td>False</td>\n",
       "      <td>False</td>\n",
       "      <td>False</td>\n",
       "      <td>False</td>\n",
       "      <td>False</td>\n",
       "      <td>False</td>\n",
       "      <td>False</td>\n",
       "      <td>False</td>\n",
       "      <td>False</td>\n",
       "      <td>False</td>\n",
       "    </tr>\n",
       "    <tr>\n",
       "      <th>1</th>\n",
       "      <td>False</td>\n",
       "      <td>False</td>\n",
       "      <td>False</td>\n",
       "      <td>False</td>\n",
       "      <td>False</td>\n",
       "      <td>False</td>\n",
       "      <td>False</td>\n",
       "      <td>False</td>\n",
       "      <td>False</td>\n",
       "      <td>False</td>\n",
       "      <td>...</td>\n",
       "      <td>False</td>\n",
       "      <td>False</td>\n",
       "      <td>False</td>\n",
       "      <td>False</td>\n",
       "      <td>False</td>\n",
       "      <td>False</td>\n",
       "      <td>False</td>\n",
       "      <td>False</td>\n",
       "      <td>False</td>\n",
       "      <td>False</td>\n",
       "    </tr>\n",
       "    <tr>\n",
       "      <th>2</th>\n",
       "      <td>False</td>\n",
       "      <td>False</td>\n",
       "      <td>False</td>\n",
       "      <td>False</td>\n",
       "      <td>False</td>\n",
       "      <td>False</td>\n",
       "      <td>False</td>\n",
       "      <td>False</td>\n",
       "      <td>False</td>\n",
       "      <td>False</td>\n",
       "      <td>...</td>\n",
       "      <td>True</td>\n",
       "      <td>False</td>\n",
       "      <td>False</td>\n",
       "      <td>False</td>\n",
       "      <td>False</td>\n",
       "      <td>False</td>\n",
       "      <td>False</td>\n",
       "      <td>False</td>\n",
       "      <td>False</td>\n",
       "      <td>False</td>\n",
       "    </tr>\n",
       "    <tr>\n",
       "      <th>3</th>\n",
       "      <td>False</td>\n",
       "      <td>False</td>\n",
       "      <td>False</td>\n",
       "      <td>False</td>\n",
       "      <td>False</td>\n",
       "      <td>False</td>\n",
       "      <td>False</td>\n",
       "      <td>False</td>\n",
       "      <td>False</td>\n",
       "      <td>False</td>\n",
       "      <td>...</td>\n",
       "      <td>False</td>\n",
       "      <td>False</td>\n",
       "      <td>False</td>\n",
       "      <td>False</td>\n",
       "      <td>False</td>\n",
       "      <td>True</td>\n",
       "      <td>False</td>\n",
       "      <td>False</td>\n",
       "      <td>False</td>\n",
       "      <td>False</td>\n",
       "    </tr>\n",
       "    <tr>\n",
       "      <th>4</th>\n",
       "      <td>False</td>\n",
       "      <td>False</td>\n",
       "      <td>False</td>\n",
       "      <td>False</td>\n",
       "      <td>False</td>\n",
       "      <td>False</td>\n",
       "      <td>False</td>\n",
       "      <td>False</td>\n",
       "      <td>False</td>\n",
       "      <td>False</td>\n",
       "      <td>...</td>\n",
       "      <td>False</td>\n",
       "      <td>False</td>\n",
       "      <td>False</td>\n",
       "      <td>False</td>\n",
       "      <td>False</td>\n",
       "      <td>False</td>\n",
       "      <td>False</td>\n",
       "      <td>False</td>\n",
       "      <td>False</td>\n",
       "      <td>False</td>\n",
       "    </tr>\n",
       "    <tr>\n",
       "      <th>...</th>\n",
       "      <td>...</td>\n",
       "      <td>...</td>\n",
       "      <td>...</td>\n",
       "      <td>...</td>\n",
       "      <td>...</td>\n",
       "      <td>...</td>\n",
       "      <td>...</td>\n",
       "      <td>...</td>\n",
       "      <td>...</td>\n",
       "      <td>...</td>\n",
       "      <td>...</td>\n",
       "      <td>...</td>\n",
       "      <td>...</td>\n",
       "      <td>...</td>\n",
       "      <td>...</td>\n",
       "      <td>...</td>\n",
       "      <td>...</td>\n",
       "      <td>...</td>\n",
       "      <td>...</td>\n",
       "      <td>...</td>\n",
       "      <td>...</td>\n",
       "    </tr>\n",
       "    <tr>\n",
       "      <th>2312939</th>\n",
       "      <td>False</td>\n",
       "      <td>False</td>\n",
       "      <td>False</td>\n",
       "      <td>False</td>\n",
       "      <td>False</td>\n",
       "      <td>False</td>\n",
       "      <td>False</td>\n",
       "      <td>False</td>\n",
       "      <td>False</td>\n",
       "      <td>False</td>\n",
       "      <td>...</td>\n",
       "      <td>False</td>\n",
       "      <td>False</td>\n",
       "      <td>True</td>\n",
       "      <td>False</td>\n",
       "      <td>False</td>\n",
       "      <td>False</td>\n",
       "      <td>False</td>\n",
       "      <td>False</td>\n",
       "      <td>False</td>\n",
       "      <td>False</td>\n",
       "    </tr>\n",
       "    <tr>\n",
       "      <th>2312940</th>\n",
       "      <td>False</td>\n",
       "      <td>False</td>\n",
       "      <td>False</td>\n",
       "      <td>False</td>\n",
       "      <td>False</td>\n",
       "      <td>False</td>\n",
       "      <td>False</td>\n",
       "      <td>False</td>\n",
       "      <td>False</td>\n",
       "      <td>False</td>\n",
       "      <td>...</td>\n",
       "      <td>False</td>\n",
       "      <td>False</td>\n",
       "      <td>False</td>\n",
       "      <td>False</td>\n",
       "      <td>False</td>\n",
       "      <td>False</td>\n",
       "      <td>False</td>\n",
       "      <td>False</td>\n",
       "      <td>False</td>\n",
       "      <td>False</td>\n",
       "    </tr>\n",
       "    <tr>\n",
       "      <th>2312941</th>\n",
       "      <td>False</td>\n",
       "      <td>False</td>\n",
       "      <td>False</td>\n",
       "      <td>False</td>\n",
       "      <td>False</td>\n",
       "      <td>False</td>\n",
       "      <td>False</td>\n",
       "      <td>False</td>\n",
       "      <td>False</td>\n",
       "      <td>False</td>\n",
       "      <td>...</td>\n",
       "      <td>True</td>\n",
       "      <td>False</td>\n",
       "      <td>False</td>\n",
       "      <td>False</td>\n",
       "      <td>False</td>\n",
       "      <td>False</td>\n",
       "      <td>False</td>\n",
       "      <td>False</td>\n",
       "      <td>False</td>\n",
       "      <td>False</td>\n",
       "    </tr>\n",
       "    <tr>\n",
       "      <th>2312942</th>\n",
       "      <td>False</td>\n",
       "      <td>False</td>\n",
       "      <td>False</td>\n",
       "      <td>False</td>\n",
       "      <td>False</td>\n",
       "      <td>False</td>\n",
       "      <td>False</td>\n",
       "      <td>False</td>\n",
       "      <td>False</td>\n",
       "      <td>False</td>\n",
       "      <td>...</td>\n",
       "      <td>False</td>\n",
       "      <td>False</td>\n",
       "      <td>False</td>\n",
       "      <td>False</td>\n",
       "      <td>False</td>\n",
       "      <td>False</td>\n",
       "      <td>False</td>\n",
       "      <td>False</td>\n",
       "      <td>False</td>\n",
       "      <td>False</td>\n",
       "    </tr>\n",
       "    <tr>\n",
       "      <th>2312943</th>\n",
       "      <td>False</td>\n",
       "      <td>False</td>\n",
       "      <td>False</td>\n",
       "      <td>False</td>\n",
       "      <td>False</td>\n",
       "      <td>False</td>\n",
       "      <td>False</td>\n",
       "      <td>False</td>\n",
       "      <td>False</td>\n",
       "      <td>False</td>\n",
       "      <td>...</td>\n",
       "      <td>True</td>\n",
       "      <td>False</td>\n",
       "      <td>False</td>\n",
       "      <td>False</td>\n",
       "      <td>False</td>\n",
       "      <td>False</td>\n",
       "      <td>False</td>\n",
       "      <td>False</td>\n",
       "      <td>False</td>\n",
       "      <td>False</td>\n",
       "    </tr>\n",
       "  </tbody>\n",
       "</table>\n",
       "<p>2312944 rows × 24 columns</p>\n",
       "</div>"
      ],
      "text/plain": [
       "         App Name  App Id  Category  Rating  Rating Count  Installs  \\\n",
       "0           False   False     False   False         False     False   \n",
       "1           False   False     False   False         False     False   \n",
       "2           False   False     False   False         False     False   \n",
       "3           False   False     False   False         False     False   \n",
       "4           False   False     False   False         False     False   \n",
       "...           ...     ...       ...     ...           ...       ...   \n",
       "2312939     False   False     False   False         False     False   \n",
       "2312940     False   False     False   False         False     False   \n",
       "2312941     False   False     False   False         False     False   \n",
       "2312942     False   False     False   False         False     False   \n",
       "2312943     False   False     False   False         False     False   \n",
       "\n",
       "         Minimum Installs  Maximum Installs   Free  Price  ...  \\\n",
       "0                   False             False  False  False  ...   \n",
       "1                   False             False  False  False  ...   \n",
       "2                   False             False  False  False  ...   \n",
       "3                   False             False  False  False  ...   \n",
       "4                   False             False  False  False  ...   \n",
       "...                   ...               ...    ...    ...  ...   \n",
       "2312939             False             False  False  False  ...   \n",
       "2312940             False             False  False  False  ...   \n",
       "2312941             False             False  False  False  ...   \n",
       "2312942             False             False  False  False  ...   \n",
       "2312943             False             False  False  False  ...   \n",
       "\n",
       "         Developer Website  Developer Email  Released  Last Updated  \\\n",
       "0                    False            False     False         False   \n",
       "1                    False            False     False         False   \n",
       "2                     True            False     False         False   \n",
       "3                    False            False     False         False   \n",
       "4                    False            False     False         False   \n",
       "...                    ...              ...       ...           ...   \n",
       "2312939              False            False      True         False   \n",
       "2312940              False            False     False         False   \n",
       "2312941               True            False     False         False   \n",
       "2312942              False            False     False         False   \n",
       "2312943               True            False     False         False   \n",
       "\n",
       "         Content Rating  Privacy Policy  Ad Supported  In App Purchases  \\\n",
       "0                 False           False         False             False   \n",
       "1                 False           False         False             False   \n",
       "2                 False           False         False             False   \n",
       "3                 False            True         False             False   \n",
       "4                 False           False         False             False   \n",
       "...                 ...             ...           ...               ...   \n",
       "2312939           False           False         False             False   \n",
       "2312940           False           False         False             False   \n",
       "2312941           False           False         False             False   \n",
       "2312942           False           False         False             False   \n",
       "2312943           False           False         False             False   \n",
       "\n",
       "         Editors Choice  Scraped Time  \n",
       "0                 False         False  \n",
       "1                 False         False  \n",
       "2                 False         False  \n",
       "3                 False         False  \n",
       "4                 False         False  \n",
       "...                 ...           ...  \n",
       "2312939           False         False  \n",
       "2312940           False         False  \n",
       "2312941           False         False  \n",
       "2312942           False         False  \n",
       "2312943           False         False  \n",
       "\n",
       "[2312944 rows x 24 columns]"
      ]
     },
     "execution_count": 6,
     "metadata": {},
     "output_type": "execute_result"
    }
   ],
   "source": [
    "df.isna()"
   ]
  },
  {
   "cell_type": "code",
   "execution_count": 7,
   "id": "aa4056a9",
   "metadata": {},
   "outputs": [
    {
     "data": {
      "application/vnd.microsoft.datawrangler.viewer.v0+json": {
       "columns": [
        {
         "name": "index",
         "rawType": "object",
         "type": "string"
        },
        {
         "name": "0",
         "rawType": "int64",
         "type": "integer"
        }
       ],
       "ref": "515b5710-c4f4-4841-9ee3-1c42bae840dc",
       "rows": [
        [
         "App Name",
         "5"
        ],
        [
         "App Id",
         "0"
        ],
        [
         "Category",
         "0"
        ],
        [
         "Rating",
         "22883"
        ],
        [
         "Rating Count",
         "22883"
        ],
        [
         "Installs",
         "107"
        ],
        [
         "Minimum Installs",
         "107"
        ],
        [
         "Maximum Installs",
         "0"
        ],
        [
         "Free",
         "0"
        ],
        [
         "Price",
         "0"
        ],
        [
         "Currency",
         "135"
        ],
        [
         "Size",
         "196"
        ],
        [
         "Minimum Android",
         "6530"
        ],
        [
         "Developer Id",
         "33"
        ],
        [
         "Developer Website",
         "760835"
        ],
        [
         "Developer Email",
         "31"
        ],
        [
         "Released",
         "71053"
        ],
        [
         "Last Updated",
         "0"
        ],
        [
         "Content Rating",
         "0"
        ],
        [
         "Privacy Policy",
         "420953"
        ],
        [
         "Ad Supported",
         "0"
        ],
        [
         "In App Purchases",
         "0"
        ],
        [
         "Editors Choice",
         "0"
        ],
        [
         "Scraped Time",
         "0"
        ]
       ],
       "shape": {
        "columns": 1,
        "rows": 24
       }
      },
      "text/plain": [
       "App Name                  5\n",
       "App Id                    0\n",
       "Category                  0\n",
       "Rating                22883\n",
       "Rating Count          22883\n",
       "Installs                107\n",
       "Minimum Installs        107\n",
       "Maximum Installs          0\n",
       "Free                      0\n",
       "Price                     0\n",
       "Currency                135\n",
       "Size                    196\n",
       "Minimum Android        6530\n",
       "Developer Id             33\n",
       "Developer Website    760835\n",
       "Developer Email          31\n",
       "Released              71053\n",
       "Last Updated              0\n",
       "Content Rating            0\n",
       "Privacy Policy       420953\n",
       "Ad Supported              0\n",
       "In App Purchases          0\n",
       "Editors Choice            0\n",
       "Scraped Time              0\n",
       "dtype: int64"
      ]
     },
     "execution_count": 7,
     "metadata": {},
     "output_type": "execute_result"
    }
   ],
   "source": [
    "df.isna().sum()"
   ]
  },
  {
   "cell_type": "code",
   "execution_count": 8,
   "id": "0ff7cf30",
   "metadata": {},
   "outputs": [
    {
     "data": {
      "application/vnd.microsoft.datawrangler.viewer.v0+json": {
       "columns": [
        {
         "name": "index",
         "rawType": "int64",
         "type": "integer"
        },
        {
         "name": "App Name",
         "rawType": "object",
         "type": "unknown"
        },
        {
         "name": "App Id",
         "rawType": "object",
         "type": "string"
        },
        {
         "name": "Category",
         "rawType": "object",
         "type": "string"
        },
        {
         "name": "Rating",
         "rawType": "float64",
         "type": "float"
        },
        {
         "name": "Rating Count",
         "rawType": "float64",
         "type": "float"
        },
        {
         "name": "Installs",
         "rawType": "object",
         "type": "string"
        },
        {
         "name": "Minimum Installs",
         "rawType": "float64",
         "type": "float"
        },
        {
         "name": "Maximum Installs",
         "rawType": "int64",
         "type": "integer"
        },
        {
         "name": "Free",
         "rawType": "bool",
         "type": "boolean"
        },
        {
         "name": "Price",
         "rawType": "float64",
         "type": "float"
        },
        {
         "name": "Currency",
         "rawType": "object",
         "type": "string"
        },
        {
         "name": "Size",
         "rawType": "object",
         "type": "string"
        },
        {
         "name": "Minimum Android",
         "rawType": "object",
         "type": "string"
        },
        {
         "name": "Developer Id",
         "rawType": "object",
         "type": "string"
        },
        {
         "name": "Developer Website",
         "rawType": "object",
         "type": "unknown"
        },
        {
         "name": "Developer Email",
         "rawType": "object",
         "type": "string"
        },
        {
         "name": "Released",
         "rawType": "object",
         "type": "string"
        },
        {
         "name": "Last Updated",
         "rawType": "object",
         "type": "string"
        },
        {
         "name": "Content Rating",
         "rawType": "object",
         "type": "string"
        },
        {
         "name": "Privacy Policy",
         "rawType": "object",
         "type": "unknown"
        },
        {
         "name": "Ad Supported",
         "rawType": "bool",
         "type": "boolean"
        },
        {
         "name": "In App Purchases",
         "rawType": "bool",
         "type": "boolean"
        },
        {
         "name": "Editors Choice",
         "rawType": "bool",
         "type": "boolean"
        },
        {
         "name": "Scraped Time",
         "rawType": "object",
         "type": "string"
        }
       ],
       "ref": "071497d6-0dac-405f-afa5-dc8ed289714d",
       "rows": [
        [
         "45686",
         null,
         "se.promedia.NA",
         "News & Magazines",
         "2.4",
         "470.0",
         "50,000+",
         "50000.0",
         "84097",
         "True",
         "0.0",
         "USD",
         "27M",
         "4.1 and up",
         "Bonnier News Local AB",
         "https://www.na.se/app",
         "kundservice.bnlo@bonniernews.se",
         "Aug 8, 2011",
         "Dec 21, 2020",
         "Everyone",
         "https://www.na.se/info/mittmedias-personuppgiftspolicy",
         "True",
         "False",
         "False",
         "2021-06-15 21:04:54"
        ],
        [
         "1226953",
         null,
         "com.ibrahimtornado.none",
         "Entertainment",
         "4.6",
         "11.0",
         "100+",
         "100.0",
         "351",
         "True",
         "0.0",
         "USD",
         "1.9M",
         "4.1 and up",
         "Ibrahim Tornado",
         null,
         "ibra.ibrahim9995@gmail.com",
         "Mar 22, 2019",
         "Mar 23, 2019",
         "Everyone",
         "https://sites.google.com/view/noneapp/privacy-policy",
         "True",
         "False",
         "False",
         "2021-06-15 21:05:32"
        ],
        [
         "1712582",
         null,
         "com.noone",
         "Entertainment",
         "4.1",
         "40.0",
         "1,000+",
         "1000.0",
         "2406",
         "True",
         "0.0",
         "USD",
         "216k",
         "3.0 and up",
         "TLUTech",
         null,
         "friedchikanye@gmail.com",
         "Oct 6, 2014",
         "Oct 06, 2014",
         "Everyone",
         null,
         "False",
         "False",
         "False",
         "2021-06-16 04:21:25"
        ],
        [
         "1924265",
         null,
         "com.DN.None",
         "Arcade",
         "4.6",
         "5.0",
         "10+",
         "10.0",
         "27",
         "True",
         "0.0",
         "USD",
         "22M",
         "4.1 and up",
         "DNGames",
         null,
         "nguyenthaiphihungnew@outlook.com",
         "Dec 30, 2019",
         "Jan 06, 2020",
         "Everyone",
         null,
         "True",
         "False",
         "False",
         "2021-06-16 07:19:47"
        ],
        [
         "2117918",
         null,
         "com.Tomkii.NULl",
         "Arcade",
         "4.3",
         "6.0",
         "50+",
         "50.0",
         "98",
         "True",
         "0.0",
         "USD",
         "10M",
         "4.4 and up",
         "Tomkii",
         null,
         "tomek.rybinski@interia.pl",
         "Mar 17, 2021",
         "Mar 17, 2021",
         "Everyone",
         null,
         "True",
         "False",
         "False",
         "2021-06-16 10:09:12"
        ]
       ],
       "shape": {
        "columns": 24,
        "rows": 5
       }
      },
      "text/html": [
       "<div>\n",
       "<style scoped>\n",
       "    .dataframe tbody tr th:only-of-type {\n",
       "        vertical-align: middle;\n",
       "    }\n",
       "\n",
       "    .dataframe tbody tr th {\n",
       "        vertical-align: top;\n",
       "    }\n",
       "\n",
       "    .dataframe thead th {\n",
       "        text-align: right;\n",
       "    }\n",
       "</style>\n",
       "<table border=\"1\" class=\"dataframe\">\n",
       "  <thead>\n",
       "    <tr style=\"text-align: right;\">\n",
       "      <th></th>\n",
       "      <th>App Name</th>\n",
       "      <th>App Id</th>\n",
       "      <th>Category</th>\n",
       "      <th>Rating</th>\n",
       "      <th>Rating Count</th>\n",
       "      <th>Installs</th>\n",
       "      <th>Minimum Installs</th>\n",
       "      <th>Maximum Installs</th>\n",
       "      <th>Free</th>\n",
       "      <th>Price</th>\n",
       "      <th>...</th>\n",
       "      <th>Developer Website</th>\n",
       "      <th>Developer Email</th>\n",
       "      <th>Released</th>\n",
       "      <th>Last Updated</th>\n",
       "      <th>Content Rating</th>\n",
       "      <th>Privacy Policy</th>\n",
       "      <th>Ad Supported</th>\n",
       "      <th>In App Purchases</th>\n",
       "      <th>Editors Choice</th>\n",
       "      <th>Scraped Time</th>\n",
       "    </tr>\n",
       "  </thead>\n",
       "  <tbody>\n",
       "    <tr>\n",
       "      <th>45686</th>\n",
       "      <td>NaN</td>\n",
       "      <td>se.promedia.NA</td>\n",
       "      <td>News &amp; Magazines</td>\n",
       "      <td>2.4</td>\n",
       "      <td>470.0</td>\n",
       "      <td>50,000+</td>\n",
       "      <td>50000.0</td>\n",
       "      <td>84097</td>\n",
       "      <td>True</td>\n",
       "      <td>0.0</td>\n",
       "      <td>...</td>\n",
       "      <td>https://www.na.se/app</td>\n",
       "      <td>kundservice.bnlo@bonniernews.se</td>\n",
       "      <td>Aug 8, 2011</td>\n",
       "      <td>Dec 21, 2020</td>\n",
       "      <td>Everyone</td>\n",
       "      <td>https://www.na.se/info/mittmedias-personuppgif...</td>\n",
       "      <td>True</td>\n",
       "      <td>False</td>\n",
       "      <td>False</td>\n",
       "      <td>2021-06-15 21:04:54</td>\n",
       "    </tr>\n",
       "    <tr>\n",
       "      <th>1226953</th>\n",
       "      <td>NaN</td>\n",
       "      <td>com.ibrahimtornado.none</td>\n",
       "      <td>Entertainment</td>\n",
       "      <td>4.6</td>\n",
       "      <td>11.0</td>\n",
       "      <td>100+</td>\n",
       "      <td>100.0</td>\n",
       "      <td>351</td>\n",
       "      <td>True</td>\n",
       "      <td>0.0</td>\n",
       "      <td>...</td>\n",
       "      <td>NaN</td>\n",
       "      <td>ibra.ibrahim9995@gmail.com</td>\n",
       "      <td>Mar 22, 2019</td>\n",
       "      <td>Mar 23, 2019</td>\n",
       "      <td>Everyone</td>\n",
       "      <td>https://sites.google.com/view/noneapp/privacy-...</td>\n",
       "      <td>True</td>\n",
       "      <td>False</td>\n",
       "      <td>False</td>\n",
       "      <td>2021-06-15 21:05:32</td>\n",
       "    </tr>\n",
       "    <tr>\n",
       "      <th>1712582</th>\n",
       "      <td>NaN</td>\n",
       "      <td>com.noone</td>\n",
       "      <td>Entertainment</td>\n",
       "      <td>4.1</td>\n",
       "      <td>40.0</td>\n",
       "      <td>1,000+</td>\n",
       "      <td>1000.0</td>\n",
       "      <td>2406</td>\n",
       "      <td>True</td>\n",
       "      <td>0.0</td>\n",
       "      <td>...</td>\n",
       "      <td>NaN</td>\n",
       "      <td>friedchikanye@gmail.com</td>\n",
       "      <td>Oct 6, 2014</td>\n",
       "      <td>Oct 06, 2014</td>\n",
       "      <td>Everyone</td>\n",
       "      <td>NaN</td>\n",
       "      <td>False</td>\n",
       "      <td>False</td>\n",
       "      <td>False</td>\n",
       "      <td>2021-06-16 04:21:25</td>\n",
       "    </tr>\n",
       "    <tr>\n",
       "      <th>1924265</th>\n",
       "      <td>NaN</td>\n",
       "      <td>com.DN.None</td>\n",
       "      <td>Arcade</td>\n",
       "      <td>4.6</td>\n",
       "      <td>5.0</td>\n",
       "      <td>10+</td>\n",
       "      <td>10.0</td>\n",
       "      <td>27</td>\n",
       "      <td>True</td>\n",
       "      <td>0.0</td>\n",
       "      <td>...</td>\n",
       "      <td>NaN</td>\n",
       "      <td>nguyenthaiphihungnew@outlook.com</td>\n",
       "      <td>Dec 30, 2019</td>\n",
       "      <td>Jan 06, 2020</td>\n",
       "      <td>Everyone</td>\n",
       "      <td>NaN</td>\n",
       "      <td>True</td>\n",
       "      <td>False</td>\n",
       "      <td>False</td>\n",
       "      <td>2021-06-16 07:19:47</td>\n",
       "    </tr>\n",
       "    <tr>\n",
       "      <th>2117918</th>\n",
       "      <td>NaN</td>\n",
       "      <td>com.Tomkii.NULl</td>\n",
       "      <td>Arcade</td>\n",
       "      <td>4.3</td>\n",
       "      <td>6.0</td>\n",
       "      <td>50+</td>\n",
       "      <td>50.0</td>\n",
       "      <td>98</td>\n",
       "      <td>True</td>\n",
       "      <td>0.0</td>\n",
       "      <td>...</td>\n",
       "      <td>NaN</td>\n",
       "      <td>tomek.rybinski@interia.pl</td>\n",
       "      <td>Mar 17, 2021</td>\n",
       "      <td>Mar 17, 2021</td>\n",
       "      <td>Everyone</td>\n",
       "      <td>NaN</td>\n",
       "      <td>True</td>\n",
       "      <td>False</td>\n",
       "      <td>False</td>\n",
       "      <td>2021-06-16 10:09:12</td>\n",
       "    </tr>\n",
       "  </tbody>\n",
       "</table>\n",
       "<p>5 rows × 24 columns</p>\n",
       "</div>"
      ],
      "text/plain": [
       "        App Name                   App Id          Category  Rating  \\\n",
       "45686        NaN           se.promedia.NA  News & Magazines     2.4   \n",
       "1226953      NaN  com.ibrahimtornado.none     Entertainment     4.6   \n",
       "1712582      NaN                com.noone     Entertainment     4.1   \n",
       "1924265      NaN              com.DN.None            Arcade     4.6   \n",
       "2117918      NaN          com.Tomkii.NULl            Arcade     4.3   \n",
       "\n",
       "         Rating Count Installs  Minimum Installs  Maximum Installs  Free  \\\n",
       "45686           470.0  50,000+           50000.0             84097  True   \n",
       "1226953          11.0     100+             100.0               351  True   \n",
       "1712582          40.0   1,000+            1000.0              2406  True   \n",
       "1924265           5.0      10+              10.0                27  True   \n",
       "2117918           6.0      50+              50.0                98  True   \n",
       "\n",
       "         Price  ...      Developer Website                   Developer Email  \\\n",
       "45686      0.0  ...  https://www.na.se/app   kundservice.bnlo@bonniernews.se   \n",
       "1226953    0.0  ...                    NaN        ibra.ibrahim9995@gmail.com   \n",
       "1712582    0.0  ...                    NaN           friedchikanye@gmail.com   \n",
       "1924265    0.0  ...                    NaN  nguyenthaiphihungnew@outlook.com   \n",
       "2117918    0.0  ...                    NaN         tomek.rybinski@interia.pl   \n",
       "\n",
       "             Released  Last Updated Content Rating  \\\n",
       "45686     Aug 8, 2011  Dec 21, 2020       Everyone   \n",
       "1226953  Mar 22, 2019  Mar 23, 2019       Everyone   \n",
       "1712582   Oct 6, 2014  Oct 06, 2014       Everyone   \n",
       "1924265  Dec 30, 2019  Jan 06, 2020       Everyone   \n",
       "2117918  Mar 17, 2021  Mar 17, 2021       Everyone   \n",
       "\n",
       "                                            Privacy Policy Ad Supported  \\\n",
       "45686    https://www.na.se/info/mittmedias-personuppgif...         True   \n",
       "1226953  https://sites.google.com/view/noneapp/privacy-...         True   \n",
       "1712582                                                NaN        False   \n",
       "1924265                                                NaN         True   \n",
       "2117918                                                NaN         True   \n",
       "\n",
       "        In App Purchases Editors Choice         Scraped Time  \n",
       "45686              False          False  2021-06-15 21:04:54  \n",
       "1226953            False          False  2021-06-15 21:05:32  \n",
       "1712582            False          False  2021-06-16 04:21:25  \n",
       "1924265            False          False  2021-06-16 07:19:47  \n",
       "2117918            False          False  2021-06-16 10:09:12  \n",
       "\n",
       "[5 rows x 24 columns]"
      ]
     },
     "execution_count": 8,
     "metadata": {},
     "output_type": "execute_result"
    }
   ],
   "source": [
    "df[df[\"App Name\"].isna()]"
   ]
  },
  {
   "cell_type": "code",
   "execution_count": 9,
   "id": "df02baab",
   "metadata": {},
   "outputs": [
    {
     "data": {
      "text/plain": [
       "(2312944, 24)"
      ]
     },
     "execution_count": 9,
     "metadata": {},
     "output_type": "execute_result"
    }
   ],
   "source": [
    "df.shape"
   ]
  },
  {
   "cell_type": "code",
   "execution_count": 10,
   "id": "ab1607ec",
   "metadata": {},
   "outputs": [],
   "source": [
    "df.dropna(subset=[\"App Name\"], inplace=True)"
   ]
  },
  {
   "cell_type": "code",
   "execution_count": 11,
   "id": "45ef4b4d",
   "metadata": {},
   "outputs": [
    {
     "data": {
      "text/plain": [
       "(2312939, 24)"
      ]
     },
     "execution_count": 11,
     "metadata": {},
     "output_type": "execute_result"
    }
   ],
   "source": [
    "df.shape"
   ]
  },
  {
   "cell_type": "code",
   "execution_count": 12,
   "id": "461df4c6",
   "metadata": {},
   "outputs": [
    {
     "data": {
      "application/vnd.microsoft.datawrangler.viewer.v0+json": {
       "columns": [
        {
         "name": "index",
         "rawType": "int64",
         "type": "integer"
        },
        {
         "name": "App Name",
         "rawType": "object",
         "type": "string"
        },
        {
         "name": "App Id",
         "rawType": "object",
         "type": "string"
        },
        {
         "name": "Category",
         "rawType": "object",
         "type": "string"
        },
        {
         "name": "Rating",
         "rawType": "float64",
         "type": "float"
        },
        {
         "name": "Rating Count",
         "rawType": "float64",
         "type": "float"
        },
        {
         "name": "Installs",
         "rawType": "object",
         "type": "unknown"
        },
        {
         "name": "Minimum Installs",
         "rawType": "float64",
         "type": "float"
        },
        {
         "name": "Maximum Installs",
         "rawType": "int64",
         "type": "integer"
        },
        {
         "name": "Free",
         "rawType": "bool",
         "type": "boolean"
        },
        {
         "name": "Price",
         "rawType": "float64",
         "type": "float"
        },
        {
         "name": "Currency",
         "rawType": "object",
         "type": "unknown"
        },
        {
         "name": "Size",
         "rawType": "object",
         "type": "unknown"
        },
        {
         "name": "Minimum Android",
         "rawType": "object",
         "type": "unknown"
        },
        {
         "name": "Developer Id",
         "rawType": "object",
         "type": "unknown"
        },
        {
         "name": "Developer Website",
         "rawType": "object",
         "type": "unknown"
        },
        {
         "name": "Developer Email",
         "rawType": "object",
         "type": "string"
        },
        {
         "name": "Released",
         "rawType": "object",
         "type": "unknown"
        },
        {
         "name": "Last Updated",
         "rawType": "object",
         "type": "string"
        },
        {
         "name": "Content Rating",
         "rawType": "object",
         "type": "string"
        },
        {
         "name": "Privacy Policy",
         "rawType": "object",
         "type": "unknown"
        },
        {
         "name": "Ad Supported",
         "rawType": "bool",
         "type": "boolean"
        },
        {
         "name": "In App Purchases",
         "rawType": "bool",
         "type": "boolean"
        },
        {
         "name": "Editors Choice",
         "rawType": "bool",
         "type": "boolean"
        },
        {
         "name": "Scraped Time",
         "rawType": "object",
         "type": "string"
        }
       ],
       "ref": "56b9fd9c-2f39-45ca-9242-d5ada2908a76",
       "rows": [
        [
         "115",
         "VM-Delay",
         "com.irv.vm_delay",
         "Tools",
         null,
         null,
         "50+",
         "50.0",
         "71",
         "True",
         "0.0",
         "USD",
         "Varies with device",
         "Varies with device",
         "IVR.RD",
         null,
         "iv_dx@mail.com",
         null,
         "Oct 23, 2018",
         "Everyone",
         null,
         "False",
         "False",
         "False",
         "2021-06-15 20:19:42"
        ],
        [
         "210",
         "Promotor",
         "com.touchesbegan.promotor",
         "Productivity",
         null,
         null,
         "100+",
         "100.0",
         "135",
         "True",
         "0.0",
         "USD",
         "Varies with device",
         "Varies with device",
         "TouchesBegan",
         "http://www.touchesbegan.com",
         "info@touchesbegan.com",
         null,
         "Aug 14, 2017",
         "Everyone",
         null,
         "False",
         "False",
         "False",
         "2021-06-15 20:19:48"
        ],
        [
         "284",
         "xrsta xatr",
         "com.xrsta.xatr",
         "Entertainment",
         null,
         null,
         "10+",
         "10.0",
         "14",
         "True",
         "0.0",
         "USD",
         "Varies with device",
         "Varies with device",
         "fremme_gamez",
         null,
         "fremmepen@gmail.com",
         null,
         "Feb 08, 2020",
         "Mature 17+",
         null,
         "False",
         "False",
         "False",
         "2021-06-15 20:19:52"
        ],
        [
         "501",
         "GridChats",
         "com.thegridnet.conference",
         "Communication",
         null,
         null,
         "50+",
         "50.0",
         "92",
         "True",
         "0.0",
         "USD",
         "Varies with device",
         "Varies with device",
         "TheGridNet Ltd.",
         "http://gridchats.com",
         "support@gridchats.com",
         null,
         "Sep 20, 2018",
         "Everyone",
         "https://socialecosystem.com/en/terms",
         "False",
         "False",
         "False",
         "2021-06-15 20:20:05"
        ],
        [
         "662",
         "Restaurant POS(Admin)",
         "org.wisdomfish.posadmin",
         "Tools",
         null,
         null,
         "10+",
         "10.0",
         "18",
         "True",
         "0.0",
         "USD",
         "Varies with device",
         "Varies with device",
         "WisFish.com",
         "http://www.wisfish.com",
         "service@wisfish.com",
         null,
         "Jul 25, 2016",
         "Everyone",
         "http://www.wisdomfish.org/welcome/privacy-policy",
         "False",
         "False",
         "False",
         "2021-06-15 20:20:14"
        ],
        [
         "709",
         "First Response : SSPS",
         "ca.myfirstresponse.ssps",
         "Tools",
         null,
         null,
         "10+",
         "10.0",
         "14",
         "True",
         "0.0",
         "USD",
         "Varies with device",
         "Varies with device",
         "First Response Mental Health Inc.",
         "http://myfirstresponse.ca",
         "support@myfirstresponse.ca",
         null,
         "Aug 01, 2019",
         "Everyone",
         "https://docs.google.com/document/d/1Jroa5sTNFsCsbTMHoIvEH4aigwM_EUQbJ-CgvKOOf8g/edit#",
         "False",
         "False",
         "False",
         "2021-06-15 20:20:16"
        ],
        [
         "931",
         "Destruct Now",
         "com.ArcadeClan.DestructNow",
         "Action",
         null,
         null,
         "100+",
         "100.0",
         "223",
         "True",
         "0.0",
         "XXX",
         "Varies with device",
         "Varies with device",
         "Playmob apps",
         null,
         "info@arcadeclan.io",
         null,
         "Nov 17, 2020",
         "Everyone",
         "https://arcadeclan.io/Privacy-Policy/",
         "False",
         "False",
         "False",
         "2021-06-15 20:20:29"
        ],
        [
         "1142",
         "Calisthenics Logger",
         "com.calisthenicslogger",
         "Health & Fitness",
         null,
         null,
         "10+",
         "10.0",
         "33",
         "True",
         "0.0",
         "USD",
         "3.1M",
         "5.0 and up",
         "Alfie Page",
         null,
         "alfiepagedev@gmail.com",
         null,
         "Jul 27, 2020",
         "Everyone",
         "https://calisthenics-logger.flycricket.io/privacy.html",
         "False",
         "False",
         "False",
         "2021-06-15 20:20:42"
        ],
        [
         "1374",
         "Crescendo by Sependa",
         "com.crescendoapp.crescendo",
         "Business",
         null,
         null,
         "10+",
         "10.0",
         "10",
         "True",
         "0.0",
         "USD",
         "Varies with device",
         "Varies with device",
         "Sependa Inc.",
         "http://crescendoapp.com",
         "contact@crescendoapp.com",
         null,
         "Jun 11, 2021",
         "Everyone",
         null,
         "False",
         "False",
         "False",
         "2021-06-15 20:20:55"
        ],
        [
         "1891",
         "Bossr",
         "com.naslund.bossr",
         "Tools",
         null,
         null,
         "100+",
         "100.0",
         "210",
         "True",
         "0.0",
         "USD",
         "Varies with device",
         "Varies with device",
         "naslund",
         "http://www.naslund.io",
         "naaaslund@gmail.com",
         null,
         "Oct 09, 2016",
         "Everyone",
         null,
         "False",
         "False",
         "False",
         "2021-06-15 20:21:25"
        ],
        [
         "1893",
         "Rutgers University (Beta)",
         "edu.rutgers.css.Rutgers.beta",
         "Education",
         null,
         null,
         "500+",
         "500.0",
         "676",
         "True",
         "0.0",
         "USD",
         "Varies with device",
         "Varies with device",
         "Rutgers, The State University of New Jersey",
         "http://oss.rutgers.edu/mobile/",
         "oss-mobile@oss.rutgers.edu",
         null,
         "Nov 02, 2020",
         "Everyone 10+",
         "http://policies.rutgers.edu/sites/policies/files/70.1.1%20-%20current.pdf",
         "False",
         "False",
         "False",
         "2021-06-15 20:21:25"
        ],
        [
         "1922",
         "Hungry Squirrel Run",
         "com.Vanchette_Games.Squibel",
         "Arcade",
         null,
         null,
         "50+",
         "50.0",
         "80",
         "True",
         "0.0",
         "USD",
         "Varies with device",
         "Varies with device",
         "Vanchette_Games",
         null,
         "vanchette@gmail.com",
         null,
         "May 07, 2019",
         "Everyone",
         "https://docs.google.com/document/d/14qdXpx63OABIfp9IUFXPmCDxrrXB8unJjd1Y2IVjiLU/edit?usp=sharing",
         "True",
         "False",
         "False",
         "2021-06-15 20:21:26"
        ],
        [
         "1970",
         "MHADA BDD",
         "com.uplodefoodie.bdd",
         "Tools",
         null,
         null,
         "500+",
         "500.0",
         "881",
         "True",
         "0.0",
         "USD",
         "Varies with device",
         "Varies with device",
         "Uplodefoodie Solutions Pvt. Ltd.",
         "http://www.uplodefoodie.com/",
         "yogesh@evisipro.com",
         null,
         "Mar 08, 2019",
         "Everyone",
         "https://www.uplodefoodie.com/Privacy_Policy.html",
         "False",
         "False",
         "False",
         "2021-06-15 20:21:29"
        ],
        [
         "2050",
         "Ships of Battle: Wargames",
         "com.ag.shipsofbattlewargames",
         "Strategy",
         null,
         null,
         "1,000+",
         "1000.0",
         "4050",
         "True",
         "0.0",
         "USD",
         "Varies with device",
         "Varies with device",
         "Artik Games",
         "http://www.artikgames.com",
         "shipsofbattlewargames@gmail.com",
         null,
         "Dec 17, 2018",
         "Everyone",
         "http://www.ageofpiratesmobile.com/privacy-policy/",
         "True",
         "True",
         "False",
         "2021-06-15 20:21:34"
        ],
        [
         "2192",
         "Greystar Resident Portal",
         "com.residentportal.greystar",
         "Lifestyle",
         null,
         null,
         "500+",
         "500.0",
         "815",
         "True",
         "0.0",
         "USD",
         "Varies with device",
         "Varies with device",
         "Entrata, Inc",
         null,
         "rpapp@entrata.com",
         null,
         "Feb 17, 2020",
         "Everyone",
         "https://www.entrata.com/privacy-policy",
         "False",
         "False",
         "False",
         "2021-06-15 20:21:43"
        ],
        [
         "2218",
         "John Arrow",
         "com.barsstudios.johnarrow",
         "Action",
         null,
         null,
         "500+",
         "500.0",
         "617",
         "True",
         "0.0",
         "USD",
         "Varies with device",
         "Varies with device",
         "BARS STUDIOS",
         null,
         "info@barsstudios.com",
         null,
         "Jul 14, 2020",
         "Teen",
         "https://www.barsstudios.com/privacy-policy",
         "False",
         "False",
         "False",
         "2021-06-15 20:21:44"
        ],
        [
         "2260",
         "Global Grace",
         "appinventor.ai_tajdar92.EG_POWER",
         "Shopping",
         null,
         null,
         "10+",
         "10.0",
         "47",
         "True",
         "0.0",
         "USD",
         "Varies with device",
         "Varies with device",
         "RKitsolution",
         "https://globalgrace.store/",
         "egmfa.adm@gmail.com",
         null,
         "Oct 21, 2020",
         "Everyone",
         "https://globalgrace.store/index.asp",
         "False",
         "False",
         "False",
         "2021-06-15 20:21:46"
        ],
        [
         "2567",
         "Shuriken",
         "com.ben.shuriken",
         "Arcade",
         null,
         null,
         "50+",
         "50.0",
         "74",
         "True",
         "0.0",
         "USD",
         "Varies with device",
         "Varies with device",
         "BOBAB",
         null,
         "bobab.gaming@gmail.com",
         null,
         "Oct 05, 2020",
         "Teen",
         null,
         "False",
         "False",
         "False",
         "2021-06-15 20:22:04"
        ],
        [
         "2582",
         "Tension Calculator",
         "dpatters.TensionCalculator",
         "Tools",
         null,
         null,
         "10+",
         "10.0",
         "32",
         "True",
         "0.0",
         "USD",
         "Varies with device",
         "Varies with device",
         "David Patterson",
         null,
         "johade777@gmail.com",
         null,
         "May 15, 2017",
         "Everyone",
         null,
         "False",
         "False",
         "False",
         "2021-06-15 20:22:04"
        ],
        [
         "2631",
         "API Tester",
         "com.smedia.apitester",
         "Entertainment",
         null,
         null,
         "10+",
         "10.0",
         "10",
         "True",
         "0.0",
         "USD",
         "Varies with device",
         "Varies with device",
         "tikoyapps",
         null,
         "marckregio@gmail.com",
         null,
         "Jun 15, 2017",
         "Everyone",
         "https://preferences.news.com.au",
         "False",
         "True",
         "False",
         "2021-06-15 20:22:07"
        ],
        [
         "2674",
         "Bate Aqui",
         "com.bateaqui.fortablet",
         "Productivity",
         null,
         null,
         "50+",
         "50.0",
         "58",
         "True",
         "0.0",
         "USD",
         "Varies with device",
         "Varies with device",
         "Bate Aqui",
         "https://www.bateaqui.com",
         "marketing@bateaqui.com",
         null,
         "May 10, 2021",
         "Everyone",
         "https://www.bateaqui.com",
         "False",
         "False",
         "False",
         "2021-06-15 20:22:10"
        ],
        [
         "2785",
         "TASKO",
         "com.deanvelopment.tasko",
         "Tools",
         null,
         null,
         "5+",
         "5.0",
         "6",
         "True",
         "0.0",
         "USD",
         "Varies with device",
         "Varies with device",
         "Jonathan Dean de Melo Damiani",
         null,
         "jdeandamianiapps@gmail.com",
         null,
         "Jun 22, 2020",
         "Everyone",
         null,
         "False",
         "False",
         "False",
         "2021-06-15 20:22:16"
        ],
        [
         "2829",
         "Baseball Craps",
         "com.dejavusports.baseballcraps",
         "Sports",
         null,
         null,
         "10+",
         "10.0",
         "15",
         "True",
         "0.0",
         "USD",
         "Varies with device",
         "Varies with device",
         "Déjà Vu Sports LLC",
         "http://www.dejavusports.com",
         "tom@dejavusports.com",
         null,
         "Feb 24, 2020",
         "Teen",
         "https://www.termsfeed.com/privacy-policy/1639b5d9811b19f59a9c67b0b0486c3a",
         "True",
         "False",
         "False",
         "2021-06-15 20:22:19"
        ],
        [
         "2865",
         "Intertracker",
         "br.intertrack.intertracker",
         "Tools",
         null,
         null,
         "500+",
         "500.0",
         "845",
         "True",
         "0.0",
         "USD",
         "Varies with device",
         "Varies with device",
         "Intertrack",
         "http://www.intertrack.com.br",
         "intertrack.app@gmail.com",
         null,
         "Apr 26, 2021",
         "Everyone",
         "https://www.intertrack.com.br/privacidade/intertracker.html",
         "False",
         "False",
         "False",
         "2021-06-15 20:22:21"
        ],
        [
         "2992",
         "Tiramisu - Community exchange and volunteering",
         "com.tiramisuapp.tiramisu",
         "Social",
         null,
         null,
         "10+",
         "10.0",
         "23",
         "True",
         "0.0",
         "USD",
         "Varies with device",
         "Varies with device",
         "Impact Bakers",
         "https://www.tiramisuapp.com",
         "hello@tiramisuapp.com",
         null,
         "Jun 02, 2021",
         "Teen",
         "https://www.tiramisuapp.com/privacy-policy",
         "False",
         "False",
         "False",
         "2021-06-15 20:22:28"
        ],
        [
         "3034",
         "Client Portal - by Create Music Group",
         "create.portal.tv.portal_app_android",
         "Music & Audio",
         null,
         null,
         "500+",
         "500.0",
         "599",
         "True",
         "0.0",
         "USD",
         "11M",
         "7.1 and up",
         "Create Music Group",
         "https://createmusicgroup.com/",
         "development@createmusicgroup.com",
         null,
         "Nov 20, 2019",
         "Teen",
         "https://portal.create.tv/policies",
         "False",
         "False",
         "False",
         "2021-06-15 20:22:30"
        ],
        [
         "3096",
         "Slim Sonic Control",
         "slim.sonic.control",
         "Sports",
         null,
         null,
         "500+",
         "500.0",
         "690",
         "True",
         "0.0",
         "USD",
         "Varies with device",
         "Varies with device",
         "NEOS Health Sàrl",
         null,
         "admin@neos-health.ch",
         null,
         "Sep 05, 2020",
         "Everyone",
         "https://slim-sonic.com/mentions-legales/?v=1ee0bf89c5d1",
         "False",
         "False",
         "False",
         "2021-06-15 20:22:34"
        ],
        [
         "3149",
         "Green Footprint",
         "com.aappergfp.app",
         "Education",
         null,
         null,
         "10+",
         "10.0",
         "24",
         "True",
         "0.0",
         "USD",
         "Varies with device",
         "Varies with device",
         "Green Footprint",
         "http://greenfootprint.in/",
         "mygrnfootprint@gmail.com",
         null,
         "Jun 20, 2020",
         "Everyone",
         "http://greenfootprint.in/",
         "False",
         "False",
         "False",
         "2021-06-15 20:22:37"
        ],
        [
         "3289",
         "Home design: House & Mansion Interior Makeover",
         "com.homedesign.cookapps.decor.mansion.makeover.match3.free",
         "Casual",
         null,
         null,
         "10,000+",
         "10000.0",
         "12165",
         "True",
         "0.0",
         "USD",
         "Varies with device",
         "Varies with device",
         "Jewels Match Games",
         "http://www.letsfungame.com",
         "23018987@qq.com",
         null,
         "Jun 11, 2021",
         "Everyone",
         "http://www.letsfungame.com/private.htm",
         "True",
         "True",
         "False",
         "2021-06-15 20:22:46"
        ],
        [
         "3303",
         "Stonks Go Up",
         "com.FlyingNugget.StonksGoUp",
         "Casual",
         null,
         null,
         "5+",
         "5.0",
         "6",
         "True",
         "0.0",
         "USD",
         "Varies with device",
         "Varies with device",
         "Flying Nugget",
         null,
         "mathias_ostlund@hotmail.com",
         null,
         "Aug 26, 2020",
         "Everyone",
         "https://unity3d.com/legal/privacy-policy",
         "True",
         "False",
         "False",
         "2021-06-15 20:22:46"
        ],
        [
         "3368",
         "UTU.ONE",
         "com.utu.one",
         "Social",
         null,
         null,
         "50+",
         "50.0",
         "74",
         "True",
         "0.0",
         "USD",
         "Varies with device",
         "Varies with device",
         "UTU Technology",
         "https://utu.one/",
         "dev@utu.one",
         null,
         "Jun 11, 2021",
         "Teen",
         "https://utu.one/term-of-use/",
         "False",
         "False",
         "False",
         "2021-06-15 20:22:50"
        ],
        [
         "3398",
         "Яндекс.Про (Таксометр) Бета",
         "ru.yandex.taximeter.beta",
         "Maps & Navigation",
         null,
         null,
         "10,000+",
         "10000.0",
         "18441",
         "True",
         "0.0",
         "USD",
         "Varies with device",
         "Varies with device",
         "Yandex Apps",
         "http://www.yandex.ru",
         "taximeter@support.yandex.ru",
         null,
         "Jun 11, 2021",
         "Everyone",
         "https://yandex.ru/legal/confidential",
         "False",
         "False",
         "False",
         "2021-06-15 20:22:52"
        ],
        [
         "3708",
         "Push All My Buttons",
         "com.PxelGameHouseLTD.PushAllMyButtons",
         "Casual",
         null,
         null,
         "10+",
         "10.0",
         "26",
         "True",
         "0.0",
         "USD",
         "Varies with device",
         "Varies with device",
         "Pxel Game House",
         "http://www.playtra.com",
         "hello@playtra.com",
         null,
         "Jul 09, 2019",
         "Everyone",
         "https://www.playtra.com/privacy",
         "False",
         "False",
         "False",
         "2021-06-15 20:23:10"
        ],
        [
         "3808",
         "Planet Wars",
         "com.nSoft.PlanetWars",
         "Casual",
         null,
         null,
         "100+",
         "100.0",
         "127",
         "True",
         "0.0",
         "USD",
         "Varies with device",
         "Varies with device",
         "Euphorya Studio",
         null,
         "lothvorn@gmail.com",
         null,
         "May 29, 2017",
         "Everyone",
         null,
         "False",
         "False",
         "False",
         "2021-06-15 20:23:15"
        ],
        [
         "3894",
         "Laser Sculpture",
         "com.kikigames.lasersculpture",
         "Casual",
         null,
         null,
         "100+",
         "100.0",
         "160",
         "True",
         "0.0",
         "USD",
         "Varies with device",
         "Varies with device",
         "Kiki Games Ltd",
         null,
         "nkirikoglu@hotmail.com",
         null,
         "Feb 28, 2021",
         "Everyone",
         "https://sites.google.com/view/kikiprivacypolicyx/lasersculpture_privacypolicy",
         "False",
         "False",
         "False",
         "2021-06-15 20:23:20"
        ],
        [
         "3916",
         "I am bored",
         "com.kyrxtz.i.am.bored",
         "Entertainment",
         null,
         null,
         "1,000+",
         "1000.0",
         "3762",
         "True",
         "0.0",
         "USD",
         "Varies with device",
         "Varies with device",
         "Kyr Xtz",
         null,
         "ankolas21@gmail.com",
         null,
         "Feb 20, 2020",
         "Everyone",
         null,
         "False",
         "False",
         "False",
         "2021-06-15 20:23:21"
        ],
        [
         "3934",
         "Holman Webb",
         "com.holmanwebb.prod",
         "Education",
         null,
         null,
         "1+",
         "1.0",
         "2",
         "True",
         "0.0",
         "USD",
         "Varies with device",
         "Varies with device",
         "Trampoline",
         null,
         "info@trampolineplatform.com",
         null,
         "Apr 30, 2020",
         "Everyone",
         "https://trampolineplatform.com/hpl-privacy-collection-notice",
         "False",
         "False",
         "False",
         "2021-06-15 20:23:22"
        ],
        [
         "3952",
         "Collaudo 13",
         "it.sebina.mylib.collaudo13",
         "Books & Reference",
         null,
         null,
         "5+",
         "5.0",
         "5",
         "True",
         "0.0",
         "USD",
         "Varies with device",
         "Varies with device",
         "DM Cultura S.r.l.",
         null,
         "info@dmcultura.it",
         null,
         "Oct 06, 2020",
         "Everyone",
         "http://www.datamanagementpa.it/privacy-e-cookie/",
         "False",
         "False",
         "False",
         "2021-06-15 20:23:23"
        ],
        [
         "4001",
         "ШундыЧат",
         "com.vorgoron.friendlychat",
         "Social",
         null,
         null,
         "50+",
         "50.0",
         "61",
         "True",
         "0.0",
         "USD",
         "Varies with device",
         "Varies with device",
         "vorgoron",
         null,
         "developer@udmspell.ru",
         null,
         "Aug 30, 2019",
         "Teen",
         "https://vorgoron.github.io/privacy_policy_ru.html",
         "False",
         "False",
         "False",
         "2021-06-15 20:23:26"
        ],
        [
         "4016",
         "Inabest Doctor App",
         "id.biz.dib.inabest.doctor",
         "Health & Fitness",
         null,
         null,
         "10+",
         "10.0",
         "14",
         "True",
         "0.0",
         "USD",
         "Varies with device",
         "Varies with device",
         "Digital Inovasi Bangsa",
         null,
         "yogi.yulianto@students.amikom.ac.id",
         null,
         "Feb 18, 2020",
         "Everyone",
         "http://inabest.co",
         "False",
         "False",
         "False",
         "2021-06-15 20:23:27"
        ],
        [
         "4061",
         "Yandere School Simulator: Anime Girl Games",
         "com.osj.asu.virtual.high.school.life.story.game.sim",
         "Simulation",
         null,
         null,
         "5,000+",
         "5000.0",
         "5033",
         "True",
         "0.0",
         "USD",
         "Varies with device",
         "Varies with device",
         "Otaku Studio Japan Inc.",
         "https://otakupetra.blogspot.com/",
         "byblosapps@gmail.com",
         null,
         "Jun 07, 2021",
         "Teen",
         null,
         "True",
         "False",
         "False",
         "2021-06-15 20:23:29"
        ],
        [
         "4117",
         "GO タクシーが呼べるアプリ 旧MOV × JapanTaxi",
         "com.dena.automotive.taxibell",
         "Maps & Navigation",
         null,
         null,
         "500,000+",
         "500000.0",
         "850147",
         "True",
         "0.0",
         "USD",
         "45M",
         "8.0 and up",
         "株式会社Mobility Technologies",
         "https://go.mo-t.com",
         "go-support@mo-t.com",
         null,
         "Jun 08, 2021",
         "Everyone",
         "https://go.mo-t.com/privacy_app",
         "False",
         "False",
         "False",
         "2021-06-15 20:23:32"
        ],
        [
         "4258",
         "Kids Math : Best Math Learn Quiz",
         "com.nrkgames.maths",
         "Educational",
         null,
         null,
         "10+",
         "10.0",
         "21",
         "True",
         "0.0",
         "USD",
         "Varies with device",
         "Varies with device",
         "NRKGAMES",
         null,
         "thinkgames18@gmail.com",
         null,
         "May 17, 2020",
         "Everyone",
         "https://nrkgames.blogspot.com/2020/05/privacy-policy-introduction-this.html",
         "True",
         "False",
         "False",
         "2021-06-15 20:23:41"
        ],
        [
         "4493",
         "Data of Birth Age Calculator: Calculate Age",
         "com.age.calculator.dateofbirth.calculate.dob",
         "Tools",
         null,
         null,
         "10+",
         "10.0",
         "13",
         "True",
         "0.0",
         "USD",
         "Varies with device",
         "Varies with device",
         "ProSolutionStudioTech",
         null,
         "sm6505171@gmail.com",
         null,
         "Jun 03, 2021",
         "Everyone",
         null,
         "False",
         "False",
         "False",
         "2021-06-15 20:23:54"
        ],
        [
         "4552",
         "MyChalk",
         "com.chalk.mychalk",
         "Education",
         null,
         null,
         "5,000+",
         "5000.0",
         "7576",
         "True",
         "0.0",
         "USD",
         "Varies with device",
         "Varies with device",
         "Chalk.com Education Inc.",
         "https://www.chalk.com",
         "support@chalk.com",
         null,
         "Nov 04, 2020",
         "Everyone",
         "https://www.chalk.com/privacy",
         "False",
         "False",
         "False",
         "2021-06-15 20:23:57"
        ],
        [
         "4580",
         "Articotrans",
         "es.solbyte.articotrans",
         "Productivity",
         null,
         null,
         "10+",
         "10.0",
         "35",
         "True",
         "0.0",
         "USD",
         "Varies with device",
         "Varies with device",
         "Solbyte Servicios Informáticos",
         "https://www.articotrans.com/es/",
         "artico@articotrans.com",
         null,
         "Nov 29, 2017",
         "Everyone",
         "https://www.articotrans.com/es/",
         "False",
         "False",
         "False",
         "2021-06-15 20:23:59"
        ],
        [
         "4641",
         "Screen Locker (Tap Code LockScreen)",
         "com.cov.user.fast",
         "Tools",
         null,
         null,
         "100+",
         "100.0",
         "443",
         "True",
         "0.0",
         "USD",
         "Varies with device",
         "Varies with device",
         "AppthenticSAS",
         "http://appthentic.com",
         "eledevelop.apps@gmail.com",
         null,
         "Jul 16, 2018",
         "Everyone",
         "http://appthenty.com/policy.html",
         "False",
         "False",
         "False",
         "2021-06-15 20:24:02"
        ],
        [
         "4703",
         "Counter Shoot Critical Strike - Free Shooting Game",
         "com.counter.critical.secret.strike",
         "Action",
         null,
         null,
         "50+",
         "50.0",
         "63",
         "True",
         "0.0",
         "USD",
         "Varies with device",
         "Varies with device",
         "Modern Shooting Games",
         null,
         "modernactiongames@gmail.com",
         null,
         "Apr 19, 2021",
         "Teen",
         "https://modernshootinggames.weebly.com/privacy.html",
         "True",
         "False",
         "False",
         "2021-06-15 20:24:07"
        ],
        [
         "5149",
         "Swami Viditatmananda",
         "org.avm.tosv",
         "Education",
         null,
         null,
         "10+",
         "10.0",
         "37",
         "True",
         "0.0",
         "USD",
         "Varies with device",
         "Varies with device",
         "Niraj Chokshi",
         null,
         "tosv39@gmail.com",
         null,
         "Feb 27, 2021",
         "Everyone",
         null,
         "False",
         "False",
         "False",
         "2021-06-15 20:24:33"
        ],
        [
         "5287",
         "Antares Contigo",
         "com.dgtalgroup.antares",
         "Shopping",
         null,
         null,
         "100+",
         "100.0",
         "174",
         "True",
         "0.0",
         "USD",
         "Varies with device",
         "Varies with device",
         "DGtl Group SA de CV",
         "http://www.dgtalgroup.com",
         "servicios@afuerita.com",
         null,
         "Aug 13, 2019",
         "Everyone",
         "http://www.antarespasteleria.com/",
         "False",
         "False",
         "False",
         "2021-06-15 20:24:41"
        ]
       ],
       "shape": {
        "columns": 24,
        "rows": 22883
       }
      },
      "text/html": [
       "<div>\n",
       "<style scoped>\n",
       "    .dataframe tbody tr th:only-of-type {\n",
       "        vertical-align: middle;\n",
       "    }\n",
       "\n",
       "    .dataframe tbody tr th {\n",
       "        vertical-align: top;\n",
       "    }\n",
       "\n",
       "    .dataframe thead th {\n",
       "        text-align: right;\n",
       "    }\n",
       "</style>\n",
       "<table border=\"1\" class=\"dataframe\">\n",
       "  <thead>\n",
       "    <tr style=\"text-align: right;\">\n",
       "      <th></th>\n",
       "      <th>App Name</th>\n",
       "      <th>App Id</th>\n",
       "      <th>Category</th>\n",
       "      <th>Rating</th>\n",
       "      <th>Rating Count</th>\n",
       "      <th>Installs</th>\n",
       "      <th>Minimum Installs</th>\n",
       "      <th>Maximum Installs</th>\n",
       "      <th>Free</th>\n",
       "      <th>Price</th>\n",
       "      <th>...</th>\n",
       "      <th>Developer Website</th>\n",
       "      <th>Developer Email</th>\n",
       "      <th>Released</th>\n",
       "      <th>Last Updated</th>\n",
       "      <th>Content Rating</th>\n",
       "      <th>Privacy Policy</th>\n",
       "      <th>Ad Supported</th>\n",
       "      <th>In App Purchases</th>\n",
       "      <th>Editors Choice</th>\n",
       "      <th>Scraped Time</th>\n",
       "    </tr>\n",
       "  </thead>\n",
       "  <tbody>\n",
       "    <tr>\n",
       "      <th>115</th>\n",
       "      <td>VM-Delay</td>\n",
       "      <td>com.irv.vm_delay</td>\n",
       "      <td>Tools</td>\n",
       "      <td>NaN</td>\n",
       "      <td>NaN</td>\n",
       "      <td>50+</td>\n",
       "      <td>50.0</td>\n",
       "      <td>71</td>\n",
       "      <td>True</td>\n",
       "      <td>0.0</td>\n",
       "      <td>...</td>\n",
       "      <td>NaN</td>\n",
       "      <td>iv_dx@mail.com</td>\n",
       "      <td>NaN</td>\n",
       "      <td>Oct 23, 2018</td>\n",
       "      <td>Everyone</td>\n",
       "      <td>NaN</td>\n",
       "      <td>False</td>\n",
       "      <td>False</td>\n",
       "      <td>False</td>\n",
       "      <td>2021-06-15 20:19:42</td>\n",
       "    </tr>\n",
       "    <tr>\n",
       "      <th>210</th>\n",
       "      <td>Promotor</td>\n",
       "      <td>com.touchesbegan.promotor</td>\n",
       "      <td>Productivity</td>\n",
       "      <td>NaN</td>\n",
       "      <td>NaN</td>\n",
       "      <td>100+</td>\n",
       "      <td>100.0</td>\n",
       "      <td>135</td>\n",
       "      <td>True</td>\n",
       "      <td>0.0</td>\n",
       "      <td>...</td>\n",
       "      <td>http://www.touchesbegan.com</td>\n",
       "      <td>info@touchesbegan.com</td>\n",
       "      <td>NaN</td>\n",
       "      <td>Aug 14, 2017</td>\n",
       "      <td>Everyone</td>\n",
       "      <td>NaN</td>\n",
       "      <td>False</td>\n",
       "      <td>False</td>\n",
       "      <td>False</td>\n",
       "      <td>2021-06-15 20:19:48</td>\n",
       "    </tr>\n",
       "    <tr>\n",
       "      <th>284</th>\n",
       "      <td>xrsta xatr</td>\n",
       "      <td>com.xrsta.xatr</td>\n",
       "      <td>Entertainment</td>\n",
       "      <td>NaN</td>\n",
       "      <td>NaN</td>\n",
       "      <td>10+</td>\n",
       "      <td>10.0</td>\n",
       "      <td>14</td>\n",
       "      <td>True</td>\n",
       "      <td>0.0</td>\n",
       "      <td>...</td>\n",
       "      <td>NaN</td>\n",
       "      <td>fremmepen@gmail.com</td>\n",
       "      <td>NaN</td>\n",
       "      <td>Feb 08, 2020</td>\n",
       "      <td>Mature 17+</td>\n",
       "      <td>NaN</td>\n",
       "      <td>False</td>\n",
       "      <td>False</td>\n",
       "      <td>False</td>\n",
       "      <td>2021-06-15 20:19:52</td>\n",
       "    </tr>\n",
       "    <tr>\n",
       "      <th>501</th>\n",
       "      <td>GridChats</td>\n",
       "      <td>com.thegridnet.conference</td>\n",
       "      <td>Communication</td>\n",
       "      <td>NaN</td>\n",
       "      <td>NaN</td>\n",
       "      <td>50+</td>\n",
       "      <td>50.0</td>\n",
       "      <td>92</td>\n",
       "      <td>True</td>\n",
       "      <td>0.0</td>\n",
       "      <td>...</td>\n",
       "      <td>http://gridchats.com</td>\n",
       "      <td>support@gridchats.com</td>\n",
       "      <td>NaN</td>\n",
       "      <td>Sep 20, 2018</td>\n",
       "      <td>Everyone</td>\n",
       "      <td>https://socialecosystem.com/en/terms</td>\n",
       "      <td>False</td>\n",
       "      <td>False</td>\n",
       "      <td>False</td>\n",
       "      <td>2021-06-15 20:20:05</td>\n",
       "    </tr>\n",
       "    <tr>\n",
       "      <th>662</th>\n",
       "      <td>Restaurant POS(Admin)</td>\n",
       "      <td>org.wisdomfish.posadmin</td>\n",
       "      <td>Tools</td>\n",
       "      <td>NaN</td>\n",
       "      <td>NaN</td>\n",
       "      <td>10+</td>\n",
       "      <td>10.0</td>\n",
       "      <td>18</td>\n",
       "      <td>True</td>\n",
       "      <td>0.0</td>\n",
       "      <td>...</td>\n",
       "      <td>http://www.wisfish.com</td>\n",
       "      <td>service@wisfish.com</td>\n",
       "      <td>NaN</td>\n",
       "      <td>Jul 25, 2016</td>\n",
       "      <td>Everyone</td>\n",
       "      <td>http://www.wisdomfish.org/welcome/privacy-policy</td>\n",
       "      <td>False</td>\n",
       "      <td>False</td>\n",
       "      <td>False</td>\n",
       "      <td>2021-06-15 20:20:14</td>\n",
       "    </tr>\n",
       "    <tr>\n",
       "      <th>...</th>\n",
       "      <td>...</td>\n",
       "      <td>...</td>\n",
       "      <td>...</td>\n",
       "      <td>...</td>\n",
       "      <td>...</td>\n",
       "      <td>...</td>\n",
       "      <td>...</td>\n",
       "      <td>...</td>\n",
       "      <td>...</td>\n",
       "      <td>...</td>\n",
       "      <td>...</td>\n",
       "      <td>...</td>\n",
       "      <td>...</td>\n",
       "      <td>...</td>\n",
       "      <td>...</td>\n",
       "      <td>...</td>\n",
       "      <td>...</td>\n",
       "      <td>...</td>\n",
       "      <td>...</td>\n",
       "      <td>...</td>\n",
       "      <td>...</td>\n",
       "    </tr>\n",
       "    <tr>\n",
       "      <th>2312553</th>\n",
       "      <td>Merlins Idle Apelsin</td>\n",
       "      <td>com.elitegamesltd.merlinsidle</td>\n",
       "      <td>Simulation</td>\n",
       "      <td>NaN</td>\n",
       "      <td>NaN</td>\n",
       "      <td>10+</td>\n",
       "      <td>10.0</td>\n",
       "      <td>44</td>\n",
       "      <td>True</td>\n",
       "      <td>0.0</td>\n",
       "      <td>...</td>\n",
       "      <td>NaN</td>\n",
       "      <td>efgames.net@gmail.com</td>\n",
       "      <td>NaN</td>\n",
       "      <td>Nov 17, 2019</td>\n",
       "      <td>Everyone</td>\n",
       "      <td>http://theelitegames.net/privacy.html</td>\n",
       "      <td>False</td>\n",
       "      <td>False</td>\n",
       "      <td>False</td>\n",
       "      <td>2021-06-16 12:58:58</td>\n",
       "    </tr>\n",
       "    <tr>\n",
       "      <th>2312712</th>\n",
       "      <td>Joule Mobile App</td>\n",
       "      <td>com.companyname.Joule.Xamarin</td>\n",
       "      <td>Productivity</td>\n",
       "      <td>NaN</td>\n",
       "      <td>NaN</td>\n",
       "      <td>100+</td>\n",
       "      <td>100.0</td>\n",
       "      <td>215</td>\n",
       "      <td>True</td>\n",
       "      <td>0.0</td>\n",
       "      <td>...</td>\n",
       "      <td>NaN</td>\n",
       "      <td>guillermo@joule.ie</td>\n",
       "      <td>NaN</td>\n",
       "      <td>Jan 27, 2020</td>\n",
       "      <td>Everyone</td>\n",
       "      <td>https://www.joule.ie/privacy-policy/</td>\n",
       "      <td>False</td>\n",
       "      <td>False</td>\n",
       "      <td>False</td>\n",
       "      <td>2021-06-16 12:59:06</td>\n",
       "    </tr>\n",
       "    <tr>\n",
       "      <th>2312751</th>\n",
       "      <td>Iris Profissional</td>\n",
       "      <td>com.sys4web.irisprofissional</td>\n",
       "      <td>Health &amp; Fitness</td>\n",
       "      <td>NaN</td>\n",
       "      <td>NaN</td>\n",
       "      <td>50+</td>\n",
       "      <td>50.0</td>\n",
       "      <td>62</td>\n",
       "      <td>True</td>\n",
       "      <td>0.0</td>\n",
       "      <td>...</td>\n",
       "      <td>http://www.sys4web.com</td>\n",
       "      <td>mobile@sys4web.com</td>\n",
       "      <td>NaN</td>\n",
       "      <td>Jul 24, 2019</td>\n",
       "      <td>Everyone</td>\n",
       "      <td>http://benevolentiav2.azurewebsites.net/static...</td>\n",
       "      <td>False</td>\n",
       "      <td>False</td>\n",
       "      <td>False</td>\n",
       "      <td>2021-06-16 12:59:08</td>\n",
       "    </tr>\n",
       "    <tr>\n",
       "      <th>2312764</th>\n",
       "      <td>Wool Sort Puzzle</td>\n",
       "      <td>com.cla.wool.ballsort.puzzle</td>\n",
       "      <td>Puzzle</td>\n",
       "      <td>NaN</td>\n",
       "      <td>NaN</td>\n",
       "      <td>10,000+</td>\n",
       "      <td>10000.0</td>\n",
       "      <td>10681</td>\n",
       "      <td>True</td>\n",
       "      <td>0.0</td>\n",
       "      <td>...</td>\n",
       "      <td>NaN</td>\n",
       "      <td>superclagame@gmail.com</td>\n",
       "      <td>NaN</td>\n",
       "      <td>Mar 17, 2021</td>\n",
       "      <td>Everyone</td>\n",
       "      <td>https://www.dropbox.com/s/4q5wbqlyu4vpery/poli...</td>\n",
       "      <td>True</td>\n",
       "      <td>False</td>\n",
       "      <td>False</td>\n",
       "      <td>2021-06-16 12:59:09</td>\n",
       "    </tr>\n",
       "    <tr>\n",
       "      <th>2312842</th>\n",
       "      <td>Living Goods (Innovation Network)</td>\n",
       "      <td>org.medicmobile.webapp.mobile.livinggoods_inno...</td>\n",
       "      <td>Medical</td>\n",
       "      <td>NaN</td>\n",
       "      <td>NaN</td>\n",
       "      <td>50+</td>\n",
       "      <td>50.0</td>\n",
       "      <td>80</td>\n",
       "      <td>True</td>\n",
       "      <td>0.0</td>\n",
       "      <td>...</td>\n",
       "      <td>http://medicmobile.org</td>\n",
       "      <td>android@medicmobile.org</td>\n",
       "      <td>NaN</td>\n",
       "      <td>Oct 08, 2020</td>\n",
       "      <td>Everyone</td>\n",
       "      <td>NaN</td>\n",
       "      <td>False</td>\n",
       "      <td>False</td>\n",
       "      <td>False</td>\n",
       "      <td>2021-06-16 12:59:13</td>\n",
       "    </tr>\n",
       "  </tbody>\n",
       "</table>\n",
       "<p>22883 rows × 24 columns</p>\n",
       "</div>"
      ],
      "text/plain": [
       "                                  App Name  \\\n",
       "115                               VM-Delay   \n",
       "210                               Promotor   \n",
       "284                             xrsta xatr   \n",
       "501                              GridChats   \n",
       "662                  Restaurant POS(Admin)   \n",
       "...                                    ...   \n",
       "2312553               Merlins Idle Apelsin   \n",
       "2312712                   Joule Mobile App   \n",
       "2312751                  Iris Profissional   \n",
       "2312764                   Wool Sort Puzzle   \n",
       "2312842  Living Goods (Innovation Network)   \n",
       "\n",
       "                                                    App Id          Category  \\\n",
       "115                                       com.irv.vm_delay             Tools   \n",
       "210                              com.touchesbegan.promotor      Productivity   \n",
       "284                                         com.xrsta.xatr     Entertainment   \n",
       "501                              com.thegridnet.conference     Communication   \n",
       "662                                org.wisdomfish.posadmin             Tools   \n",
       "...                                                    ...               ...   \n",
       "2312553                      com.elitegamesltd.merlinsidle        Simulation   \n",
       "2312712                      com.companyname.Joule.Xamarin      Productivity   \n",
       "2312751                       com.sys4web.irisprofissional  Health & Fitness   \n",
       "2312764                       com.cla.wool.ballsort.puzzle            Puzzle   \n",
       "2312842  org.medicmobile.webapp.mobile.livinggoods_inno...           Medical   \n",
       "\n",
       "         Rating  Rating Count Installs  Minimum Installs  Maximum Installs  \\\n",
       "115         NaN           NaN      50+              50.0                71   \n",
       "210         NaN           NaN     100+             100.0               135   \n",
       "284         NaN           NaN      10+              10.0                14   \n",
       "501         NaN           NaN      50+              50.0                92   \n",
       "662         NaN           NaN      10+              10.0                18   \n",
       "...         ...           ...      ...               ...               ...   \n",
       "2312553     NaN           NaN      10+              10.0                44   \n",
       "2312712     NaN           NaN     100+             100.0               215   \n",
       "2312751     NaN           NaN      50+              50.0                62   \n",
       "2312764     NaN           NaN  10,000+           10000.0             10681   \n",
       "2312842     NaN           NaN      50+              50.0                80   \n",
       "\n",
       "         Free  Price  ...            Developer Website  \\\n",
       "115      True    0.0  ...                          NaN   \n",
       "210      True    0.0  ...  http://www.touchesbegan.com   \n",
       "284      True    0.0  ...                          NaN   \n",
       "501      True    0.0  ...         http://gridchats.com   \n",
       "662      True    0.0  ...       http://www.wisfish.com   \n",
       "...       ...    ...  ...                          ...   \n",
       "2312553  True    0.0  ...                          NaN   \n",
       "2312712  True    0.0  ...                          NaN   \n",
       "2312751  True    0.0  ...       http://www.sys4web.com   \n",
       "2312764  True    0.0  ...                          NaN   \n",
       "2312842  True    0.0  ...       http://medicmobile.org   \n",
       "\n",
       "                 Developer Email Released  Last Updated Content Rating  \\\n",
       "115               iv_dx@mail.com      NaN  Oct 23, 2018       Everyone   \n",
       "210        info@touchesbegan.com      NaN  Aug 14, 2017       Everyone   \n",
       "284          fremmepen@gmail.com      NaN  Feb 08, 2020     Mature 17+   \n",
       "501        support@gridchats.com      NaN  Sep 20, 2018       Everyone   \n",
       "662          service@wisfish.com      NaN  Jul 25, 2016       Everyone   \n",
       "...                          ...      ...           ...            ...   \n",
       "2312553    efgames.net@gmail.com      NaN  Nov 17, 2019       Everyone   \n",
       "2312712       guillermo@joule.ie      NaN  Jan 27, 2020       Everyone   \n",
       "2312751       mobile@sys4web.com      NaN  Jul 24, 2019       Everyone   \n",
       "2312764   superclagame@gmail.com      NaN  Mar 17, 2021       Everyone   \n",
       "2312842  android@medicmobile.org      NaN  Oct 08, 2020       Everyone   \n",
       "\n",
       "                                            Privacy Policy Ad Supported  \\\n",
       "115                                                    NaN        False   \n",
       "210                                                    NaN        False   \n",
       "284                                                    NaN        False   \n",
       "501                   https://socialecosystem.com/en/terms        False   \n",
       "662       http://www.wisdomfish.org/welcome/privacy-policy        False   \n",
       "...                                                    ...          ...   \n",
       "2312553              http://theelitegames.net/privacy.html        False   \n",
       "2312712               https://www.joule.ie/privacy-policy/        False   \n",
       "2312751  http://benevolentiav2.azurewebsites.net/static...        False   \n",
       "2312764  https://www.dropbox.com/s/4q5wbqlyu4vpery/poli...         True   \n",
       "2312842                                                NaN        False   \n",
       "\n",
       "        In App Purchases Editors Choice         Scraped Time  \n",
       "115                False          False  2021-06-15 20:19:42  \n",
       "210                False          False  2021-06-15 20:19:48  \n",
       "284                False          False  2021-06-15 20:19:52  \n",
       "501                False          False  2021-06-15 20:20:05  \n",
       "662                False          False  2021-06-15 20:20:14  \n",
       "...                  ...            ...                  ...  \n",
       "2312553            False          False  2021-06-16 12:58:58  \n",
       "2312712            False          False  2021-06-16 12:59:06  \n",
       "2312751            False          False  2021-06-16 12:59:08  \n",
       "2312764            False          False  2021-06-16 12:59:09  \n",
       "2312842            False          False  2021-06-16 12:59:13  \n",
       "\n",
       "[22883 rows x 24 columns]"
      ]
     },
     "execution_count": 12,
     "metadata": {},
     "output_type": "execute_result"
    }
   ],
   "source": [
    "df[df[\"Rating\"].isna()]"
   ]
  },
  {
   "cell_type": "code",
   "execution_count": 13,
   "id": "4f413a5b",
   "metadata": {},
   "outputs": [
    {
     "data": {
      "text/plain": [
       "np.float64(2.2031476086174315)"
      ]
     },
     "execution_count": 13,
     "metadata": {},
     "output_type": "execute_result"
    }
   ],
   "source": [
    "df[\"Rating\"].mean()"
   ]
  },
  {
   "cell_type": "code",
   "execution_count": 14,
   "id": "7223713c",
   "metadata": {},
   "outputs": [
    {
     "data": {
      "text/plain": [
       "np.float64(2.2)"
      ]
     },
     "execution_count": 14,
     "metadata": {},
     "output_type": "execute_result"
    }
   ],
   "source": [
    "round(df[\"Rating\"].mean(), 1)"
   ]
  },
  {
   "cell_type": "code",
   "execution_count": 15,
   "id": "7c3ba3d2",
   "metadata": {},
   "outputs": [
    {
     "data": {
      "application/vnd.microsoft.datawrangler.viewer.v0+json": {
       "columns": [
        {
         "name": "index",
         "rawType": "int64",
         "type": "integer"
        },
        {
         "name": "Rating",
         "rawType": "float64",
         "type": "float"
        }
       ],
       "ref": "0f6dda49-017a-4b9a-a3d9-ad2c910f2710",
       "rows": [
        [
         "110",
         "0.0"
        ],
        [
         "111",
         "4.2"
        ],
        [
         "112",
         "0.0"
        ],
        [
         "113",
         "0.0"
        ],
        [
         "114",
         "4.3"
        ],
        [
         "115",
         "2.2"
        ],
        [
         "116",
         "5.0"
        ],
        [
         "117",
         "4.4"
        ],
        [
         "118",
         "0.0"
        ],
        [
         "119",
         "4.0"
        ],
        [
         "120",
         "3.4"
        ]
       ],
       "shape": {
        "columns": 1,
        "rows": 11
       }
      },
      "text/plain": [
       "110    0.0\n",
       "111    4.2\n",
       "112    0.0\n",
       "113    0.0\n",
       "114    4.3\n",
       "115    2.2\n",
       "116    5.0\n",
       "117    4.4\n",
       "118    0.0\n",
       "119    4.0\n",
       "120    3.4\n",
       "Name: Rating, dtype: float64"
      ]
     },
     "execution_count": 15,
     "metadata": {},
     "output_type": "execute_result"
    }
   ],
   "source": [
    "df[\"Rating\"].fillna(round(df[\"Rating\"].mean(), 1)).loc[110:120]"
   ]
  },
  {
   "cell_type": "code",
   "execution_count": 16,
   "id": "854b64be",
   "metadata": {},
   "outputs": [],
   "source": [
    "df.fillna({\"Rating\" : round(df[\"Rating\"].mean(), 1)}, inplace=True)\n",
    "df.fillna({\"Rating Count\" : int(df[\"Rating Count\"].mean())}, inplace=True)"
   ]
  },
  {
   "cell_type": "code",
   "execution_count": 17,
   "id": "6e954af6",
   "metadata": {},
   "outputs": [
    {
     "data": {
      "application/vnd.microsoft.datawrangler.viewer.v0+json": {
       "columns": [
        {
         "name": "index",
         "rawType": "object",
         "type": "string"
        },
        {
         "name": "0",
         "rawType": "int64",
         "type": "integer"
        }
       ],
       "ref": "c9e87568-3d87-4ad2-bad4-4cfa09862eb7",
       "rows": [
        [
         "App Name",
         "0"
        ],
        [
         "App Id",
         "0"
        ],
        [
         "Category",
         "0"
        ],
        [
         "Rating",
         "0"
        ],
        [
         "Rating Count",
         "0"
        ],
        [
         "Installs",
         "107"
        ],
        [
         "Minimum Installs",
         "107"
        ],
        [
         "Maximum Installs",
         "0"
        ],
        [
         "Free",
         "0"
        ],
        [
         "Price",
         "0"
        ],
        [
         "Currency",
         "135"
        ],
        [
         "Size",
         "196"
        ],
        [
         "Minimum Android",
         "6530"
        ],
        [
         "Developer Id",
         "33"
        ],
        [
         "Developer Website",
         "760831"
        ],
        [
         "Developer Email",
         "31"
        ],
        [
         "Released",
         "71053"
        ],
        [
         "Last Updated",
         "0"
        ],
        [
         "Content Rating",
         "0"
        ],
        [
         "Privacy Policy",
         "420950"
        ],
        [
         "Ad Supported",
         "0"
        ],
        [
         "In App Purchases",
         "0"
        ],
        [
         "Editors Choice",
         "0"
        ],
        [
         "Scraped Time",
         "0"
        ]
       ],
       "shape": {
        "columns": 1,
        "rows": 24
       }
      },
      "text/plain": [
       "App Name                  0\n",
       "App Id                    0\n",
       "Category                  0\n",
       "Rating                    0\n",
       "Rating Count              0\n",
       "Installs                107\n",
       "Minimum Installs        107\n",
       "Maximum Installs          0\n",
       "Free                      0\n",
       "Price                     0\n",
       "Currency                135\n",
       "Size                    196\n",
       "Minimum Android        6530\n",
       "Developer Id             33\n",
       "Developer Website    760831\n",
       "Developer Email          31\n",
       "Released              71053\n",
       "Last Updated              0\n",
       "Content Rating            0\n",
       "Privacy Policy       420950\n",
       "Ad Supported              0\n",
       "In App Purchases          0\n",
       "Editors Choice            0\n",
       "Scraped Time              0\n",
       "dtype: int64"
      ]
     },
     "execution_count": 17,
     "metadata": {},
     "output_type": "execute_result"
    }
   ],
   "source": [
    "df.isna().sum()"
   ]
  },
  {
   "cell_type": "code",
   "execution_count": 18,
   "id": "4ff2ae9d",
   "metadata": {},
   "outputs": [
    {
     "data": {
      "application/vnd.microsoft.datawrangler.viewer.v0+json": {
       "columns": [
        {
         "name": "index",
         "rawType": "int64",
         "type": "integer"
        },
        {
         "name": "Installs",
         "rawType": "object",
         "type": "unknown"
        }
       ],
       "ref": "1db378ac-70cf-4add-b43c-652aa6f16de2",
       "rows": [
        [
         "0",
         "10+"
        ],
        [
         "1",
         "5,000+"
        ],
        [
         "2",
         "50+"
        ],
        [
         "3",
         "10+"
        ],
        [
         "4",
         "100+"
        ],
        [
         "5",
         "50+"
        ],
        [
         "6",
         "1,000+"
        ],
        [
         "7",
         "500+"
        ],
        [
         "8",
         "10+"
        ],
        [
         "9",
         "50,000+"
        ],
        [
         "10",
         "100+"
        ],
        [
         "11",
         "100+"
        ],
        [
         "12",
         "10,000+"
        ],
        [
         "13",
         "100+"
        ],
        [
         "14",
         "10,000+"
        ],
        [
         "15",
         "1,000+"
        ],
        [
         "16",
         "500+"
        ],
        [
         "17",
         "50+"
        ],
        [
         "18",
         "10,000+"
        ],
        [
         "19",
         "1+"
        ],
        [
         "20",
         "100+"
        ],
        [
         "21",
         "10+"
        ],
        [
         "22",
         "10,000+"
        ],
        [
         "23",
         "500,000+"
        ],
        [
         "24",
         "10,000+"
        ],
        [
         "25",
         "100+"
        ],
        [
         "26",
         "1,000+"
        ],
        [
         "27",
         "100+"
        ],
        [
         "28",
         "1,000+"
        ],
        [
         "29",
         "1,000+"
        ],
        [
         "30",
         "100+"
        ],
        [
         "31",
         "10,000+"
        ],
        [
         "32",
         "5,000+"
        ],
        [
         "33",
         "10+"
        ],
        [
         "34",
         "50,000+"
        ],
        [
         "35",
         "10,000+"
        ],
        [
         "36",
         "10,000+"
        ],
        [
         "37",
         "100+"
        ],
        [
         "38",
         "1+"
        ],
        [
         "39",
         "100+"
        ],
        [
         "40",
         "1,000+"
        ],
        [
         "41",
         "1+"
        ],
        [
         "42",
         "500+"
        ],
        [
         "43",
         "1,000+"
        ],
        [
         "44",
         "50,000+"
        ],
        [
         "45",
         "1,000+"
        ],
        [
         "46",
         "10+"
        ],
        [
         "47",
         "100+"
        ],
        [
         "48",
         "1,000+"
        ],
        [
         "49",
         "100,000+"
        ]
       ],
       "shape": {
        "columns": 1,
        "rows": 2312939
       }
      },
      "text/plain": [
       "0               10+\n",
       "1            5,000+\n",
       "2               50+\n",
       "3               10+\n",
       "4              100+\n",
       "             ...   \n",
       "2312939    100,000+\n",
       "2312940        100+\n",
       "2312941        100+\n",
       "2312942      1,000+\n",
       "2312943        100+\n",
       "Name: Installs, Length: 2312939, dtype: object"
      ]
     },
     "execution_count": 18,
     "metadata": {},
     "output_type": "execute_result"
    }
   ],
   "source": [
    "df[\"Installs\"]"
   ]
  },
  {
   "cell_type": "code",
   "execution_count": 19,
   "id": "3bbfa7e9",
   "metadata": {},
   "outputs": [],
   "source": [
    "df[\"Installs\"] = df[\"Installs\"].str.replace(\"+\", \"\")\n",
    "df[\"Installs\"] = df[\"Installs\"].str.replace(\",\", \"\")"
   ]
  },
  {
   "cell_type": "code",
   "execution_count": 20,
   "id": "bee6dbf0",
   "metadata": {},
   "outputs": [
    {
     "data": {
      "application/vnd.microsoft.datawrangler.viewer.v0+json": {
       "columns": [
        {
         "name": "index",
         "rawType": "int64",
         "type": "integer"
        },
        {
         "name": "App Name",
         "rawType": "object",
         "type": "string"
        },
        {
         "name": "App Id",
         "rawType": "object",
         "type": "string"
        },
        {
         "name": "Category",
         "rawType": "object",
         "type": "string"
        },
        {
         "name": "Rating",
         "rawType": "float64",
         "type": "float"
        },
        {
         "name": "Rating Count",
         "rawType": "float64",
         "type": "float"
        },
        {
         "name": "Installs",
         "rawType": "object",
         "type": "string"
        },
        {
         "name": "Minimum Installs",
         "rawType": "float64",
         "type": "float"
        },
        {
         "name": "Maximum Installs",
         "rawType": "int64",
         "type": "integer"
        },
        {
         "name": "Free",
         "rawType": "bool",
         "type": "boolean"
        },
        {
         "name": "Price",
         "rawType": "float64",
         "type": "float"
        },
        {
         "name": "Currency",
         "rawType": "object",
         "type": "string"
        },
        {
         "name": "Size",
         "rawType": "object",
         "type": "string"
        },
        {
         "name": "Minimum Android",
         "rawType": "object",
         "type": "string"
        },
        {
         "name": "Developer Id",
         "rawType": "object",
         "type": "string"
        },
        {
         "name": "Developer Website",
         "rawType": "object",
         "type": "unknown"
        },
        {
         "name": "Developer Email",
         "rawType": "object",
         "type": "string"
        },
        {
         "name": "Released",
         "rawType": "object",
         "type": "string"
        },
        {
         "name": "Last Updated",
         "rawType": "object",
         "type": "string"
        },
        {
         "name": "Content Rating",
         "rawType": "object",
         "type": "string"
        },
        {
         "name": "Privacy Policy",
         "rawType": "object",
         "type": "unknown"
        },
        {
         "name": "Ad Supported",
         "rawType": "bool",
         "type": "boolean"
        },
        {
         "name": "In App Purchases",
         "rawType": "bool",
         "type": "boolean"
        },
        {
         "name": "Editors Choice",
         "rawType": "bool",
         "type": "boolean"
        },
        {
         "name": "Scraped Time",
         "rawType": "object",
         "type": "string"
        }
       ],
       "ref": "d6ac1ee2-b581-45c6-ba8a-6152d2bae696",
       "rows": [
        [
         "0",
         "Gakondo",
         "com.ishakwe.gakondo",
         "Adventure",
         "0.0",
         "0.0",
         "10",
         "10.0",
         "15",
         "True",
         "0.0",
         "USD",
         "10M",
         "7.1 and up",
         "Jean Confident Irénée NIYIZIBYOSE",
         "https://beniyizibyose.tk/#/",
         "jean21101999@gmail.com",
         "Feb 26, 2020",
         "Feb 26, 2020",
         "Everyone",
         "https://beniyizibyose.tk/projects/",
         "False",
         "False",
         "False",
         "2021-06-15 20:19:35"
        ],
        [
         "1",
         "Ampere Battery Info",
         "com.webserveis.batteryinfo",
         "Tools",
         "4.4",
         "64.0",
         "5000",
         "5000.0",
         "7662",
         "True",
         "0.0",
         "USD",
         "2.9M",
         "5.0 and up",
         "Webserveis",
         "https://webserveis.netlify.app/",
         "webserveis@gmail.com",
         "May 21, 2020",
         "May 06, 2021",
         "Everyone",
         "https://dev4phones.wordpress.com/licencia-de-uso/",
         "True",
         "False",
         "False",
         "2021-06-15 20:19:35"
        ],
        [
         "2",
         "Vibook",
         "com.doantiepvien.crm",
         "Productivity",
         "0.0",
         "0.0",
         "50",
         "50.0",
         "58",
         "True",
         "0.0",
         "USD",
         "3.7M",
         "4.0.3 and up",
         "Cabin Crew",
         null,
         "vnacrewit@gmail.com",
         "Aug 9, 2019",
         "Aug 19, 2019",
         "Everyone",
         "https://www.vietnamairlines.com/vn/en/terms-and-conditions/privacy-policy",
         "False",
         "False",
         "False",
         "2021-06-15 20:19:35"
        ],
        [
         "3",
         "Smart City Trichy Public Service Vehicles 17UCS548",
         "cst.stJoseph.ug17ucs548",
         "Communication",
         "5.0",
         "5.0",
         "10",
         "10.0",
         "19",
         "True",
         "0.0",
         "USD",
         "1.8M",
         "4.0.3 and up",
         "Climate Smart Tech2",
         "http://www.climatesmarttech.com/",
         "climatesmarttech2@gmail.com",
         "Sep 10, 2018",
         "Oct 13, 2018",
         "Everyone",
         null,
         "True",
         "False",
         "False",
         "2021-06-15 20:19:35"
        ],
        [
         "4",
         "GROW.me",
         "com.horodyski.grower",
         "Tools",
         "0.0",
         "0.0",
         "100",
         "100.0",
         "478",
         "True",
         "0.0",
         "USD",
         "6.2M",
         "4.1 and up",
         "Rafal Milek-Horodyski",
         "http://www.horodyski.com.pl",
         "rmilekhorodyski@gmail.com",
         "Feb 21, 2020",
         "Nov 12, 2018",
         "Everyone",
         "http://www.horodyski.com.pl",
         "False",
         "False",
         "False",
         "2021-06-15 20:19:35"
        ]
       ],
       "shape": {
        "columns": 24,
        "rows": 5
       }
      },
      "text/html": [
       "<div>\n",
       "<style scoped>\n",
       "    .dataframe tbody tr th:only-of-type {\n",
       "        vertical-align: middle;\n",
       "    }\n",
       "\n",
       "    .dataframe tbody tr th {\n",
       "        vertical-align: top;\n",
       "    }\n",
       "\n",
       "    .dataframe thead th {\n",
       "        text-align: right;\n",
       "    }\n",
       "</style>\n",
       "<table border=\"1\" class=\"dataframe\">\n",
       "  <thead>\n",
       "    <tr style=\"text-align: right;\">\n",
       "      <th></th>\n",
       "      <th>App Name</th>\n",
       "      <th>App Id</th>\n",
       "      <th>Category</th>\n",
       "      <th>Rating</th>\n",
       "      <th>Rating Count</th>\n",
       "      <th>Installs</th>\n",
       "      <th>Minimum Installs</th>\n",
       "      <th>Maximum Installs</th>\n",
       "      <th>Free</th>\n",
       "      <th>Price</th>\n",
       "      <th>...</th>\n",
       "      <th>Developer Website</th>\n",
       "      <th>Developer Email</th>\n",
       "      <th>Released</th>\n",
       "      <th>Last Updated</th>\n",
       "      <th>Content Rating</th>\n",
       "      <th>Privacy Policy</th>\n",
       "      <th>Ad Supported</th>\n",
       "      <th>In App Purchases</th>\n",
       "      <th>Editors Choice</th>\n",
       "      <th>Scraped Time</th>\n",
       "    </tr>\n",
       "  </thead>\n",
       "  <tbody>\n",
       "    <tr>\n",
       "      <th>0</th>\n",
       "      <td>Gakondo</td>\n",
       "      <td>com.ishakwe.gakondo</td>\n",
       "      <td>Adventure</td>\n",
       "      <td>0.0</td>\n",
       "      <td>0.0</td>\n",
       "      <td>10</td>\n",
       "      <td>10.0</td>\n",
       "      <td>15</td>\n",
       "      <td>True</td>\n",
       "      <td>0.0</td>\n",
       "      <td>...</td>\n",
       "      <td>https://beniyizibyose.tk/#/</td>\n",
       "      <td>jean21101999@gmail.com</td>\n",
       "      <td>Feb 26, 2020</td>\n",
       "      <td>Feb 26, 2020</td>\n",
       "      <td>Everyone</td>\n",
       "      <td>https://beniyizibyose.tk/projects/</td>\n",
       "      <td>False</td>\n",
       "      <td>False</td>\n",
       "      <td>False</td>\n",
       "      <td>2021-06-15 20:19:35</td>\n",
       "    </tr>\n",
       "    <tr>\n",
       "      <th>1</th>\n",
       "      <td>Ampere Battery Info</td>\n",
       "      <td>com.webserveis.batteryinfo</td>\n",
       "      <td>Tools</td>\n",
       "      <td>4.4</td>\n",
       "      <td>64.0</td>\n",
       "      <td>5000</td>\n",
       "      <td>5000.0</td>\n",
       "      <td>7662</td>\n",
       "      <td>True</td>\n",
       "      <td>0.0</td>\n",
       "      <td>...</td>\n",
       "      <td>https://webserveis.netlify.app/</td>\n",
       "      <td>webserveis@gmail.com</td>\n",
       "      <td>May 21, 2020</td>\n",
       "      <td>May 06, 2021</td>\n",
       "      <td>Everyone</td>\n",
       "      <td>https://dev4phones.wordpress.com/licencia-de-uso/</td>\n",
       "      <td>True</td>\n",
       "      <td>False</td>\n",
       "      <td>False</td>\n",
       "      <td>2021-06-15 20:19:35</td>\n",
       "    </tr>\n",
       "    <tr>\n",
       "      <th>2</th>\n",
       "      <td>Vibook</td>\n",
       "      <td>com.doantiepvien.crm</td>\n",
       "      <td>Productivity</td>\n",
       "      <td>0.0</td>\n",
       "      <td>0.0</td>\n",
       "      <td>50</td>\n",
       "      <td>50.0</td>\n",
       "      <td>58</td>\n",
       "      <td>True</td>\n",
       "      <td>0.0</td>\n",
       "      <td>...</td>\n",
       "      <td>NaN</td>\n",
       "      <td>vnacrewit@gmail.com</td>\n",
       "      <td>Aug 9, 2019</td>\n",
       "      <td>Aug 19, 2019</td>\n",
       "      <td>Everyone</td>\n",
       "      <td>https://www.vietnamairlines.com/vn/en/terms-an...</td>\n",
       "      <td>False</td>\n",
       "      <td>False</td>\n",
       "      <td>False</td>\n",
       "      <td>2021-06-15 20:19:35</td>\n",
       "    </tr>\n",
       "    <tr>\n",
       "      <th>3</th>\n",
       "      <td>Smart City Trichy Public Service Vehicles 17UC...</td>\n",
       "      <td>cst.stJoseph.ug17ucs548</td>\n",
       "      <td>Communication</td>\n",
       "      <td>5.0</td>\n",
       "      <td>5.0</td>\n",
       "      <td>10</td>\n",
       "      <td>10.0</td>\n",
       "      <td>19</td>\n",
       "      <td>True</td>\n",
       "      <td>0.0</td>\n",
       "      <td>...</td>\n",
       "      <td>http://www.climatesmarttech.com/</td>\n",
       "      <td>climatesmarttech2@gmail.com</td>\n",
       "      <td>Sep 10, 2018</td>\n",
       "      <td>Oct 13, 2018</td>\n",
       "      <td>Everyone</td>\n",
       "      <td>NaN</td>\n",
       "      <td>True</td>\n",
       "      <td>False</td>\n",
       "      <td>False</td>\n",
       "      <td>2021-06-15 20:19:35</td>\n",
       "    </tr>\n",
       "    <tr>\n",
       "      <th>4</th>\n",
       "      <td>GROW.me</td>\n",
       "      <td>com.horodyski.grower</td>\n",
       "      <td>Tools</td>\n",
       "      <td>0.0</td>\n",
       "      <td>0.0</td>\n",
       "      <td>100</td>\n",
       "      <td>100.0</td>\n",
       "      <td>478</td>\n",
       "      <td>True</td>\n",
       "      <td>0.0</td>\n",
       "      <td>...</td>\n",
       "      <td>http://www.horodyski.com.pl</td>\n",
       "      <td>rmilekhorodyski@gmail.com</td>\n",
       "      <td>Feb 21, 2020</td>\n",
       "      <td>Nov 12, 2018</td>\n",
       "      <td>Everyone</td>\n",
       "      <td>http://www.horodyski.com.pl</td>\n",
       "      <td>False</td>\n",
       "      <td>False</td>\n",
       "      <td>False</td>\n",
       "      <td>2021-06-15 20:19:35</td>\n",
       "    </tr>\n",
       "  </tbody>\n",
       "</table>\n",
       "<p>5 rows × 24 columns</p>\n",
       "</div>"
      ],
      "text/plain": [
       "                                            App Name  \\\n",
       "0                                            Gakondo   \n",
       "1                                Ampere Battery Info   \n",
       "2                                             Vibook   \n",
       "3  Smart City Trichy Public Service Vehicles 17UC...   \n",
       "4                                            GROW.me   \n",
       "\n",
       "                       App Id       Category  Rating  Rating Count Installs  \\\n",
       "0         com.ishakwe.gakondo      Adventure     0.0           0.0       10   \n",
       "1  com.webserveis.batteryinfo          Tools     4.4          64.0     5000   \n",
       "2        com.doantiepvien.crm   Productivity     0.0           0.0       50   \n",
       "3     cst.stJoseph.ug17ucs548  Communication     5.0           5.0       10   \n",
       "4        com.horodyski.grower          Tools     0.0           0.0      100   \n",
       "\n",
       "   Minimum Installs  Maximum Installs  Free  Price  ...  \\\n",
       "0              10.0                15  True    0.0  ...   \n",
       "1            5000.0              7662  True    0.0  ...   \n",
       "2              50.0                58  True    0.0  ...   \n",
       "3              10.0                19  True    0.0  ...   \n",
       "4             100.0               478  True    0.0  ...   \n",
       "\n",
       "                  Developer Website              Developer Email  \\\n",
       "0       https://beniyizibyose.tk/#/       jean21101999@gmail.com   \n",
       "1   https://webserveis.netlify.app/         webserveis@gmail.com   \n",
       "2                               NaN          vnacrewit@gmail.com   \n",
       "3  http://www.climatesmarttech.com/  climatesmarttech2@gmail.com   \n",
       "4       http://www.horodyski.com.pl    rmilekhorodyski@gmail.com   \n",
       "\n",
       "       Released  Last Updated Content Rating  \\\n",
       "0  Feb 26, 2020  Feb 26, 2020       Everyone   \n",
       "1  May 21, 2020  May 06, 2021       Everyone   \n",
       "2   Aug 9, 2019  Aug 19, 2019       Everyone   \n",
       "3  Sep 10, 2018  Oct 13, 2018       Everyone   \n",
       "4  Feb 21, 2020  Nov 12, 2018       Everyone   \n",
       "\n",
       "                                      Privacy Policy Ad Supported  \\\n",
       "0                 https://beniyizibyose.tk/projects/        False   \n",
       "1  https://dev4phones.wordpress.com/licencia-de-uso/         True   \n",
       "2  https://www.vietnamairlines.com/vn/en/terms-an...        False   \n",
       "3                                                NaN         True   \n",
       "4                        http://www.horodyski.com.pl        False   \n",
       "\n",
       "  In App Purchases Editors Choice         Scraped Time  \n",
       "0            False          False  2021-06-15 20:19:35  \n",
       "1            False          False  2021-06-15 20:19:35  \n",
       "2            False          False  2021-06-15 20:19:35  \n",
       "3            False          False  2021-06-15 20:19:35  \n",
       "4            False          False  2021-06-15 20:19:35  \n",
       "\n",
       "[5 rows x 24 columns]"
      ]
     },
     "execution_count": 20,
     "metadata": {},
     "output_type": "execute_result"
    }
   ],
   "source": [
    "df.head()"
   ]
  },
  {
   "cell_type": "code",
   "execution_count": 21,
   "id": "2ccf4943",
   "metadata": {},
   "outputs": [
    {
     "data": {
      "text/plain": [
       "Index(['App Name', 'App Id', 'Category', 'Rating', 'Rating Count', 'Installs',\n",
       "       'Minimum Installs', 'Maximum Installs', 'Free', 'Price', 'Currency',\n",
       "       'Size', 'Minimum Android', 'Developer Id', 'Developer Website',\n",
       "       'Developer Email', 'Released', 'Last Updated', 'Content Rating',\n",
       "       'Privacy Policy', 'Ad Supported', 'In App Purchases', 'Editors Choice',\n",
       "       'Scraped Time'],\n",
       "      dtype='object')"
      ]
     },
     "execution_count": 21,
     "metadata": {},
     "output_type": "execute_result"
    }
   ],
   "source": [
    "df.columns"
   ]
  },
  {
   "cell_type": "code",
   "execution_count": 22,
   "id": "e7ba6d6d",
   "metadata": {},
   "outputs": [
    {
     "data": {
      "text/plain": [
       "array(['M', 'k', 'e', nan, 'G'], dtype=object)"
      ]
     },
     "execution_count": 22,
     "metadata": {},
     "output_type": "execute_result"
    }
   ],
   "source": [
    "df[\"Size\"].str[-1].unique()"
   ]
  },
  {
   "cell_type": "code",
   "execution_count": 23,
   "id": "f2eb9f09",
   "metadata": {},
   "outputs": [
    {
     "data": {
      "application/vnd.microsoft.datawrangler.viewer.v0+json": {
       "columns": [
        {
         "name": "index",
         "rawType": "int64",
         "type": "integer"
        },
        {
         "name": "Size",
         "rawType": "object",
         "type": "string"
        }
       ],
       "ref": "fb94bbdd-51e2-4639-bbc6-d0828c4a9a12",
       "rows": [
        [
         "81",
         "127k"
        ],
        [
         "244",
         "531k"
        ],
        [
         "289",
         "343k"
        ],
        [
         "313",
         "1,018k"
        ],
        [
         "417",
         "886k"
        ],
        [
         "481",
         "188k"
        ],
        [
         "730",
         "200k"
        ],
        [
         "755",
         "92k"
        ],
        [
         "772",
         "966k"
        ],
        [
         "777",
         "844k"
        ],
        [
         "792",
         "963k"
        ],
        [
         "858",
         "274k"
        ],
        [
         "925",
         "240k"
        ],
        [
         "1019",
         "212k"
        ],
        [
         "1036",
         "101k"
        ],
        [
         "1252",
         "194k"
        ],
        [
         "1339",
         "506k"
        ],
        [
         "1467",
         "138k"
        ],
        [
         "1532",
         "659k"
        ],
        [
         "1534",
         "880k"
        ],
        [
         "1626",
         "230k"
        ],
        [
         "1711",
         "989k"
        ],
        [
         "1756",
         "453k"
        ],
        [
         "1895",
         "28k"
        ],
        [
         "1896",
         "562k"
        ],
        [
         "1957",
         "745k"
        ],
        [
         "2025",
         "357k"
        ],
        [
         "2065",
         "600k"
        ],
        [
         "2163",
         "22k"
        ],
        [
         "2224",
         "453k"
        ],
        [
         "2266",
         "33k"
        ],
        [
         "2353",
         "359k"
        ],
        [
         "2413",
         "298k"
        ],
        [
         "2418",
         "351k"
        ],
        [
         "2426",
         "1,007k"
        ],
        [
         "2429",
         "145k"
        ],
        [
         "2443",
         "936k"
        ],
        [
         "2469",
         "25k"
        ],
        [
         "2470",
         "986k"
        ],
        [
         "2613",
         "512k"
        ],
        [
         "2665",
         "842k"
        ],
        [
         "2667",
         "962k"
        ],
        [
         "2687",
         "497k"
        ],
        [
         "2697",
         "321k"
        ],
        [
         "2744",
         "565k"
        ],
        [
         "2758",
         "946k"
        ],
        [
         "2854",
         "222k"
        ],
        [
         "2884",
         "138k"
        ],
        [
         "3005",
         "998k"
        ],
        [
         "3021",
         "82k"
        ]
       ],
       "shape": {
        "columns": 1,
        "rows": 36252
       }
      },
      "text/plain": [
       "81           127k\n",
       "244          531k\n",
       "289          343k\n",
       "313        1,018k\n",
       "417          886k\n",
       "            ...  \n",
       "2312620       28k\n",
       "2312658      419k\n",
       "2312695      634k\n",
       "2312924      925k\n",
       "2312927      994k\n",
       "Name: Size, Length: 36252, dtype: object"
      ]
     },
     "execution_count": 23,
     "metadata": {},
     "output_type": "execute_result"
    }
   ],
   "source": [
    "df[\"Size\"][df[\"Size\"].str[-1] == \"k\"]"
   ]
  },
  {
   "cell_type": "code",
   "execution_count": 24,
   "id": "8767c7ff",
   "metadata": {},
   "outputs": [
    {
     "data": {
      "application/vnd.microsoft.datawrangler.viewer.v0+json": {
       "columns": [
        {
         "name": "index",
         "rawType": "int64",
         "type": "integer"
        },
        {
         "name": "Size",
         "rawType": "object",
         "type": "string"
        }
       ],
       "ref": "51bac4bd-509b-4fae-8ae8-2c245a3b735c",
       "rows": [
        [
         "93175",
         "1.5G"
        ],
        [
         "293625",
         "1.1G"
        ],
        [
         "479954",
         "1.0G"
        ],
        [
         "513216",
         "1.1G"
        ],
        [
         "529736",
         "1.5G"
        ],
        [
         "679447",
         "1.1G"
        ],
        [
         "950479",
         "1.1G"
        ],
        [
         "964066",
         "1.1G"
        ],
        [
         "1059080",
         "1.1G"
        ],
        [
         "1650399",
         "1.1G"
        ],
        [
         "2074779",
         "1.0G"
        ],
        [
         "2123758",
         "1.1G"
        ],
        [
         "2300318",
         "1.0G"
        ]
       ],
       "shape": {
        "columns": 1,
        "rows": 13
       }
      },
      "text/plain": [
       "93175      1.5G\n",
       "293625     1.1G\n",
       "479954     1.0G\n",
       "513216     1.1G\n",
       "529736     1.5G\n",
       "679447     1.1G\n",
       "950479     1.1G\n",
       "964066     1.1G\n",
       "1059080    1.1G\n",
       "1650399    1.1G\n",
       "2074779    1.0G\n",
       "2123758    1.1G\n",
       "2300318    1.0G\n",
       "Name: Size, dtype: object"
      ]
     },
     "execution_count": 24,
     "metadata": {},
     "output_type": "execute_result"
    }
   ],
   "source": [
    "df[df[\"Size\"].str[-1] == \"G\"][\"Size\"]"
   ]
  },
  {
   "cell_type": "code",
   "execution_count": 25,
   "id": "a5e62ff4",
   "metadata": {},
   "outputs": [
    {
     "data": {
      "application/vnd.microsoft.datawrangler.viewer.v0+json": {
       "columns": [
        {
         "name": "index",
         "rawType": "int64",
         "type": "integer"
        },
        {
         "name": "Size",
         "rawType": "object",
         "type": "string"
        }
       ],
       "ref": "d55e7e47-41b9-4175-ab0a-c13408a47bbe",
       "rows": [
        [
         "115",
         "Varies with device"
        ],
        [
         "137",
         "Varies with device"
        ],
        [
         "140",
         "Varies with device"
        ],
        [
         "154",
         "Varies with device"
        ],
        [
         "180",
         "Varies with device"
        ],
        [
         "182",
         "Varies with device"
        ],
        [
         "183",
         "Varies with device"
        ],
        [
         "203",
         "Varies with device"
        ],
        [
         "210",
         "Varies with device"
        ],
        [
         "284",
         "Varies with device"
        ],
        [
         "286",
         "Varies with device"
        ],
        [
         "311",
         "Varies with device"
        ],
        [
         "363",
         "Varies with device"
        ],
        [
         "382",
         "Varies with device"
        ],
        [
         "441",
         "Varies with device"
        ],
        [
         "464",
         "Varies with device"
        ],
        [
         "491",
         "Varies with device"
        ],
        [
         "501",
         "Varies with device"
        ],
        [
         "547",
         "Varies with device"
        ],
        [
         "628",
         "Varies with device"
        ],
        [
         "649",
         "Varies with device"
        ],
        [
         "662",
         "Varies with device"
        ],
        [
         "709",
         "Varies with device"
        ],
        [
         "750",
         "Varies with device"
        ],
        [
         "788",
         "Varies with device"
        ],
        [
         "789",
         "Varies with device"
        ],
        [
         "852",
         "Varies with device"
        ],
        [
         "883",
         "Varies with device"
        ],
        [
         "897",
         "Varies with device"
        ],
        [
         "931",
         "Varies with device"
        ],
        [
         "936",
         "Varies with device"
        ],
        [
         "996",
         "Varies with device"
        ],
        [
         "1047",
         "Varies with device"
        ],
        [
         "1111",
         "Varies with device"
        ],
        [
         "1139",
         "Varies with device"
        ],
        [
         "1183",
         "Varies with device"
        ],
        [
         "1206",
         "Varies with device"
        ],
        [
         "1223",
         "Varies with device"
        ],
        [
         "1268",
         "Varies with device"
        ],
        [
         "1288",
         "Varies with device"
        ],
        [
         "1329",
         "Varies with device"
        ],
        [
         "1374",
         "Varies with device"
        ],
        [
         "1423",
         "Varies with device"
        ],
        [
         "1443",
         "Varies with device"
        ],
        [
         "1449",
         "Varies with device"
        ],
        [
         "1528",
         "Varies with device"
        ],
        [
         "1587",
         "Varies with device"
        ],
        [
         "1620",
         "Varies with device"
        ],
        [
         "1669",
         "Varies with device"
        ],
        [
         "1673",
         "Varies with device"
        ]
       ],
       "shape": {
        "columns": 1,
        "rows": 74777
       }
      },
      "text/plain": [
       "115        Varies with device\n",
       "137        Varies with device\n",
       "140        Varies with device\n",
       "154        Varies with device\n",
       "180        Varies with device\n",
       "                  ...        \n",
       "2312738    Varies with device\n",
       "2312745    Varies with device\n",
       "2312751    Varies with device\n",
       "2312755    Varies with device\n",
       "2312842    Varies with device\n",
       "Name: Size, Length: 74777, dtype: object"
      ]
     },
     "execution_count": 25,
     "metadata": {},
     "output_type": "execute_result"
    }
   ],
   "source": [
    "df[df[\"Size\"].str[-1] == \"e\"][\"Size\"]"
   ]
  },
  {
   "cell_type": "code",
   "execution_count": 26,
   "id": "98dc03bd",
   "metadata": {},
   "outputs": [],
   "source": [
    "df[\"Size\"] = df[\"Size\"].str.replace(\",\", \"\")"
   ]
  },
  {
   "cell_type": "code",
   "execution_count": 27,
   "id": "0da15fad",
   "metadata": {},
   "outputs": [
    {
     "data": {
      "application/vnd.microsoft.datawrangler.viewer.v0+json": {
       "columns": [
        {
         "name": "index",
         "rawType": "int64",
         "type": "integer"
        },
        {
         "name": "Size",
         "rawType": "object",
         "type": "string"
        }
       ],
       "ref": "e887924e-605b-4430-8ed7-56bc537b8de8",
       "rows": [
        [
         "93175",
         "1.5"
        ],
        [
         "293625",
         "1.1"
        ],
        [
         "479954",
         "1.0"
        ],
        [
         "513216",
         "1.1"
        ],
        [
         "529736",
         "1.5"
        ],
        [
         "679447",
         "1.1"
        ],
        [
         "950479",
         "1.1"
        ],
        [
         "964066",
         "1.1"
        ],
        [
         "1059080",
         "1.1"
        ],
        [
         "1650399",
         "1.1"
        ],
        [
         "2074779",
         "1.0"
        ],
        [
         "2123758",
         "1.1"
        ],
        [
         "2300318",
         "1.0"
        ]
       ],
       "shape": {
        "columns": 1,
        "rows": 13
       }
      },
      "text/plain": [
       "93175      1.5\n",
       "293625     1.1\n",
       "479954     1.0\n",
       "513216     1.1\n",
       "529736     1.5\n",
       "679447     1.1\n",
       "950479     1.1\n",
       "964066     1.1\n",
       "1059080    1.1\n",
       "1650399    1.1\n",
       "2074779    1.0\n",
       "2123758    1.1\n",
       "2300318    1.0\n",
       "Name: Size, dtype: object"
      ]
     },
     "execution_count": 27,
     "metadata": {},
     "output_type": "execute_result"
    }
   ],
   "source": [
    "df1 = df[df[\"Size\"].str[-1] == \"G\"][\"Size\"].str[:-1]\n",
    "\n",
    "df1"
   ]
  },
  {
   "cell_type": "code",
   "execution_count": 28,
   "id": "1980ab1b",
   "metadata": {},
   "outputs": [
    {
     "data": {
      "application/vnd.microsoft.datawrangler.viewer.v0+json": {
       "columns": [
        {
         "name": "index",
         "rawType": "int64",
         "type": "integer"
        },
        {
         "name": "Size",
         "rawType": "float64",
         "type": "float"
        }
       ],
       "ref": "f399ef40-0125-423f-8e0f-634a2eb8e883",
       "rows": [
        [
         "93175",
         "1536.0"
        ],
        [
         "293625",
         "1126.4"
        ],
        [
         "479954",
         "1024.0"
        ],
        [
         "513216",
         "1126.4"
        ],
        [
         "529736",
         "1536.0"
        ],
        [
         "679447",
         "1126.4"
        ],
        [
         "950479",
         "1126.4"
        ],
        [
         "964066",
         "1126.4"
        ],
        [
         "1059080",
         "1126.4"
        ],
        [
         "1650399",
         "1126.4"
        ],
        [
         "2074779",
         "1024.0"
        ],
        [
         "2123758",
         "1126.4"
        ],
        [
         "2300318",
         "1024.0"
        ]
       ],
       "shape": {
        "columns": 1,
        "rows": 13
       }
      },
      "text/plain": [
       "93175      1536.0\n",
       "293625     1126.4\n",
       "479954     1024.0\n",
       "513216     1126.4\n",
       "529736     1536.0\n",
       "679447     1126.4\n",
       "950479     1126.4\n",
       "964066     1126.4\n",
       "1059080    1126.4\n",
       "1650399    1126.4\n",
       "2074779    1024.0\n",
       "2123758    1126.4\n",
       "2300318    1024.0\n",
       "Name: Size, dtype: float64"
      ]
     },
     "execution_count": 28,
     "metadata": {},
     "output_type": "execute_result"
    }
   ],
   "source": [
    "df1 = df1.astype(float) * 1024\n",
    "\n",
    "df1"
   ]
  },
  {
   "cell_type": "code",
   "execution_count": 29,
   "id": "da59cf38",
   "metadata": {},
   "outputs": [
    {
     "data": {
      "text/plain": [
       "'1.5G'"
      ]
     },
     "execution_count": 29,
     "metadata": {},
     "output_type": "execute_result"
    }
   ],
   "source": [
    "df.loc[93175, \"Size\"]"
   ]
  },
  {
   "cell_type": "code",
   "execution_count": 30,
   "id": "61b1ff1e",
   "metadata": {},
   "outputs": [],
   "source": [
    "df.loc[df1.index, \"Size\"] = df1"
   ]
  },
  {
   "cell_type": "code",
   "execution_count": 31,
   "id": "8dbd8017",
   "metadata": {},
   "outputs": [],
   "source": [
    "# df.loc[df[df[\"Size\"].str[-1] == \"G\"][\"Size\"].index, \"Size\"] = df[df[\"Size\"].str[-1] == \"G\"][\"Size\"].str[:-1].astype(float) * 1024"
   ]
  },
  {
   "cell_type": "code",
   "execution_count": 32,
   "id": "134a824c",
   "metadata": {},
   "outputs": [
    {
     "data": {
      "text/plain": [
       "1536.0"
      ]
     },
     "execution_count": 32,
     "metadata": {},
     "output_type": "execute_result"
    }
   ],
   "source": [
    "df.loc[93175, \"Size\"]"
   ]
  },
  {
   "cell_type": "code",
   "execution_count": 33,
   "id": "b774b8c3",
   "metadata": {},
   "outputs": [
    {
     "data": {
      "application/vnd.microsoft.datawrangler.viewer.v0+json": {
       "columns": [
        {
         "name": "index",
         "rawType": "int64",
         "type": "integer"
        },
        {
         "name": "Size",
         "rawType": "float64",
         "type": "float"
        }
       ],
       "ref": "e988a004-a234-40ad-a1a8-e4df5d867d0c",
       "rows": [
        [
         "81",
         "0.1240234375"
        ],
        [
         "244",
         "0.5185546875"
        ],
        [
         "289",
         "0.3349609375"
        ],
        [
         "313",
         "0.994140625"
        ],
        [
         "417",
         "0.865234375"
        ],
        [
         "481",
         "0.18359375"
        ],
        [
         "730",
         "0.1953125"
        ],
        [
         "755",
         "0.08984375"
        ],
        [
         "772",
         "0.943359375"
        ],
        [
         "777",
         "0.82421875"
        ],
        [
         "792",
         "0.9404296875"
        ],
        [
         "858",
         "0.267578125"
        ],
        [
         "925",
         "0.234375"
        ],
        [
         "1019",
         "0.20703125"
        ],
        [
         "1036",
         "0.0986328125"
        ],
        [
         "1252",
         "0.189453125"
        ],
        [
         "1339",
         "0.494140625"
        ],
        [
         "1467",
         "0.134765625"
        ],
        [
         "1532",
         "0.6435546875"
        ],
        [
         "1534",
         "0.859375"
        ],
        [
         "1626",
         "0.224609375"
        ],
        [
         "1711",
         "0.9658203125"
        ],
        [
         "1756",
         "0.4423828125"
        ],
        [
         "1895",
         "0.02734375"
        ],
        [
         "1896",
         "0.548828125"
        ],
        [
         "1957",
         "0.7275390625"
        ],
        [
         "2025",
         "0.3486328125"
        ],
        [
         "2065",
         "0.5859375"
        ],
        [
         "2163",
         "0.021484375"
        ],
        [
         "2224",
         "0.4423828125"
        ],
        [
         "2266",
         "0.0322265625"
        ],
        [
         "2353",
         "0.3505859375"
        ],
        [
         "2413",
         "0.291015625"
        ],
        [
         "2418",
         "0.3427734375"
        ],
        [
         "2426",
         "0.9833984375"
        ],
        [
         "2429",
         "0.1416015625"
        ],
        [
         "2443",
         "0.9140625"
        ],
        [
         "2469",
         "0.0244140625"
        ],
        [
         "2470",
         "0.962890625"
        ],
        [
         "2613",
         "0.5"
        ],
        [
         "2665",
         "0.822265625"
        ],
        [
         "2667",
         "0.939453125"
        ],
        [
         "2687",
         "0.4853515625"
        ],
        [
         "2697",
         "0.3134765625"
        ],
        [
         "2744",
         "0.5517578125"
        ],
        [
         "2758",
         "0.923828125"
        ],
        [
         "2854",
         "0.216796875"
        ],
        [
         "2884",
         "0.134765625"
        ],
        [
         "3005",
         "0.974609375"
        ],
        [
         "3021",
         "0.080078125"
        ]
       ],
       "shape": {
        "columns": 1,
        "rows": 36252
       }
      },
      "text/plain": [
       "81         0.124023\n",
       "244        0.518555\n",
       "289        0.334961\n",
       "313        0.994141\n",
       "417        0.865234\n",
       "             ...   \n",
       "2312620    0.027344\n",
       "2312658    0.409180\n",
       "2312695    0.619141\n",
       "2312924    0.903320\n",
       "2312927    0.970703\n",
       "Name: Size, Length: 36252, dtype: float64"
      ]
     },
     "execution_count": 33,
     "metadata": {},
     "output_type": "execute_result"
    }
   ],
   "source": [
    "df2 = df[df[\"Size\"].str[-1] == \"k\"][\"Size\"].str[:-1].astype(float)/1024\n",
    "\n",
    "df2"
   ]
  },
  {
   "cell_type": "code",
   "execution_count": 34,
   "id": "acf58d61",
   "metadata": {},
   "outputs": [
    {
     "data": {
      "text/plain": [
       "'127k'"
      ]
     },
     "execution_count": 34,
     "metadata": {},
     "output_type": "execute_result"
    }
   ],
   "source": [
    "df.loc[81, \"Size\"]"
   ]
  },
  {
   "cell_type": "code",
   "execution_count": 35,
   "id": "21046176",
   "metadata": {},
   "outputs": [],
   "source": [
    "df.loc[df2.index, \"Size\"] = df2"
   ]
  },
  {
   "cell_type": "code",
   "execution_count": 36,
   "id": "994760a7",
   "metadata": {},
   "outputs": [
    {
     "data": {
      "text/plain": [
       "0.1240234375"
      ]
     },
     "execution_count": 36,
     "metadata": {},
     "output_type": "execute_result"
    }
   ],
   "source": [
    "df.loc[81, \"Size\"]"
   ]
  },
  {
   "cell_type": "code",
   "execution_count": 37,
   "id": "d41cc6bd",
   "metadata": {},
   "outputs": [
    {
     "data": {
      "application/vnd.microsoft.datawrangler.viewer.v0+json": {
       "columns": [
        {
         "name": "index",
         "rawType": "int64",
         "type": "integer"
        },
        {
         "name": "App Name",
         "rawType": "object",
         "type": "string"
        },
        {
         "name": "App Id",
         "rawType": "object",
         "type": "string"
        },
        {
         "name": "Category",
         "rawType": "object",
         "type": "string"
        },
        {
         "name": "Rating",
         "rawType": "float64",
         "type": "float"
        },
        {
         "name": "Rating Count",
         "rawType": "float64",
         "type": "float"
        },
        {
         "name": "Installs",
         "rawType": "object",
         "type": "string"
        },
        {
         "name": "Minimum Installs",
         "rawType": "float64",
         "type": "float"
        },
        {
         "name": "Maximum Installs",
         "rawType": "int64",
         "type": "integer"
        },
        {
         "name": "Free",
         "rawType": "bool",
         "type": "boolean"
        },
        {
         "name": "Price",
         "rawType": "float64",
         "type": "float"
        },
        {
         "name": "Currency",
         "rawType": "object",
         "type": "string"
        },
        {
         "name": "Size",
         "rawType": "object",
         "type": "unknown"
        },
        {
         "name": "Minimum Android",
         "rawType": "object",
         "type": "unknown"
        },
        {
         "name": "Developer Id",
         "rawType": "object",
         "type": "string"
        },
        {
         "name": "Developer Website",
         "rawType": "object",
         "type": "unknown"
        },
        {
         "name": "Developer Email",
         "rawType": "object",
         "type": "string"
        },
        {
         "name": "Released",
         "rawType": "object",
         "type": "string"
        },
        {
         "name": "Last Updated",
         "rawType": "object",
         "type": "string"
        },
        {
         "name": "Content Rating",
         "rawType": "object",
         "type": "string"
        },
        {
         "name": "Privacy Policy",
         "rawType": "object",
         "type": "unknown"
        },
        {
         "name": "Ad Supported",
         "rawType": "bool",
         "type": "boolean"
        },
        {
         "name": "In App Purchases",
         "rawType": "bool",
         "type": "boolean"
        },
        {
         "name": "Editors Choice",
         "rawType": "bool",
         "type": "boolean"
        },
        {
         "name": "Scraped Time",
         "rawType": "object",
         "type": "string"
        }
       ],
       "ref": "44915ff3-5017-42a0-894f-14db8da99b21",
       "rows": [
        [
         "80",
         "Köln Zeitungen",
         "com.koeln.zeitungen",
         "News & Magazines",
         "0.0",
         "0.0",
         "10",
         "10.0",
         "32",
         "True",
         "0.0",
         "USD",
         "15M",
         "4.2 and up",
         "Alles Web.eu",
         "https://www.allesweb.eu/",
         "info@allesweb.eu",
         "Jun 1, 2018",
         "Oct 09, 2018",
         "Everyone",
         "https://www.allesweb.eu/erklaerung-zum-datenschutz.html",
         "True",
         "False",
         "False",
         "2021-06-15 20:19:40"
        ],
        [
         "81",
         "San Vito Lo Capo",
         "svitolocapo.it",
         "Travel & Local",
         "4.9",
         "7.0",
         "1000",
         "1000.0",
         "1391",
         "True",
         "0.0",
         "USD",
         "0.1240234375",
         null,
         "wwwinternet.it",
         "http://wwwinternet.it",
         "wapumts@gmail.com",
         "Apr 30, 2014",
         "Mar 12, 2019",
         "Everyone",
         null,
         "False",
         "False",
         "False",
         "2021-06-15 20:19:40"
        ],
        [
         "82",
         "عون | Awon",
         "com.excprotection.ircmobile",
         "House & Home",
         "2.7",
         "205.0",
         "50000",
         "50000.0",
         "53898",
         "True",
         "0.0",
         "USD",
         "8.4M",
         "4.4 and up",
         "Excellent Protection",
         "https://own.irc.sa/",
         "awon.crm@irc.sa",
         "Jan 7, 2019",
         "Jun 15, 2021",
         "Everyone",
         "http://www.mediafire.com/file/gwwzoywys6b0tqz/IRC_privacy_policy.html/file",
         "False",
         "False",
         "False",
         "2021-06-15 20:19:40"
        ],
        [
         "83",
         "GO SMS PRO CRYSTAL THEME",
         "com.jb.gosms.theme.getjar.fdcrystal",
         "Personalization",
         "4.0",
         "452.0",
         "10000",
         "10000.0",
         "45092",
         "True",
         "0.0",
         "USD",
         "2.7M",
         "1.6 and up",
         "ZT.art",
         null,
         "yuxin.cpp@gmail.com",
         "Jul 13, 2015",
         "Jul 13, 2015",
         "Everyone",
         "http://d2prafqgniatg5.cloudfront.net/soft/file/term/1122/gosmstheme-privacy.html",
         "False",
         "False",
         "False",
         "2021-06-15 20:19:40"
        ],
        [
         "84",
         "Daily Mindfulness - Calm, Sleep, Relax, Meditation",
         "com.devmobisoft.dailymindfulnessapp",
         "Health & Fitness",
         "0.0",
         "0.0",
         "1000",
         "1000.0",
         "1157",
         "True",
         "0.0",
         "USD",
         "41M",
         "5.1 and up",
         "PartyGames",
         null,
         "devmobi85730@gmail.com",
         "Apr 22, 2019",
         "Apr 23, 2019",
         "Teen",
         "https://firebasestorage.googleapis.com/v0/b/fir-demo-8cdba.appspot.com/o/DEVMOBISOFT_PRIVACY_POLICY.htm?alt=media&token=3b402b2b-f7f4-4e06-8648-09396a4fe228",
         "True",
         "False",
         "False",
         "2021-06-15 20:19:40"
        ],
        [
         "85",
         "ACE Auto Club Europa",
         "air.de.autoclubeuropa.ace",
         "Maps & Navigation",
         "4.5",
         "1592.0",
         "100000",
         "100000.0",
         "214635",
         "True",
         "0.0",
         "USD",
         "11M",
         "5.0 and up",
         "Auto Club Europa e. V.",
         "https://www.ace.de/",
         "digitales-marketing@ace.de",
         "Oct 31, 2014",
         "Jun 02, 2021",
         "Everyone",
         "https://www.ace.de/datenschutz-app",
         "False",
         "False",
         "False",
         "2021-06-15 20:19:40"
        ]
       ],
       "shape": {
        "columns": 24,
        "rows": 6
       }
      },
      "text/html": [
       "<div>\n",
       "<style scoped>\n",
       "    .dataframe tbody tr th:only-of-type {\n",
       "        vertical-align: middle;\n",
       "    }\n",
       "\n",
       "    .dataframe tbody tr th {\n",
       "        vertical-align: top;\n",
       "    }\n",
       "\n",
       "    .dataframe thead th {\n",
       "        text-align: right;\n",
       "    }\n",
       "</style>\n",
       "<table border=\"1\" class=\"dataframe\">\n",
       "  <thead>\n",
       "    <tr style=\"text-align: right;\">\n",
       "      <th></th>\n",
       "      <th>App Name</th>\n",
       "      <th>App Id</th>\n",
       "      <th>Category</th>\n",
       "      <th>Rating</th>\n",
       "      <th>Rating Count</th>\n",
       "      <th>Installs</th>\n",
       "      <th>Minimum Installs</th>\n",
       "      <th>Maximum Installs</th>\n",
       "      <th>Free</th>\n",
       "      <th>Price</th>\n",
       "      <th>...</th>\n",
       "      <th>Developer Website</th>\n",
       "      <th>Developer Email</th>\n",
       "      <th>Released</th>\n",
       "      <th>Last Updated</th>\n",
       "      <th>Content Rating</th>\n",
       "      <th>Privacy Policy</th>\n",
       "      <th>Ad Supported</th>\n",
       "      <th>In App Purchases</th>\n",
       "      <th>Editors Choice</th>\n",
       "      <th>Scraped Time</th>\n",
       "    </tr>\n",
       "  </thead>\n",
       "  <tbody>\n",
       "    <tr>\n",
       "      <th>80</th>\n",
       "      <td>Köln Zeitungen</td>\n",
       "      <td>com.koeln.zeitungen</td>\n",
       "      <td>News &amp; Magazines</td>\n",
       "      <td>0.0</td>\n",
       "      <td>0.0</td>\n",
       "      <td>10</td>\n",
       "      <td>10.0</td>\n",
       "      <td>32</td>\n",
       "      <td>True</td>\n",
       "      <td>0.0</td>\n",
       "      <td>...</td>\n",
       "      <td>https://www.allesweb.eu/</td>\n",
       "      <td>info@allesweb.eu</td>\n",
       "      <td>Jun 1, 2018</td>\n",
       "      <td>Oct 09, 2018</td>\n",
       "      <td>Everyone</td>\n",
       "      <td>https://www.allesweb.eu/erklaerung-zum-datensc...</td>\n",
       "      <td>True</td>\n",
       "      <td>False</td>\n",
       "      <td>False</td>\n",
       "      <td>2021-06-15 20:19:40</td>\n",
       "    </tr>\n",
       "    <tr>\n",
       "      <th>81</th>\n",
       "      <td>San Vito Lo Capo</td>\n",
       "      <td>svitolocapo.it</td>\n",
       "      <td>Travel &amp; Local</td>\n",
       "      <td>4.9</td>\n",
       "      <td>7.0</td>\n",
       "      <td>1000</td>\n",
       "      <td>1000.0</td>\n",
       "      <td>1391</td>\n",
       "      <td>True</td>\n",
       "      <td>0.0</td>\n",
       "      <td>...</td>\n",
       "      <td>http://wwwinternet.it</td>\n",
       "      <td>wapumts@gmail.com</td>\n",
       "      <td>Apr 30, 2014</td>\n",
       "      <td>Mar 12, 2019</td>\n",
       "      <td>Everyone</td>\n",
       "      <td>NaN</td>\n",
       "      <td>False</td>\n",
       "      <td>False</td>\n",
       "      <td>False</td>\n",
       "      <td>2021-06-15 20:19:40</td>\n",
       "    </tr>\n",
       "    <tr>\n",
       "      <th>82</th>\n",
       "      <td>عون | Awon</td>\n",
       "      <td>com.excprotection.ircmobile</td>\n",
       "      <td>House &amp; Home</td>\n",
       "      <td>2.7</td>\n",
       "      <td>205.0</td>\n",
       "      <td>50000</td>\n",
       "      <td>50000.0</td>\n",
       "      <td>53898</td>\n",
       "      <td>True</td>\n",
       "      <td>0.0</td>\n",
       "      <td>...</td>\n",
       "      <td>https://own.irc.sa/</td>\n",
       "      <td>awon.crm@irc.sa</td>\n",
       "      <td>Jan 7, 2019</td>\n",
       "      <td>Jun 15, 2021</td>\n",
       "      <td>Everyone</td>\n",
       "      <td>http://www.mediafire.com/file/gwwzoywys6b0tqz/...</td>\n",
       "      <td>False</td>\n",
       "      <td>False</td>\n",
       "      <td>False</td>\n",
       "      <td>2021-06-15 20:19:40</td>\n",
       "    </tr>\n",
       "    <tr>\n",
       "      <th>83</th>\n",
       "      <td>GO SMS PRO CRYSTAL THEME</td>\n",
       "      <td>com.jb.gosms.theme.getjar.fdcrystal</td>\n",
       "      <td>Personalization</td>\n",
       "      <td>4.0</td>\n",
       "      <td>452.0</td>\n",
       "      <td>10000</td>\n",
       "      <td>10000.0</td>\n",
       "      <td>45092</td>\n",
       "      <td>True</td>\n",
       "      <td>0.0</td>\n",
       "      <td>...</td>\n",
       "      <td>NaN</td>\n",
       "      <td>yuxin.cpp@gmail.com</td>\n",
       "      <td>Jul 13, 2015</td>\n",
       "      <td>Jul 13, 2015</td>\n",
       "      <td>Everyone</td>\n",
       "      <td>http://d2prafqgniatg5.cloudfront.net/soft/file...</td>\n",
       "      <td>False</td>\n",
       "      <td>False</td>\n",
       "      <td>False</td>\n",
       "      <td>2021-06-15 20:19:40</td>\n",
       "    </tr>\n",
       "    <tr>\n",
       "      <th>84</th>\n",
       "      <td>Daily Mindfulness - Calm, Sleep, Relax, Medita...</td>\n",
       "      <td>com.devmobisoft.dailymindfulnessapp</td>\n",
       "      <td>Health &amp; Fitness</td>\n",
       "      <td>0.0</td>\n",
       "      <td>0.0</td>\n",
       "      <td>1000</td>\n",
       "      <td>1000.0</td>\n",
       "      <td>1157</td>\n",
       "      <td>True</td>\n",
       "      <td>0.0</td>\n",
       "      <td>...</td>\n",
       "      <td>NaN</td>\n",
       "      <td>devmobi85730@gmail.com</td>\n",
       "      <td>Apr 22, 2019</td>\n",
       "      <td>Apr 23, 2019</td>\n",
       "      <td>Teen</td>\n",
       "      <td>https://firebasestorage.googleapis.com/v0/b/fi...</td>\n",
       "      <td>True</td>\n",
       "      <td>False</td>\n",
       "      <td>False</td>\n",
       "      <td>2021-06-15 20:19:40</td>\n",
       "    </tr>\n",
       "    <tr>\n",
       "      <th>85</th>\n",
       "      <td>ACE Auto Club Europa</td>\n",
       "      <td>air.de.autoclubeuropa.ace</td>\n",
       "      <td>Maps &amp; Navigation</td>\n",
       "      <td>4.5</td>\n",
       "      <td>1592.0</td>\n",
       "      <td>100000</td>\n",
       "      <td>100000.0</td>\n",
       "      <td>214635</td>\n",
       "      <td>True</td>\n",
       "      <td>0.0</td>\n",
       "      <td>...</td>\n",
       "      <td>https://www.ace.de/</td>\n",
       "      <td>digitales-marketing@ace.de</td>\n",
       "      <td>Oct 31, 2014</td>\n",
       "      <td>Jun 02, 2021</td>\n",
       "      <td>Everyone</td>\n",
       "      <td>https://www.ace.de/datenschutz-app</td>\n",
       "      <td>False</td>\n",
       "      <td>False</td>\n",
       "      <td>False</td>\n",
       "      <td>2021-06-15 20:19:40</td>\n",
       "    </tr>\n",
       "  </tbody>\n",
       "</table>\n",
       "<p>6 rows × 24 columns</p>\n",
       "</div>"
      ],
      "text/plain": [
       "                                             App Name  \\\n",
       "80                                     Köln Zeitungen   \n",
       "81                                   San Vito Lo Capo   \n",
       "82                                         عون | Awon   \n",
       "83                           GO SMS PRO CRYSTAL THEME   \n",
       "84  Daily Mindfulness - Calm, Sleep, Relax, Medita...   \n",
       "85                               ACE Auto Club Europa   \n",
       "\n",
       "                                 App Id           Category  Rating  \\\n",
       "80                  com.koeln.zeitungen   News & Magazines     0.0   \n",
       "81                       svitolocapo.it     Travel & Local     4.9   \n",
       "82          com.excprotection.ircmobile       House & Home     2.7   \n",
       "83  com.jb.gosms.theme.getjar.fdcrystal    Personalization     4.0   \n",
       "84  com.devmobisoft.dailymindfulnessapp   Health & Fitness     0.0   \n",
       "85            air.de.autoclubeuropa.ace  Maps & Navigation     4.5   \n",
       "\n",
       "    Rating Count Installs  Minimum Installs  Maximum Installs  Free  Price  \\\n",
       "80           0.0       10              10.0                32  True    0.0   \n",
       "81           7.0     1000            1000.0              1391  True    0.0   \n",
       "82         205.0    50000           50000.0             53898  True    0.0   \n",
       "83         452.0    10000           10000.0             45092  True    0.0   \n",
       "84           0.0     1000            1000.0              1157  True    0.0   \n",
       "85        1592.0   100000          100000.0            214635  True    0.0   \n",
       "\n",
       "    ...         Developer Website             Developer Email      Released  \\\n",
       "80  ...  https://www.allesweb.eu/            info@allesweb.eu   Jun 1, 2018   \n",
       "81  ...     http://wwwinternet.it           wapumts@gmail.com  Apr 30, 2014   \n",
       "82  ...       https://own.irc.sa/             awon.crm@irc.sa   Jan 7, 2019   \n",
       "83  ...                       NaN         yuxin.cpp@gmail.com  Jul 13, 2015   \n",
       "84  ...                       NaN      devmobi85730@gmail.com  Apr 22, 2019   \n",
       "85  ...       https://www.ace.de/  digitales-marketing@ace.de  Oct 31, 2014   \n",
       "\n",
       "    Last Updated Content Rating  \\\n",
       "80  Oct 09, 2018       Everyone   \n",
       "81  Mar 12, 2019       Everyone   \n",
       "82  Jun 15, 2021       Everyone   \n",
       "83  Jul 13, 2015       Everyone   \n",
       "84  Apr 23, 2019           Teen   \n",
       "85  Jun 02, 2021       Everyone   \n",
       "\n",
       "                                       Privacy Policy Ad Supported  \\\n",
       "80  https://www.allesweb.eu/erklaerung-zum-datensc...         True   \n",
       "81                                                NaN        False   \n",
       "82  http://www.mediafire.com/file/gwwzoywys6b0tqz/...        False   \n",
       "83  http://d2prafqgniatg5.cloudfront.net/soft/file...        False   \n",
       "84  https://firebasestorage.googleapis.com/v0/b/fi...         True   \n",
       "85                 https://www.ace.de/datenschutz-app        False   \n",
       "\n",
       "   In App Purchases Editors Choice         Scraped Time  \n",
       "80            False          False  2021-06-15 20:19:40  \n",
       "81            False          False  2021-06-15 20:19:40  \n",
       "82            False          False  2021-06-15 20:19:40  \n",
       "83            False          False  2021-06-15 20:19:40  \n",
       "84            False          False  2021-06-15 20:19:40  \n",
       "85            False          False  2021-06-15 20:19:40  \n",
       "\n",
       "[6 rows x 24 columns]"
      ]
     },
     "execution_count": 37,
     "metadata": {},
     "output_type": "execute_result"
    }
   ],
   "source": [
    "df.loc[80:85]"
   ]
  },
  {
   "cell_type": "code",
   "execution_count": 38,
   "id": "9a25f771",
   "metadata": {},
   "outputs": [
    {
     "data": {
      "application/vnd.microsoft.datawrangler.viewer.v0+json": {
       "columns": [
        {
         "name": "index",
         "rawType": "int64",
         "type": "integer"
        },
        {
         "name": "Size",
         "rawType": "object",
         "type": "string"
        }
       ],
       "ref": "2a440ff2-d908-4029-8b01-70c724c86a4a",
       "rows": [
        [
         "0",
         "10"
        ],
        [
         "1",
         "2.9"
        ],
        [
         "2",
         "3.7"
        ],
        [
         "3",
         "1.8"
        ],
        [
         "4",
         "6.2"
        ],
        [
         "5",
         "46"
        ],
        [
         "6",
         "2.5"
        ],
        [
         "7",
         "16"
        ],
        [
         "8",
         "1.3"
        ],
        [
         "9",
         "3.5"
        ],
        [
         "10",
         "51"
        ],
        [
         "11",
         "2.7"
        ],
        [
         "12",
         "7.6"
        ],
        [
         "13",
         "15"
        ],
        [
         "14",
         "29"
        ],
        [
         "15",
         "12"
        ],
        [
         "16",
         "2.9"
        ],
        [
         "17",
         "2.0"
        ],
        [
         "18",
         "70"
        ],
        [
         "19",
         "11"
        ],
        [
         "20",
         "24"
        ],
        [
         "21",
         "1.4"
        ],
        [
         "22",
         "16"
        ],
        [
         "23",
         "20"
        ],
        [
         "24",
         "2.4"
        ],
        [
         "25",
         "25"
        ],
        [
         "26",
         "16"
        ],
        [
         "27",
         "21"
        ],
        [
         "28",
         "11"
        ],
        [
         "29",
         "6.2"
        ],
        [
         "30",
         "36"
        ],
        [
         "31",
         "7.6"
        ],
        [
         "32",
         "6.2"
        ],
        [
         "33",
         "6.1"
        ],
        [
         "34",
         "2.6"
        ],
        [
         "35",
         "11"
        ],
        [
         "36",
         "3.7"
        ],
        [
         "37",
         "15"
        ],
        [
         "38",
         "10"
        ],
        [
         "39",
         "8.9"
        ],
        [
         "40",
         "3.9"
        ],
        [
         "41",
         "30"
        ],
        [
         "42",
         "21"
        ],
        [
         "43",
         "26"
        ],
        [
         "44",
         "4.9"
        ],
        [
         "45",
         "4.3"
        ],
        [
         "46",
         "4.8"
        ],
        [
         "47",
         "4.6"
        ],
        [
         "48",
         "2.8"
        ],
        [
         "49",
         "38"
        ]
       ],
       "shape": {
        "columns": 1,
        "rows": 2201701
       }
      },
      "text/plain": [
       "0           10\n",
       "1          2.9\n",
       "2          3.7\n",
       "3          1.8\n",
       "4          6.2\n",
       "          ... \n",
       "2312939     77\n",
       "2312940     44\n",
       "2312941     29\n",
       "2312942     10\n",
       "2312943    5.2\n",
       "Name: Size, Length: 2201701, dtype: object"
      ]
     },
     "execution_count": 38,
     "metadata": {},
     "output_type": "execute_result"
    }
   ],
   "source": [
    "df3 = df[df[\"Size\"].str[-1] == \"M\"][\"Size\"].str.replace(\"M\", \"\")\n",
    "\n",
    "df3"
   ]
  },
  {
   "cell_type": "code",
   "execution_count": 39,
   "id": "2a6ca340",
   "metadata": {},
   "outputs": [],
   "source": [
    "df.loc[df3.index, \"Size\"] = df3"
   ]
  },
  {
   "cell_type": "code",
   "execution_count": 40,
   "id": "81339a38",
   "metadata": {},
   "outputs": [
    {
     "data": {
      "application/vnd.microsoft.datawrangler.viewer.v0+json": {
       "columns": [
        {
         "name": "index",
         "rawType": "int64",
         "type": "integer"
        },
        {
         "name": "Size",
         "rawType": "object",
         "type": "string"
        }
       ],
       "ref": "506cf496-86a7-4c97-8d59-10bfe1a06845",
       "rows": [
        [
         "115",
         "Varies with device"
        ],
        [
         "137",
         "Varies with device"
        ],
        [
         "140",
         "Varies with device"
        ],
        [
         "154",
         "Varies with device"
        ],
        [
         "180",
         "Varies with device"
        ],
        [
         "182",
         "Varies with device"
        ],
        [
         "183",
         "Varies with device"
        ],
        [
         "203",
         "Varies with device"
        ],
        [
         "210",
         "Varies with device"
        ],
        [
         "284",
         "Varies with device"
        ],
        [
         "286",
         "Varies with device"
        ],
        [
         "311",
         "Varies with device"
        ],
        [
         "363",
         "Varies with device"
        ],
        [
         "382",
         "Varies with device"
        ],
        [
         "441",
         "Varies with device"
        ],
        [
         "464",
         "Varies with device"
        ],
        [
         "491",
         "Varies with device"
        ],
        [
         "501",
         "Varies with device"
        ],
        [
         "547",
         "Varies with device"
        ],
        [
         "628",
         "Varies with device"
        ],
        [
         "649",
         "Varies with device"
        ],
        [
         "662",
         "Varies with device"
        ],
        [
         "709",
         "Varies with device"
        ],
        [
         "750",
         "Varies with device"
        ],
        [
         "788",
         "Varies with device"
        ],
        [
         "789",
         "Varies with device"
        ],
        [
         "852",
         "Varies with device"
        ],
        [
         "883",
         "Varies with device"
        ],
        [
         "897",
         "Varies with device"
        ],
        [
         "931",
         "Varies with device"
        ],
        [
         "936",
         "Varies with device"
        ],
        [
         "996",
         "Varies with device"
        ],
        [
         "1047",
         "Varies with device"
        ],
        [
         "1111",
         "Varies with device"
        ],
        [
         "1139",
         "Varies with device"
        ],
        [
         "1183",
         "Varies with device"
        ],
        [
         "1206",
         "Varies with device"
        ],
        [
         "1223",
         "Varies with device"
        ],
        [
         "1268",
         "Varies with device"
        ],
        [
         "1288",
         "Varies with device"
        ],
        [
         "1329",
         "Varies with device"
        ],
        [
         "1374",
         "Varies with device"
        ],
        [
         "1423",
         "Varies with device"
        ],
        [
         "1443",
         "Varies with device"
        ],
        [
         "1449",
         "Varies with device"
        ],
        [
         "1528",
         "Varies with device"
        ],
        [
         "1587",
         "Varies with device"
        ],
        [
         "1620",
         "Varies with device"
        ],
        [
         "1669",
         "Varies with device"
        ],
        [
         "1673",
         "Varies with device"
        ]
       ],
       "shape": {
        "columns": 1,
        "rows": 74777
       }
      },
      "text/plain": [
       "115        Varies with device\n",
       "137        Varies with device\n",
       "140        Varies with device\n",
       "154        Varies with device\n",
       "180        Varies with device\n",
       "                  ...        \n",
       "2312738    Varies with device\n",
       "2312745    Varies with device\n",
       "2312751    Varies with device\n",
       "2312755    Varies with device\n",
       "2312842    Varies with device\n",
       "Name: Size, Length: 74777, dtype: object"
      ]
     },
     "execution_count": 40,
     "metadata": {},
     "output_type": "execute_result"
    }
   ],
   "source": [
    "df[df[\"Size\"] == \"Varies with device\"][\"Size\"]"
   ]
  },
  {
   "cell_type": "code",
   "execution_count": 41,
   "id": "cf6feffa",
   "metadata": {},
   "outputs": [],
   "source": [
    "df[\"Size\"] = df[\"Size\"].replace(\"Varies with device\", np.nan)"
   ]
  },
  {
   "cell_type": "code",
   "execution_count": 42,
   "id": "fb533688",
   "metadata": {},
   "outputs": [
    {
     "data": {
      "application/vnd.microsoft.datawrangler.viewer.v0+json": {
       "columns": [
        {
         "name": "index",
         "rawType": "object",
         "type": "string"
        },
        {
         "name": "0",
         "rawType": "int64",
         "type": "integer"
        }
       ],
       "ref": "e328f1c6-a060-4b3d-96c2-83b41a0db3c6",
       "rows": [
        [
         "App Name",
         "0"
        ],
        [
         "App Id",
         "0"
        ],
        [
         "Category",
         "0"
        ],
        [
         "Rating",
         "0"
        ],
        [
         "Rating Count",
         "0"
        ],
        [
         "Installs",
         "107"
        ],
        [
         "Minimum Installs",
         "107"
        ],
        [
         "Maximum Installs",
         "0"
        ],
        [
         "Free",
         "0"
        ],
        [
         "Price",
         "0"
        ],
        [
         "Currency",
         "135"
        ],
        [
         "Size",
         "74973"
        ],
        [
         "Minimum Android",
         "6530"
        ],
        [
         "Developer Id",
         "33"
        ],
        [
         "Developer Website",
         "760831"
        ],
        [
         "Developer Email",
         "31"
        ],
        [
         "Released",
         "71053"
        ],
        [
         "Last Updated",
         "0"
        ],
        [
         "Content Rating",
         "0"
        ],
        [
         "Privacy Policy",
         "420950"
        ],
        [
         "Ad Supported",
         "0"
        ],
        [
         "In App Purchases",
         "0"
        ],
        [
         "Editors Choice",
         "0"
        ],
        [
         "Scraped Time",
         "0"
        ]
       ],
       "shape": {
        "columns": 1,
        "rows": 24
       }
      },
      "text/plain": [
       "App Name                  0\n",
       "App Id                    0\n",
       "Category                  0\n",
       "Rating                    0\n",
       "Rating Count              0\n",
       "Installs                107\n",
       "Minimum Installs        107\n",
       "Maximum Installs          0\n",
       "Free                      0\n",
       "Price                     0\n",
       "Currency                135\n",
       "Size                  74973\n",
       "Minimum Android        6530\n",
       "Developer Id             33\n",
       "Developer Website    760831\n",
       "Developer Email          31\n",
       "Released              71053\n",
       "Last Updated              0\n",
       "Content Rating            0\n",
       "Privacy Policy       420950\n",
       "Ad Supported              0\n",
       "In App Purchases          0\n",
       "Editors Choice            0\n",
       "Scraped Time              0\n",
       "dtype: int64"
      ]
     },
     "execution_count": 42,
     "metadata": {},
     "output_type": "execute_result"
    }
   ],
   "source": [
    "df.isna().sum()"
   ]
  },
  {
   "cell_type": "code",
   "execution_count": 43,
   "id": "9525884d",
   "metadata": {},
   "outputs": [
    {
     "data": {
      "application/vnd.microsoft.datawrangler.viewer.v0+json": {
       "columns": [
        {
         "name": "index",
         "rawType": "int64",
         "type": "integer"
        },
        {
         "name": "Size",
         "rawType": "float64",
         "type": "float"
        }
       ],
       "ref": "6f3ff277-9634-42b4-9c3c-f55050fe9894",
       "rows": [
        [
         "0",
         "10.0"
        ],
        [
         "1",
         "2.9"
        ],
        [
         "2",
         "3.7"
        ],
        [
         "3",
         "1.8"
        ],
        [
         "4",
         "6.2"
        ],
        [
         "5",
         "46.0"
        ],
        [
         "6",
         "2.5"
        ],
        [
         "7",
         "16.0"
        ],
        [
         "8",
         "1.3"
        ],
        [
         "9",
         "3.5"
        ],
        [
         "10",
         "51.0"
        ],
        [
         "11",
         "2.7"
        ],
        [
         "12",
         "7.6"
        ],
        [
         "13",
         "15.0"
        ],
        [
         "14",
         "29.0"
        ],
        [
         "15",
         "12.0"
        ],
        [
         "16",
         "2.9"
        ],
        [
         "17",
         "2.0"
        ],
        [
         "18",
         "70.0"
        ],
        [
         "19",
         "11.0"
        ],
        [
         "20",
         "24.0"
        ],
        [
         "21",
         "1.4"
        ],
        [
         "22",
         "16.0"
        ],
        [
         "23",
         "20.0"
        ],
        [
         "24",
         "2.4"
        ],
        [
         "25",
         "25.0"
        ],
        [
         "26",
         "16.0"
        ],
        [
         "27",
         "21.0"
        ],
        [
         "28",
         "11.0"
        ],
        [
         "29",
         "6.2"
        ],
        [
         "30",
         "36.0"
        ],
        [
         "31",
         "7.6"
        ],
        [
         "32",
         "6.2"
        ],
        [
         "33",
         "6.1"
        ],
        [
         "34",
         "2.6"
        ],
        [
         "35",
         "11.0"
        ],
        [
         "36",
         "3.7"
        ],
        [
         "37",
         "15.0"
        ],
        [
         "38",
         "10.0"
        ],
        [
         "39",
         "8.9"
        ],
        [
         "40",
         "3.9"
        ],
        [
         "41",
         "30.0"
        ],
        [
         "42",
         "21.0"
        ],
        [
         "43",
         "26.0"
        ],
        [
         "44",
         "4.9"
        ],
        [
         "45",
         "4.3"
        ],
        [
         "46",
         "4.8"
        ],
        [
         "47",
         "4.6"
        ],
        [
         "48",
         "2.8"
        ],
        [
         "49",
         "38.0"
        ]
       ],
       "shape": {
        "columns": 1,
        "rows": 2312939
       }
      },
      "text/plain": [
       "0          10.0\n",
       "1           2.9\n",
       "2           3.7\n",
       "3           1.8\n",
       "4           6.2\n",
       "           ... \n",
       "2312939    77.0\n",
       "2312940    44.0\n",
       "2312941    29.0\n",
       "2312942    10.0\n",
       "2312943     5.2\n",
       "Name: Size, Length: 2312939, dtype: float64"
      ]
     },
     "execution_count": 43,
     "metadata": {},
     "output_type": "execute_result"
    }
   ],
   "source": [
    "df[\"Size\"].astype(float)"
   ]
  },
  {
   "cell_type": "code",
   "execution_count": 47,
   "id": "8f506175",
   "metadata": {},
   "outputs": [
    {
     "data": {
      "application/vnd.microsoft.datawrangler.viewer.v0+json": {
       "columns": [
        {
         "name": "index",
         "rawType": "int64",
         "type": "integer"
        },
        {
         "name": "App Name",
         "rawType": "object",
         "type": "string"
        },
        {
         "name": "App Id",
         "rawType": "object",
         "type": "string"
        },
        {
         "name": "Category",
         "rawType": "object",
         "type": "string"
        },
        {
         "name": "Rating",
         "rawType": "float64",
         "type": "float"
        },
        {
         "name": "Rating Count",
         "rawType": "float64",
         "type": "float"
        },
        {
         "name": "Installs",
         "rawType": "object",
         "type": "string"
        },
        {
         "name": "Minimum Installs",
         "rawType": "float64",
         "type": "float"
        },
        {
         "name": "Maximum Installs",
         "rawType": "int64",
         "type": "integer"
        },
        {
         "name": "Free",
         "rawType": "bool",
         "type": "boolean"
        },
        {
         "name": "Price",
         "rawType": "float64",
         "type": "float"
        },
        {
         "name": "Currency",
         "rawType": "object",
         "type": "string"
        },
        {
         "name": "Size (MB)",
         "rawType": "object",
         "type": "string"
        },
        {
         "name": "Minimum Android",
         "rawType": "object",
         "type": "string"
        },
        {
         "name": "Developer Id",
         "rawType": "object",
         "type": "string"
        },
        {
         "name": "Developer Website",
         "rawType": "object",
         "type": "unknown"
        },
        {
         "name": "Developer Email",
         "rawType": "object",
         "type": "string"
        },
        {
         "name": "Released",
         "rawType": "object",
         "type": "string"
        },
        {
         "name": "Last Updated",
         "rawType": "object",
         "type": "string"
        },
        {
         "name": "Content Rating",
         "rawType": "object",
         "type": "string"
        },
        {
         "name": "Privacy Policy",
         "rawType": "object",
         "type": "unknown"
        },
        {
         "name": "Ad Supported",
         "rawType": "bool",
         "type": "boolean"
        },
        {
         "name": "In App Purchases",
         "rawType": "bool",
         "type": "boolean"
        },
        {
         "name": "Editors Choice",
         "rawType": "bool",
         "type": "boolean"
        },
        {
         "name": "Scraped Time",
         "rawType": "object",
         "type": "string"
        }
       ],
       "ref": "94d23e88-358b-425e-be27-11790475af49",
       "rows": [
        [
         "0",
         "Gakondo",
         "com.ishakwe.gakondo",
         "Adventure",
         "0.0",
         "0.0",
         "10",
         "10.0",
         "15",
         "True",
         "0.0",
         "USD",
         "10",
         "7.1 and up",
         "Jean Confident Irénée NIYIZIBYOSE",
         "https://beniyizibyose.tk/#/",
         "jean21101999@gmail.com",
         "Feb 26, 2020",
         "Feb 26, 2020",
         "Everyone",
         "https://beniyizibyose.tk/projects/",
         "False",
         "False",
         "False",
         "2021-06-15 20:19:35"
        ],
        [
         "1",
         "Ampere Battery Info",
         "com.webserveis.batteryinfo",
         "Tools",
         "4.4",
         "64.0",
         "5000",
         "5000.0",
         "7662",
         "True",
         "0.0",
         "USD",
         "2.9",
         "5.0 and up",
         "Webserveis",
         "https://webserveis.netlify.app/",
         "webserveis@gmail.com",
         "May 21, 2020",
         "May 06, 2021",
         "Everyone",
         "https://dev4phones.wordpress.com/licencia-de-uso/",
         "True",
         "False",
         "False",
         "2021-06-15 20:19:35"
        ],
        [
         "2",
         "Vibook",
         "com.doantiepvien.crm",
         "Productivity",
         "0.0",
         "0.0",
         "50",
         "50.0",
         "58",
         "True",
         "0.0",
         "USD",
         "3.7",
         "4.0.3 and up",
         "Cabin Crew",
         null,
         "vnacrewit@gmail.com",
         "Aug 9, 2019",
         "Aug 19, 2019",
         "Everyone",
         "https://www.vietnamairlines.com/vn/en/terms-and-conditions/privacy-policy",
         "False",
         "False",
         "False",
         "2021-06-15 20:19:35"
        ],
        [
         "3",
         "Smart City Trichy Public Service Vehicles 17UCS548",
         "cst.stJoseph.ug17ucs548",
         "Communication",
         "5.0",
         "5.0",
         "10",
         "10.0",
         "19",
         "True",
         "0.0",
         "USD",
         "1.8",
         "4.0.3 and up",
         "Climate Smart Tech2",
         "http://www.climatesmarttech.com/",
         "climatesmarttech2@gmail.com",
         "Sep 10, 2018",
         "Oct 13, 2018",
         "Everyone",
         null,
         "True",
         "False",
         "False",
         "2021-06-15 20:19:35"
        ],
        [
         "4",
         "GROW.me",
         "com.horodyski.grower",
         "Tools",
         "0.0",
         "0.0",
         "100",
         "100.0",
         "478",
         "True",
         "0.0",
         "USD",
         "6.2",
         "4.1 and up",
         "Rafal Milek-Horodyski",
         "http://www.horodyski.com.pl",
         "rmilekhorodyski@gmail.com",
         "Feb 21, 2020",
         "Nov 12, 2018",
         "Everyone",
         "http://www.horodyski.com.pl",
         "False",
         "False",
         "False",
         "2021-06-15 20:19:35"
        ]
       ],
       "shape": {
        "columns": 24,
        "rows": 5
       }
      },
      "text/html": [
       "<div>\n",
       "<style scoped>\n",
       "    .dataframe tbody tr th:only-of-type {\n",
       "        vertical-align: middle;\n",
       "    }\n",
       "\n",
       "    .dataframe tbody tr th {\n",
       "        vertical-align: top;\n",
       "    }\n",
       "\n",
       "    .dataframe thead th {\n",
       "        text-align: right;\n",
       "    }\n",
       "</style>\n",
       "<table border=\"1\" class=\"dataframe\">\n",
       "  <thead>\n",
       "    <tr style=\"text-align: right;\">\n",
       "      <th></th>\n",
       "      <th>App Name</th>\n",
       "      <th>App Id</th>\n",
       "      <th>Category</th>\n",
       "      <th>Rating</th>\n",
       "      <th>Rating Count</th>\n",
       "      <th>Installs</th>\n",
       "      <th>Minimum Installs</th>\n",
       "      <th>Maximum Installs</th>\n",
       "      <th>Free</th>\n",
       "      <th>Price</th>\n",
       "      <th>...</th>\n",
       "      <th>Developer Website</th>\n",
       "      <th>Developer Email</th>\n",
       "      <th>Released</th>\n",
       "      <th>Last Updated</th>\n",
       "      <th>Content Rating</th>\n",
       "      <th>Privacy Policy</th>\n",
       "      <th>Ad Supported</th>\n",
       "      <th>In App Purchases</th>\n",
       "      <th>Editors Choice</th>\n",
       "      <th>Scraped Time</th>\n",
       "    </tr>\n",
       "  </thead>\n",
       "  <tbody>\n",
       "    <tr>\n",
       "      <th>0</th>\n",
       "      <td>Gakondo</td>\n",
       "      <td>com.ishakwe.gakondo</td>\n",
       "      <td>Adventure</td>\n",
       "      <td>0.0</td>\n",
       "      <td>0.0</td>\n",
       "      <td>10</td>\n",
       "      <td>10.0</td>\n",
       "      <td>15</td>\n",
       "      <td>True</td>\n",
       "      <td>0.0</td>\n",
       "      <td>...</td>\n",
       "      <td>https://beniyizibyose.tk/#/</td>\n",
       "      <td>jean21101999@gmail.com</td>\n",
       "      <td>Feb 26, 2020</td>\n",
       "      <td>Feb 26, 2020</td>\n",
       "      <td>Everyone</td>\n",
       "      <td>https://beniyizibyose.tk/projects/</td>\n",
       "      <td>False</td>\n",
       "      <td>False</td>\n",
       "      <td>False</td>\n",
       "      <td>2021-06-15 20:19:35</td>\n",
       "    </tr>\n",
       "    <tr>\n",
       "      <th>1</th>\n",
       "      <td>Ampere Battery Info</td>\n",
       "      <td>com.webserveis.batteryinfo</td>\n",
       "      <td>Tools</td>\n",
       "      <td>4.4</td>\n",
       "      <td>64.0</td>\n",
       "      <td>5000</td>\n",
       "      <td>5000.0</td>\n",
       "      <td>7662</td>\n",
       "      <td>True</td>\n",
       "      <td>0.0</td>\n",
       "      <td>...</td>\n",
       "      <td>https://webserveis.netlify.app/</td>\n",
       "      <td>webserveis@gmail.com</td>\n",
       "      <td>May 21, 2020</td>\n",
       "      <td>May 06, 2021</td>\n",
       "      <td>Everyone</td>\n",
       "      <td>https://dev4phones.wordpress.com/licencia-de-uso/</td>\n",
       "      <td>True</td>\n",
       "      <td>False</td>\n",
       "      <td>False</td>\n",
       "      <td>2021-06-15 20:19:35</td>\n",
       "    </tr>\n",
       "    <tr>\n",
       "      <th>2</th>\n",
       "      <td>Vibook</td>\n",
       "      <td>com.doantiepvien.crm</td>\n",
       "      <td>Productivity</td>\n",
       "      <td>0.0</td>\n",
       "      <td>0.0</td>\n",
       "      <td>50</td>\n",
       "      <td>50.0</td>\n",
       "      <td>58</td>\n",
       "      <td>True</td>\n",
       "      <td>0.0</td>\n",
       "      <td>...</td>\n",
       "      <td>NaN</td>\n",
       "      <td>vnacrewit@gmail.com</td>\n",
       "      <td>Aug 9, 2019</td>\n",
       "      <td>Aug 19, 2019</td>\n",
       "      <td>Everyone</td>\n",
       "      <td>https://www.vietnamairlines.com/vn/en/terms-an...</td>\n",
       "      <td>False</td>\n",
       "      <td>False</td>\n",
       "      <td>False</td>\n",
       "      <td>2021-06-15 20:19:35</td>\n",
       "    </tr>\n",
       "    <tr>\n",
       "      <th>3</th>\n",
       "      <td>Smart City Trichy Public Service Vehicles 17UC...</td>\n",
       "      <td>cst.stJoseph.ug17ucs548</td>\n",
       "      <td>Communication</td>\n",
       "      <td>5.0</td>\n",
       "      <td>5.0</td>\n",
       "      <td>10</td>\n",
       "      <td>10.0</td>\n",
       "      <td>19</td>\n",
       "      <td>True</td>\n",
       "      <td>0.0</td>\n",
       "      <td>...</td>\n",
       "      <td>http://www.climatesmarttech.com/</td>\n",
       "      <td>climatesmarttech2@gmail.com</td>\n",
       "      <td>Sep 10, 2018</td>\n",
       "      <td>Oct 13, 2018</td>\n",
       "      <td>Everyone</td>\n",
       "      <td>NaN</td>\n",
       "      <td>True</td>\n",
       "      <td>False</td>\n",
       "      <td>False</td>\n",
       "      <td>2021-06-15 20:19:35</td>\n",
       "    </tr>\n",
       "    <tr>\n",
       "      <th>4</th>\n",
       "      <td>GROW.me</td>\n",
       "      <td>com.horodyski.grower</td>\n",
       "      <td>Tools</td>\n",
       "      <td>0.0</td>\n",
       "      <td>0.0</td>\n",
       "      <td>100</td>\n",
       "      <td>100.0</td>\n",
       "      <td>478</td>\n",
       "      <td>True</td>\n",
       "      <td>0.0</td>\n",
       "      <td>...</td>\n",
       "      <td>http://www.horodyski.com.pl</td>\n",
       "      <td>rmilekhorodyski@gmail.com</td>\n",
       "      <td>Feb 21, 2020</td>\n",
       "      <td>Nov 12, 2018</td>\n",
       "      <td>Everyone</td>\n",
       "      <td>http://www.horodyski.com.pl</td>\n",
       "      <td>False</td>\n",
       "      <td>False</td>\n",
       "      <td>False</td>\n",
       "      <td>2021-06-15 20:19:35</td>\n",
       "    </tr>\n",
       "  </tbody>\n",
       "</table>\n",
       "<p>5 rows × 24 columns</p>\n",
       "</div>"
      ],
      "text/plain": [
       "                                            App Name  \\\n",
       "0                                            Gakondo   \n",
       "1                                Ampere Battery Info   \n",
       "2                                             Vibook   \n",
       "3  Smart City Trichy Public Service Vehicles 17UC...   \n",
       "4                                            GROW.me   \n",
       "\n",
       "                       App Id       Category  Rating  Rating Count Installs  \\\n",
       "0         com.ishakwe.gakondo      Adventure     0.0           0.0       10   \n",
       "1  com.webserveis.batteryinfo          Tools     4.4          64.0     5000   \n",
       "2        com.doantiepvien.crm   Productivity     0.0           0.0       50   \n",
       "3     cst.stJoseph.ug17ucs548  Communication     5.0           5.0       10   \n",
       "4        com.horodyski.grower          Tools     0.0           0.0      100   \n",
       "\n",
       "   Minimum Installs  Maximum Installs  Free  Price  ...  \\\n",
       "0              10.0                15  True    0.0  ...   \n",
       "1            5000.0              7662  True    0.0  ...   \n",
       "2              50.0                58  True    0.0  ...   \n",
       "3              10.0                19  True    0.0  ...   \n",
       "4             100.0               478  True    0.0  ...   \n",
       "\n",
       "                  Developer Website              Developer Email  \\\n",
       "0       https://beniyizibyose.tk/#/       jean21101999@gmail.com   \n",
       "1   https://webserveis.netlify.app/         webserveis@gmail.com   \n",
       "2                               NaN          vnacrewit@gmail.com   \n",
       "3  http://www.climatesmarttech.com/  climatesmarttech2@gmail.com   \n",
       "4       http://www.horodyski.com.pl    rmilekhorodyski@gmail.com   \n",
       "\n",
       "       Released  Last Updated Content Rating  \\\n",
       "0  Feb 26, 2020  Feb 26, 2020       Everyone   \n",
       "1  May 21, 2020  May 06, 2021       Everyone   \n",
       "2   Aug 9, 2019  Aug 19, 2019       Everyone   \n",
       "3  Sep 10, 2018  Oct 13, 2018       Everyone   \n",
       "4  Feb 21, 2020  Nov 12, 2018       Everyone   \n",
       "\n",
       "                                      Privacy Policy Ad Supported  \\\n",
       "0                 https://beniyizibyose.tk/projects/        False   \n",
       "1  https://dev4phones.wordpress.com/licencia-de-uso/         True   \n",
       "2  https://www.vietnamairlines.com/vn/en/terms-an...        False   \n",
       "3                                                NaN         True   \n",
       "4                        http://www.horodyski.com.pl        False   \n",
       "\n",
       "  In App Purchases Editors Choice         Scraped Time  \n",
       "0            False          False  2021-06-15 20:19:35  \n",
       "1            False          False  2021-06-15 20:19:35  \n",
       "2            False          False  2021-06-15 20:19:35  \n",
       "3            False          False  2021-06-15 20:19:35  \n",
       "4            False          False  2021-06-15 20:19:35  \n",
       "\n",
       "[5 rows x 24 columns]"
      ]
     },
     "execution_count": 47,
     "metadata": {},
     "output_type": "execute_result"
    }
   ],
   "source": [
    "df.rename(columns={\"Size\" : \"Size (MB)\"}, inplace=True)\n",
    "\n",
    "df.head()"
   ]
  },
  {
   "cell_type": "code",
   "execution_count": 48,
   "id": "0357e480",
   "metadata": {},
   "outputs": [
    {
     "data": {
      "text/plain": [
       "array(['USD', 'XXX', 'CAD', 'EUR', 'INR', nan, 'VND', 'GBP', 'BRL', 'KRW',\n",
       "       'TRY', 'RUB', 'SGD', 'AUD', 'PKR', 'ZAR'], dtype=object)"
      ]
     },
     "execution_count": 48,
     "metadata": {},
     "output_type": "execute_result"
    }
   ],
   "source": [
    "df[\"Currency\"].unique()"
   ]
  },
  {
   "cell_type": "code",
   "execution_count": null,
   "id": "d2b6a201",
   "metadata": {},
   "outputs": [
    {
     "data": {
      "application/vnd.microsoft.datawrangler.viewer.v0+json": {
       "columns": [
        {
         "name": "index",
         "rawType": "int64",
         "type": "integer"
        },
        {
         "name": "App Name",
         "rawType": "object",
         "type": "string"
        },
        {
         "name": "App Id",
         "rawType": "object",
         "type": "string"
        },
        {
         "name": "Category",
         "rawType": "object",
         "type": "string"
        },
        {
         "name": "Rating",
         "rawType": "float64",
         "type": "float"
        },
        {
         "name": "Rating Count",
         "rawType": "float64",
         "type": "float"
        },
        {
         "name": "Installs",
         "rawType": "object",
         "type": "string"
        },
        {
         "name": "Minimum Installs",
         "rawType": "float64",
         "type": "float"
        },
        {
         "name": "Maximum Installs",
         "rawType": "int64",
         "type": "integer"
        },
        {
         "name": "Free",
         "rawType": "bool",
         "type": "boolean"
        },
        {
         "name": "Price",
         "rawType": "float64",
         "type": "float"
        },
        {
         "name": "Currency",
         "rawType": "object",
         "type": "string"
        },
        {
         "name": "Size (MB)",
         "rawType": "object",
         "type": "unknown"
        },
        {
         "name": "Minimum Android",
         "rawType": "object",
         "type": "unknown"
        },
        {
         "name": "Developer Id",
         "rawType": "object",
         "type": "string"
        },
        {
         "name": "Developer Website",
         "rawType": "object",
         "type": "unknown"
        },
        {
         "name": "Developer Email",
         "rawType": "object",
         "type": "unknown"
        },
        {
         "name": "Released",
         "rawType": "object",
         "type": "unknown"
        },
        {
         "name": "Last Updated",
         "rawType": "object",
         "type": "string"
        },
        {
         "name": "Content Rating",
         "rawType": "object",
         "type": "string"
        },
        {
         "name": "Privacy Policy",
         "rawType": "object",
         "type": "unknown"
        },
        {
         "name": "Ad Supported",
         "rawType": "bool",
         "type": "boolean"
        },
        {
         "name": "In App Purchases",
         "rawType": "bool",
         "type": "boolean"
        },
        {
         "name": "Editors Choice",
         "rawType": "bool",
         "type": "boolean"
        },
        {
         "name": "Scraped Time",
         "rawType": "object",
         "type": "string"
        }
       ],
       "ref": "6b22992f-4c55-4687-96f2-56ea0f417609",
       "rows": [
        [
         "273",
         "Limitless Paint",
         "com.bytescaffold.limitlesspaint",
         "Tools",
         "4.5",
         "236.0",
         "10000",
         "10000.0",
         "34125",
         "False",
         "1.99",
         "USD",
         "1.6",
         "4.1 and up",
         "Bitscaffold",
         null,
         "traista.rafael@yahoo.com",
         "Nov 30, 2018",
         "Apr 08, 2019",
         "Everyone",
         "http://htmlpreview.github.io/?https://github.com/TraistaRafael/LimitlessPaintUtils/blob/master/privacy_policy.html",
         "False",
         "False",
         "False",
         "2021-06-15 20:19:52"
        ],
        [
         "296",
         "Standalone Golf GPS by Hole19",
         "com.hole19golf.wear",
         "Sports",
         "2.8",
         "160.0",
         "10000",
         "10000.0",
         "10407",
         "False",
         "4.99",
         "USD",
         "30",
         "7.1 and up",
         "Hole19",
         "https://www.hole19golf.com",
         "help@hole19golf.com",
         "Feb 7, 2017",
         "Dec 22, 2020",
         "Everyone",
         "https://www.hole19golf.com/terms/#PrivacyPolicy",
         "False",
         "False",
         "False",
         "2021-06-15 20:19:53"
        ],
        [
         "417",
         "Calculator + Widget 21 themes",
         "makatea.pro.calculator.widget",
         "Tools",
         "3.5",
         "468.0",
         "10000",
         "10000.0",
         "12019",
         "False",
         "0.99",
         "USD",
         "0.865234375",
         "2.2 and up",
         "makatea",
         null,
         "light.makatea@gmail.com",
         "Oct 4, 2012",
         "Feb 09, 2014",
         "Everyone",
         null,
         "False",
         "False",
         "False",
         "2021-06-15 20:20:00"
        ],
        [
         "554",
         "莎士比亞11連環錯（英漢對照）",
         "tw.com.mebook.generic4719180217042",
         "Education",
         "0.0",
         "0.0",
         "1",
         "1.0",
         "2",
         "False",
         "2.99",
         "USD",
         "17",
         "4.4 and up",
         "Soyong Corp.",
         "http://www.mebook.com.tw",
         "welcome@mail.soyong.com.tw",
         "Mar 15, 2017",
         "Mar 15, 2017",
         "Everyone",
         "http://mobile.mebook-buy.com/android/privacy.html",
         "False",
         "False",
         "False",
         "2021-06-15 20:20:07"
        ],
        [
         "618",
         "Theme Park Simulator",
         "com.bestridesimulators.theme.park.simulator.game",
         "Simulation",
         "3.8",
         "1158.0",
         "10000",
         "10000.0",
         "23644",
         "False",
         "0.99",
         "USD",
         "36",
         "4.4 and up",
         "Best Ride Simulators",
         "http://bestridesimulators.com",
         "cuentas.brs@gmail.com",
         "Nov 3, 2020",
         "Feb 05, 2021",
         "Everyone",
         "https://bestridesimulators.com/lunaria-games-s-l/",
         "True",
         "True",
         "False",
         "2021-06-15 20:20:11"
        ],
        [
         "637",
         "Bukuu - Akibat Menipu",
         "bukuu.com.my.siri.haiwan.akibat.menipu",
         "Education",
         "0.0",
         "0.0",
         "1",
         "1.0",
         "2",
         "False",
         "1.99",
         "USD",
         "30",
         "2.3.3 and up",
         "MMSC Ventures Sdn Bhd",
         "http://www.mmsc.com.my/bukuu/ ",
         "bukuu.mmsc@gmail.com",
         "Jan 12, 2016",
         "Jan 13, 2016",
         "Everyone",
         "https://www.mmsc.com.my/bukuu/terma-penggunaan-penafian/index.html",
         "False",
         "False",
         "False",
         "2021-06-15 20:20:13"
        ],
        [
         "661",
         "JOTNA MEDIA GROUP",
         "com.app.jotnamediagroupi",
         "Business",
         "4.9",
         "19.0",
         "100",
         "100.0",
         "487",
         "False",
         "4.99",
         "USD",
         "40",
         "5.0 and up",
         "Zack Diop",
         null,
         "kobe2die4@gmail.com",
         "Jun 15, 2020",
         "Jun 15, 2020",
         "Everyone",
         "https://appcdn.media/privacy/?app=JOTNA%20MEDIA%20GROUP",
         "True",
         "False",
         "False",
         "2021-06-15 20:20:14"
        ],
        [
         "775",
         "Web Development PRO (HTML, CSS)",
         "com.technoapps.webdevelopmentpro",
         "Education",
         "4.5",
         "79.0",
         "5000",
         "5000.0",
         "7391",
         "False",
         "3.49",
         "USD",
         "7.8",
         "5.0 and up",
         "ArcX Dev",
         null,
         "arcx.dev@gmail.com",
         "Dec 14, 2019",
         "Dec 14, 2019",
         "Everyone",
         "https://technoapps92.blogspot.com/p/blog-page_4.html",
         "False",
         "False",
         "False",
         "2021-06-15 20:20:20"
        ],
        [
         "786",
         "K8 CODE PRIME",
         "appinventor.ai_mc207742.K8_CODE_PRIME",
         "Tools",
         "0.0",
         "0.0",
         "10",
         "10.0",
         "38",
         "False",
         "24.99",
         "USD",
         "4.5",
         "2.1 and up",
         "Marcelo Santos Carvalho Nogueira",
         null,
         "mc207742@gmail.com",
         "Aug 8, 2019",
         "Aug 09, 2019",
         "Everyone",
         null,
         "False",
         "False",
         "False",
         "2021-06-15 20:20:20"
        ],
        [
         "796",
         "Kila: The Lazy Pig",
         "kila.thelazypig",
         "Books & Reference",
         "0.0",
         "0.0",
         "1",
         "1.0",
         "2",
         "False",
         "0.99",
         "USD",
         "20",
         "4.1 and up",
         "Kila",
         null,
         "support@kilafun.com",
         "Aug 10, 2020",
         "Aug 10, 2020",
         "Everyone",
         "http://www.kilafun.com/privacy/",
         "False",
         "False",
         "False",
         "2021-06-15 20:20:21"
        ],
        [
         "821",
         "XBX and 5BX",
         "app.li.xbxand5bx",
         "Health & Fitness",
         "0.0",
         "0.0",
         "100",
         "100.0",
         "156",
         "False",
         "4.49",
         "USD",
         "34",
         "5.0 and up",
         "Lovell Innovations",
         "https://xbxand5bx.lovellinnovations.com/index.html",
         "contact@lovellinnovations.com",
         "Jan 2, 2021",
         "May 14, 2021",
         "Everyone",
         "http://xbxand5bx.lovellinnovations.com/legal/privacy-policy.html",
         "False",
         "False",
         "False",
         "2021-06-15 20:20:23"
        ],
        [
         "839",
         "Mr. Potato Head: School Rush",
         "com.playdatedigital.potatohead",
         "Education",
         "3.5",
         "44.0",
         "5000",
         "5000.0",
         "9486",
         "False",
         "3.99",
         "USD",
         "25",
         "4.4 and up",
         "PlayDate Digital Inc.",
         "http://playdatedigital.com/",
         "shaan@playdatedigital.com",
         "Jun 15, 2016",
         "Nov 08, 2019",
         "Everyone",
         "http://playdatedigital.com/privacy-policy",
         "False",
         "False",
         "False",
         "2021-06-15 20:20:24"
        ],
        [
         "912",
         "Metallicons - Icon Pack",
         "com.metallicons.iconpack",
         "Personalization",
         "4.9",
         "11.0",
         "100",
         "100.0",
         "102",
         "False",
         "0.99",
         "USD",
         "62",
         null,
         "PhunktasticDesigns",
         null,
         "phunktasticdesigns@gmail.com",
         "Nov 30, 2020",
         "Dec 01, 2020",
         "Everyone",
         null,
         "False",
         "False",
         "False",
         "2021-06-15 20:20:28"
        ],
        [
         "964",
         "VFC - Volume Fast Control Pro",
         "fr.ezyinfo.app.volumepro",
         "Tools",
         "3.7",
         "7.0",
         "10",
         "10.0",
         "36",
         "False",
         "0.99",
         "USD",
         "1.2",
         "4.1 and up",
         "EzyInfo",
         "http://www.ezyinfo.fr",
         "dev@ezyinfo.fr",
         "Dec 9, 2018",
         "Sep 27, 2020",
         "Everyone",
         null,
         "False",
         "False",
         "False",
         "2021-06-15 20:20:31"
        ],
        [
         "1001",
         "Friday - by Friedemann Friese",
         "de.brettspielwelt.freitag",
         "Board",
         "4.5",
         "932.0",
         "10000",
         "10000.0",
         "13709",
         "False",
         "4.49",
         "USD",
         "70",
         "4.0 and up",
         "Brettspielwelt GmbH",
         "http://freitag.brettspielwelt.de",
         "mellin@brettspielwelt.de",
         "Jun 29, 2017",
         "Apr 09, 2019",
         "Everyone",
         "http://intro.brettspielwelt.de/datenschutz-app.html",
         "False",
         "False",
         "False",
         "2021-06-15 20:20:34"
        ],
        [
         "1007",
         "Blox Pro: Live Wallpaper",
         "de.fabmax.blox.pro",
         "Personalization",
         "4.5",
         "299.0",
         "1000",
         "1000.0",
         "4807",
         "False",
         "0.99",
         "USD",
         "1.2",
         "4.3 and up",
         "Fabmax",
         null,
         "fabmax.dev@gmail.com",
         "Jun 18, 2013",
         "Feb 19, 2020",
         "Everyone",
         null,
         "False",
         "False",
         "False",
         "2021-06-15 20:20:34"
        ],
        [
         "1057",
         "King of Defense Premium: Tower Defense Offline",
         "com.gcenter.kingofdefense.merge.tower.td",
         "Strategy",
         "4.5",
         "3727.0",
         "100000",
         "100000.0",
         "151145",
         "False",
         "0.99",
         "USD",
         "111",
         "4.1 and up",
         "GCenter",
         "http://gcenterstudio.com",
         "doanhtu.gcenter@gmail.com",
         "Jul 1, 2020",
         "May 15, 2021",
         "Everyone 10+",
         "https://gcenter-com.webnode.vn/privacy-policy/",
         "True",
         "True",
         "False",
         "2021-06-15 20:20:37"
        ],
        [
         "1178",
         "Geografia del Mondo",
         "com.app.example.worldgeography_italian",
         "Education",
         "0.0",
         "0.0",
         "50",
         "50.0",
         "66",
         "False",
         "0.99",
         "USD",
         "3.2",
         "2.2 and up",
         "EduFunApps",
         "http://www.edufunapps.com/",
         "edufunapps@hotmail.com",
         "Jan 23, 2012",
         "Aug 21, 2013",
         "Everyone",
         null,
         "False",
         "False",
         "False",
         "2021-06-15 20:20:44"
        ],
        [
         "1202",
         "Nostradamus: Prophetic Letter to His Son",
         "appinventor.ai_treasuretrovecollectibles.Nostradamus_Prophetic_Letter_to_His_Son_Clairvoyant_Astrology_Apocalypse_Prophecies",
         "Books & Reference",
         "0.0",
         "0.0",
         "10",
         "10.0",
         "10",
         "False",
         "0.99",
         "USD",
         "5.2",
         "3.0 and up",
         "The Treasure Trove, Inc.",
         null,
         "treasuretrovecollectibles@gmail.com",
         "Jan 12, 2019",
         "Oct 16, 2019",
         "Everyone",
         null,
         "False",
         "False",
         "False",
         "2021-06-15 20:20:45"
        ],
        [
         "1292",
         "Miaow Clock",
         "com.glgjing.baymax",
         "Tools",
         "4.7",
         "94.0",
         "100",
         "100.0",
         "491",
         "False",
         "1.99",
         "USD",
         "5.6",
         "4.4 and up",
         "System monitor tools lab - Cpu Ram Battery",
         null,
         "GLGJingMarvel@gmail.com",
         "Feb 14, 2016",
         "Apr 20, 2021",
         "Everyone",
         "https://docs.google.com/document/d/e/2PACX-1vTLDMLM1kv49GtSW9eiOPwkcQIC96GLbPpZ3l0uiFJfNZ05qOL37DhtnMHz5PzBbqHHnKdbb_AUPRN6/pub",
         "False",
         "False",
         "False",
         "2021-06-15 20:20:51"
        ],
        [
         "1371",
         "Watermark ALL NoAds",
         "net.blackdevelopers.watermarkallnoads",
         "Productivity",
         "0.0",
         "0.0",
         "5",
         "5.0",
         "9",
         "False",
         "1.99",
         "USD",
         "4.1",
         "4.4 and up",
         "BlackDevelopers",
         "http://blackdevelopers.net",
         "admin@blackdtools.com",
         "Oct 16, 2018",
         "Dec 10, 2020",
         "Everyone",
         "http://blackdevelopers.net/?page_id=103",
         "False",
         "False",
         "False",
         "2021-06-15 20:20:55"
        ],
        [
         "1396",
         "Potomac River - Washington GPS Map Navigator",
         "com.flytomap.marineapp.worldviewer.potomacriver",
         "Maps & Navigation",
         "0.0",
         "0.0",
         "10",
         "10.0",
         "14",
         "False",
         "2.99",
         "USD",
         "59",
         "5.0 and up",
         "FLYTOMAP INC",
         "http://flytomap.com",
         "flytomap@gmail.com",
         "Jul 1, 2017",
         "Dec 22, 2020",
         "Everyone",
         "http://www.flytomap.com/PrivacyPolicy.html",
         "False",
         "False",
         "False",
         "2021-06-15 20:20:56"
        ],
        [
         "1401",
         "Sub Rosa Pro",
         "com.thursby.pkard.subrosa",
         "Productivity",
         "2.0",
         "69.0",
         "1000",
         "1000.0",
         "1317",
         "False",
         "99.99",
         "USD",
         "98",
         "7.0 and up",
         "Thursby Software Systems, LLC",
         "https://www.thursby.com/products/sub-rosa-pro-android",
         "support@thursby.com",
         "Nov 3, 2016",
         "Sep 09, 2020",
         "Everyone",
         "http://www.thursby.com/company/privacy-policy",
         "False",
         "True",
         "False",
         "2021-06-15 20:20:56"
        ],
        [
         "1403",
         "coffee cup wallpaper - parallax wallpaper cartoon",
         "com.woodenboxlwp.coffee.cup.wallpaper.drink.cafe.foliage.pro",
         "Personalization",
         "0.0",
         "0.0",
         "0",
         "0.0",
         "0",
         "False",
         "1.49",
         "USD",
         "28",
         "4.2 and up",
         "woodenboxlwp",
         null,
         "woodenboxlwp@gmail.com",
         "Sep 29, 2020",
         "Sep 29, 2020",
         "Teen",
         "https://khicomro.club/privacy-policy/",
         "False",
         "False",
         "False",
         "2021-06-15 20:20:56"
        ],
        [
         "1436",
         "KFZ-Prüfungstrainer Teil 1",
         "de.vogel.quiz",
         "Education",
         "2.9",
         "52.0",
         "1000",
         "1000.0",
         "3360",
         "False",
         "5.49",
         "USD",
         "19",
         "4.0 and up",
         "Vogel Communications Group GmbH & Co. KG",
         "http://www.vogel.de",
         "hilfe@vogel.de",
         "Feb 7, 2014",
         "Apr 05, 2016",
         "Everyone",
         "https://privacy.vogel.de/datenschutz.html",
         "False",
         "False",
         "False",
         "2021-06-15 20:20:58"
        ],
        [
         "1544",
         "Sheepshead",
         "com.ZanyInc.Sheepshead",
         "Card",
         "0.0",
         "0.0",
         "10",
         "10.0",
         "13",
         "False",
         "0.99",
         "USD",
         "17",
         "4.4W and up",
         "Zany Inc",
         null,
         "zanyz99@yahoo.com",
         "Nov 6, 2020",
         "Nov 20, 2020",
         "Everyone",
         null,
         "False",
         "False",
         "False",
         "2021-06-15 20:21:05"
        ],
        [
         "1557",
         "Athys",
         "com.coccco28.athys",
         "Personalization",
         "4.8",
         "90.0",
         "500",
         "500.0",
         "708",
         "False",
         "2.49",
         "USD",
         "58",
         "5.0 and up",
         "coccco28",
         null,
         "coccco28@gmail.com",
         "Feb 13, 2019",
         "Apr 17, 2021",
         "Everyone",
         null,
         "False",
         "True",
         "False",
         "2021-06-15 20:21:05"
        ],
        [
         "1615",
         "Teeny Titans - Teen Titans Go!",
         "com.turner.ttgfigures",
         "Strategy",
         "4.4",
         "27251.0",
         "100000",
         "100000.0",
         "452171",
         "False",
         "3.99",
         "USD",
         "35",
         "5.0 and up",
         "Cartoon Network",
         "http://www.cartoonnetwork.com",
         "advanced.platforms@turner.com",
         "Jun 22, 2016",
         "Apr 02, 2020",
         "Everyone 10+",
         "http://www.cartoonnetwork.com/legal/priv_tou.html#textBox_priv_a",
         "True",
         "False",
         "False",
         "2021-06-15 20:21:09"
        ],
        [
         "1633",
         "Creator Studio Mobile",
         "com.compxpressinc.CreatorStudioMobile",
         "Productivity",
         "0.0",
         "0.0",
         "50",
         "50.0",
         "63",
         "False",
         "1.99",
         "USD",
         "1.2",
         "4.1 and up",
         "CompXpress, Inc.",
         "http://compxpressinc.com/",
         "mobile.support@compxpressinc.com",
         "Jun 29, 2016",
         "Nov 07, 2018",
         "Everyone",
         null,
         "False",
         "False",
         "False",
         "2021-06-15 20:21:10"
        ],
        [
         "1683",
         "Nursing Assistant Exam Prep1600 Flashcards Q&A",
         "com.smarteducationapps.nursingassistant",
         "Education",
         "0.0",
         "0.0",
         "5",
         "5.0",
         "7",
         "False",
         "2.99",
         "USD",
         "7.5",
         "4.1 and up",
         "Smart Education Apps",
         null,
         "smarteducationapps@gmail.com",
         "Jul 26, 2019",
         "Jul 26, 2019",
         "Everyone",
         null,
         "False",
         "False",
         "False",
         "2021-06-15 20:21:13"
        ],
        [
         "1689",
         "The New Baby - Little Critter",
         "com.oceanhouse_media.booklcthenewbaby_app",
         "Books & Reference",
         "4.7",
         "116.0",
         "5000",
         "5000.0",
         "6643",
         "False",
         "1.99",
         "USD",
         "13",
         "4.4 and up",
         "Oceanhouse Media, Inc.",
         "http://www.oceanhousemedia.com",
         "support@oceanhousemedia.com",
         "Feb 5, 2011",
         "Aug 02, 2019",
         "Everyone",
         "http://www.oceanhousemedia.com/privacy/",
         "False",
         "False",
         "False",
         "2021-06-15 20:21:13"
        ],
        [
         "1704",
         "Roundies icon pack",
         "lp.icon.roundies",
         "Personalization",
         "4.6",
         "68.0",
         "1000",
         "1000.0",
         "1360",
         "False",
         "0.99",
         "USD",
         "40",
         "5.0 and up",
         "Loraine P",
         "https://www.instagram.com/lp.design.icon/?hl=fr",
         "loraine.phuket@gmail.com",
         "Sep 24, 2019",
         "Jul 29, 2020",
         "Everyone",
         null,
         "False",
         "True",
         "False",
         "2021-06-15 20:21:14"
        ],
        [
         "1764",
         "Tagalog Bible -Ang Biblia",
         "com.nippt.tagalog.bible",
         "Books & Reference",
         "4.9",
         "16.0",
         "100",
         "100.0",
         "395",
         "False",
         "3.99",
         "USD",
         "29",
         "4.1 and up",
         "Nippt",
         "http://egzio.com",
         "tagalogbapp@gmail.com",
         "Jun 26, 2013",
         "Mar 05, 2019",
         "Everyone",
         "https://sites.google.com/site/nippttechblog/privacy-policy",
         "False",
         "False",
         "False",
         "2021-06-15 20:21:17"
        ],
        [
         "1777",
         "Abhaken werbefrei - Todo Liste einfach deutsch",
         "com.mimome.adsfree",
         "Productivity",
         "0.0",
         "0.0",
         "10",
         "10.0",
         "46",
         "False",
         "0.99",
         "USD",
         "5.3",
         "5.0 and up",
         "Senamor",
         null,
         "mail@senamor.de",
         "May 22, 2019",
         "Jun 03, 2021",
         "Everyone",
         "https://www.senamor-apps.de/privacy-policy",
         "False",
         "False",
         "False",
         "2021-06-15 20:21:18"
        ],
        [
         "1815",
         "Survivalcraft",
         "com.candyrufusgames.survivalcraft",
         "Action",
         "4.3",
         "64696.0",
         "500000",
         "500000.0",
         "954762",
         "False",
         "3.99",
         "USD",
         "19",
         "4.1 and up",
         "Candy Rufus Games",
         "http://kaalus.wordpress.com",
         "candyrufusgames@gmail.com",
         "Oct 14, 2012",
         "Oct 16, 2019",
         "Everyone 10+",
         "https://kaalus.wordpress.com/survivalcraft-privacy-policy/",
         "False",
         "False",
         "False",
         "2021-06-15 20:21:20"
        ],
        [
         "1831",
         "Kamus Offline ENG-IND PRO",
         "intelligence.studio.kamusofflineeng_ind_pro",
         "Books & Reference",
         "4.6",
         "5.0",
         "50",
         "50.0",
         "56",
         "False",
         "1.49",
         "USD",
         null,
         "Varies with device",
         "Intelligence Studio",
         null,
         "intelligenceStudio.team@gmail.com",
         "Jul 12, 2016",
         "Nov 02, 2018",
         "Everyone",
         "https://intelligencestudioteam.blogspot.com/2018/09/privacy-policy.html",
         "False",
         "False",
         "False",
         "2021-06-15 20:21:21"
        ],
        [
         "1899",
         "Flat Earth Sun, Moon & Zodiac Clock",
         "com.ronmediagroup.flat_earth_clock",
         "Education",
         "3.7",
         "11.0",
         "100",
         "100.0",
         "290",
         "False",
         "3.49",
         "USD",
         "38",
         "4.1 and up",
         "Ron Media Groups",
         null,
         "support@flattenedearth.com",
         "Jan 28, 2020",
         "Dec 10, 2020",
         "Everyone",
         "https://docs.google.com/document/d/1StOIaHuc1CD_1ptvfjm9tVvX8pwhUTBJxrnebYcnYXE/edit?usp=sharing",
         "False",
         "False",
         "False",
         "2021-06-15 20:21:25"
        ],
        [
         "1956",
         "3D Print Cost Calculator",
         "com.andreasreitberger.x3dpcc",
         "Productivity",
         "0.0",
         "0.0",
         "50",
         "50.0",
         "75",
         "False",
         "0.99",
         "USD",
         "44",
         "5.0 and up",
         "Andreas Reitberger",
         "https://andreas-reitberger.de",
         "kontakt@andreas-reitberger.de",
         "Aug 13, 2020",
         "Jun 09, 2021",
         "Everyone",
         "https://andreas-reitberger.de/datenschutz/pp-3d-druckkosten-kalkulator-app/",
         "False",
         "False",
         "False",
         "2021-06-15 20:21:28"
        ],
        [
         "1996",
         "Camera To PDF Scanner Pro",
         "com.kaikaisoft.pdfscannerpro",
         "Business",
         "4.4",
         "198.0",
         "1000",
         "1000.0",
         "3047",
         "False",
         "1.99",
         "USD",
         "4.5",
         "4.0 and up",
         "VKingMobi",
         null,
         "vkingmobi@gmail.com",
         "Feb 24, 2016",
         "Mar 29, 2020",
         "Everyone",
         "https://kaikaisoft.wordpress.com/camera_to_pdf_scanner_privacy_policy",
         "False",
         "False",
         "False",
         "2021-06-15 20:21:31"
        ],
        [
         "2041",
         "DARKMATTER VINTAGE - ICON PACK",
         "com.mowmo.darkmattervintage",
         "Personalization",
         "4.4",
         "753.0",
         "50000",
         "50000.0",
         "72905",
         "False",
         "0.99",
         "USD",
         "51",
         "4.0.3 and up",
         "mowmo",
         "https://plus.google.com/+MorganCiancio",
         "mowmo.design@gmail.com",
         "Sep 14, 2016",
         "Dec 04, 2018",
         "Everyone",
         "https://mowmo.myportfolio.com/privacy-policy",
         "False",
         "False",
         "False",
         "2021-06-15 20:21:33"
        ],
        [
         "2094",
         "Ham Radio Log Premium",
         "com.talixa.hamradiolog.adfree",
         "Tools",
         "4.1",
         "27.0",
         "1000",
         "1000.0",
         "1040",
         "False",
         "0.99",
         "USD",
         "4.6",
         "4.0.3 and up",
         "Talixa Software & Service, LLC",
         "http://www.talixa.com",
         "info@talixa.com",
         "Jun 7, 2014",
         "Nov 11, 2017",
         "Everyone",
         "http://www.talixa.com/privacy.html",
         "False",
         "False",
         "False",
         "2021-06-15 20:21:37"
        ],
        [
         "2104",
         "3rd Grade Vocabulary Prep",
         "com.Peekaboo.Google.vocab3",
         "Education",
         "0.0",
         "0.0",
         "100",
         "100.0",
         "236",
         "False",
         "2.99",
         "USD",
         "40",
         "4.0.3 and up",
         "Peekaboo Studios",
         "http://www.peekaboostudiosllc.com",
         "peekaboostudiosllc@gmail.com",
         "Aug 26, 2012",
         "Nov 16, 2018",
         "Everyone",
         "http://www.peekaboo.mobi/terms-conditions/",
         "False",
         "False",
         "False",
         "2021-06-15 20:21:37"
        ],
        [
         "2107",
         "Phrasebook Chinese",
         "com.planetinpocket.phraseboxmini.zh",
         "Education",
         "4.0",
         "71.0",
         "1000",
         "1000.0",
         "3068",
         "False",
         "1.99",
         "USD",
         "5.5",
         "2.3 and up",
         "Planetinpocket",
         "http://planetinpocket.com",
         "support@planetinpocket.com",
         "Oct 12, 2012",
         "Nov 02, 2018",
         "Everyone",
         "http://planetinpocket.com/privacy-policy-phrasebox.php",
         "False",
         "False",
         "False",
         "2021-06-15 20:21:38"
        ],
        [
         "2109",
         "BELPAESE: Homecoming",
         "com.fazz.thebelpaese",
         "Adventure",
         "4.4",
         "38.0",
         "100",
         "100.0",
         "432",
         "False",
         "2.49",
         "USD",
         "24",
         "4.0 and up",
         "Paolo Fazzini",
         "http://www.belpaesethegame.com",
         "ilgrandenord@gmail.com",
         "Sep 6, 2017",
         "Apr 11, 2018",
         "Everyone",
         null,
         "False",
         "False",
         "False",
         "2021-06-15 20:21:38"
        ],
        [
         "2150",
         "CDT: Days counter (PRO)",
         "tech.tcsolution.cdt.pro",
         "Productivity",
         "0.0",
         "0.0",
         "10",
         "10.0",
         "10",
         "False",
         "1.99",
         "USD",
         "4.5",
         "4.4 and up",
         "TC Solution Inc.",
         null,
         "dev.tcsolution@gmail.com",
         "Dec 2, 2020",
         "Apr 29, 2021",
         "Everyone",
         null,
         "False",
         "False",
         "False",
         "2021-06-15 20:21:40"
        ],
        [
         "2151",
         "Clay Shooting Trap Shoot",
         "com.cseg.tshoot",
         "Sports",
         "4.2",
         "6.0",
         "100",
         "100.0",
         "254",
         "False",
         "5.49",
         "USD",
         "10",
         "7.0 and up",
         "Clay Shooting Apps",
         "http://www.clayshootingmindgym.com",
         "info@clayshootingmindgym.com",
         "Feb 14, 2014",
         "Apr 15, 2020",
         "Everyone",
         "http://www.clayshootingapps.com/privacy",
         "False",
         "False",
         "False",
         "2021-06-15 20:21:40"
        ],
        [
         "2157",
         "Essentials of Paediatrics, 2e",
         "com.medhand.eeop2x1",
         "Medical",
         "0.0",
         "0.0",
         "1",
         "1.0",
         "4",
         "False",
         "41.99",
         "USD",
         "6.6",
         "4.0 and up",
         "Indextra AB",
         "http://www.medhand.com",
         "android@medhand.net",
         "Sep 8, 2016",
         "Sep 08, 2016",
         "Everyone",
         "https://bookstore.medhand.com/info/privacy",
         "False",
         "False",
         "False",
         "2021-06-15 20:21:40"
        ],
        [
         "2161",
         "Poweramp Skin v3 World Cup",
         "com.poweramp.v3.ud.worldcup",
         "Personalization",
         "0.0",
         "0.0",
         "10",
         "10.0",
         "31",
         "False",
         "0.99",
         "USD",
         "15",
         "4.1 and up",
         "Andrew G.",
         null,
         "ojaguo0@gmail.com",
         "Jun 28, 2019",
         "Jun 28, 2019",
         "Everyone",
         "http://shintarillo.com/wp-content/coding/privacy_policy.html",
         "False",
         "False",
         "False",
         "2021-06-15 20:21:41"
        ],
        [
         "2220",
         "Quiz XL Pro Trivia Game",
         "com.jdartsoft.questions",
         "Trivia",
         "0.0",
         "0.0",
         "5",
         "5.0",
         "8",
         "False",
         "0.99",
         "USD",
         "5.7",
         "3.0 and up",
         "Denis Astahov",
         null,
         "jdartsoft@gmail.com",
         "Dec 5, 2014",
         "May 14, 2015",
         "Everyone",
         null,
         "False",
         "False",
         "False",
         "2021-06-15 20:21:44"
        ],
        [
         "2224",
         "LP Danish",
         "ca.libphil.lang.a.danish",
         "Education",
         "0.0",
         "0.0",
         "10",
         "10.0",
         "37",
         "False",
         "1.99",
         "USD",
         "0.4423828125",
         "2.2 and up",
         "David Arthur",
         "http://www.libphil.ca/",
         "support@libphil.ca",
         "Mar 12, 2013",
         "Jun 04, 2021",
         "Everyone",
         null,
         "False",
         "False",
         "False",
         "2021-06-15 20:21:44"
        ]
       ],
       "shape": {
        "columns": 24,
        "rows": 44933
       }
      },
      "text/html": [
       "<div>\n",
       "<style scoped>\n",
       "    .dataframe tbody tr th:only-of-type {\n",
       "        vertical-align: middle;\n",
       "    }\n",
       "\n",
       "    .dataframe tbody tr th {\n",
       "        vertical-align: top;\n",
       "    }\n",
       "\n",
       "    .dataframe thead th {\n",
       "        text-align: right;\n",
       "    }\n",
       "</style>\n",
       "<table border=\"1\" class=\"dataframe\">\n",
       "  <thead>\n",
       "    <tr style=\"text-align: right;\">\n",
       "      <th></th>\n",
       "      <th>App Name</th>\n",
       "      <th>App Id</th>\n",
       "      <th>Category</th>\n",
       "      <th>Rating</th>\n",
       "      <th>Rating Count</th>\n",
       "      <th>Installs</th>\n",
       "      <th>Minimum Installs</th>\n",
       "      <th>Maximum Installs</th>\n",
       "      <th>Free</th>\n",
       "      <th>Price</th>\n",
       "      <th>...</th>\n",
       "      <th>Developer Website</th>\n",
       "      <th>Developer Email</th>\n",
       "      <th>Released</th>\n",
       "      <th>Last Updated</th>\n",
       "      <th>Content Rating</th>\n",
       "      <th>Privacy Policy</th>\n",
       "      <th>Ad Supported</th>\n",
       "      <th>In App Purchases</th>\n",
       "      <th>Editors Choice</th>\n",
       "      <th>Scraped Time</th>\n",
       "    </tr>\n",
       "  </thead>\n",
       "  <tbody>\n",
       "    <tr>\n",
       "      <th>273</th>\n",
       "      <td>Limitless Paint</td>\n",
       "      <td>com.bytescaffold.limitlesspaint</td>\n",
       "      <td>Tools</td>\n",
       "      <td>4.5</td>\n",
       "      <td>236.0</td>\n",
       "      <td>10000</td>\n",
       "      <td>10000.0</td>\n",
       "      <td>34125</td>\n",
       "      <td>False</td>\n",
       "      <td>1.99</td>\n",
       "      <td>...</td>\n",
       "      <td>NaN</td>\n",
       "      <td>traista.rafael@yahoo.com</td>\n",
       "      <td>Nov 30, 2018</td>\n",
       "      <td>Apr 08, 2019</td>\n",
       "      <td>Everyone</td>\n",
       "      <td>http://htmlpreview.github.io/?https://github.c...</td>\n",
       "      <td>False</td>\n",
       "      <td>False</td>\n",
       "      <td>False</td>\n",
       "      <td>2021-06-15 20:19:52</td>\n",
       "    </tr>\n",
       "    <tr>\n",
       "      <th>296</th>\n",
       "      <td>Standalone Golf GPS by Hole19</td>\n",
       "      <td>com.hole19golf.wear</td>\n",
       "      <td>Sports</td>\n",
       "      <td>2.8</td>\n",
       "      <td>160.0</td>\n",
       "      <td>10000</td>\n",
       "      <td>10000.0</td>\n",
       "      <td>10407</td>\n",
       "      <td>False</td>\n",
       "      <td>4.99</td>\n",
       "      <td>...</td>\n",
       "      <td>https://www.hole19golf.com</td>\n",
       "      <td>help@hole19golf.com</td>\n",
       "      <td>Feb 7, 2017</td>\n",
       "      <td>Dec 22, 2020</td>\n",
       "      <td>Everyone</td>\n",
       "      <td>https://www.hole19golf.com/terms/#PrivacyPolicy</td>\n",
       "      <td>False</td>\n",
       "      <td>False</td>\n",
       "      <td>False</td>\n",
       "      <td>2021-06-15 20:19:53</td>\n",
       "    </tr>\n",
       "    <tr>\n",
       "      <th>417</th>\n",
       "      <td>Calculator + Widget 21 themes</td>\n",
       "      <td>makatea.pro.calculator.widget</td>\n",
       "      <td>Tools</td>\n",
       "      <td>3.5</td>\n",
       "      <td>468.0</td>\n",
       "      <td>10000</td>\n",
       "      <td>10000.0</td>\n",
       "      <td>12019</td>\n",
       "      <td>False</td>\n",
       "      <td>0.99</td>\n",
       "      <td>...</td>\n",
       "      <td>NaN</td>\n",
       "      <td>light.makatea@gmail.com</td>\n",
       "      <td>Oct 4, 2012</td>\n",
       "      <td>Feb 09, 2014</td>\n",
       "      <td>Everyone</td>\n",
       "      <td>NaN</td>\n",
       "      <td>False</td>\n",
       "      <td>False</td>\n",
       "      <td>False</td>\n",
       "      <td>2021-06-15 20:20:00</td>\n",
       "    </tr>\n",
       "    <tr>\n",
       "      <th>554</th>\n",
       "      <td>莎士比亞11連環錯（英漢對照）</td>\n",
       "      <td>tw.com.mebook.generic4719180217042</td>\n",
       "      <td>Education</td>\n",
       "      <td>0.0</td>\n",
       "      <td>0.0</td>\n",
       "      <td>1</td>\n",
       "      <td>1.0</td>\n",
       "      <td>2</td>\n",
       "      <td>False</td>\n",
       "      <td>2.99</td>\n",
       "      <td>...</td>\n",
       "      <td>http://www.mebook.com.tw</td>\n",
       "      <td>welcome@mail.soyong.com.tw</td>\n",
       "      <td>Mar 15, 2017</td>\n",
       "      <td>Mar 15, 2017</td>\n",
       "      <td>Everyone</td>\n",
       "      <td>http://mobile.mebook-buy.com/android/privacy.html</td>\n",
       "      <td>False</td>\n",
       "      <td>False</td>\n",
       "      <td>False</td>\n",
       "      <td>2021-06-15 20:20:07</td>\n",
       "    </tr>\n",
       "    <tr>\n",
       "      <th>618</th>\n",
       "      <td>Theme Park Simulator</td>\n",
       "      <td>com.bestridesimulators.theme.park.simulator.game</td>\n",
       "      <td>Simulation</td>\n",
       "      <td>3.8</td>\n",
       "      <td>1158.0</td>\n",
       "      <td>10000</td>\n",
       "      <td>10000.0</td>\n",
       "      <td>23644</td>\n",
       "      <td>False</td>\n",
       "      <td>0.99</td>\n",
       "      <td>...</td>\n",
       "      <td>http://bestridesimulators.com</td>\n",
       "      <td>cuentas.brs@gmail.com</td>\n",
       "      <td>Nov 3, 2020</td>\n",
       "      <td>Feb 05, 2021</td>\n",
       "      <td>Everyone</td>\n",
       "      <td>https://bestridesimulators.com/lunaria-games-s-l/</td>\n",
       "      <td>True</td>\n",
       "      <td>True</td>\n",
       "      <td>False</td>\n",
       "      <td>2021-06-15 20:20:11</td>\n",
       "    </tr>\n",
       "    <tr>\n",
       "      <th>...</th>\n",
       "      <td>...</td>\n",
       "      <td>...</td>\n",
       "      <td>...</td>\n",
       "      <td>...</td>\n",
       "      <td>...</td>\n",
       "      <td>...</td>\n",
       "      <td>...</td>\n",
       "      <td>...</td>\n",
       "      <td>...</td>\n",
       "      <td>...</td>\n",
       "      <td>...</td>\n",
       "      <td>...</td>\n",
       "      <td>...</td>\n",
       "      <td>...</td>\n",
       "      <td>...</td>\n",
       "      <td>...</td>\n",
       "      <td>...</td>\n",
       "      <td>...</td>\n",
       "      <td>...</td>\n",
       "      <td>...</td>\n",
       "      <td>...</td>\n",
       "    </tr>\n",
       "    <tr>\n",
       "      <th>2312658</th>\n",
       "      <td>VA-Beast Essentials-2</td>\n",
       "      <td>com.planeth.vabeastessentials2</td>\n",
       "      <td>Music &amp; Audio</td>\n",
       "      <td>4.5</td>\n",
       "      <td>19.0</td>\n",
       "      <td>1000</td>\n",
       "      <td>1000.0</td>\n",
       "      <td>2686</td>\n",
       "      <td>False</td>\n",
       "      <td>1.99</td>\n",
       "      <td>...</td>\n",
       "      <td>http://www.planet-h.com/</td>\n",
       "      <td>gstomper@planet-h.com</td>\n",
       "      <td>Jul 7, 2014</td>\n",
       "      <td>Oct 03, 2020</td>\n",
       "      <td>Everyone</td>\n",
       "      <td>https://www.planet-h.com/privacy/</td>\n",
       "      <td>False</td>\n",
       "      <td>False</td>\n",
       "      <td>False</td>\n",
       "      <td>2021-06-16 12:59:03</td>\n",
       "    </tr>\n",
       "    <tr>\n",
       "      <th>2312686</th>\n",
       "      <td>Blue Infinitum Theme - Dark</td>\n",
       "      <td>com.razerx.theme.blueinfinitum2</td>\n",
       "      <td>Personalization</td>\n",
       "      <td>4.7</td>\n",
       "      <td>165.0</td>\n",
       "      <td>1000</td>\n",
       "      <td>1000.0</td>\n",
       "      <td>1554</td>\n",
       "      <td>False</td>\n",
       "      <td>1.49</td>\n",
       "      <td>...</td>\n",
       "      <td>NaN</td>\n",
       "      <td>razer.psn@gmail.com</td>\n",
       "      <td>Nov 2, 2012</td>\n",
       "      <td>Sep 06, 2014</td>\n",
       "      <td>Everyone</td>\n",
       "      <td>NaN</td>\n",
       "      <td>False</td>\n",
       "      <td>False</td>\n",
       "      <td>False</td>\n",
       "      <td>2021-06-16 12:59:05</td>\n",
       "    </tr>\n",
       "    <tr>\n",
       "      <th>2312703</th>\n",
       "      <td>RPG Tears Revolude</td>\n",
       "      <td>kemco.wws.revolude</td>\n",
       "      <td>Role Playing</td>\n",
       "      <td>4.5</td>\n",
       "      <td>568.0</td>\n",
       "      <td>5000</td>\n",
       "      <td>5000.0</td>\n",
       "      <td>6702</td>\n",
       "      <td>False</td>\n",
       "      <td>7.99</td>\n",
       "      <td>...</td>\n",
       "      <td>http://www.kemco.jp/</td>\n",
       "      <td>android@kemco.jp</td>\n",
       "      <td>Jul 16, 2015</td>\n",
       "      <td>Jul 16, 2015</td>\n",
       "      <td>Teen</td>\n",
       "      <td>http://www.kemco.jp/app_pp/privacy.html</td>\n",
       "      <td>True</td>\n",
       "      <td>True</td>\n",
       "      <td>False</td>\n",
       "      <td>2021-06-16 12:59:06</td>\n",
       "    </tr>\n",
       "    <tr>\n",
       "      <th>2312803</th>\n",
       "      <td>New Cute Kitty Cats &amp; Animals LOVE. WAStickerApps</td>\n",
       "      <td>com.wastickerapps.wasticker.sticker.emoji.new....</td>\n",
       "      <td>Entertainment</td>\n",
       "      <td>0.0</td>\n",
       "      <td>0.0</td>\n",
       "      <td>1</td>\n",
       "      <td>1.0</td>\n",
       "      <td>3</td>\n",
       "      <td>False</td>\n",
       "      <td>0.99</td>\n",
       "      <td>...</td>\n",
       "      <td>https://sites.google.com/view/wastickerapps-wa...</td>\n",
       "      <td>wastickerappsstickers@gmail.com</td>\n",
       "      <td>Feb 6, 2019</td>\n",
       "      <td>Feb 06, 2019</td>\n",
       "      <td>Everyone</td>\n",
       "      <td>https://sites.google.com/view/wastickerapps-wa...</td>\n",
       "      <td>False</td>\n",
       "      <td>False</td>\n",
       "      <td>False</td>\n",
       "      <td>2021-06-16 12:59:11</td>\n",
       "    </tr>\n",
       "    <tr>\n",
       "      <th>2312927</th>\n",
       "      <td>Gear Ratio Calculator</td>\n",
       "      <td>jp.abt.lopnur.gearratiocalc</td>\n",
       "      <td>Sports</td>\n",
       "      <td>0.0</td>\n",
       "      <td>0.0</td>\n",
       "      <td>100</td>\n",
       "      <td>100.0</td>\n",
       "      <td>201</td>\n",
       "      <td>False</td>\n",
       "      <td>2.49</td>\n",
       "      <td>...</td>\n",
       "      <td>http://www.abt.jp</td>\n",
       "      <td>abtdev@gmail.com</td>\n",
       "      <td>Jun 19, 2012</td>\n",
       "      <td>Nov 09, 2012</td>\n",
       "      <td>Everyone</td>\n",
       "      <td>NaN</td>\n",
       "      <td>False</td>\n",
       "      <td>False</td>\n",
       "      <td>False</td>\n",
       "      <td>2021-06-16 12:59:18</td>\n",
       "    </tr>\n",
       "  </tbody>\n",
       "</table>\n",
       "<p>44933 rows × 24 columns</p>\n",
       "</div>"
      ],
      "text/plain": [
       "                                                  App Name  \\\n",
       "273                                        Limitless Paint   \n",
       "296                          Standalone Golf GPS by Hole19   \n",
       "417                          Calculator + Widget 21 themes   \n",
       "554                                        莎士比亞11連環錯（英漢對照）   \n",
       "618                                   Theme Park Simulator   \n",
       "...                                                    ...   \n",
       "2312658                              VA-Beast Essentials-2   \n",
       "2312686                        Blue Infinitum Theme - Dark   \n",
       "2312703                                 RPG Tears Revolude   \n",
       "2312803  New Cute Kitty Cats & Animals LOVE. WAStickerApps   \n",
       "2312927                              Gear Ratio Calculator   \n",
       "\n",
       "                                                    App Id         Category  \\\n",
       "273                        com.bytescaffold.limitlesspaint            Tools   \n",
       "296                                    com.hole19golf.wear           Sports   \n",
       "417                          makatea.pro.calculator.widget            Tools   \n",
       "554                     tw.com.mebook.generic4719180217042        Education   \n",
       "618       com.bestridesimulators.theme.park.simulator.game       Simulation   \n",
       "...                                                    ...              ...   \n",
       "2312658                     com.planeth.vabeastessentials2    Music & Audio   \n",
       "2312686                    com.razerx.theme.blueinfinitum2  Personalization   \n",
       "2312703                                 kemco.wws.revolude     Role Playing   \n",
       "2312803  com.wastickerapps.wasticker.sticker.emoji.new....    Entertainment   \n",
       "2312927                        jp.abt.lopnur.gearratiocalc           Sports   \n",
       "\n",
       "         Rating  Rating Count Installs  Minimum Installs  Maximum Installs  \\\n",
       "273         4.5         236.0    10000           10000.0             34125   \n",
       "296         2.8         160.0    10000           10000.0             10407   \n",
       "417         3.5         468.0    10000           10000.0             12019   \n",
       "554         0.0           0.0        1               1.0                 2   \n",
       "618         3.8        1158.0    10000           10000.0             23644   \n",
       "...         ...           ...      ...               ...               ...   \n",
       "2312658     4.5          19.0     1000            1000.0              2686   \n",
       "2312686     4.7         165.0     1000            1000.0              1554   \n",
       "2312703     4.5         568.0     5000            5000.0              6702   \n",
       "2312803     0.0           0.0        1               1.0                 3   \n",
       "2312927     0.0           0.0      100             100.0               201   \n",
       "\n",
       "          Free  Price  ...                                  Developer Website  \\\n",
       "273      False   1.99  ...                                                NaN   \n",
       "296      False   4.99  ...                         https://www.hole19golf.com   \n",
       "417      False   0.99  ...                                                NaN   \n",
       "554      False   2.99  ...                           http://www.mebook.com.tw   \n",
       "618      False   0.99  ...                      http://bestridesimulators.com   \n",
       "...        ...    ...  ...                                                ...   \n",
       "2312658  False   1.99  ...                           http://www.planet-h.com/   \n",
       "2312686  False   1.49  ...                                                NaN   \n",
       "2312703  False   7.99  ...                               http://www.kemco.jp/   \n",
       "2312803  False   0.99  ...  https://sites.google.com/view/wastickerapps-wa...   \n",
       "2312927  False   2.49  ...                                  http://www.abt.jp   \n",
       "\n",
       "                         Developer Email      Released  Last Updated  \\\n",
       "273             traista.rafael@yahoo.com  Nov 30, 2018  Apr 08, 2019   \n",
       "296                  help@hole19golf.com   Feb 7, 2017  Dec 22, 2020   \n",
       "417              light.makatea@gmail.com   Oct 4, 2012  Feb 09, 2014   \n",
       "554           welcome@mail.soyong.com.tw  Mar 15, 2017  Mar 15, 2017   \n",
       "618                cuentas.brs@gmail.com   Nov 3, 2020  Feb 05, 2021   \n",
       "...                                  ...           ...           ...   \n",
       "2312658            gstomper@planet-h.com   Jul 7, 2014  Oct 03, 2020   \n",
       "2312686              razer.psn@gmail.com   Nov 2, 2012  Sep 06, 2014   \n",
       "2312703                 android@kemco.jp  Jul 16, 2015  Jul 16, 2015   \n",
       "2312803  wastickerappsstickers@gmail.com   Feb 6, 2019  Feb 06, 2019   \n",
       "2312927                 abtdev@gmail.com  Jun 19, 2012  Nov 09, 2012   \n",
       "\n",
       "        Content Rating                                     Privacy Policy  \\\n",
       "273           Everyone  http://htmlpreview.github.io/?https://github.c...   \n",
       "296           Everyone    https://www.hole19golf.com/terms/#PrivacyPolicy   \n",
       "417           Everyone                                                NaN   \n",
       "554           Everyone  http://mobile.mebook-buy.com/android/privacy.html   \n",
       "618           Everyone  https://bestridesimulators.com/lunaria-games-s-l/   \n",
       "...                ...                                                ...   \n",
       "2312658       Everyone                  https://www.planet-h.com/privacy/   \n",
       "2312686       Everyone                                                NaN   \n",
       "2312703           Teen            http://www.kemco.jp/app_pp/privacy.html   \n",
       "2312803       Everyone  https://sites.google.com/view/wastickerapps-wa...   \n",
       "2312927       Everyone                                                NaN   \n",
       "\n",
       "        Ad Supported In App Purchases Editors Choice         Scraped Time  \n",
       "273            False            False          False  2021-06-15 20:19:52  \n",
       "296            False            False          False  2021-06-15 20:19:53  \n",
       "417            False            False          False  2021-06-15 20:20:00  \n",
       "554            False            False          False  2021-06-15 20:20:07  \n",
       "618             True             True          False  2021-06-15 20:20:11  \n",
       "...              ...              ...            ...                  ...  \n",
       "2312658        False            False          False  2021-06-16 12:59:03  \n",
       "2312686        False            False          False  2021-06-16 12:59:05  \n",
       "2312703         True             True          False  2021-06-16 12:59:06  \n",
       "2312803        False            False          False  2021-06-16 12:59:11  \n",
       "2312927        False            False          False  2021-06-16 12:59:18  \n",
       "\n",
       "[44933 rows x 24 columns]"
      ]
     },
     "execution_count": 63,
     "metadata": {},
     "output_type": "execute_result"
    }
   ],
   "source": [
    "df[(df[\"Currency\"] == \"USD\") & (df[\"Free\"] != True)]"
   ]
  }
 ],
 "metadata": {
  "kernelspec": {
   "display_name": ".venv",
   "language": "python",
   "name": "python3"
  },
  "language_info": {
   "codemirror_mode": {
    "name": "ipython",
    "version": 3
   },
   "file_extension": ".py",
   "mimetype": "text/x-python",
   "name": "python",
   "nbconvert_exporter": "python",
   "pygments_lexer": "ipython3",
   "version": "3.13.7"
  }
 },
 "nbformat": 4,
 "nbformat_minor": 5
}
