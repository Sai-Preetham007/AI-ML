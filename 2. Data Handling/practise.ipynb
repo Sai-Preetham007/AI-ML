{
 "cells": [
  {
   "cell_type": "code",
   "execution_count": 1,
   "id": "9b63dd36",
   "metadata": {},
   "outputs": [],
   "source": [
    "import numpy as np\n",
    "import pandas as pd"
   ]
  },
  {
   "cell_type": "code",
   "execution_count": 2,
   "id": "a3eca7a6",
   "metadata": {},
   "outputs": [
    {
     "data": {
      "application/vnd.microsoft.datawrangler.viewer.v0+json": {
       "columns": [
        {
         "name": "index",
         "rawType": "int64",
         "type": "integer"
        },
        {
         "name": "Name",
         "rawType": "object",
         "type": "string"
        },
        {
         "name": "Profession",
         "rawType": "object",
         "type": "unknown"
        },
        {
         "name": "Age",
         "rawType": "float64",
         "type": "float"
        }
       ],
       "ref": "0a1c7d43-1754-4b58-b4b8-d211cad863a8",
       "rows": [
        [
         "0",
         "Pravallika",
         "Student",
         "20.0"
        ],
        [
         "1",
         "Mahesh",
         "Actor",
         null
        ],
        [
         "2",
         "Mahesh",
         "Super Star",
         "45.0"
        ],
        [
         "3",
         "Arjun",
         null,
         "55.0"
        ],
        [
         "4",
         "Keerthana",
         "Student",
         "22.0"
        ],
        [
         "5",
         "Pallavi",
         "Teacher",
         "35.0"
        ],
        [
         "6",
         "Nagarjuna",
         "Dancer",
         null
        ],
        [
         "7",
         "Ravi Teja",
         "Actor",
         "38.0"
        ],
        [
         "8",
         "Ravi Teja",
         "Actor",
         "38.0"
        ]
       ],
       "shape": {
        "columns": 3,
        "rows": 9
       }
      },
      "text/html": [
       "<div>\n",
       "<style scoped>\n",
       "    .dataframe tbody tr th:only-of-type {\n",
       "        vertical-align: middle;\n",
       "    }\n",
       "\n",
       "    .dataframe tbody tr th {\n",
       "        vertical-align: top;\n",
       "    }\n",
       "\n",
       "    .dataframe thead th {\n",
       "        text-align: right;\n",
       "    }\n",
       "</style>\n",
       "<table border=\"1\" class=\"dataframe\">\n",
       "  <thead>\n",
       "    <tr style=\"text-align: right;\">\n",
       "      <th></th>\n",
       "      <th>Name</th>\n",
       "      <th>Profession</th>\n",
       "      <th>Age</th>\n",
       "    </tr>\n",
       "  </thead>\n",
       "  <tbody>\n",
       "    <tr>\n",
       "      <th>0</th>\n",
       "      <td>Pravallika</td>\n",
       "      <td>Student</td>\n",
       "      <td>20.0</td>\n",
       "    </tr>\n",
       "    <tr>\n",
       "      <th>1</th>\n",
       "      <td>Mahesh</td>\n",
       "      <td>Actor</td>\n",
       "      <td>NaN</td>\n",
       "    </tr>\n",
       "    <tr>\n",
       "      <th>2</th>\n",
       "      <td>Mahesh</td>\n",
       "      <td>Super Star</td>\n",
       "      <td>45.0</td>\n",
       "    </tr>\n",
       "    <tr>\n",
       "      <th>3</th>\n",
       "      <td>Arjun</td>\n",
       "      <td>NaN</td>\n",
       "      <td>55.0</td>\n",
       "    </tr>\n",
       "    <tr>\n",
       "      <th>4</th>\n",
       "      <td>Keerthana</td>\n",
       "      <td>Student</td>\n",
       "      <td>22.0</td>\n",
       "    </tr>\n",
       "    <tr>\n",
       "      <th>5</th>\n",
       "      <td>Pallavi</td>\n",
       "      <td>Teacher</td>\n",
       "      <td>35.0</td>\n",
       "    </tr>\n",
       "    <tr>\n",
       "      <th>6</th>\n",
       "      <td>Nagarjuna</td>\n",
       "      <td>Dancer</td>\n",
       "      <td>NaN</td>\n",
       "    </tr>\n",
       "    <tr>\n",
       "      <th>7</th>\n",
       "      <td>Ravi Teja</td>\n",
       "      <td>Actor</td>\n",
       "      <td>38.0</td>\n",
       "    </tr>\n",
       "    <tr>\n",
       "      <th>8</th>\n",
       "      <td>Ravi Teja</td>\n",
       "      <td>Actor</td>\n",
       "      <td>38.0</td>\n",
       "    </tr>\n",
       "  </tbody>\n",
       "</table>\n",
       "</div>"
      ],
      "text/plain": [
       "         Name  Profession   Age\n",
       "0  Pravallika     Student  20.0\n",
       "1      Mahesh       Actor   NaN\n",
       "2      Mahesh  Super Star  45.0\n",
       "3       Arjun         NaN  55.0\n",
       "4   Keerthana     Student  22.0\n",
       "5     Pallavi     Teacher  35.0\n",
       "6   Nagarjuna      Dancer   NaN\n",
       "7   Ravi Teja       Actor  38.0\n",
       "8   Ravi Teja       Actor  38.0"
      ]
     },
     "metadata": {},
     "output_type": "display_data"
    }
   ],
   "source": [
    "sample = {\n",
    "    \"Name\" : [\"Pravallika\", \"Mahesh\", \"Mahesh\", \"Arjun\", \"Keerthana\", \"Pallavi\", \"Nagarjuna\", \"Ravi Teja\", \"Ravi Teja\"],\n",
    "    \"Profession\" : [\"Student\", \"Actor\", \"Super Star\", np.nan, \"Student\", \"Teacher\", \"Dancer\", \"Actor\", \"Actor\"],\n",
    "    \"Age\" : [20, np.nan, 45, 55, 22, 35, np.nan, 38, 38]\n",
    "}\n",
    "\n",
    "temp = pd.DataFrame(sample)\n",
    "\n",
    "display(temp)"
   ]
  },
  {
   "cell_type": "code",
   "execution_count": 3,
   "id": "26b0aba1",
   "metadata": {},
   "outputs": [
    {
     "data": {
      "application/vnd.microsoft.datawrangler.viewer.v0+json": {
       "columns": [
        {
         "name": "index",
         "rawType": "int64",
         "type": "integer"
        },
        {
         "name": "Name",
         "rawType": "object",
         "type": "string"
        },
        {
         "name": "Profession",
         "rawType": "object",
         "type": "string"
        },
        {
         "name": "Age",
         "rawType": "float64",
         "type": "float"
        }
       ],
       "ref": "e6729acf-b5a8-4a5d-9c75-952ab5824f3b",
       "rows": [
        [
         "0",
         "Pravallika",
         "Student",
         "20.0"
        ],
        [
         "2",
         "Mahesh",
         "Super Star",
         "45.0"
        ],
        [
         "4",
         "Keerthana",
         "Student",
         "22.0"
        ],
        [
         "5",
         "Pallavi",
         "Teacher",
         "35.0"
        ],
        [
         "7",
         "Ravi Teja",
         "Actor",
         "38.0"
        ],
        [
         "8",
         "Ravi Teja",
         "Actor",
         "38.0"
        ]
       ],
       "shape": {
        "columns": 3,
        "rows": 6
       }
      },
      "text/html": [
       "<div>\n",
       "<style scoped>\n",
       "    .dataframe tbody tr th:only-of-type {\n",
       "        vertical-align: middle;\n",
       "    }\n",
       "\n",
       "    .dataframe tbody tr th {\n",
       "        vertical-align: top;\n",
       "    }\n",
       "\n",
       "    .dataframe thead th {\n",
       "        text-align: right;\n",
       "    }\n",
       "</style>\n",
       "<table border=\"1\" class=\"dataframe\">\n",
       "  <thead>\n",
       "    <tr style=\"text-align: right;\">\n",
       "      <th></th>\n",
       "      <th>Name</th>\n",
       "      <th>Profession</th>\n",
       "      <th>Age</th>\n",
       "    </tr>\n",
       "  </thead>\n",
       "  <tbody>\n",
       "    <tr>\n",
       "      <th>0</th>\n",
       "      <td>Pravallika</td>\n",
       "      <td>Student</td>\n",
       "      <td>20.0</td>\n",
       "    </tr>\n",
       "    <tr>\n",
       "      <th>2</th>\n",
       "      <td>Mahesh</td>\n",
       "      <td>Super Star</td>\n",
       "      <td>45.0</td>\n",
       "    </tr>\n",
       "    <tr>\n",
       "      <th>4</th>\n",
       "      <td>Keerthana</td>\n",
       "      <td>Student</td>\n",
       "      <td>22.0</td>\n",
       "    </tr>\n",
       "    <tr>\n",
       "      <th>5</th>\n",
       "      <td>Pallavi</td>\n",
       "      <td>Teacher</td>\n",
       "      <td>35.0</td>\n",
       "    </tr>\n",
       "    <tr>\n",
       "      <th>7</th>\n",
       "      <td>Ravi Teja</td>\n",
       "      <td>Actor</td>\n",
       "      <td>38.0</td>\n",
       "    </tr>\n",
       "    <tr>\n",
       "      <th>8</th>\n",
       "      <td>Ravi Teja</td>\n",
       "      <td>Actor</td>\n",
       "      <td>38.0</td>\n",
       "    </tr>\n",
       "  </tbody>\n",
       "</table>\n",
       "</div>"
      ],
      "text/plain": [
       "         Name  Profession   Age\n",
       "0  Pravallika     Student  20.0\n",
       "2      Mahesh  Super Star  45.0\n",
       "4   Keerthana     Student  22.0\n",
       "5     Pallavi     Teacher  35.0\n",
       "7   Ravi Teja       Actor  38.0\n",
       "8   Ravi Teja       Actor  38.0"
      ]
     },
     "execution_count": 3,
     "metadata": {},
     "output_type": "execute_result"
    }
   ],
   "source": [
    "temp.dropna()"
   ]
  },
  {
   "cell_type": "code",
   "execution_count": 4,
   "id": "7d40b4a3",
   "metadata": {},
   "outputs": [
    {
     "data": {
      "application/vnd.microsoft.datawrangler.viewer.v0+json": {
       "columns": [
        {
         "name": "index",
         "rawType": "int64",
         "type": "integer"
        },
        {
         "name": "Name",
         "rawType": "object",
         "type": "string"
        },
        {
         "name": "Profession",
         "rawType": "object",
         "type": "string"
        },
        {
         "name": "Age",
         "rawType": "float64",
         "type": "float"
        }
       ],
       "ref": "125d1409-3db3-41f2-9c11-bd720aa73320",
       "rows": [
        [
         "0",
         "Pravallika",
         "Student",
         "20.0"
        ],
        [
         "1",
         "Mahesh",
         "Super Star",
         "45.0"
        ],
        [
         "2",
         "Keerthana",
         "Student",
         "22.0"
        ],
        [
         "3",
         "Pallavi",
         "Teacher",
         "35.0"
        ],
        [
         "4",
         "Ravi Teja",
         "Actor",
         "38.0"
        ],
        [
         "5",
         "Ravi Teja",
         "Actor",
         "38.0"
        ]
       ],
       "shape": {
        "columns": 3,
        "rows": 6
       }
      },
      "text/html": [
       "<div>\n",
       "<style scoped>\n",
       "    .dataframe tbody tr th:only-of-type {\n",
       "        vertical-align: middle;\n",
       "    }\n",
       "\n",
       "    .dataframe tbody tr th {\n",
       "        vertical-align: top;\n",
       "    }\n",
       "\n",
       "    .dataframe thead th {\n",
       "        text-align: right;\n",
       "    }\n",
       "</style>\n",
       "<table border=\"1\" class=\"dataframe\">\n",
       "  <thead>\n",
       "    <tr style=\"text-align: right;\">\n",
       "      <th></th>\n",
       "      <th>Name</th>\n",
       "      <th>Profession</th>\n",
       "      <th>Age</th>\n",
       "    </tr>\n",
       "  </thead>\n",
       "  <tbody>\n",
       "    <tr>\n",
       "      <th>0</th>\n",
       "      <td>Pravallika</td>\n",
       "      <td>Student</td>\n",
       "      <td>20.0</td>\n",
       "    </tr>\n",
       "    <tr>\n",
       "      <th>1</th>\n",
       "      <td>Mahesh</td>\n",
       "      <td>Super Star</td>\n",
       "      <td>45.0</td>\n",
       "    </tr>\n",
       "    <tr>\n",
       "      <th>2</th>\n",
       "      <td>Keerthana</td>\n",
       "      <td>Student</td>\n",
       "      <td>22.0</td>\n",
       "    </tr>\n",
       "    <tr>\n",
       "      <th>3</th>\n",
       "      <td>Pallavi</td>\n",
       "      <td>Teacher</td>\n",
       "      <td>35.0</td>\n",
       "    </tr>\n",
       "    <tr>\n",
       "      <th>4</th>\n",
       "      <td>Ravi Teja</td>\n",
       "      <td>Actor</td>\n",
       "      <td>38.0</td>\n",
       "    </tr>\n",
       "    <tr>\n",
       "      <th>5</th>\n",
       "      <td>Ravi Teja</td>\n",
       "      <td>Actor</td>\n",
       "      <td>38.0</td>\n",
       "    </tr>\n",
       "  </tbody>\n",
       "</table>\n",
       "</div>"
      ],
      "text/plain": [
       "         Name  Profession   Age\n",
       "0  Pravallika     Student  20.0\n",
       "1      Mahesh  Super Star  45.0\n",
       "2   Keerthana     Student  22.0\n",
       "3     Pallavi     Teacher  35.0\n",
       "4   Ravi Teja       Actor  38.0\n",
       "5   Ravi Teja       Actor  38.0"
      ]
     },
     "execution_count": 4,
     "metadata": {},
     "output_type": "execute_result"
    }
   ],
   "source": [
    "temp.dropna().reset_index(drop=True)"
   ]
  },
  {
   "cell_type": "code",
   "execution_count": 5,
   "id": "c6ff0c11",
   "metadata": {},
   "outputs": [
    {
     "data": {
      "application/vnd.microsoft.datawrangler.viewer.v0+json": {
       "columns": [
        {
         "name": "index",
         "rawType": "int64",
         "type": "integer"
        },
        {
         "name": "Name",
         "rawType": "object",
         "type": "string"
        },
        {
         "name": "Profession",
         "rawType": "object",
         "type": "string"
        },
        {
         "name": "Age",
         "rawType": "float64",
         "type": "float"
        }
       ],
       "ref": "a4e375c0-7e27-480d-9d6e-1d78d8d15996",
       "rows": [
        [
         "0",
         "Pravallika",
         "Student",
         "20.0"
        ],
        [
         "1",
         "Mahesh",
         "Actor",
         null
        ],
        [
         "2",
         "Mahesh",
         "Super Star",
         "45.0"
        ],
        [
         "4",
         "Keerthana",
         "Student",
         "22.0"
        ],
        [
         "5",
         "Pallavi",
         "Teacher",
         "35.0"
        ],
        [
         "6",
         "Nagarjuna",
         "Dancer",
         null
        ],
        [
         "7",
         "Ravi Teja",
         "Actor",
         "38.0"
        ],
        [
         "8",
         "Ravi Teja",
         "Actor",
         "38.0"
        ]
       ],
       "shape": {
        "columns": 3,
        "rows": 8
       }
      },
      "text/html": [
       "<div>\n",
       "<style scoped>\n",
       "    .dataframe tbody tr th:only-of-type {\n",
       "        vertical-align: middle;\n",
       "    }\n",
       "\n",
       "    .dataframe tbody tr th {\n",
       "        vertical-align: top;\n",
       "    }\n",
       "\n",
       "    .dataframe thead th {\n",
       "        text-align: right;\n",
       "    }\n",
       "</style>\n",
       "<table border=\"1\" class=\"dataframe\">\n",
       "  <thead>\n",
       "    <tr style=\"text-align: right;\">\n",
       "      <th></th>\n",
       "      <th>Name</th>\n",
       "      <th>Profession</th>\n",
       "      <th>Age</th>\n",
       "    </tr>\n",
       "  </thead>\n",
       "  <tbody>\n",
       "    <tr>\n",
       "      <th>0</th>\n",
       "      <td>Pravallika</td>\n",
       "      <td>Student</td>\n",
       "      <td>20.0</td>\n",
       "    </tr>\n",
       "    <tr>\n",
       "      <th>1</th>\n",
       "      <td>Mahesh</td>\n",
       "      <td>Actor</td>\n",
       "      <td>NaN</td>\n",
       "    </tr>\n",
       "    <tr>\n",
       "      <th>2</th>\n",
       "      <td>Mahesh</td>\n",
       "      <td>Super Star</td>\n",
       "      <td>45.0</td>\n",
       "    </tr>\n",
       "    <tr>\n",
       "      <th>4</th>\n",
       "      <td>Keerthana</td>\n",
       "      <td>Student</td>\n",
       "      <td>22.0</td>\n",
       "    </tr>\n",
       "    <tr>\n",
       "      <th>5</th>\n",
       "      <td>Pallavi</td>\n",
       "      <td>Teacher</td>\n",
       "      <td>35.0</td>\n",
       "    </tr>\n",
       "    <tr>\n",
       "      <th>6</th>\n",
       "      <td>Nagarjuna</td>\n",
       "      <td>Dancer</td>\n",
       "      <td>NaN</td>\n",
       "    </tr>\n",
       "    <tr>\n",
       "      <th>7</th>\n",
       "      <td>Ravi Teja</td>\n",
       "      <td>Actor</td>\n",
       "      <td>38.0</td>\n",
       "    </tr>\n",
       "    <tr>\n",
       "      <th>8</th>\n",
       "      <td>Ravi Teja</td>\n",
       "      <td>Actor</td>\n",
       "      <td>38.0</td>\n",
       "    </tr>\n",
       "  </tbody>\n",
       "</table>\n",
       "</div>"
      ],
      "text/plain": [
       "         Name  Profession   Age\n",
       "0  Pravallika     Student  20.0\n",
       "1      Mahesh       Actor   NaN\n",
       "2      Mahesh  Super Star  45.0\n",
       "4   Keerthana     Student  22.0\n",
       "5     Pallavi     Teacher  35.0\n",
       "6   Nagarjuna      Dancer   NaN\n",
       "7   Ravi Teja       Actor  38.0\n",
       "8   Ravi Teja       Actor  38.0"
      ]
     },
     "execution_count": 5,
     "metadata": {},
     "output_type": "execute_result"
    }
   ],
   "source": [
    "temp.dropna(subset=[\"Profession\"])"
   ]
  },
  {
   "cell_type": "code",
   "execution_count": 6,
   "id": "0abff0df",
   "metadata": {},
   "outputs": [
    {
     "data": {
      "application/vnd.microsoft.datawrangler.viewer.v0+json": {
       "columns": [
        {
         "name": "index",
         "rawType": "int64",
         "type": "integer"
        },
        {
         "name": "Name",
         "rawType": "object",
         "type": "string"
        },
        {
         "name": "Profession",
         "rawType": "object",
         "type": "unknown"
        },
        {
         "name": "Age",
         "rawType": "float64",
         "type": "float"
        }
       ],
       "ref": "19f4c78a-2257-4818-b70e-dafc3d4de7c4",
       "rows": [
        [
         "0",
         "Pravallika",
         "Student",
         "20.0"
        ],
        [
         "1",
         "Mahesh",
         "Actor",
         null
        ],
        [
         "2",
         "Mahesh",
         "Super Star",
         "45.0"
        ],
        [
         "3",
         "Arjun",
         null,
         "55.0"
        ],
        [
         "4",
         "Keerthana",
         "Student",
         "22.0"
        ],
        [
         "5",
         "Pallavi",
         "Teacher",
         "35.0"
        ],
        [
         "6",
         "Nagarjuna",
         "Dancer",
         null
        ],
        [
         "7",
         "Ravi Teja",
         "Actor",
         "38.0"
        ],
        [
         "8",
         "Ravi Teja",
         "Actor",
         "38.0"
        ]
       ],
       "shape": {
        "columns": 3,
        "rows": 9
       }
      },
      "text/html": [
       "<div>\n",
       "<style scoped>\n",
       "    .dataframe tbody tr th:only-of-type {\n",
       "        vertical-align: middle;\n",
       "    }\n",
       "\n",
       "    .dataframe tbody tr th {\n",
       "        vertical-align: top;\n",
       "    }\n",
       "\n",
       "    .dataframe thead th {\n",
       "        text-align: right;\n",
       "    }\n",
       "</style>\n",
       "<table border=\"1\" class=\"dataframe\">\n",
       "  <thead>\n",
       "    <tr style=\"text-align: right;\">\n",
       "      <th></th>\n",
       "      <th>Name</th>\n",
       "      <th>Profession</th>\n",
       "      <th>Age</th>\n",
       "    </tr>\n",
       "  </thead>\n",
       "  <tbody>\n",
       "    <tr>\n",
       "      <th>0</th>\n",
       "      <td>Pravallika</td>\n",
       "      <td>Student</td>\n",
       "      <td>20.0</td>\n",
       "    </tr>\n",
       "    <tr>\n",
       "      <th>1</th>\n",
       "      <td>Mahesh</td>\n",
       "      <td>Actor</td>\n",
       "      <td>NaN</td>\n",
       "    </tr>\n",
       "    <tr>\n",
       "      <th>2</th>\n",
       "      <td>Mahesh</td>\n",
       "      <td>Super Star</td>\n",
       "      <td>45.0</td>\n",
       "    </tr>\n",
       "    <tr>\n",
       "      <th>3</th>\n",
       "      <td>Arjun</td>\n",
       "      <td>NaN</td>\n",
       "      <td>55.0</td>\n",
       "    </tr>\n",
       "    <tr>\n",
       "      <th>4</th>\n",
       "      <td>Keerthana</td>\n",
       "      <td>Student</td>\n",
       "      <td>22.0</td>\n",
       "    </tr>\n",
       "    <tr>\n",
       "      <th>5</th>\n",
       "      <td>Pallavi</td>\n",
       "      <td>Teacher</td>\n",
       "      <td>35.0</td>\n",
       "    </tr>\n",
       "    <tr>\n",
       "      <th>6</th>\n",
       "      <td>Nagarjuna</td>\n",
       "      <td>Dancer</td>\n",
       "      <td>NaN</td>\n",
       "    </tr>\n",
       "    <tr>\n",
       "      <th>7</th>\n",
       "      <td>Ravi Teja</td>\n",
       "      <td>Actor</td>\n",
       "      <td>38.0</td>\n",
       "    </tr>\n",
       "    <tr>\n",
       "      <th>8</th>\n",
       "      <td>Ravi Teja</td>\n",
       "      <td>Actor</td>\n",
       "      <td>38.0</td>\n",
       "    </tr>\n",
       "  </tbody>\n",
       "</table>\n",
       "</div>"
      ],
      "text/plain": [
       "         Name  Profession   Age\n",
       "0  Pravallika     Student  20.0\n",
       "1      Mahesh       Actor   NaN\n",
       "2      Mahesh  Super Star  45.0\n",
       "3       Arjun         NaN  55.0\n",
       "4   Keerthana     Student  22.0\n",
       "5     Pallavi     Teacher  35.0\n",
       "6   Nagarjuna      Dancer   NaN\n",
       "7   Ravi Teja       Actor  38.0\n",
       "8   Ravi Teja       Actor  38.0"
      ]
     },
     "execution_count": 6,
     "metadata": {},
     "output_type": "execute_result"
    }
   ],
   "source": [
    "temp"
   ]
  },
  {
   "cell_type": "code",
   "execution_count": 7,
   "id": "9d8c1fa2",
   "metadata": {},
   "outputs": [
    {
     "data": {
      "application/vnd.microsoft.datawrangler.viewer.v0+json": {
       "columns": [
        {
         "name": "index",
         "rawType": "int64",
         "type": "integer"
        },
        {
         "name": "Name",
         "rawType": "object",
         "type": "string"
        },
        {
         "name": "Profession",
         "rawType": "object",
         "type": "unknown"
        },
        {
         "name": "Age",
         "rawType": "float64",
         "type": "float"
        }
       ],
       "ref": "2815cb08-65c1-4434-8d6d-37f47b245ce3",
       "rows": [
        [
         "0",
         "Pravallika",
         "Student",
         "20.0"
        ],
        [
         "1",
         "Mahesh",
         "Actor",
         null
        ],
        [
         "2",
         "Mahesh",
         "Super Star",
         "45.0"
        ],
        [
         "3",
         "Arjun",
         null,
         "55.0"
        ],
        [
         "4",
         "Keerthana",
         "Student",
         "22.0"
        ],
        [
         "5",
         "Pallavi",
         "Teacher",
         "35.0"
        ],
        [
         "6",
         "Nagarjuna",
         "Dancer",
         null
        ],
        [
         "7",
         "Ravi Teja",
         "Actor",
         "38.0"
        ]
       ],
       "shape": {
        "columns": 3,
        "rows": 8
       }
      },
      "text/html": [
       "<div>\n",
       "<style scoped>\n",
       "    .dataframe tbody tr th:only-of-type {\n",
       "        vertical-align: middle;\n",
       "    }\n",
       "\n",
       "    .dataframe tbody tr th {\n",
       "        vertical-align: top;\n",
       "    }\n",
       "\n",
       "    .dataframe thead th {\n",
       "        text-align: right;\n",
       "    }\n",
       "</style>\n",
       "<table border=\"1\" class=\"dataframe\">\n",
       "  <thead>\n",
       "    <tr style=\"text-align: right;\">\n",
       "      <th></th>\n",
       "      <th>Name</th>\n",
       "      <th>Profession</th>\n",
       "      <th>Age</th>\n",
       "    </tr>\n",
       "  </thead>\n",
       "  <tbody>\n",
       "    <tr>\n",
       "      <th>0</th>\n",
       "      <td>Pravallika</td>\n",
       "      <td>Student</td>\n",
       "      <td>20.0</td>\n",
       "    </tr>\n",
       "    <tr>\n",
       "      <th>1</th>\n",
       "      <td>Mahesh</td>\n",
       "      <td>Actor</td>\n",
       "      <td>NaN</td>\n",
       "    </tr>\n",
       "    <tr>\n",
       "      <th>2</th>\n",
       "      <td>Mahesh</td>\n",
       "      <td>Super Star</td>\n",
       "      <td>45.0</td>\n",
       "    </tr>\n",
       "    <tr>\n",
       "      <th>3</th>\n",
       "      <td>Arjun</td>\n",
       "      <td>NaN</td>\n",
       "      <td>55.0</td>\n",
       "    </tr>\n",
       "    <tr>\n",
       "      <th>4</th>\n",
       "      <td>Keerthana</td>\n",
       "      <td>Student</td>\n",
       "      <td>22.0</td>\n",
       "    </tr>\n",
       "    <tr>\n",
       "      <th>5</th>\n",
       "      <td>Pallavi</td>\n",
       "      <td>Teacher</td>\n",
       "      <td>35.0</td>\n",
       "    </tr>\n",
       "    <tr>\n",
       "      <th>6</th>\n",
       "      <td>Nagarjuna</td>\n",
       "      <td>Dancer</td>\n",
       "      <td>NaN</td>\n",
       "    </tr>\n",
       "    <tr>\n",
       "      <th>7</th>\n",
       "      <td>Ravi Teja</td>\n",
       "      <td>Actor</td>\n",
       "      <td>38.0</td>\n",
       "    </tr>\n",
       "  </tbody>\n",
       "</table>\n",
       "</div>"
      ],
      "text/plain": [
       "         Name  Profession   Age\n",
       "0  Pravallika     Student  20.0\n",
       "1      Mahesh       Actor   NaN\n",
       "2      Mahesh  Super Star  45.0\n",
       "3       Arjun         NaN  55.0\n",
       "4   Keerthana     Student  22.0\n",
       "5     Pallavi     Teacher  35.0\n",
       "6   Nagarjuna      Dancer   NaN\n",
       "7   Ravi Teja       Actor  38.0"
      ]
     },
     "execution_count": 7,
     "metadata": {},
     "output_type": "execute_result"
    }
   ],
   "source": [
    "temp.drop_duplicates()"
   ]
  },
  {
   "cell_type": "code",
   "execution_count": 8,
   "id": "ec34af89",
   "metadata": {},
   "outputs": [
    {
     "data": {
      "application/vnd.microsoft.datawrangler.viewer.v0+json": {
       "columns": [
        {
         "name": "index",
         "rawType": "int64",
         "type": "integer"
        },
        {
         "name": "Name",
         "rawType": "object",
         "type": "string"
        },
        {
         "name": "Profession",
         "rawType": "object",
         "type": "unknown"
        },
        {
         "name": "Age",
         "rawType": "float64",
         "type": "float"
        }
       ],
       "ref": "42bd3f90-a48b-4c73-b80d-824202938807",
       "rows": [
        [
         "0",
         "Pravallika",
         "Student",
         "20.0"
        ],
        [
         "1",
         "Mahesh",
         "Actor",
         null
        ],
        [
         "2",
         "Mahesh",
         "Super Star",
         "45.0"
        ],
        [
         "3",
         "Arjun",
         null,
         "55.0"
        ],
        [
         "4",
         "Keerthana",
         "Student",
         "22.0"
        ],
        [
         "5",
         "Pallavi",
         "Teacher",
         "35.0"
        ],
        [
         "6",
         "Nagarjuna",
         "Dancer",
         null
        ],
        [
         "7",
         "Ravi Teja",
         "Actor",
         "38.0"
        ],
        [
         "8",
         "Ravi Teja",
         "Actor",
         "38.0"
        ]
       ],
       "shape": {
        "columns": 3,
        "rows": 9
       }
      },
      "text/html": [
       "<div>\n",
       "<style scoped>\n",
       "    .dataframe tbody tr th:only-of-type {\n",
       "        vertical-align: middle;\n",
       "    }\n",
       "\n",
       "    .dataframe tbody tr th {\n",
       "        vertical-align: top;\n",
       "    }\n",
       "\n",
       "    .dataframe thead th {\n",
       "        text-align: right;\n",
       "    }\n",
       "</style>\n",
       "<table border=\"1\" class=\"dataframe\">\n",
       "  <thead>\n",
       "    <tr style=\"text-align: right;\">\n",
       "      <th></th>\n",
       "      <th>Name</th>\n",
       "      <th>Profession</th>\n",
       "      <th>Age</th>\n",
       "    </tr>\n",
       "  </thead>\n",
       "  <tbody>\n",
       "    <tr>\n",
       "      <th>0</th>\n",
       "      <td>Pravallika</td>\n",
       "      <td>Student</td>\n",
       "      <td>20.0</td>\n",
       "    </tr>\n",
       "    <tr>\n",
       "      <th>1</th>\n",
       "      <td>Mahesh</td>\n",
       "      <td>Actor</td>\n",
       "      <td>NaN</td>\n",
       "    </tr>\n",
       "    <tr>\n",
       "      <th>2</th>\n",
       "      <td>Mahesh</td>\n",
       "      <td>Super Star</td>\n",
       "      <td>45.0</td>\n",
       "    </tr>\n",
       "    <tr>\n",
       "      <th>3</th>\n",
       "      <td>Arjun</td>\n",
       "      <td>NaN</td>\n",
       "      <td>55.0</td>\n",
       "    </tr>\n",
       "    <tr>\n",
       "      <th>4</th>\n",
       "      <td>Keerthana</td>\n",
       "      <td>Student</td>\n",
       "      <td>22.0</td>\n",
       "    </tr>\n",
       "    <tr>\n",
       "      <th>5</th>\n",
       "      <td>Pallavi</td>\n",
       "      <td>Teacher</td>\n",
       "      <td>35.0</td>\n",
       "    </tr>\n",
       "    <tr>\n",
       "      <th>6</th>\n",
       "      <td>Nagarjuna</td>\n",
       "      <td>Dancer</td>\n",
       "      <td>NaN</td>\n",
       "    </tr>\n",
       "    <tr>\n",
       "      <th>7</th>\n",
       "      <td>Ravi Teja</td>\n",
       "      <td>Actor</td>\n",
       "      <td>38.0</td>\n",
       "    </tr>\n",
       "    <tr>\n",
       "      <th>8</th>\n",
       "      <td>Ravi Teja</td>\n",
       "      <td>Actor</td>\n",
       "      <td>38.0</td>\n",
       "    </tr>\n",
       "  </tbody>\n",
       "</table>\n",
       "</div>"
      ],
      "text/plain": [
       "         Name  Profession   Age\n",
       "0  Pravallika     Student  20.0\n",
       "1      Mahesh       Actor   NaN\n",
       "2      Mahesh  Super Star  45.0\n",
       "3       Arjun         NaN  55.0\n",
       "4   Keerthana     Student  22.0\n",
       "5     Pallavi     Teacher  35.0\n",
       "6   Nagarjuna      Dancer   NaN\n",
       "7   Ravi Teja       Actor  38.0\n",
       "8   Ravi Teja       Actor  38.0"
      ]
     },
     "execution_count": 8,
     "metadata": {},
     "output_type": "execute_result"
    }
   ],
   "source": [
    "temp"
   ]
  },
  {
   "cell_type": "code",
   "execution_count": 9,
   "id": "ff428723",
   "metadata": {},
   "outputs": [
    {
     "data": {
      "application/vnd.microsoft.datawrangler.viewer.v0+json": {
       "columns": [
        {
         "name": "index",
         "rawType": "int64",
         "type": "integer"
        },
        {
         "name": "Name",
         "rawType": "object",
         "type": "string"
        },
        {
         "name": "Profession",
         "rawType": "object",
         "type": "unknown"
        },
        {
         "name": "Age",
         "rawType": "float64",
         "type": "float"
        }
       ],
       "ref": "8a73f754-0fc2-4908-9cb5-20c78b9cf5af",
       "rows": [
        [
         "0",
         "Pravallika",
         "Student",
         "20.0"
        ],
        [
         "1",
         "Mahesh",
         "Actor",
         null
        ],
        [
         "2",
         "Mahesh",
         "Super Star",
         "45.0"
        ],
        [
         "3",
         "Arjun",
         null,
         "55.0"
        ],
        [
         "4",
         "Keerthana",
         "Student",
         "22.0"
        ],
        [
         "5",
         "Pallavi",
         "Teacher",
         "35.0"
        ],
        [
         "6",
         "Nagarjuna",
         "Dancer",
         null
        ],
        [
         "7",
         "Ravi Teja",
         "Actor",
         "38.0"
        ]
       ],
       "shape": {
        "columns": 3,
        "rows": 8
       }
      },
      "text/html": [
       "<div>\n",
       "<style scoped>\n",
       "    .dataframe tbody tr th:only-of-type {\n",
       "        vertical-align: middle;\n",
       "    }\n",
       "\n",
       "    .dataframe tbody tr th {\n",
       "        vertical-align: top;\n",
       "    }\n",
       "\n",
       "    .dataframe thead th {\n",
       "        text-align: right;\n",
       "    }\n",
       "</style>\n",
       "<table border=\"1\" class=\"dataframe\">\n",
       "  <thead>\n",
       "    <tr style=\"text-align: right;\">\n",
       "      <th></th>\n",
       "      <th>Name</th>\n",
       "      <th>Profession</th>\n",
       "      <th>Age</th>\n",
       "    </tr>\n",
       "  </thead>\n",
       "  <tbody>\n",
       "    <tr>\n",
       "      <th>0</th>\n",
       "      <td>Pravallika</td>\n",
       "      <td>Student</td>\n",
       "      <td>20.0</td>\n",
       "    </tr>\n",
       "    <tr>\n",
       "      <th>1</th>\n",
       "      <td>Mahesh</td>\n",
       "      <td>Actor</td>\n",
       "      <td>NaN</td>\n",
       "    </tr>\n",
       "    <tr>\n",
       "      <th>2</th>\n",
       "      <td>Mahesh</td>\n",
       "      <td>Super Star</td>\n",
       "      <td>45.0</td>\n",
       "    </tr>\n",
       "    <tr>\n",
       "      <th>3</th>\n",
       "      <td>Arjun</td>\n",
       "      <td>NaN</td>\n",
       "      <td>55.0</td>\n",
       "    </tr>\n",
       "    <tr>\n",
       "      <th>4</th>\n",
       "      <td>Keerthana</td>\n",
       "      <td>Student</td>\n",
       "      <td>22.0</td>\n",
       "    </tr>\n",
       "    <tr>\n",
       "      <th>5</th>\n",
       "      <td>Pallavi</td>\n",
       "      <td>Teacher</td>\n",
       "      <td>35.0</td>\n",
       "    </tr>\n",
       "    <tr>\n",
       "      <th>6</th>\n",
       "      <td>Nagarjuna</td>\n",
       "      <td>Dancer</td>\n",
       "      <td>NaN</td>\n",
       "    </tr>\n",
       "    <tr>\n",
       "      <th>7</th>\n",
       "      <td>Ravi Teja</td>\n",
       "      <td>Actor</td>\n",
       "      <td>38.0</td>\n",
       "    </tr>\n",
       "  </tbody>\n",
       "</table>\n",
       "</div>"
      ],
      "text/plain": [
       "         Name  Profession   Age\n",
       "0  Pravallika     Student  20.0\n",
       "1      Mahesh       Actor   NaN\n",
       "2      Mahesh  Super Star  45.0\n",
       "3       Arjun         NaN  55.0\n",
       "4   Keerthana     Student  22.0\n",
       "5     Pallavi     Teacher  35.0\n",
       "6   Nagarjuna      Dancer   NaN\n",
       "7   Ravi Teja       Actor  38.0"
      ]
     },
     "execution_count": 9,
     "metadata": {},
     "output_type": "execute_result"
    }
   ],
   "source": [
    "temp.drop_duplicates(inplace=True)\n",
    "\n",
    "temp"
   ]
  },
  {
   "cell_type": "code",
   "execution_count": 10,
   "id": "e8ff09a0",
   "metadata": {},
   "outputs": [
    {
     "data": {
      "application/vnd.microsoft.datawrangler.viewer.v0+json": {
       "columns": [
        {
         "name": "index",
         "rawType": "int64",
         "type": "integer"
        },
        {
         "name": "Name",
         "rawType": "object",
         "type": "string"
        },
        {
         "name": "Profession",
         "rawType": "object",
         "type": "unknown"
        },
        {
         "name": "Age",
         "rawType": "float64",
         "type": "float"
        }
       ],
       "ref": "12237a34-9bc0-45b2-8eb1-bbd178bbe346",
       "rows": [
        [
         "3",
         "Arjun",
         null,
         "55.0"
        ],
        [
         "4",
         "Keerthana",
         "Student",
         "22.0"
        ],
        [
         "1",
         "Mahesh",
         "Actor",
         null
        ],
        [
         "2",
         "Mahesh",
         "Super Star",
         "45.0"
        ],
        [
         "6",
         "Nagarjuna",
         "Dancer",
         null
        ],
        [
         "5",
         "Pallavi",
         "Teacher",
         "35.0"
        ],
        [
         "0",
         "Pravallika",
         "Student",
         "20.0"
        ],
        [
         "7",
         "Ravi Teja",
         "Actor",
         "38.0"
        ]
       ],
       "shape": {
        "columns": 3,
        "rows": 8
       }
      },
      "text/html": [
       "<div>\n",
       "<style scoped>\n",
       "    .dataframe tbody tr th:only-of-type {\n",
       "        vertical-align: middle;\n",
       "    }\n",
       "\n",
       "    .dataframe tbody tr th {\n",
       "        vertical-align: top;\n",
       "    }\n",
       "\n",
       "    .dataframe thead th {\n",
       "        text-align: right;\n",
       "    }\n",
       "</style>\n",
       "<table border=\"1\" class=\"dataframe\">\n",
       "  <thead>\n",
       "    <tr style=\"text-align: right;\">\n",
       "      <th></th>\n",
       "      <th>Name</th>\n",
       "      <th>Profession</th>\n",
       "      <th>Age</th>\n",
       "    </tr>\n",
       "  </thead>\n",
       "  <tbody>\n",
       "    <tr>\n",
       "      <th>3</th>\n",
       "      <td>Arjun</td>\n",
       "      <td>NaN</td>\n",
       "      <td>55.0</td>\n",
       "    </tr>\n",
       "    <tr>\n",
       "      <th>4</th>\n",
       "      <td>Keerthana</td>\n",
       "      <td>Student</td>\n",
       "      <td>22.0</td>\n",
       "    </tr>\n",
       "    <tr>\n",
       "      <th>1</th>\n",
       "      <td>Mahesh</td>\n",
       "      <td>Actor</td>\n",
       "      <td>NaN</td>\n",
       "    </tr>\n",
       "    <tr>\n",
       "      <th>2</th>\n",
       "      <td>Mahesh</td>\n",
       "      <td>Super Star</td>\n",
       "      <td>45.0</td>\n",
       "    </tr>\n",
       "    <tr>\n",
       "      <th>6</th>\n",
       "      <td>Nagarjuna</td>\n",
       "      <td>Dancer</td>\n",
       "      <td>NaN</td>\n",
       "    </tr>\n",
       "    <tr>\n",
       "      <th>5</th>\n",
       "      <td>Pallavi</td>\n",
       "      <td>Teacher</td>\n",
       "      <td>35.0</td>\n",
       "    </tr>\n",
       "    <tr>\n",
       "      <th>0</th>\n",
       "      <td>Pravallika</td>\n",
       "      <td>Student</td>\n",
       "      <td>20.0</td>\n",
       "    </tr>\n",
       "    <tr>\n",
       "      <th>7</th>\n",
       "      <td>Ravi Teja</td>\n",
       "      <td>Actor</td>\n",
       "      <td>38.0</td>\n",
       "    </tr>\n",
       "  </tbody>\n",
       "</table>\n",
       "</div>"
      ],
      "text/plain": [
       "         Name  Profession   Age\n",
       "3       Arjun         NaN  55.0\n",
       "4   Keerthana     Student  22.0\n",
       "1      Mahesh       Actor   NaN\n",
       "2      Mahesh  Super Star  45.0\n",
       "6   Nagarjuna      Dancer   NaN\n",
       "5     Pallavi     Teacher  35.0\n",
       "0  Pravallika     Student  20.0\n",
       "7   Ravi Teja       Actor  38.0"
      ]
     },
     "execution_count": 10,
     "metadata": {},
     "output_type": "execute_result"
    }
   ],
   "source": [
    "temp.sort_values(by=\"Name\")"
   ]
  },
  {
   "cell_type": "code",
   "execution_count": 11,
   "id": "b2f4e458",
   "metadata": {},
   "outputs": [
    {
     "data": {
      "application/vnd.microsoft.datawrangler.viewer.v0+json": {
       "columns": [
        {
         "name": "index",
         "rawType": "int64",
         "type": "integer"
        },
        {
         "name": "Name",
         "rawType": "object",
         "type": "string"
        },
        {
         "name": "Profession",
         "rawType": "object",
         "type": "unknown"
        },
        {
         "name": "Age",
         "rawType": "float64",
         "type": "float"
        }
       ],
       "ref": "d0e06db7-79bf-4314-8648-e34c5576b430",
       "rows": [
        [
         "0",
         "Arjun",
         null,
         "55.0"
        ],
        [
         "1",
         "Keerthana",
         "Student",
         "22.0"
        ],
        [
         "2",
         "Mahesh",
         "Actor",
         null
        ],
        [
         "3",
         "Mahesh",
         "Super Star",
         "45.0"
        ],
        [
         "4",
         "Nagarjuna",
         "Dancer",
         null
        ],
        [
         "5",
         "Pallavi",
         "Teacher",
         "35.0"
        ],
        [
         "6",
         "Pravallika",
         "Student",
         "20.0"
        ],
        [
         "7",
         "Ravi Teja",
         "Actor",
         "38.0"
        ]
       ],
       "shape": {
        "columns": 3,
        "rows": 8
       }
      },
      "text/html": [
       "<div>\n",
       "<style scoped>\n",
       "    .dataframe tbody tr th:only-of-type {\n",
       "        vertical-align: middle;\n",
       "    }\n",
       "\n",
       "    .dataframe tbody tr th {\n",
       "        vertical-align: top;\n",
       "    }\n",
       "\n",
       "    .dataframe thead th {\n",
       "        text-align: right;\n",
       "    }\n",
       "</style>\n",
       "<table border=\"1\" class=\"dataframe\">\n",
       "  <thead>\n",
       "    <tr style=\"text-align: right;\">\n",
       "      <th></th>\n",
       "      <th>Name</th>\n",
       "      <th>Profession</th>\n",
       "      <th>Age</th>\n",
       "    </tr>\n",
       "  </thead>\n",
       "  <tbody>\n",
       "    <tr>\n",
       "      <th>0</th>\n",
       "      <td>Arjun</td>\n",
       "      <td>NaN</td>\n",
       "      <td>55.0</td>\n",
       "    </tr>\n",
       "    <tr>\n",
       "      <th>1</th>\n",
       "      <td>Keerthana</td>\n",
       "      <td>Student</td>\n",
       "      <td>22.0</td>\n",
       "    </tr>\n",
       "    <tr>\n",
       "      <th>2</th>\n",
       "      <td>Mahesh</td>\n",
       "      <td>Actor</td>\n",
       "      <td>NaN</td>\n",
       "    </tr>\n",
       "    <tr>\n",
       "      <th>3</th>\n",
       "      <td>Mahesh</td>\n",
       "      <td>Super Star</td>\n",
       "      <td>45.0</td>\n",
       "    </tr>\n",
       "    <tr>\n",
       "      <th>4</th>\n",
       "      <td>Nagarjuna</td>\n",
       "      <td>Dancer</td>\n",
       "      <td>NaN</td>\n",
       "    </tr>\n",
       "    <tr>\n",
       "      <th>5</th>\n",
       "      <td>Pallavi</td>\n",
       "      <td>Teacher</td>\n",
       "      <td>35.0</td>\n",
       "    </tr>\n",
       "    <tr>\n",
       "      <th>6</th>\n",
       "      <td>Pravallika</td>\n",
       "      <td>Student</td>\n",
       "      <td>20.0</td>\n",
       "    </tr>\n",
       "    <tr>\n",
       "      <th>7</th>\n",
       "      <td>Ravi Teja</td>\n",
       "      <td>Actor</td>\n",
       "      <td>38.0</td>\n",
       "    </tr>\n",
       "  </tbody>\n",
       "</table>\n",
       "</div>"
      ],
      "text/plain": [
       "         Name  Profession   Age\n",
       "0       Arjun         NaN  55.0\n",
       "1   Keerthana     Student  22.0\n",
       "2      Mahesh       Actor   NaN\n",
       "3      Mahesh  Super Star  45.0\n",
       "4   Nagarjuna      Dancer   NaN\n",
       "5     Pallavi     Teacher  35.0\n",
       "6  Pravallika     Student  20.0\n",
       "7   Ravi Teja       Actor  38.0"
      ]
     },
     "execution_count": 11,
     "metadata": {},
     "output_type": "execute_result"
    }
   ],
   "source": [
    "temp.sort_values(by=\"Name\").reset_index(drop=True)"
   ]
  },
  {
   "cell_type": "code",
   "execution_count": 12,
   "id": "5eef832c",
   "metadata": {},
   "outputs": [
    {
     "data": {
      "application/vnd.microsoft.datawrangler.viewer.v0+json": {
       "columns": [
        {
         "name": "Profession",
         "rawType": "object",
         "type": "string"
        },
        {
         "name": "Age",
         "rawType": "float64",
         "type": "float"
        }
       ],
       "ref": "f4867b20-46da-43ce-80bc-7bb1cf95b944",
       "rows": [
        [
         "Actor",
         "38.0"
        ],
        [
         "Dancer",
         null
        ],
        [
         "Student",
         "21.0"
        ],
        [
         "Super Star",
         "45.0"
        ],
        [
         "Teacher",
         "35.0"
        ]
       ],
       "shape": {
        "columns": 1,
        "rows": 5
       }
      },
      "text/plain": [
       "Profession\n",
       "Actor         38.0\n",
       "Dancer         NaN\n",
       "Student       21.0\n",
       "Super Star    45.0\n",
       "Teacher       35.0\n",
       "Name: Age, dtype: float64"
      ]
     },
     "execution_count": 12,
     "metadata": {},
     "output_type": "execute_result"
    }
   ],
   "source": [
    "temp.groupby(temp[\"Profession\"])[\"Age\"].mean()"
   ]
  },
  {
   "cell_type": "code",
   "execution_count": 13,
   "id": "f7dab091",
   "metadata": {},
   "outputs": [
    {
     "data": {
      "application/vnd.microsoft.datawrangler.viewer.v0+json": {
       "columns": [
        {
         "name": "Profession",
         "rawType": "object",
         "type": "string"
        },
        {
         "name": "Age",
         "rawType": "float64",
         "type": "float"
        }
       ],
       "ref": "e57a41b7-3e70-49c4-a430-90cc8e0b8c3b",
       "rows": [
        [
         "Actor",
         "38.0"
        ],
        [
         "Dancer",
         null
        ],
        [
         "Student",
         "20.0"
        ],
        [
         "Super Star",
         "45.0"
        ],
        [
         "Teacher",
         "35.0"
        ]
       ],
       "shape": {
        "columns": 1,
        "rows": 5
       }
      },
      "text/plain": [
       "Profession\n",
       "Actor         38.0\n",
       "Dancer         NaN\n",
       "Student       20.0\n",
       "Super Star    45.0\n",
       "Teacher       35.0\n",
       "Name: Age, dtype: float64"
      ]
     },
     "execution_count": 13,
     "metadata": {},
     "output_type": "execute_result"
    }
   ],
   "source": [
    "temp.groupby(temp[\"Profession\"])[\"Age\"].min()"
   ]
  },
  {
   "cell_type": "code",
   "execution_count": 14,
   "id": "4981f58a",
   "metadata": {},
   "outputs": [
    {
     "data": {
      "application/vnd.microsoft.datawrangler.viewer.v0+json": {
       "columns": [
        {
         "name": "Profession",
         "rawType": "object",
         "type": "string"
        },
        {
         "name": "Age",
         "rawType": "float64",
         "type": "float"
        }
       ],
       "ref": "524c7235-96af-4b5d-909b-f26ae48f2695",
       "rows": [
        [
         "Actor",
         "38.0"
        ],
        [
         "Dancer",
         null
        ],
        [
         "Student",
         "22.0"
        ],
        [
         "Super Star",
         "45.0"
        ],
        [
         "Teacher",
         "35.0"
        ]
       ],
       "shape": {
        "columns": 1,
        "rows": 5
       }
      },
      "text/plain": [
       "Profession\n",
       "Actor         38.0\n",
       "Dancer         NaN\n",
       "Student       22.0\n",
       "Super Star    45.0\n",
       "Teacher       35.0\n",
       "Name: Age, dtype: float64"
      ]
     },
     "execution_count": 14,
     "metadata": {},
     "output_type": "execute_result"
    }
   ],
   "source": [
    "temp.groupby(temp[\"Profession\"])[\"Age\"].max()"
   ]
  },
  {
   "cell_type": "code",
   "execution_count": 15,
   "id": "861e180d",
   "metadata": {},
   "outputs": [
    {
     "data": {
      "application/vnd.microsoft.datawrangler.viewer.v0+json": {
       "columns": [
        {
         "name": "index",
         "rawType": "int64",
         "type": "integer"
        },
        {
         "name": "Name",
         "rawType": "object",
         "type": "string"
        },
        {
         "name": "Profession",
         "rawType": "object",
         "type": "unknown"
        },
        {
         "name": "Age",
         "rawType": "float64",
         "type": "float"
        }
       ],
       "ref": "d43e4afc-cdd1-49e4-a518-1dee6f82f1a3",
       "rows": [
        [
         "0",
         "Pravallika",
         "Student",
         "20.0"
        ],
        [
         "1",
         "Mahesh",
         "Actor",
         null
        ],
        [
         "2",
         "Mahesh",
         "Super Star",
         "45.0"
        ],
        [
         "3",
         "Arjun",
         null,
         "55.0"
        ],
        [
         "4",
         "Keerthana",
         "Student",
         "22.0"
        ],
        [
         "5",
         "Pallavi",
         "Teacher",
         "35.0"
        ],
        [
         "6",
         "Nagarjuna",
         "Dancer",
         null
        ],
        [
         "7",
         "Ravi Teja",
         "Actor",
         "38.0"
        ]
       ],
       "shape": {
        "columns": 3,
        "rows": 8
       }
      },
      "text/html": [
       "<div>\n",
       "<style scoped>\n",
       "    .dataframe tbody tr th:only-of-type {\n",
       "        vertical-align: middle;\n",
       "    }\n",
       "\n",
       "    .dataframe tbody tr th {\n",
       "        vertical-align: top;\n",
       "    }\n",
       "\n",
       "    .dataframe thead th {\n",
       "        text-align: right;\n",
       "    }\n",
       "</style>\n",
       "<table border=\"1\" class=\"dataframe\">\n",
       "  <thead>\n",
       "    <tr style=\"text-align: right;\">\n",
       "      <th></th>\n",
       "      <th>Name</th>\n",
       "      <th>Profession</th>\n",
       "      <th>Age</th>\n",
       "    </tr>\n",
       "  </thead>\n",
       "  <tbody>\n",
       "    <tr>\n",
       "      <th>0</th>\n",
       "      <td>Pravallika</td>\n",
       "      <td>Student</td>\n",
       "      <td>20.0</td>\n",
       "    </tr>\n",
       "    <tr>\n",
       "      <th>1</th>\n",
       "      <td>Mahesh</td>\n",
       "      <td>Actor</td>\n",
       "      <td>NaN</td>\n",
       "    </tr>\n",
       "    <tr>\n",
       "      <th>2</th>\n",
       "      <td>Mahesh</td>\n",
       "      <td>Super Star</td>\n",
       "      <td>45.0</td>\n",
       "    </tr>\n",
       "    <tr>\n",
       "      <th>3</th>\n",
       "      <td>Arjun</td>\n",
       "      <td>NaN</td>\n",
       "      <td>55.0</td>\n",
       "    </tr>\n",
       "    <tr>\n",
       "      <th>4</th>\n",
       "      <td>Keerthana</td>\n",
       "      <td>Student</td>\n",
       "      <td>22.0</td>\n",
       "    </tr>\n",
       "    <tr>\n",
       "      <th>5</th>\n",
       "      <td>Pallavi</td>\n",
       "      <td>Teacher</td>\n",
       "      <td>35.0</td>\n",
       "    </tr>\n",
       "    <tr>\n",
       "      <th>6</th>\n",
       "      <td>Nagarjuna</td>\n",
       "      <td>Dancer</td>\n",
       "      <td>NaN</td>\n",
       "    </tr>\n",
       "    <tr>\n",
       "      <th>7</th>\n",
       "      <td>Ravi Teja</td>\n",
       "      <td>Actor</td>\n",
       "      <td>38.0</td>\n",
       "    </tr>\n",
       "  </tbody>\n",
       "</table>\n",
       "</div>"
      ],
      "text/plain": [
       "         Name  Profession   Age\n",
       "0  Pravallika     Student  20.0\n",
       "1      Mahesh       Actor   NaN\n",
       "2      Mahesh  Super Star  45.0\n",
       "3       Arjun         NaN  55.0\n",
       "4   Keerthana     Student  22.0\n",
       "5     Pallavi     Teacher  35.0\n",
       "6   Nagarjuna      Dancer   NaN\n",
       "7   Ravi Teja       Actor  38.0"
      ]
     },
     "execution_count": 15,
     "metadata": {},
     "output_type": "execute_result"
    }
   ],
   "source": [
    "temp"
   ]
  },
  {
   "cell_type": "code",
   "execution_count": 16,
   "id": "d0f25eb1",
   "metadata": {},
   "outputs": [
    {
     "data": {
      "application/vnd.microsoft.datawrangler.viewer.v0+json": {
       "columns": [
        {
         "name": "index",
         "rawType": "object",
         "type": "string"
        },
        {
         "name": "0",
         "rawType": "object",
         "type": "unknown"
        },
        {
         "name": "1",
         "rawType": "object",
         "type": "unknown"
        },
        {
         "name": "2",
         "rawType": "object",
         "type": "unknown"
        },
        {
         "name": "3",
         "rawType": "object",
         "type": "unknown"
        },
        {
         "name": "4",
         "rawType": "object",
         "type": "unknown"
        },
        {
         "name": "5",
         "rawType": "object",
         "type": "unknown"
        },
        {
         "name": "6",
         "rawType": "object",
         "type": "unknown"
        },
        {
         "name": "7",
         "rawType": "object",
         "type": "unknown"
        }
       ],
       "ref": "d4db81ac-c1d0-477d-8898-96abf83f2aea",
       "rows": [
        [
         "Name",
         "Pravallika",
         "Mahesh",
         "Mahesh",
         "Arjun",
         "Keerthana",
         "Pallavi",
         "Nagarjuna",
         "Ravi Teja"
        ],
        [
         "Profession",
         "Student",
         "Actor",
         "Super Star",
         null,
         "Student",
         "Teacher",
         "Dancer",
         "Actor"
        ],
        [
         "Age",
         "20.0",
         null,
         "45.0",
         "55.0",
         "22.0",
         "35.0",
         null,
         "38.0"
        ]
       ],
       "shape": {
        "columns": 8,
        "rows": 3
       }
      },
      "text/html": [
       "<div>\n",
       "<style scoped>\n",
       "    .dataframe tbody tr th:only-of-type {\n",
       "        vertical-align: middle;\n",
       "    }\n",
       "\n",
       "    .dataframe tbody tr th {\n",
       "        vertical-align: top;\n",
       "    }\n",
       "\n",
       "    .dataframe thead th {\n",
       "        text-align: right;\n",
       "    }\n",
       "</style>\n",
       "<table border=\"1\" class=\"dataframe\">\n",
       "  <thead>\n",
       "    <tr style=\"text-align: right;\">\n",
       "      <th></th>\n",
       "      <th>0</th>\n",
       "      <th>1</th>\n",
       "      <th>2</th>\n",
       "      <th>3</th>\n",
       "      <th>4</th>\n",
       "      <th>5</th>\n",
       "      <th>6</th>\n",
       "      <th>7</th>\n",
       "    </tr>\n",
       "  </thead>\n",
       "  <tbody>\n",
       "    <tr>\n",
       "      <th>Name</th>\n",
       "      <td>Pravallika</td>\n",
       "      <td>Mahesh</td>\n",
       "      <td>Mahesh</td>\n",
       "      <td>Arjun</td>\n",
       "      <td>Keerthana</td>\n",
       "      <td>Pallavi</td>\n",
       "      <td>Nagarjuna</td>\n",
       "      <td>Ravi Teja</td>\n",
       "    </tr>\n",
       "    <tr>\n",
       "      <th>Profession</th>\n",
       "      <td>Student</td>\n",
       "      <td>Actor</td>\n",
       "      <td>Super Star</td>\n",
       "      <td>NaN</td>\n",
       "      <td>Student</td>\n",
       "      <td>Teacher</td>\n",
       "      <td>Dancer</td>\n",
       "      <td>Actor</td>\n",
       "    </tr>\n",
       "    <tr>\n",
       "      <th>Age</th>\n",
       "      <td>20.0</td>\n",
       "      <td>NaN</td>\n",
       "      <td>45.0</td>\n",
       "      <td>55.0</td>\n",
       "      <td>22.0</td>\n",
       "      <td>35.0</td>\n",
       "      <td>NaN</td>\n",
       "      <td>38.0</td>\n",
       "    </tr>\n",
       "  </tbody>\n",
       "</table>\n",
       "</div>"
      ],
      "text/plain": [
       "                     0       1           2      3          4        5  \\\n",
       "Name        Pravallika  Mahesh      Mahesh  Arjun  Keerthana  Pallavi   \n",
       "Profession     Student   Actor  Super Star    NaN    Student  Teacher   \n",
       "Age               20.0     NaN        45.0   55.0       22.0     35.0   \n",
       "\n",
       "                    6          7  \n",
       "Name        Nagarjuna  Ravi Teja  \n",
       "Profession     Dancer      Actor  \n",
       "Age               NaN       38.0  "
      ]
     },
     "execution_count": 16,
     "metadata": {},
     "output_type": "execute_result"
    }
   ],
   "source": [
    "temp.T"
   ]
  }
 ],
 "metadata": {
  "kernelspec": {
   "display_name": ".venv",
   "language": "python",
   "name": "python3"
  },
  "language_info": {
   "codemirror_mode": {
    "name": "ipython",
    "version": 3
   },
   "file_extension": ".py",
   "mimetype": "text/x-python",
   "name": "python",
   "nbconvert_exporter": "python",
   "pygments_lexer": "ipython3",
   "version": "3.13.7"
  }
 },
 "nbformat": 4,
 "nbformat_minor": 5
}
