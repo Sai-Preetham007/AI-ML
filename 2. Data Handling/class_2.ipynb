{
 "cells": [
  {
   "cell_type": "markdown",
   "id": "085205e0",
   "metadata": {},
   "source": [
    "# Pandas"
   ]
  },
  {
   "cell_type": "code",
   "execution_count": 1,
   "id": "b34f018a",
   "metadata": {},
   "outputs": [],
   "source": [
    "# ! pip install pandas"
   ]
  },
  {
   "cell_type": "code",
   "execution_count": 2,
   "id": "94b92fcf",
   "metadata": {},
   "outputs": [],
   "source": [
    "import pandas as pd"
   ]
  },
  {
   "cell_type": "markdown",
   "id": "49f31de1",
   "metadata": {},
   "source": [
    "## read csv file."
   ]
  },
  {
   "cell_type": "code",
   "execution_count": null,
   "id": "844f634a",
   "metadata": {},
   "outputs": [
    {
     "data": {
      "text/html": [
       "<div>\n",
       "<style scoped>\n",
       "    .dataframe tbody tr th:only-of-type {\n",
       "        vertical-align: middle;\n",
       "    }\n",
       "\n",
       "    .dataframe tbody tr th {\n",
       "        vertical-align: top;\n",
       "    }\n",
       "\n",
       "    .dataframe thead th {\n",
       "        text-align: right;\n",
       "    }\n",
       "</style>\n",
       "<table border=\"1\" class=\"dataframe\">\n",
       "  <thead>\n",
       "    <tr style=\"text-align: right;\">\n",
       "      <th></th>\n",
       "      <th>title</th>\n",
       "      <th>synopsis</th>\n",
       "      <th>genres</th>\n",
       "      <th>episodes</th>\n",
       "      <th>score</th>\n",
       "      <th>characters</th>\n",
       "    </tr>\n",
       "  </thead>\n",
       "  <tbody>\n",
       "    <tr>\n",
       "      <th>0</th>\n",
       "      <td>Cowboy Bebop</td>\n",
       "      <td>Enter a world in the distant future, where Bou...</td>\n",
       "      <td>Action, Adventure, Drama, Sci-Fi</td>\n",
       "      <td>26.0</td>\n",
       "      <td>86</td>\n",
       "      <td>Spike Spiegel, Ein, Faye Valentine, Rhint Celo...</td>\n",
       "    </tr>\n",
       "    <tr>\n",
       "      <th>1</th>\n",
       "      <td>Cowboy Bebop: Tengoku no Tobira</td>\n",
       "      <td>As the Cowboy Bebop crew travels the stars, th...</td>\n",
       "      <td>Action, Drama, Mystery, Sci-Fi</td>\n",
       "      <td>1.0</td>\n",
       "      <td>82</td>\n",
       "      <td>Spike Spiegel, Ein, Faye Valentine, Lee Samson...</td>\n",
       "    </tr>\n",
       "    <tr>\n",
       "      <th>2</th>\n",
       "      <td>TRIGUN</td>\n",
       "      <td>Vash the Stampede is a wanted man with a habit...</td>\n",
       "      <td>Action, Adventure, Comedy, Drama, Sci-Fi</td>\n",
       "      <td>26.0</td>\n",
       "      <td>80</td>\n",
       "      <td>Kuroneko, Milly Thompson, Vash the Stampede, R...</td>\n",
       "    </tr>\n",
       "    <tr>\n",
       "      <th>3</th>\n",
       "      <td>Witch Hunter ROBIN</td>\n",
       "      <td>Robin Sena is a powerful craft user drafted in...</td>\n",
       "      <td>Action, Drama, Mystery, Supernatural</td>\n",
       "      <td>26.0</td>\n",
       "      <td>68</td>\n",
       "      <td>Haruto Sakaki, Akio Kurosawa, Amon, Miho Karas...</td>\n",
       "    </tr>\n",
       "    <tr>\n",
       "      <th>4</th>\n",
       "      <td>Bouken Ou Beet</td>\n",
       "      <td>It is the dark century and the people are suff...</td>\n",
       "      <td>Adventure, Fantasy, Supernatural</td>\n",
       "      <td>52.0</td>\n",
       "      <td>65</td>\n",
       "      <td>Kissu, Zenon, Beet, Poala, Beltoze, Milfa, Gru...</td>\n",
       "    </tr>\n",
       "    <tr>\n",
       "      <th>...</th>\n",
       "      <td>...</td>\n",
       "      <td>...</td>\n",
       "      <td>...</td>\n",
       "      <td>...</td>\n",
       "      <td>...</td>\n",
       "      <td>...</td>\n",
       "    </tr>\n",
       "    <tr>\n",
       "      <th>195</th>\n",
       "      <td>Kidou Senkan Nadesico</td>\n",
       "      <td>Akito doesn't want to fight. Despite a childho...</td>\n",
       "      <td>Action, Comedy, Mecha, Romance, Sci-Fi</td>\n",
       "      <td>26.0</td>\n",
       "      <td>73</td>\n",
       "      <td>Gai Daigouji, Tsukumo Shiratori, Genichirou Ts...</td>\n",
       "    </tr>\n",
       "    <tr>\n",
       "      <th>196</th>\n",
       "      <td>Kidou Senkan Nadesico: The prince of darkness</td>\n",
       "      <td>Two years have passed since the end of the \"Ma...</td>\n",
       "      <td>Action, Comedy, Drama, Mecha, Sci-Fi</td>\n",
       "      <td>1.0</td>\n",
       "      <td>64</td>\n",
       "      <td>Genichirou Tsukiomi, Hokushin, Saburouta Takas...</td>\n",
       "    </tr>\n",
       "    <tr>\n",
       "      <th>197</th>\n",
       "      <td>Kuro no Danshou</td>\n",
       "      <td>Based on the erotic game by Abogado Powers &amp; O...</td>\n",
       "      <td>Hentai, Horror, Mystery</td>\n",
       "      <td>4.0</td>\n",
       "      <td>45</td>\n",
       "      <td>Satoshi Suzusaki, Asuka Kashiwagi, Mina Shizui...</td>\n",
       "    </tr>\n",
       "    <tr>\n",
       "      <th>198</th>\n",
       "      <td>Mezzo Forte</td>\n",
       "      <td>Mikura, a member of a mercenary team, is asked...</td>\n",
       "      <td>Action, Comedy, Hentai, Sci-Fi</td>\n",
       "      <td>2.0</td>\n",
       "      <td>64</td>\n",
       "      <td>Momomi Momoi, Hirooka, Tomohisa Harada, Mikura...</td>\n",
       "    </tr>\n",
       "    <tr>\n",
       "      <th>199</th>\n",
       "      <td>MEZZO</td>\n",
       "      <td>Mikura, Kurokawa, and Harada are the 3 members...</td>\n",
       "      <td>Action, Adventure, Comedy, Mystery, Sci-Fi</td>\n",
       "      <td>13.0</td>\n",
       "      <td>62</td>\n",
       "      <td>Tomohisa Harada, Mugiyama Sayoki, Manon Asakur...</td>\n",
       "    </tr>\n",
       "  </tbody>\n",
       "</table>\n",
       "<p>200 rows × 6 columns</p>\n",
       "</div>"
      ],
      "text/plain": [
       "                                             title  \\\n",
       "0                                     Cowboy Bebop   \n",
       "1                  Cowboy Bebop: Tengoku no Tobira   \n",
       "2                                           TRIGUN   \n",
       "3                               Witch Hunter ROBIN   \n",
       "4                                   Bouken Ou Beet   \n",
       "..                                             ...   \n",
       "195                          Kidou Senkan Nadesico   \n",
       "196  Kidou Senkan Nadesico: The prince of darkness   \n",
       "197                                Kuro no Danshou   \n",
       "198                                    Mezzo Forte   \n",
       "199                                          MEZZO   \n",
       "\n",
       "                                              synopsis  \\\n",
       "0    Enter a world in the distant future, where Bou...   \n",
       "1    As the Cowboy Bebop crew travels the stars, th...   \n",
       "2    Vash the Stampede is a wanted man with a habit...   \n",
       "3    Robin Sena is a powerful craft user drafted in...   \n",
       "4    It is the dark century and the people are suff...   \n",
       "..                                                 ...   \n",
       "195  Akito doesn't want to fight. Despite a childho...   \n",
       "196  Two years have passed since the end of the \"Ma...   \n",
       "197  Based on the erotic game by Abogado Powers & O...   \n",
       "198  Mikura, a member of a mercenary team, is asked...   \n",
       "199  Mikura, Kurokawa, and Harada are the 3 members...   \n",
       "\n",
       "                                         genres  episodes  score  \\\n",
       "0              Action, Adventure, Drama, Sci-Fi      26.0     86   \n",
       "1                Action, Drama, Mystery, Sci-Fi       1.0     82   \n",
       "2      Action, Adventure, Comedy, Drama, Sci-Fi      26.0     80   \n",
       "3          Action, Drama, Mystery, Supernatural      26.0     68   \n",
       "4              Adventure, Fantasy, Supernatural      52.0     65   \n",
       "..                                          ...       ...    ...   \n",
       "195      Action, Comedy, Mecha, Romance, Sci-Fi      26.0     73   \n",
       "196        Action, Comedy, Drama, Mecha, Sci-Fi       1.0     64   \n",
       "197                     Hentai, Horror, Mystery       4.0     45   \n",
       "198              Action, Comedy, Hentai, Sci-Fi       2.0     64   \n",
       "199  Action, Adventure, Comedy, Mystery, Sci-Fi      13.0     62   \n",
       "\n",
       "                                            characters  \n",
       "0    Spike Spiegel, Ein, Faye Valentine, Rhint Celo...  \n",
       "1    Spike Spiegel, Ein, Faye Valentine, Lee Samson...  \n",
       "2    Kuroneko, Milly Thompson, Vash the Stampede, R...  \n",
       "3    Haruto Sakaki, Akio Kurosawa, Amon, Miho Karas...  \n",
       "4    Kissu, Zenon, Beet, Poala, Beltoze, Milfa, Gru...  \n",
       "..                                                 ...  \n",
       "195  Gai Daigouji, Tsukumo Shiratori, Genichirou Ts...  \n",
       "196  Genichirou Tsukiomi, Hokushin, Saburouta Takas...  \n",
       "197  Satoshi Suzusaki, Asuka Kashiwagi, Mina Shizui...  \n",
       "198  Momomi Momoi, Hirooka, Tomohisa Harada, Mikura...  \n",
       "199  Tomohisa Harada, Mugiyama Sayoki, Manon Asakur...  \n",
       "\n",
       "[200 rows x 6 columns]"
      ]
     },
     "metadata": {},
     "output_type": "display_data"
    }
   ],
   "source": [
    "df = pd.read_csv(\"/Users/saipreetham/Documents/AI-ML/Data_Sets/anime_recommendation_dataset.csv\")\n",
    "\n",
    "display(df)"
   ]
  },
  {
   "cell_type": "markdown",
   "id": "517e3425",
   "metadata": {},
   "source": [
    "### head ---> top 5 rows"
   ]
  },
  {
   "cell_type": "code",
   "execution_count": 4,
   "id": "17a4e1b3",
   "metadata": {},
   "outputs": [
    {
     "data": {
      "text/html": [
       "<div>\n",
       "<style scoped>\n",
       "    .dataframe tbody tr th:only-of-type {\n",
       "        vertical-align: middle;\n",
       "    }\n",
       "\n",
       "    .dataframe tbody tr th {\n",
       "        vertical-align: top;\n",
       "    }\n",
       "\n",
       "    .dataframe thead th {\n",
       "        text-align: right;\n",
       "    }\n",
       "</style>\n",
       "<table border=\"1\" class=\"dataframe\">\n",
       "  <thead>\n",
       "    <tr style=\"text-align: right;\">\n",
       "      <th></th>\n",
       "      <th>title</th>\n",
       "      <th>synopsis</th>\n",
       "      <th>genres</th>\n",
       "      <th>episodes</th>\n",
       "      <th>score</th>\n",
       "      <th>characters</th>\n",
       "    </tr>\n",
       "  </thead>\n",
       "  <tbody>\n",
       "    <tr>\n",
       "      <th>0</th>\n",
       "      <td>Cowboy Bebop</td>\n",
       "      <td>Enter a world in the distant future, where Bou...</td>\n",
       "      <td>Action, Adventure, Drama, Sci-Fi</td>\n",
       "      <td>26.0</td>\n",
       "      <td>86</td>\n",
       "      <td>Spike Spiegel, Ein, Faye Valentine, Rhint Celo...</td>\n",
       "    </tr>\n",
       "    <tr>\n",
       "      <th>1</th>\n",
       "      <td>Cowboy Bebop: Tengoku no Tobira</td>\n",
       "      <td>As the Cowboy Bebop crew travels the stars, th...</td>\n",
       "      <td>Action, Drama, Mystery, Sci-Fi</td>\n",
       "      <td>1.0</td>\n",
       "      <td>82</td>\n",
       "      <td>Spike Spiegel, Ein, Faye Valentine, Lee Samson...</td>\n",
       "    </tr>\n",
       "    <tr>\n",
       "      <th>2</th>\n",
       "      <td>TRIGUN</td>\n",
       "      <td>Vash the Stampede is a wanted man with a habit...</td>\n",
       "      <td>Action, Adventure, Comedy, Drama, Sci-Fi</td>\n",
       "      <td>26.0</td>\n",
       "      <td>80</td>\n",
       "      <td>Kuroneko, Milly Thompson, Vash the Stampede, R...</td>\n",
       "    </tr>\n",
       "    <tr>\n",
       "      <th>3</th>\n",
       "      <td>Witch Hunter ROBIN</td>\n",
       "      <td>Robin Sena is a powerful craft user drafted in...</td>\n",
       "      <td>Action, Drama, Mystery, Supernatural</td>\n",
       "      <td>26.0</td>\n",
       "      <td>68</td>\n",
       "      <td>Haruto Sakaki, Akio Kurosawa, Amon, Miho Karas...</td>\n",
       "    </tr>\n",
       "    <tr>\n",
       "      <th>4</th>\n",
       "      <td>Bouken Ou Beet</td>\n",
       "      <td>It is the dark century and the people are suff...</td>\n",
       "      <td>Adventure, Fantasy, Supernatural</td>\n",
       "      <td>52.0</td>\n",
       "      <td>65</td>\n",
       "      <td>Kissu, Zenon, Beet, Poala, Beltoze, Milfa, Gru...</td>\n",
       "    </tr>\n",
       "  </tbody>\n",
       "</table>\n",
       "</div>"
      ],
      "text/plain": [
       "                             title  \\\n",
       "0                     Cowboy Bebop   \n",
       "1  Cowboy Bebop: Tengoku no Tobira   \n",
       "2                           TRIGUN   \n",
       "3               Witch Hunter ROBIN   \n",
       "4                   Bouken Ou Beet   \n",
       "\n",
       "                                            synopsis  \\\n",
       "0  Enter a world in the distant future, where Bou...   \n",
       "1  As the Cowboy Bebop crew travels the stars, th...   \n",
       "2  Vash the Stampede is a wanted man with a habit...   \n",
       "3  Robin Sena is a powerful craft user drafted in...   \n",
       "4  It is the dark century and the people are suff...   \n",
       "\n",
       "                                     genres  episodes  score  \\\n",
       "0          Action, Adventure, Drama, Sci-Fi      26.0     86   \n",
       "1            Action, Drama, Mystery, Sci-Fi       1.0     82   \n",
       "2  Action, Adventure, Comedy, Drama, Sci-Fi      26.0     80   \n",
       "3      Action, Drama, Mystery, Supernatural      26.0     68   \n",
       "4          Adventure, Fantasy, Supernatural      52.0     65   \n",
       "\n",
       "                                          characters  \n",
       "0  Spike Spiegel, Ein, Faye Valentine, Rhint Celo...  \n",
       "1  Spike Spiegel, Ein, Faye Valentine, Lee Samson...  \n",
       "2  Kuroneko, Milly Thompson, Vash the Stampede, R...  \n",
       "3  Haruto Sakaki, Akio Kurosawa, Amon, Miho Karas...  \n",
       "4  Kissu, Zenon, Beet, Poala, Beltoze, Milfa, Gru...  "
      ]
     },
     "metadata": {},
     "output_type": "display_data"
    }
   ],
   "source": [
    "display(df.head())"
   ]
  },
  {
   "cell_type": "markdown",
   "id": "f56112f7",
   "metadata": {},
   "source": [
    "### tail ---> last 5 rows"
   ]
  },
  {
   "cell_type": "code",
   "execution_count": 5,
   "id": "db528fc0",
   "metadata": {},
   "outputs": [
    {
     "data": {
      "text/html": [
       "<div>\n",
       "<style scoped>\n",
       "    .dataframe tbody tr th:only-of-type {\n",
       "        vertical-align: middle;\n",
       "    }\n",
       "\n",
       "    .dataframe tbody tr th {\n",
       "        vertical-align: top;\n",
       "    }\n",
       "\n",
       "    .dataframe thead th {\n",
       "        text-align: right;\n",
       "    }\n",
       "</style>\n",
       "<table border=\"1\" class=\"dataframe\">\n",
       "  <thead>\n",
       "    <tr style=\"text-align: right;\">\n",
       "      <th></th>\n",
       "      <th>title</th>\n",
       "      <th>synopsis</th>\n",
       "      <th>genres</th>\n",
       "      <th>episodes</th>\n",
       "      <th>score</th>\n",
       "      <th>characters</th>\n",
       "    </tr>\n",
       "  </thead>\n",
       "  <tbody>\n",
       "    <tr>\n",
       "      <th>195</th>\n",
       "      <td>Kidou Senkan Nadesico</td>\n",
       "      <td>Akito doesn't want to fight. Despite a childho...</td>\n",
       "      <td>Action, Comedy, Mecha, Romance, Sci-Fi</td>\n",
       "      <td>26.0</td>\n",
       "      <td>73</td>\n",
       "      <td>Gai Daigouji, Tsukumo Shiratori, Genichirou Ts...</td>\n",
       "    </tr>\n",
       "    <tr>\n",
       "      <th>196</th>\n",
       "      <td>Kidou Senkan Nadesico: The prince of darkness</td>\n",
       "      <td>Two years have passed since the end of the \"Ma...</td>\n",
       "      <td>Action, Comedy, Drama, Mecha, Sci-Fi</td>\n",
       "      <td>1.0</td>\n",
       "      <td>64</td>\n",
       "      <td>Genichirou Tsukiomi, Hokushin, Saburouta Takas...</td>\n",
       "    </tr>\n",
       "    <tr>\n",
       "      <th>197</th>\n",
       "      <td>Kuro no Danshou</td>\n",
       "      <td>Based on the erotic game by Abogado Powers &amp; O...</td>\n",
       "      <td>Hentai, Horror, Mystery</td>\n",
       "      <td>4.0</td>\n",
       "      <td>45</td>\n",
       "      <td>Satoshi Suzusaki, Asuka Kashiwagi, Mina Shizui...</td>\n",
       "    </tr>\n",
       "    <tr>\n",
       "      <th>198</th>\n",
       "      <td>Mezzo Forte</td>\n",
       "      <td>Mikura, a member of a mercenary team, is asked...</td>\n",
       "      <td>Action, Comedy, Hentai, Sci-Fi</td>\n",
       "      <td>2.0</td>\n",
       "      <td>64</td>\n",
       "      <td>Momomi Momoi, Hirooka, Tomohisa Harada, Mikura...</td>\n",
       "    </tr>\n",
       "    <tr>\n",
       "      <th>199</th>\n",
       "      <td>MEZZO</td>\n",
       "      <td>Mikura, Kurokawa, and Harada are the 3 members...</td>\n",
       "      <td>Action, Adventure, Comedy, Mystery, Sci-Fi</td>\n",
       "      <td>13.0</td>\n",
       "      <td>62</td>\n",
       "      <td>Tomohisa Harada, Mugiyama Sayoki, Manon Asakur...</td>\n",
       "    </tr>\n",
       "  </tbody>\n",
       "</table>\n",
       "</div>"
      ],
      "text/plain": [
       "                                             title  \\\n",
       "195                          Kidou Senkan Nadesico   \n",
       "196  Kidou Senkan Nadesico: The prince of darkness   \n",
       "197                                Kuro no Danshou   \n",
       "198                                    Mezzo Forte   \n",
       "199                                          MEZZO   \n",
       "\n",
       "                                              synopsis  \\\n",
       "195  Akito doesn't want to fight. Despite a childho...   \n",
       "196  Two years have passed since the end of the \"Ma...   \n",
       "197  Based on the erotic game by Abogado Powers & O...   \n",
       "198  Mikura, a member of a mercenary team, is asked...   \n",
       "199  Mikura, Kurokawa, and Harada are the 3 members...   \n",
       "\n",
       "                                         genres  episodes  score  \\\n",
       "195      Action, Comedy, Mecha, Romance, Sci-Fi      26.0     73   \n",
       "196        Action, Comedy, Drama, Mecha, Sci-Fi       1.0     64   \n",
       "197                     Hentai, Horror, Mystery       4.0     45   \n",
       "198              Action, Comedy, Hentai, Sci-Fi       2.0     64   \n",
       "199  Action, Adventure, Comedy, Mystery, Sci-Fi      13.0     62   \n",
       "\n",
       "                                            characters  \n",
       "195  Gai Daigouji, Tsukumo Shiratori, Genichirou Ts...  \n",
       "196  Genichirou Tsukiomi, Hokushin, Saburouta Takas...  \n",
       "197  Satoshi Suzusaki, Asuka Kashiwagi, Mina Shizui...  \n",
       "198  Momomi Momoi, Hirooka, Tomohisa Harada, Mikura...  \n",
       "199  Tomohisa Harada, Mugiyama Sayoki, Manon Asakur...  "
      ]
     },
     "metadata": {},
     "output_type": "display_data"
    }
   ],
   "source": [
    "display(df.tail())"
   ]
  },
  {
   "cell_type": "code",
   "execution_count": 6,
   "id": "0dd7d990",
   "metadata": {},
   "outputs": [
    {
     "data": {
      "text/html": [
       "<div>\n",
       "<style scoped>\n",
       "    .dataframe tbody tr th:only-of-type {\n",
       "        vertical-align: middle;\n",
       "    }\n",
       "\n",
       "    .dataframe tbody tr th {\n",
       "        vertical-align: top;\n",
       "    }\n",
       "\n",
       "    .dataframe thead th {\n",
       "        text-align: right;\n",
       "    }\n",
       "</style>\n",
       "<table border=\"1\" class=\"dataframe\">\n",
       "  <thead>\n",
       "    <tr style=\"text-align: right;\">\n",
       "      <th></th>\n",
       "      <th>title</th>\n",
       "      <th>synopsis</th>\n",
       "      <th>genres</th>\n",
       "      <th>episodes</th>\n",
       "      <th>score</th>\n",
       "      <th>characters</th>\n",
       "    </tr>\n",
       "  </thead>\n",
       "  <tbody>\n",
       "    <tr>\n",
       "      <th>0</th>\n",
       "      <td>Cowboy Bebop</td>\n",
       "      <td>Enter a world in the distant future, where Bou...</td>\n",
       "      <td>Action, Adventure, Drama, Sci-Fi</td>\n",
       "      <td>26.0</td>\n",
       "      <td>86</td>\n",
       "      <td>Spike Spiegel, Ein, Faye Valentine, Rhint Celo...</td>\n",
       "    </tr>\n",
       "    <tr>\n",
       "      <th>1</th>\n",
       "      <td>Cowboy Bebop: Tengoku no Tobira</td>\n",
       "      <td>As the Cowboy Bebop crew travels the stars, th...</td>\n",
       "      <td>Action, Drama, Mystery, Sci-Fi</td>\n",
       "      <td>1.0</td>\n",
       "      <td>82</td>\n",
       "      <td>Spike Spiegel, Ein, Faye Valentine, Lee Samson...</td>\n",
       "    </tr>\n",
       "    <tr>\n",
       "      <th>2</th>\n",
       "      <td>TRIGUN</td>\n",
       "      <td>Vash the Stampede is a wanted man with a habit...</td>\n",
       "      <td>Action, Adventure, Comedy, Drama, Sci-Fi</td>\n",
       "      <td>26.0</td>\n",
       "      <td>80</td>\n",
       "      <td>Kuroneko, Milly Thompson, Vash the Stampede, R...</td>\n",
       "    </tr>\n",
       "  </tbody>\n",
       "</table>\n",
       "</div>"
      ],
      "text/plain": [
       "                             title  \\\n",
       "0                     Cowboy Bebop   \n",
       "1  Cowboy Bebop: Tengoku no Tobira   \n",
       "2                           TRIGUN   \n",
       "\n",
       "                                            synopsis  \\\n",
       "0  Enter a world in the distant future, where Bou...   \n",
       "1  As the Cowboy Bebop crew travels the stars, th...   \n",
       "2  Vash the Stampede is a wanted man with a habit...   \n",
       "\n",
       "                                     genres  episodes  score  \\\n",
       "0          Action, Adventure, Drama, Sci-Fi      26.0     86   \n",
       "1            Action, Drama, Mystery, Sci-Fi       1.0     82   \n",
       "2  Action, Adventure, Comedy, Drama, Sci-Fi      26.0     80   \n",
       "\n",
       "                                          characters  \n",
       "0  Spike Spiegel, Ein, Faye Valentine, Rhint Celo...  \n",
       "1  Spike Spiegel, Ein, Faye Valentine, Lee Samson...  \n",
       "2  Kuroneko, Milly Thompson, Vash the Stampede, R...  "
      ]
     },
     "metadata": {},
     "output_type": "display_data"
    },
    {
     "name": "stdout",
     "output_type": "stream",
     "text": [
      "\n"
     ]
    },
    {
     "data": {
      "text/html": [
       "<div>\n",
       "<style scoped>\n",
       "    .dataframe tbody tr th:only-of-type {\n",
       "        vertical-align: middle;\n",
       "    }\n",
       "\n",
       "    .dataframe tbody tr th {\n",
       "        vertical-align: top;\n",
       "    }\n",
       "\n",
       "    .dataframe thead th {\n",
       "        text-align: right;\n",
       "    }\n",
       "</style>\n",
       "<table border=\"1\" class=\"dataframe\">\n",
       "  <thead>\n",
       "    <tr style=\"text-align: right;\">\n",
       "      <th></th>\n",
       "      <th>title</th>\n",
       "      <th>synopsis</th>\n",
       "      <th>genres</th>\n",
       "      <th>episodes</th>\n",
       "      <th>score</th>\n",
       "      <th>characters</th>\n",
       "    </tr>\n",
       "  </thead>\n",
       "  <tbody>\n",
       "    <tr>\n",
       "      <th>199</th>\n",
       "      <td>MEZZO</td>\n",
       "      <td>Mikura, Kurokawa, and Harada are the 3 members...</td>\n",
       "      <td>Action, Adventure, Comedy, Mystery, Sci-Fi</td>\n",
       "      <td>13.0</td>\n",
       "      <td>62</td>\n",
       "      <td>Tomohisa Harada, Mugiyama Sayoki, Manon Asakur...</td>\n",
       "    </tr>\n",
       "  </tbody>\n",
       "</table>\n",
       "</div>"
      ],
      "text/plain": [
       "     title                                           synopsis  \\\n",
       "199  MEZZO  Mikura, Kurokawa, and Harada are the 3 members...   \n",
       "\n",
       "                                         genres  episodes  score  \\\n",
       "199  Action, Adventure, Comedy, Mystery, Sci-Fi      13.0     62   \n",
       "\n",
       "                                            characters  \n",
       "199  Tomohisa Harada, Mugiyama Sayoki, Manon Asakur...  "
      ]
     },
     "metadata": {},
     "output_type": "display_data"
    }
   ],
   "source": [
    "display(df.head(3))\n",
    "print()\n",
    "display(df.tail(1))"
   ]
  },
  {
   "cell_type": "markdown",
   "id": "6eb17319",
   "metadata": {},
   "source": [
    "## creating a dataframe"
   ]
  },
  {
   "cell_type": "code",
   "execution_count": 7,
   "id": "a1e113fe",
   "metadata": {},
   "outputs": [
    {
     "data": {
      "text/html": [
       "<div>\n",
       "<style scoped>\n",
       "    .dataframe tbody tr th:only-of-type {\n",
       "        vertical-align: middle;\n",
       "    }\n",
       "\n",
       "    .dataframe tbody tr th {\n",
       "        vertical-align: top;\n",
       "    }\n",
       "\n",
       "    .dataframe thead th {\n",
       "        text-align: right;\n",
       "    }\n",
       "</style>\n",
       "<table border=\"1\" class=\"dataframe\">\n",
       "  <thead>\n",
       "    <tr style=\"text-align: right;\">\n",
       "      <th></th>\n",
       "      <th>SUC_Code</th>\n",
       "      <th>Std_Name</th>\n",
       "    </tr>\n",
       "  </thead>\n",
       "  <tbody>\n",
       "    <tr>\n",
       "      <th>0</th>\n",
       "      <td>2454640258</td>\n",
       "      <td>Siri Varshini</td>\n",
       "    </tr>\n",
       "    <tr>\n",
       "      <th>1</th>\n",
       "      <td>2454640259</td>\n",
       "      <td>Rohini</td>\n",
       "    </tr>\n",
       "    <tr>\n",
       "      <th>2</th>\n",
       "      <td>2454640260</td>\n",
       "      <td>Yamini</td>\n",
       "    </tr>\n",
       "  </tbody>\n",
       "</table>\n",
       "</div>"
      ],
      "text/plain": [
       "     SUC_Code       Std_Name\n",
       "0  2454640258  Siri Varshini\n",
       "1  2454640259         Rohini\n",
       "2  2454640260         Yamini"
      ]
     },
     "metadata": {},
     "output_type": "display_data"
    }
   ],
   "source": [
    "students = {\n",
    "    \"SUC_Code\" : [2454640258, 2454640259, 2454640260],\n",
    "    \"Std_Name\" : [\"Siri Varshini\", \"Rohini\", \"Yamini\"]\n",
    "}\n",
    "\n",
    "students_df = pd.DataFrame(students)\n",
    "\n",
    "display(students_df)"
   ]
  },
  {
   "cell_type": "code",
   "execution_count": 8,
   "id": "845625a9",
   "metadata": {},
   "outputs": [
    {
     "data": {
      "text/html": [
       "<div>\n",
       "<style scoped>\n",
       "    .dataframe tbody tr th:only-of-type {\n",
       "        vertical-align: middle;\n",
       "    }\n",
       "\n",
       "    .dataframe tbody tr th {\n",
       "        vertical-align: top;\n",
       "    }\n",
       "\n",
       "    .dataframe thead th {\n",
       "        text-align: right;\n",
       "    }\n",
       "</style>\n",
       "<table border=\"1\" class=\"dataframe\">\n",
       "  <thead>\n",
       "    <tr style=\"text-align: right;\">\n",
       "      <th></th>\n",
       "      <th>SUC_Code</th>\n",
       "      <th>Std_Name</th>\n",
       "    </tr>\n",
       "  </thead>\n",
       "  <tbody>\n",
       "    <tr>\n",
       "      <th>a</th>\n",
       "      <td>2454640258</td>\n",
       "      <td>Siri Varshini</td>\n",
       "    </tr>\n",
       "    <tr>\n",
       "      <th>b</th>\n",
       "      <td>2454640259</td>\n",
       "      <td>Rohini</td>\n",
       "    </tr>\n",
       "    <tr>\n",
       "      <th>c</th>\n",
       "      <td>2454640260</td>\n",
       "      <td>Yamini</td>\n",
       "    </tr>\n",
       "  </tbody>\n",
       "</table>\n",
       "</div>"
      ],
      "text/plain": [
       "     SUC_Code       Std_Name\n",
       "a  2454640258  Siri Varshini\n",
       "b  2454640259         Rohini\n",
       "c  2454640260         Yamini"
      ]
     },
     "metadata": {},
     "output_type": "display_data"
    }
   ],
   "source": [
    "students = {\n",
    "    \"SUC_Code\" : [2454640258, 2454640259, 2454640260],\n",
    "    \"Std_Name\" : [\"Siri Varshini\", \"Rohini\", \"Yamini\"]\n",
    "}\n",
    "\n",
    "students_df = pd.DataFrame(students, index=[\"a\", \"b\", \"c\"])\n",
    "\n",
    "display(students_df)"
   ]
  },
  {
   "cell_type": "markdown",
   "id": "e0b1e18d",
   "metadata": {},
   "source": [
    "## accessing data\n",
    "* loc\n",
    "* iloc"
   ]
  },
  {
   "cell_type": "code",
   "execution_count": 9,
   "id": "c83bf7a8",
   "metadata": {},
   "outputs": [
    {
     "data": {
      "text/plain": [
       "SUC_Code    2454640260\n",
       "Std_Name        Yamini\n",
       "Name: c, dtype: object"
      ]
     },
     "execution_count": 9,
     "metadata": {},
     "output_type": "execute_result"
    }
   ],
   "source": [
    "students_df.loc[\"c\"]"
   ]
  },
  {
   "cell_type": "code",
   "execution_count": 10,
   "id": "3205f777",
   "metadata": {},
   "outputs": [
    {
     "data": {
      "text/plain": [
       "SUC_Code       2454640258\n",
       "Std_Name    Siri Varshini\n",
       "Name: a, dtype: object"
      ]
     },
     "execution_count": 10,
     "metadata": {},
     "output_type": "execute_result"
    }
   ],
   "source": [
    "students_df.iloc[0]"
   ]
  },
  {
   "cell_type": "code",
   "execution_count": 11,
   "id": "bae86c12",
   "metadata": {},
   "outputs": [
    {
     "name": "stdout",
     "output_type": "stream",
     "text": [
      "Rohini\n"
     ]
    }
   ],
   "source": [
    "print(students_df.loc[\"b\", \"Std_Name\"])"
   ]
  },
  {
   "cell_type": "code",
   "execution_count": 12,
   "id": "381e56d6",
   "metadata": {},
   "outputs": [
    {
     "name": "stdout",
     "output_type": "stream",
     "text": [
      "Rohini\n"
     ]
    }
   ],
   "source": [
    "print(students_df.iloc[1, 1])"
   ]
  },
  {
   "cell_type": "code",
   "execution_count": 13,
   "id": "e2b1c2a5",
   "metadata": {},
   "outputs": [
    {
     "name": "stdout",
     "output_type": "stream",
     "text": [
      "2454640260\n"
     ]
    }
   ],
   "source": [
    "print(students_df.loc[\"c\", \"SUC_Code\"])"
   ]
  },
  {
   "cell_type": "code",
   "execution_count": 14,
   "id": "f6edf28d",
   "metadata": {},
   "outputs": [
    {
     "name": "stdout",
     "output_type": "stream",
     "text": [
      "2454640260\n"
     ]
    }
   ],
   "source": [
    "print(students_df.iloc[2, 0])"
   ]
  },
  {
   "cell_type": "code",
   "execution_count": 15,
   "id": "e05f5177",
   "metadata": {},
   "outputs": [
    {
     "data": {
      "text/plain": [
       "a    Siri Varshini\n",
       "b           Rohini\n",
       "c           Yamini\n",
       "Name: Std_Name, dtype: object"
      ]
     },
     "execution_count": 15,
     "metadata": {},
     "output_type": "execute_result"
    }
   ],
   "source": [
    "students_df[\"Std_Name\"]"
   ]
  },
  {
   "cell_type": "code",
   "execution_count": 16,
   "id": "5522e1a4",
   "metadata": {},
   "outputs": [
    {
     "name": "stdout",
     "output_type": "stream",
     "text": [
      "<class 'pandas.core.frame.DataFrame'>\n",
      "Index: 3 entries, a to c\n",
      "Data columns (total 2 columns):\n",
      " #   Column    Non-Null Count  Dtype \n",
      "---  ------    --------------  ----- \n",
      " 0   SUC_Code  3 non-null      int64 \n",
      " 1   Std_Name  3 non-null      object\n",
      "dtypes: int64(1), object(1)\n",
      "memory usage: 180.0+ bytes\n"
     ]
    }
   ],
   "source": [
    "students_df.info()"
   ]
  }
 ],
 "metadata": {
  "kernelspec": {
   "display_name": ".venv",
   "language": "python",
   "name": "python3"
  },
  "language_info": {
   "codemirror_mode": {
    "name": "ipython",
    "version": 3
   },
   "file_extension": ".py",
   "mimetype": "text/x-python",
   "name": "python",
   "nbconvert_exporter": "python",
   "pygments_lexer": "ipython3",
   "version": "3.13.7"
  }
 },
 "nbformat": 4,
 "nbformat_minor": 5
}
