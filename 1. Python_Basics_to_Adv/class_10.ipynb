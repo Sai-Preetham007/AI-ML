{
 "cells": [
  {
   "cell_type": "markdown",
   "id": "197be733",
   "metadata": {},
   "source": [
    "# Virtual Environment and file handling"
   ]
  },
  {
   "cell_type": "code",
   "execution_count": 1,
   "id": "4b382a94",
   "metadata": {},
   "outputs": [],
   "source": [
    "# ! pip install virtualenv"
   ]
  },
  {
   "cell_type": "code",
   "execution_count": 2,
   "id": "58d6f993",
   "metadata": {},
   "outputs": [],
   "source": [
    "f = open(\"/Users/saipreetham/Documents/AI-ML/demo.txt\", \"r\")"
   ]
  },
  {
   "cell_type": "code",
   "execution_count": 3,
   "id": "16abf5c4",
   "metadata": {},
   "outputs": [
    {
     "name": "stdout",
     "output_type": "stream",
     "text": [
      "Hello World!\n",
      "Welcome to Python Course\n"
     ]
    }
   ],
   "source": [
    "print(f.read())"
   ]
  },
  {
   "cell_type": "code",
   "execution_count": 4,
   "id": "d3f30865",
   "metadata": {},
   "outputs": [
    {
     "name": "stdout",
     "output_type": "stream",
     "text": [
      "\n"
     ]
    }
   ],
   "source": [
    "print(f.read())"
   ]
  },
  {
   "cell_type": "code",
   "execution_count": 5,
   "id": "5c8706b2",
   "metadata": {},
   "outputs": [],
   "source": [
    "f = open(\"/Users/saipreetham/Documents/AI-ML/demo.txt\", \"r\")"
   ]
  },
  {
   "cell_type": "code",
   "execution_count": 6,
   "id": "c3f7f3d5",
   "metadata": {},
   "outputs": [
    {
     "name": "stdout",
     "output_type": "stream",
     "text": [
      "Hello World!\n",
      "\n"
     ]
    }
   ],
   "source": [
    "print(f.readline())"
   ]
  },
  {
   "cell_type": "code",
   "execution_count": 7,
   "id": "9957ad85",
   "metadata": {},
   "outputs": [
    {
     "name": "stdout",
     "output_type": "stream",
     "text": [
      "Welcome to Python Course\n"
     ]
    }
   ],
   "source": [
    "print(f.readline())"
   ]
  },
  {
   "cell_type": "code",
   "execution_count": 8,
   "id": "25d582ca",
   "metadata": {},
   "outputs": [],
   "source": [
    "f = open(\"/Users/saipreetham/Documents/AI-ML/demo.txt\", \"r\")"
   ]
  },
  {
   "cell_type": "code",
   "execution_count": 9,
   "id": "80444da7",
   "metadata": {},
   "outputs": [
    {
     "name": "stdout",
     "output_type": "stream",
     "text": [
      "['Hello World!\\n', 'Welcome to Python Course']\n"
     ]
    }
   ],
   "source": [
    "print(f.readlines())"
   ]
  },
  {
   "cell_type": "code",
   "execution_count": 10,
   "id": "f6b46a6e",
   "metadata": {},
   "outputs": [],
   "source": [
    "f = open(\"/Users/saipreetham/Documents/AI-ML/demo.txt\", \"r\")"
   ]
  },
  {
   "cell_type": "code",
   "execution_count": 11,
   "id": "c4a4fb79",
   "metadata": {},
   "outputs": [],
   "source": [
    "with open(\"/Users/saipreetham/Documents/AI-ML/demo.txt\", \"a\") as f:\n",
    "    f.write(\"\\nI am tottaly fine.\")"
   ]
  },
  {
   "cell_type": "code",
   "execution_count": 12,
   "id": "b8d0dcee",
   "metadata": {},
   "outputs": [
    {
     "name": "stdout",
     "output_type": "stream",
     "text": [
      "Hello World!\n",
      "Welcome to Python Course\n",
      "I am tottaly fine.\n"
     ]
    }
   ],
   "source": [
    "with open(\"/Users/saipreetham/Documents/AI-ML/demo.txt\", \"r\") as f:\n",
    "    print(f.read())"
   ]
  },
  {
   "cell_type": "code",
   "execution_count": 13,
   "id": "8ce341a6",
   "metadata": {},
   "outputs": [],
   "source": [
    "# with open(\"/Users/saipreetham/Documents/AI-ML/demo.txt\", \"w\") as f:\n",
    "#     f.write(\"I am tottaly fine.\")\n",
    "\n",
    "# with open(\"/Users/saipreetham/Documents/AI-ML/demo.txt\", \"r\") as f:\n",
    "#     print(f.read())"
   ]
  }
 ],
 "metadata": {
  "kernelspec": {
   "display_name": ".venv",
   "language": "python",
   "name": "python3"
  },
  "language_info": {
   "codemirror_mode": {
    "name": "ipython",
    "version": 3
   },
   "file_extension": ".py",
   "mimetype": "text/x-python",
   "name": "python",
   "nbconvert_exporter": "python",
   "pygments_lexer": "ipython3",
   "version": "3.13.7"
  }
 },
 "nbformat": 4,
 "nbformat_minor": 5
}
