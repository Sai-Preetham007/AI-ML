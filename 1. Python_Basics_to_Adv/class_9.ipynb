{
 "cells": [
  {
   "cell_type": "markdown",
   "id": "98f4f160",
   "metadata": {},
   "source": [
    "# Functions"
   ]
  },
  {
   "cell_type": "markdown",
   "id": "0e482479",
   "metadata": {},
   "source": [
    "### creating a function"
   ]
  },
  {
   "cell_type": "code",
   "execution_count": 1,
   "id": "17cad234",
   "metadata": {},
   "outputs": [],
   "source": [
    "def add_to_numbers():\n",
    "    pass"
   ]
  },
  {
   "cell_type": "markdown",
   "id": "e809496f",
   "metadata": {},
   "source": [
    "### call the function"
   ]
  },
  {
   "cell_type": "code",
   "execution_count": 2,
   "id": "91b2144e",
   "metadata": {},
   "outputs": [
    {
     "name": "stdout",
     "output_type": "stream",
     "text": [
      "None\n"
     ]
    }
   ],
   "source": [
    "print(add_to_numbers())"
   ]
  },
  {
   "cell_type": "code",
   "execution_count": 3,
   "id": "4bdf35fa",
   "metadata": {},
   "outputs": [
    {
     "name": "stdout",
     "output_type": "stream",
     "text": [
      "Hello World!\n"
     ]
    }
   ],
   "source": [
    "def add_to_numbers():\n",
    "    print(\"Hello World!\")\n",
    "\n",
    "add_to_numbers()"
   ]
  },
  {
   "cell_type": "code",
   "execution_count": 4,
   "id": "3b47d3cd",
   "metadata": {},
   "outputs": [
    {
     "name": "stdout",
     "output_type": "stream",
     "text": [
      "Bye\n"
     ]
    }
   ],
   "source": [
    "def add_to_numbers():\n",
    "    return \"Bye\"\n",
    "\n",
    "print(add_to_numbers())"
   ]
  },
  {
   "cell_type": "code",
   "execution_count": 5,
   "id": "df0067d1",
   "metadata": {},
   "outputs": [
    {
     "name": "stdout",
     "output_type": "stream",
     "text": [
      "Hello World!\n",
      "Bye\n"
     ]
    }
   ],
   "source": [
    "def add_to_numbers():\n",
    "    print(\"Hello World!\")\n",
    "    return \"Bye\"\n",
    "\n",
    "print(add_to_numbers())"
   ]
  },
  {
   "cell_type": "code",
   "execution_count": 6,
   "id": "f990236b",
   "metadata": {},
   "outputs": [
    {
     "name": "stdout",
     "output_type": "stream",
     "text": [
      "preetham\n"
     ]
    }
   ],
   "source": [
    "def student_name(s):\n",
    "    return s\n",
    "\n",
    "print(student_name(\"preetham\"))"
   ]
  },
  {
   "cell_type": "code",
   "execution_count": 7,
   "id": "5d271fbf",
   "metadata": {},
   "outputs": [
    {
     "name": "stdout",
     "output_type": "stream",
     "text": [
      "SAI\n",
      "PRASANNA\n",
      "KISHORE\n",
      "SWATHI\n",
      "PRIYA\n"
     ]
    }
   ],
   "source": [
    "std1 = \"sai\"\n",
    "std2 = \"prasanna\"\n",
    "std3 = \"kishore\"\n",
    "std4 = \"swathi\"\n",
    "std5 = \"priya\"\n",
    "\n",
    "print(std1.upper())\n",
    "print(std2.upper())\n",
    "print(std3.upper())\n",
    "print(std4.upper())\n",
    "print(std5.upper())"
   ]
  },
  {
   "cell_type": "code",
   "execution_count": 8,
   "id": "b29a1921",
   "metadata": {},
   "outputs": [
    {
     "name": "stdout",
     "output_type": "stream",
     "text": [
      "SAI\n",
      "PRASANNA\n",
      "KISHORE\n",
      "SWATHI\n",
      "PRIYA\n"
     ]
    }
   ],
   "source": [
    "def student_name(s):\n",
    "    return s.upper()\n",
    "\n",
    "print(student_name(std1))\n",
    "print(student_name(std2))\n",
    "print(student_name(std3))\n",
    "print(student_name(std4))\n",
    "print(student_name(std5))"
   ]
  },
  {
   "cell_type": "code",
   "execution_count": 9,
   "id": "1e6743b9",
   "metadata": {},
   "outputs": [
    {
     "name": "stdout",
     "output_type": "stream",
     "text": [
      "SAIPreetham\n"
     ]
    }
   ],
   "source": [
    "def student_name(s):\n",
    "    return s.upper() + \"Preetham\"\n",
    "\n",
    "print(student_name(std1))"
   ]
  },
  {
   "cell_type": "code",
   "execution_count": 10,
   "id": "93a3ac6c",
   "metadata": {},
   "outputs": [
    {
     "name": "stdout",
     "output_type": "stream",
     "text": [
      "SAIPREETHAM\n"
     ]
    }
   ],
   "source": [
    "def student_name(s):\n",
    "    return (s + \"Preetham\").upper()\n",
    "\n",
    "print(student_name(std1))"
   ]
  },
  {
   "cell_type": "code",
   "execution_count": 11,
   "id": "2319954a",
   "metadata": {},
   "outputs": [
    {
     "name": "stdout",
     "output_type": "stream",
     "text": [
      "9\n"
     ]
    }
   ],
   "source": [
    "def add_two_numbers(a, b):\n",
    "    return a + b\n",
    "\n",
    "print(add_two_numbers(5, 4))"
   ]
  },
  {
   "cell_type": "code",
   "execution_count": 12,
   "id": "3363b3bc",
   "metadata": {},
   "outputs": [
    {
     "name": "stdout",
     "output_type": "stream",
     "text": [
      "(1, 2, 3, 4, 5, 6, 7, 8, 9, 10)\n"
     ]
    }
   ],
   "source": [
    "def add_multiple_numbers(*x):\n",
    "    return x\n",
    "\n",
    "print(add_multiple_numbers(1,2,3,4,5,6,7,8,9,10))"
   ]
  },
  {
   "cell_type": "code",
   "execution_count": 13,
   "id": "3a9cdc7d",
   "metadata": {},
   "outputs": [
    {
     "name": "stdout",
     "output_type": "stream",
     "text": [
      "(1, 2, 3, 4, 5, 6, 7, 8, 9, 10)\n",
      "(11, 22, 33)\n"
     ]
    }
   ],
   "source": [
    "def add_multiple_numbers(*x):\n",
    "    return x\n",
    "\n",
    "print(add_multiple_numbers(1,2,3,4,5,6,7,8,9,10))\n",
    "print(add_multiple_numbers(11,22,33))"
   ]
  },
  {
   "cell_type": "code",
   "execution_count": 14,
   "id": "9b229f0f",
   "metadata": {},
   "outputs": [
    {
     "name": "stdout",
     "output_type": "stream",
     "text": [
      "Sum of all the values : 55\n",
      "Sum of all the values : 66\n"
     ]
    }
   ],
   "source": [
    "def add_multiple_numbers(*x):\n",
    "    res = 0\n",
    "    for i in x:\n",
    "        res += i\n",
    "\n",
    "    return f\"Sum of all the values : {res}\"\n",
    "\n",
    "print(add_multiple_numbers(1,2,3,4,5,6,7,8,9,10))\n",
    "print(add_multiple_numbers(11,22,33))"
   ]
  },
  {
   "cell_type": "code",
   "execution_count": 15,
   "id": "19335454",
   "metadata": {},
   "outputs": [
    {
     "name": "stdout",
     "output_type": "stream",
     "text": [
      "['SAI', 'PREETHAM', 'KISHORE', 'SUBHA']\n"
     ]
    }
   ],
   "source": [
    "def convert_multiple_values_to_upper(*s):\n",
    "    res = []\n",
    "    for i in s:\n",
    "        temp = i.upper()\n",
    "        res.append(temp)\n",
    "\n",
    "    return res\n",
    "\n",
    "print(convert_multiple_values_to_upper(\"sai\", \"preetham\", \"kishore\", \"subha\"))"
   ]
  },
  {
   "cell_type": "code",
   "execution_count": 16,
   "id": "32470e3f",
   "metadata": {},
   "outputs": [
    {
     "name": "stdout",
     "output_type": "stream",
     "text": [
      "['PRIYA', 'SURESH', 'LAVANYA', 'OMKAR']\n"
     ]
    }
   ],
   "source": [
    "def convert_multiple_values_to_upper(*s):\n",
    "    return [i.upper() for i in s]\n",
    "\n",
    "print(convert_multiple_values_to_upper(\"priya\", \"suresh\", \"lavanya\", \"omkar\"))"
   ]
  }
 ],
 "metadata": {
  "kernelspec": {
   "display_name": ".venv",
   "language": "python",
   "name": "python3"
  },
  "language_info": {
   "codemirror_mode": {
    "name": "ipython",
    "version": 3
   },
   "file_extension": ".py",
   "mimetype": "text/x-python",
   "name": "python",
   "nbconvert_exporter": "python",
   "pygments_lexer": "ipython3",
   "version": "3.13.7"
  }
 },
 "nbformat": 4,
 "nbformat_minor": 5
}
