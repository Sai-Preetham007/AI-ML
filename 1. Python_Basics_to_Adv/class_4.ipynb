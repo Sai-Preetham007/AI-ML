{
 "cells": [
  {
   "cell_type": "markdown",
   "id": "fc22d249",
   "metadata": {},
   "source": [
    "# List"
   ]
  },
  {
   "cell_type": "code",
   "execution_count": 1,
   "id": "c4e20293",
   "metadata": {},
   "outputs": [],
   "source": [
    "# std1 = \"sai\"\n",
    "# std2 = \"anjana\"\n",
    "# std3 = \"sharmila\"\n",
    "# std4 = \"pavani\""
   ]
  },
  {
   "cell_type": "markdown",
   "id": "9b9d9991",
   "metadata": {},
   "source": [
    "### creating list with elements"
   ]
  },
  {
   "cell_type": "code",
   "execution_count": 2,
   "id": "1a5263c5",
   "metadata": {},
   "outputs": [
    {
     "name": "stdout",
     "output_type": "stream",
     "text": [
      "[1, 2, 3, 4]\n"
     ]
    }
   ],
   "source": [
    "temp = list((1,2,3,4))\n",
    "\n",
    "print(temp)"
   ]
  },
  {
   "cell_type": "code",
   "execution_count": 3,
   "id": "29e5e97a",
   "metadata": {},
   "outputs": [],
   "source": [
    "students = [\"Sai Preetham\", \"Anajana\", \"Sharmila\", \"Pavani\", \"Krishna\", \"Tejaswari\"]\n",
    "ages = [24, 20, 21, 19]\n",
    "\n",
    "emp_details = [\"Sai Preetham\", 25, \"90.24k\", \"+918106338469\", \"Willos-536, Rain Tree Park, Dwaraka Krishna, Guntur\"]"
   ]
  },
  {
   "cell_type": "code",
   "execution_count": 4,
   "id": "b014a459",
   "metadata": {},
   "outputs": [
    {
     "data": {
      "text/plain": [
       "6"
      ]
     },
     "execution_count": 4,
     "metadata": {},
     "output_type": "execute_result"
    }
   ],
   "source": [
    "len(students)"
   ]
  },
  {
   "cell_type": "markdown",
   "id": "b7d087b0",
   "metadata": {},
   "source": [
    "### accessing elements using indexing"
   ]
  },
  {
   "cell_type": "code",
   "execution_count": 5,
   "id": "9a502a4d",
   "metadata": {},
   "outputs": [
    {
     "name": "stdout",
     "output_type": "stream",
     "text": [
      "Sai Preetham\n",
      "Tejaswari\n"
     ]
    }
   ],
   "source": [
    "print(students[0])\n",
    "print(students[-1])"
   ]
  },
  {
   "cell_type": "markdown",
   "id": "cffd4e54",
   "metadata": {},
   "source": [
    "### accessing elements using slicing"
   ]
  },
  {
   "cell_type": "code",
   "execution_count": 6,
   "id": "49d00696",
   "metadata": {},
   "outputs": [
    {
     "name": "stdout",
     "output_type": "stream",
     "text": [
      "['Sai Preetham', 'Anajana']\n",
      "['Pavani', 'Krishna', 'Tejaswari']\n",
      "['Pavani', 'Krishna']\n",
      "[]\n"
     ]
    }
   ],
   "source": [
    "print(students[0:2])\n",
    "print(students[-3:])\n",
    "print(students[-3:-1])\n",
    "print(students[-1:-4])"
   ]
  },
  {
   "cell_type": "code",
   "execution_count": 7,
   "id": "2124dec9",
   "metadata": {},
   "outputs": [
    {
     "name": "stdout",
     "output_type": "stream",
     "text": [
      "[24, 20, 21, 19]\n"
     ]
    }
   ],
   "source": [
    "print(ages)"
   ]
  },
  {
   "cell_type": "code",
   "execution_count": 8,
   "id": "41d79344",
   "metadata": {},
   "outputs": [
    {
     "name": "stdout",
     "output_type": "stream",
     "text": [
      "No one with the age 25.\n"
     ]
    }
   ],
   "source": [
    "if 25 in ages:\n",
    "    print(\"He entered into silver jubilee\")\n",
    "else:\n",
    "    print(\"No one with the age 25.\")"
   ]
  },
  {
   "cell_type": "code",
   "execution_count": 9,
   "id": "09b847fb",
   "metadata": {},
   "outputs": [
    {
     "name": "stdout",
     "output_type": "stream",
     "text": [
      "He entered into silver jubilee\n"
     ]
    }
   ],
   "source": [
    "if 25 in emp_details:\n",
    "    print(\"He entered into silver jubilee\")\n",
    "else:\n",
    "    print(\"No one with the age 25.\")"
   ]
  },
  {
   "cell_type": "code",
   "execution_count": 10,
   "id": "17d6a053",
   "metadata": {},
   "outputs": [],
   "source": [
    "students.append(\"Pujitha\")"
   ]
  },
  {
   "cell_type": "code",
   "execution_count": 11,
   "id": "9fe89898",
   "metadata": {},
   "outputs": [
    {
     "name": "stdout",
     "output_type": "stream",
     "text": [
      "['Sai Preetham', 'Anajana', 'Sharmila', 'Pavani', 'Krishna', 'Tejaswari', 'Pujitha']\n"
     ]
    }
   ],
   "source": [
    "print(students)"
   ]
  },
  {
   "cell_type": "markdown",
   "id": "266c34a8",
   "metadata": {},
   "source": [
    "### adding elements into a list"
   ]
  },
  {
   "cell_type": "code",
   "execution_count": 12,
   "id": "6fa75a95",
   "metadata": {},
   "outputs": [],
   "source": [
    "# students.append(\"subhashini\", \"venkat\", \"lokesh\")"
   ]
  },
  {
   "cell_type": "code",
   "execution_count": 13,
   "id": "36d9f1cc",
   "metadata": {},
   "outputs": [
    {
     "name": "stdout",
     "output_type": "stream",
     "text": [
      "['Sai Preetham', 'Anajana', 'Sharmila', 'Pavani', 'Krishna', 'Tejaswari', 'Pujitha', 'subhashini', 'venkateswara', 'lokesh']\n"
     ]
    }
   ],
   "source": [
    "students.append(\"subhashini\")\n",
    "students.append(\"venkateswara\")\n",
    "students.append(\"lokesh\")\n",
    "\n",
    "print(students)"
   ]
  },
  {
   "cell_type": "code",
   "execution_count": 14,
   "id": "2ed14063",
   "metadata": {},
   "outputs": [],
   "source": [
    "cities = [\"Hyd\", \"Bng\", \"Chennai\"]"
   ]
  },
  {
   "cell_type": "code",
   "execution_count": 15,
   "id": "342ea46f",
   "metadata": {},
   "outputs": [
    {
     "name": "stdout",
     "output_type": "stream",
     "text": [
      "['Hyd', 'Bng', 'Chennai', ('Kolkatha', 'Delhi')]\n"
     ]
    }
   ],
   "source": [
    "cities.append((\"Kolkatha\", \"Delhi\"))\n",
    "\n",
    "print(cities)"
   ]
  },
  {
   "cell_type": "code",
   "execution_count": 16,
   "id": "0fe2ce25",
   "metadata": {},
   "outputs": [
    {
     "data": {
      "text/plain": [
       "4"
      ]
     },
     "execution_count": 16,
     "metadata": {},
     "output_type": "execute_result"
    }
   ],
   "source": [
    "len(cities)"
   ]
  },
  {
   "cell_type": "code",
   "execution_count": 17,
   "id": "004ead04",
   "metadata": {},
   "outputs": [
    {
     "name": "stdout",
     "output_type": "stream",
     "text": [
      "['Hyd', 'Bng', 'Chennai', ('Kolkatha', 'Delhi'), 'Mysore', 'Goa', 'Pondicherry']\n"
     ]
    }
   ],
   "source": [
    "cities.extend((\"Mysore\", \"Goa\", \"Pondicherry\"))\n",
    "\n",
    "print(cities)"
   ]
  },
  {
   "cell_type": "code",
   "execution_count": 18,
   "id": "e0db794c",
   "metadata": {},
   "outputs": [
    {
     "data": {
      "text/plain": [
       "7"
      ]
     },
     "execution_count": 18,
     "metadata": {},
     "output_type": "execute_result"
    }
   ],
   "source": [
    "len(cities)"
   ]
  },
  {
   "cell_type": "code",
   "execution_count": 19,
   "id": "b37038fd",
   "metadata": {},
   "outputs": [
    {
     "name": "stdout",
     "output_type": "stream",
     "text": [
      "['Hyd', 'Mumbai', 'Bng', 'Chennai', ('Kolkatha', 'Delhi'), 'Mysore', 'Goa', 'Pondicherry']\n"
     ]
    }
   ],
   "source": [
    "cities.insert(1, \"Mumbai\")\n",
    "\n",
    "print(cities)"
   ]
  },
  {
   "cell_type": "code",
   "execution_count": 20,
   "id": "2d253a7d",
   "metadata": {},
   "outputs": [],
   "source": [
    "# s = \"sai\"\n",
    "\n",
    "# s.append(\"kri\")"
   ]
  },
  {
   "cell_type": "code",
   "execution_count": 21,
   "id": "16a4a0d7",
   "metadata": {},
   "outputs": [
    {
     "name": "stdout",
     "output_type": "stream",
     "text": [
      "[]\n"
     ]
    }
   ],
   "source": [
    "temp = list()          # temp = []\n",
    "\n",
    "print(temp)"
   ]
  },
  {
   "cell_type": "code",
   "execution_count": 22,
   "id": "e8043f23",
   "metadata": {},
   "outputs": [
    {
     "name": "stdout",
     "output_type": "stream",
     "text": [
      "['Hyd', 'Mumbai', 'Bng', 'Chennai', ('Kolkatha', 'Delhi'), 'Mysore', 'Goa', 'Pondicherry']\n"
     ]
    }
   ],
   "source": [
    "print(cities)"
   ]
  },
  {
   "cell_type": "markdown",
   "id": "342b1b3c",
   "metadata": {},
   "source": [
    "### modifying elements inside a list"
   ]
  },
  {
   "cell_type": "code",
   "execution_count": 23,
   "id": "283cb9bd",
   "metadata": {},
   "outputs": [
    {
     "name": "stdout",
     "output_type": "stream",
     "text": [
      "['Hyderabad', 'Mumbai', 'Bengaluru', 'Chennai', ('Kolkatha', 'Delhi'), 'Mysore', 'Goa', 'Pondicherry']\n"
     ]
    }
   ],
   "source": [
    "cities[0] = \"Hyderabad\"\n",
    "cities[2] = \"Bengaluru\"\n",
    "\n",
    "print(cities)"
   ]
  },
  {
   "cell_type": "code",
   "execution_count": 24,
   "id": "477edcf9",
   "metadata": {},
   "outputs": [],
   "source": [
    "# cities[-2:] = \"Gujarat\"\n",
    "\n",
    "# print(cities)"
   ]
  },
  {
   "cell_type": "code",
   "execution_count": 25,
   "id": "dd01bc24",
   "metadata": {},
   "outputs": [],
   "source": [
    "# cities[-2:] = [\"Gujarat\"]\n",
    "\n",
    "# print(cities)"
   ]
  },
  {
   "cell_type": "markdown",
   "id": "5a094dc9",
   "metadata": {},
   "source": [
    "### deleting elements inside a list\n",
    "* pop\n",
    "* remove\n",
    "* delete"
   ]
  },
  {
   "cell_type": "code",
   "execution_count": 26,
   "id": "908ef2c2",
   "metadata": {},
   "outputs": [
    {
     "data": {
      "text/plain": [
       "'Pondicherry'"
      ]
     },
     "execution_count": 26,
     "metadata": {},
     "output_type": "execute_result"
    }
   ],
   "source": [
    "cities.pop()"
   ]
  },
  {
   "cell_type": "code",
   "execution_count": 27,
   "id": "909a944d",
   "metadata": {},
   "outputs": [],
   "source": [
    "metro_city = cities.pop(-4)"
   ]
  },
  {
   "cell_type": "code",
   "execution_count": 28,
   "id": "6974a99b",
   "metadata": {},
   "outputs": [
    {
     "name": "stdout",
     "output_type": "stream",
     "text": [
      "['Hyderabad', 'Mumbai', 'Bengaluru', ('Kolkatha', 'Delhi'), 'Mysore', 'Goa']\n"
     ]
    }
   ],
   "source": [
    "print(cities)"
   ]
  },
  {
   "cell_type": "code",
   "execution_count": 29,
   "id": "ef0321ba",
   "metadata": {},
   "outputs": [],
   "source": [
    "cities.remove(\"Mysore\")"
   ]
  },
  {
   "cell_type": "code",
   "execution_count": 30,
   "id": "48853275",
   "metadata": {},
   "outputs": [
    {
     "name": "stdout",
     "output_type": "stream",
     "text": [
      "['Hyderabad', 'Mumbai', 'Bengaluru', ('Kolkatha', 'Delhi'), 'Goa']\n"
     ]
    }
   ],
   "source": [
    "print(cities)"
   ]
  },
  {
   "cell_type": "code",
   "execution_count": 31,
   "id": "2bd39aaa",
   "metadata": {},
   "outputs": [],
   "source": [
    "# cities.pop(-1, -2)"
   ]
  },
  {
   "cell_type": "code",
   "execution_count": 32,
   "id": "8befa253",
   "metadata": {},
   "outputs": [],
   "source": [
    "# cities.remove(\"Hyderabad\", \"Goa\")"
   ]
  },
  {
   "cell_type": "code",
   "execution_count": 33,
   "id": "7e46cb16",
   "metadata": {},
   "outputs": [],
   "source": [
    "del cities[-2]"
   ]
  },
  {
   "cell_type": "code",
   "execution_count": 34,
   "id": "f9a6ad2c",
   "metadata": {},
   "outputs": [
    {
     "name": "stdout",
     "output_type": "stream",
     "text": [
      "['Hyderabad', 'Mumbai', 'Bengaluru', 'Goa']\n"
     ]
    }
   ],
   "source": [
    "print(cities)"
   ]
  },
  {
   "cell_type": "code",
   "execution_count": 35,
   "id": "584876da",
   "metadata": {},
   "outputs": [
    {
     "name": "stdout",
     "output_type": "stream",
     "text": [
      "Chennai\n"
     ]
    }
   ],
   "source": [
    "print(metro_city)"
   ]
  },
  {
   "cell_type": "code",
   "execution_count": 36,
   "id": "5a5707f4",
   "metadata": {},
   "outputs": [
    {
     "name": "stdout",
     "output_type": "stream",
     "text": [
      "['Hyderabad', 'Mumbai', 'Bengaluru', 'Goa']\n"
     ]
    }
   ],
   "source": [
    "# cities.clear()\n",
    "\n",
    "print(cities)"
   ]
  },
  {
   "cell_type": "markdown",
   "id": "9d5c640a",
   "metadata": {},
   "source": [
    "### loop/iter elements inside a list"
   ]
  },
  {
   "cell_type": "code",
   "execution_count": 37,
   "id": "5d44ca50",
   "metadata": {},
   "outputs": [
    {
     "name": "stdout",
     "output_type": "stream",
     "text": [
      "Hyderabad\n",
      "Mumbai\n",
      "Bengaluru\n",
      "Goa\n"
     ]
    }
   ],
   "source": [
    "for i in cities:\n",
    "    print(i)"
   ]
  },
  {
   "cell_type": "code",
   "execution_count": 38,
   "id": "a6cd2ae5",
   "metadata": {},
   "outputs": [
    {
     "name": "stdout",
     "output_type": "stream",
     "text": [
      "0\n",
      "1\n",
      "2\n",
      "3\n"
     ]
    }
   ],
   "source": [
    "for i in range(len(cities)):\n",
    "    print(i)"
   ]
  },
  {
   "cell_type": "code",
   "execution_count": 39,
   "id": "5a147ab5",
   "metadata": {},
   "outputs": [
    {
     "name": "stdout",
     "output_type": "stream",
     "text": [
      "city0 : Hyderabad\n",
      "city1 : Mumbai\n",
      "city2 : Bengaluru\n",
      "city3 : Goa\n"
     ]
    }
   ],
   "source": [
    "for i in range(len(cities)):\n",
    "    print(f\"city{i} : {cities[i]}\")"
   ]
  },
  {
   "cell_type": "code",
   "execution_count": 40,
   "id": "cd4fc969",
   "metadata": {},
   "outputs": [
    {
     "name": "stdout",
     "output_type": "stream",
     "text": [
      "0\n",
      "1\n",
      "2\n",
      "3\n",
      "4\n",
      "5\n",
      "6\n",
      "7\n",
      "8\n",
      "9\n"
     ]
    }
   ],
   "source": [
    "for i in range(10):\n",
    "    print(i)"
   ]
  },
  {
   "cell_type": "code",
   "execution_count": 41,
   "id": "579b6513",
   "metadata": {},
   "outputs": [
    {
     "name": "stdout",
     "output_type": "stream",
     "text": [
      "3\n",
      "4\n",
      "5\n",
      "6\n",
      "7\n",
      "8\n",
      "9\n"
     ]
    }
   ],
   "source": [
    "for i in range(3,10):\n",
    "    print(i)"
   ]
  },
  {
   "cell_type": "code",
   "execution_count": 42,
   "id": "a4fb17b2",
   "metadata": {},
   "outputs": [
    {
     "name": "stdout",
     "output_type": "stream",
     "text": [
      "1\n",
      "3\n",
      "5\n",
      "7\n",
      "9\n"
     ]
    }
   ],
   "source": [
    "for i in range(1,10,2):\n",
    "    print(i)"
   ]
  },
  {
   "cell_type": "code",
   "execution_count": 43,
   "id": "4081b70b",
   "metadata": {},
   "outputs": [
    {
     "name": "stdout",
     "output_type": "stream",
     "text": [
      "1\n",
      "3\n",
      "5\n",
      "7\n",
      "9\n"
     ]
    }
   ],
   "source": [
    "for i in range(1, 10):\n",
    "    if i%2 != 0:\n",
    "        print(i)"
   ]
  },
  {
   "cell_type": "markdown",
   "id": "fb63625f",
   "metadata": {},
   "source": [
    "* Store all the even natural numbers till 50 in a list"
   ]
  },
  {
   "cell_type": "code",
   "execution_count": 44,
   "id": "553f4edc",
   "metadata": {},
   "outputs": [
    {
     "name": "stdout",
     "output_type": "stream",
     "text": [
      "[2, 4, 6, 8, 10, 12, 14, 16, 18, 20, 22, 24, 26, 28, 30, 32, 34, 36, 38, 40, 42, 44, 46, 48, 50]\n"
     ]
    }
   ],
   "source": [
    "even_numbers = []\n",
    "\n",
    "for i in range(2, 51):\n",
    "    if i%2 == 0:\n",
    "        even_numbers.append(i)\n",
    "\n",
    "print(even_numbers)"
   ]
  },
  {
   "cell_type": "markdown",
   "id": "c9543b43",
   "metadata": {},
   "source": [
    "# enumerate"
   ]
  },
  {
   "cell_type": "code",
   "execution_count": 5,
   "id": "7e9e231e",
   "metadata": {},
   "outputs": [
    {
     "name": "stdout",
     "output_type": "stream",
     "text": [
      "0\n",
      "1\n",
      "2\n",
      "\n",
      "10\n",
      "20\n",
      "30\n",
      "\n",
      "(0, 10)\n",
      "(1, 20)\n",
      "(2, 30)\n"
     ]
    }
   ],
   "source": [
    "x = [10, 20, 30]\n",
    "\n",
    "for i in range(len(x)):\n",
    "    print(i)\n",
    "\n",
    "print()\n",
    "\n",
    "for i in x:\n",
    "    print(i)\n",
    "\n",
    "print()\n",
    "\n",
    "for i in enumerate(x):\n",
    "    print(i)"
   ]
  },
  {
   "cell_type": "code",
   "execution_count": 7,
   "id": "a9cc8e2a",
   "metadata": {},
   "outputs": [
    {
     "name": "stdout",
     "output_type": "stream",
     "text": [
      "11\n",
      "22\n",
      "33\n"
     ]
    }
   ],
   "source": [
    "x = [11, 21, 31]\n",
    "\n",
    "for i in enumerate(x):\n",
    "    print(i[0] + i[1])"
   ]
  },
  {
   "cell_type": "markdown",
   "id": "ab14f614",
   "metadata": {},
   "source": [
    "### List Comprehension\n",
    "* It can only be used hen u have a single statement."
   ]
  },
  {
   "cell_type": "markdown",
   "id": "60d2489a",
   "metadata": {},
   "source": [
    "* Store all the odd natural numbers till 50 in a list"
   ]
  },
  {
   "cell_type": "code",
   "execution_count": 45,
   "id": "a731b7e4",
   "metadata": {},
   "outputs": [
    {
     "name": "stdout",
     "output_type": "stream",
     "text": [
      "[1, 3, 5, 7, 9, 11, 13, 15, 17, 19, 21, 23, 25, 27, 29, 31, 33, 35, 37, 39, 41, 43, 45, 47, 49]\n"
     ]
    }
   ],
   "source": [
    "odd_numbers = [num for num in range(1, 50) if num%2 != 0]\n",
    "\n",
    "print(odd_numbers)"
   ]
  },
  {
   "cell_type": "code",
   "execution_count": 46,
   "id": "1092186a",
   "metadata": {},
   "outputs": [
    {
     "name": "stdout",
     "output_type": "stream",
     "text": [
      "['Hyderabad', 'Mumbai', 'Bengaluru', 'Goa']\n"
     ]
    }
   ],
   "source": [
    "print(cities)"
   ]
  },
  {
   "cell_type": "code",
   "execution_count": 47,
   "id": "7fd3e0b7",
   "metadata": {},
   "outputs": [
    {
     "name": "stdout",
     "output_type": "stream",
     "text": [
      "['Not-a-Goa', 'Not-a-Goa', 'Not-a-Goa', 'Goa']\n"
     ]
    }
   ],
   "source": [
    "temp = []\n",
    "\n",
    "for city in cities:\n",
    "    if city == \"Goa\":\n",
    "        temp.append(\"Goa\")\n",
    "    else:\n",
    "        temp.append(\"Not-a-Goa\")\n",
    "\n",
    "print(temp)"
   ]
  },
  {
   "cell_type": "code",
   "execution_count": 48,
   "id": "ee20a6b0",
   "metadata": {},
   "outputs": [
    {
     "name": "stdout",
     "output_type": "stream",
     "text": [
      "['Go and Work', 'Go and Work', 'Go and Work', 'Enjoy the Beach']\n"
     ]
    }
   ],
   "source": [
    "filtered_cities = [\"Enjoy the Beach\" if city == \"Goa\" else \"Go and Work\" for city in cities]\n",
    "\n",
    "print(filtered_cities)"
   ]
  },
  {
   "cell_type": "code",
   "execution_count": 49,
   "id": "7528114c",
   "metadata": {},
   "outputs": [],
   "source": [
    "cities = ['Hyderabad', 'Mumbai', 'Bengaluru', 'Kolkatha', 'Delhi', 'Mysore', 'Goa']"
   ]
  },
  {
   "cell_type": "code",
   "execution_count": 50,
   "id": "797781cb",
   "metadata": {},
   "outputs": [
    {
     "name": "stdout",
     "output_type": "stream",
     "text": [
      "['Bengaluru', 'Delhi', 'Goa', 'Hyderabad', 'Kolkatha', 'Mumbai', 'Mysore']\n"
     ]
    }
   ],
   "source": [
    "cities.sort()\n",
    "\n",
    "print(cities)"
   ]
  },
  {
   "cell_type": "code",
   "execution_count": 51,
   "id": "ec17b7c9",
   "metadata": {},
   "outputs": [
    {
     "name": "stdout",
     "output_type": "stream",
     "text": [
      "['Mysore', 'Mumbai', 'Kolkatha', 'Hyderabad', 'Goa', 'Delhi', 'Bengaluru']\n"
     ]
    }
   ],
   "source": [
    "cities.sort(reverse=True)\n",
    "\n",
    "print(cities)"
   ]
  },
  {
   "cell_type": "code",
   "execution_count": 52,
   "id": "cc4e9184",
   "metadata": {},
   "outputs": [],
   "source": [
    "cities = ['Hyderabad', 'Mumbai', 'Bengaluru', 'Kolkatha', 'Delhi', 'Mysore', 'Goa']"
   ]
  },
  {
   "cell_type": "code",
   "execution_count": 53,
   "id": "4ee319d2",
   "metadata": {},
   "outputs": [
    {
     "name": "stdout",
     "output_type": "stream",
     "text": [
      "['Goa', 'Mysore', 'Delhi', 'Kolkatha', 'Bengaluru', 'Mumbai', 'Hyderabad']\n"
     ]
    }
   ],
   "source": [
    "cities.reverse()           # cities[::-1]\n",
    "\n",
    "print(cities)"
   ]
  },
  {
   "cell_type": "markdown",
   "id": "bc0d084b",
   "metadata": {},
   "source": [
    "### Joins"
   ]
  },
  {
   "cell_type": "code",
   "execution_count": 60,
   "id": "200e3d1b",
   "metadata": {},
   "outputs": [
    {
     "name": "stdout",
     "output_type": "stream",
     "text": [
      "['sai preetham', 'bhargav', 'arjun']\n",
      "[8133398, 5679872, 9876543]\n",
      "['sai preetham', 'bhargav', 'arjun', 8133398, 5679872, 9876543]\n"
     ]
    }
   ],
   "source": [
    "emp_names = [\"sai preetham\", \"bhargav\", \"arjun\"]\n",
    "emp_id = [8133398, 5679872, 9876543]\n",
    "\n",
    "temp = emp_names + emp_id\n",
    "\n",
    "print(emp_names)\n",
    "print(emp_id)\n",
    "print(temp)"
   ]
  },
  {
   "cell_type": "code",
   "execution_count": 55,
   "id": "f24dc62a",
   "metadata": {},
   "outputs": [
    {
     "name": "stdout",
     "output_type": "stream",
     "text": [
      "['sai preetham', 'bhargav', 'arjun', 8133398, 5679872, 9876543]\n",
      "[8133398, 5679872, 9876543]\n"
     ]
    }
   ],
   "source": [
    "emp_names = [\"sai preetham\", \"bhargav\", \"arjun\"]\n",
    "emp_id = [8133398, 5679872, 9876543]\n",
    "\n",
    "emp_names.extend(emp_id)\n",
    "\n",
    "print(emp_names)\n",
    "print(emp_id)"
   ]
  },
  {
   "cell_type": "code",
   "execution_count": 56,
   "id": "a8978bad",
   "metadata": {},
   "outputs": [
    {
     "name": "stdout",
     "output_type": "stream",
     "text": [
      "['sai preetham', 'bhargav', 'arjun', 'sai', 'krishna', 'venkat']\n"
     ]
    }
   ],
   "source": [
    "emp_names = [\"sai preetham\", \"bhargav\", \"arjun\"]\n",
    "\n",
    "emp_names.extend((\"sai\", \"krishna\", \"venkat\"))\n",
    "\n",
    "print(emp_names)"
   ]
  },
  {
   "cell_type": "code",
   "execution_count": 57,
   "id": "d66e7731",
   "metadata": {},
   "outputs": [
    {
     "name": "stdout",
     "output_type": "stream",
     "text": [
      "['sai preetham', 'bhargav', 'arjun', 'sai', ('hari', 'rohit', 'kajal')]\n"
     ]
    }
   ],
   "source": [
    "emp_names = [\"sai preetham\", \"bhargav\", \"arjun\"]\n",
    "emp_id = [8133398, 5679872, 9876543]\n",
    "\n",
    "emp_names.append(\"sai\")\n",
    "emp_names.append((\"hari\", \"rohit\", \"kajal\"))\n",
    "\n",
    "print(emp_names)"
   ]
  },
  {
   "cell_type": "markdown",
   "id": "7f6c4d62",
   "metadata": {},
   "source": [
    "### copy"
   ]
  },
  {
   "cell_type": "code",
   "execution_count": null,
   "id": "7830f983",
   "metadata": {},
   "outputs": [
    {
     "name": "stdout",
     "output_type": "stream",
     "text": [
      "['cherry', 'banana', 'apple']\n",
      "['apple', 'banana', 'cherry']\n"
     ]
    }
   ],
   "source": [
    "fruits = [\"apple\", \"banana\", \"cherry\"]\n",
    "\n",
    "x = fruits.copy()                # x = fruits\n",
    "\n",
    "x.reverse()\n",
    "\n",
    "print(x)\n",
    "print(fruits)"
   ]
  },
  {
   "cell_type": "markdown",
   "id": "7af15546",
   "metadata": {},
   "source": [
    "### Nested Lists"
   ]
  },
  {
   "cell_type": "code",
   "execution_count": 5,
   "id": "e5d4f27d",
   "metadata": {},
   "outputs": [
    {
     "name": "stdout",
     "output_type": "stream",
     "text": [
      "['car', 'bike', 'ship', ['sai', 'krishna', 'subhashini', 'venkat'], 'pawani', 'tejeswini']\n"
     ]
    }
   ],
   "source": [
    "temp = [\"car\", \"bike\", \"ship\", [\"sai\", \"krishna\", \"subhashini\", \"venkat\"], \"pawani\", \"tejeswini\"]\n",
    "\n",
    "print(temp)"
   ]
  },
  {
   "cell_type": "code",
   "execution_count": 8,
   "id": "7c3726f6",
   "metadata": {},
   "outputs": [
    {
     "name": "stdout",
     "output_type": "stream",
     "text": [
      "car\n",
      "bike\n",
      "ship\n",
      "['sai', 'krishna', 'subhashini', 'venkat']\n"
     ]
    }
   ],
   "source": [
    "print(temp[0])\n",
    "print(temp[1])\n",
    "print(temp[2])\n",
    "print(temp[3])"
   ]
  },
  {
   "cell_type": "code",
   "execution_count": 9,
   "id": "6413d0a7",
   "metadata": {},
   "outputs": [
    {
     "name": "stdout",
     "output_type": "stream",
     "text": [
      "krishna\n"
     ]
    }
   ],
   "source": [
    "print(temp[3][1])"
   ]
  }
 ],
 "metadata": {
  "kernelspec": {
   "display_name": ".venv",
   "language": "python",
   "name": "python3"
  },
  "language_info": {
   "codemirror_mode": {
    "name": "ipython",
    "version": 3
   },
   "file_extension": ".py",
   "mimetype": "text/x-python",
   "name": "python",
   "nbconvert_exporter": "python",
   "pygments_lexer": "ipython3",
   "version": "3.13.7"
  }
 },
 "nbformat": 4,
 "nbformat_minor": 5
}
