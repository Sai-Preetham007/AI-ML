{
 "cells": [
  {
   "cell_type": "markdown",
   "id": "07ceb8b3",
   "metadata": {},
   "source": [
    "# Title 1\n",
    "## Title 2\n",
    "### Title 3"
   ]
  },
  {
   "cell_type": "code",
   "execution_count": 1,
   "id": "631f1420",
   "metadata": {},
   "outputs": [
    {
     "name": "stdout",
     "output_type": "stream",
     "text": [
      "Hello Sai\n"
     ]
    }
   ],
   "source": [
    "print(\"Hello Sai\")"
   ]
  },
  {
   "cell_type": "code",
   "execution_count": 2,
   "id": "b7466ca5",
   "metadata": {},
   "outputs": [
    {
     "name": "stdout",
     "output_type": "stream",
     "text": [
      "5\n"
     ]
    }
   ],
   "source": [
    "x = 5\n",
    "\n",
    "print(x)"
   ]
  },
  {
   "cell_type": "code",
   "execution_count": 3,
   "id": "3dce6236",
   "metadata": {},
   "outputs": [
    {
     "name": "stdout",
     "output_type": "stream",
     "text": [
      "Sai Preetham\n"
     ]
    }
   ],
   "source": [
    "student_name = \"Sai Preetham\"\n",
    "\n",
    "print(student_name)"
   ]
  },
  {
   "cell_type": "markdown",
   "id": "79768f4a",
   "metadata": {},
   "source": [
    "### not to use :\n",
    "\n",
    "* variable should not start with a number ---> 123_abc = 35\n",
    "* variable should not start with a special character ---> @first_name = \"sai\"\n",
    "* variable should not contain any space ---> first name"
   ]
  },
  {
   "cell_type": "code",
   "execution_count": 4,
   "id": "d9a0e2df",
   "metadata": {},
   "outputs": [
    {
     "name": "stdout",
     "output_type": "stream",
     "text": [
      "sai krishna\n"
     ]
    }
   ],
   "source": [
    "a = \"sai\"\n",
    "b = \"krishna\"\n",
    "\n",
    "print(a,b)"
   ]
  },
  {
   "cell_type": "code",
   "execution_count": 5,
   "id": "414d0d93",
   "metadata": {},
   "outputs": [
    {
     "name": "stdout",
     "output_type": "stream",
     "text": [
      "x : 5\n",
      "sai preetham\n"
     ]
    }
   ],
   "source": [
    "x = 5\n",
    "y = \"sai preetham\"\n",
    "\n",
    "print(\"x :\", x)\n",
    "print(y)"
   ]
  },
  {
   "cell_type": "code",
   "execution_count": 6,
   "id": "12f5fcb8",
   "metadata": {},
   "outputs": [
    {
     "name": "stdout",
     "output_type": "stream",
     "text": [
      "x : 5 \n",
      " sai preetham\n"
     ]
    }
   ],
   "source": [
    "x = 5\n",
    "y = \"sai preetham\"\n",
    "\n",
    "print(\"x :\",x,\"\\n\",y)"
   ]
  },
  {
   "cell_type": "code",
   "execution_count": 7,
   "id": "bf0aba45",
   "metadata": {},
   "outputs": [
    {
     "name": "stdout",
     "output_type": "stream",
     "text": [
      "50\n"
     ]
    }
   ],
   "source": [
    "x = 20\n",
    "y = 30\n",
    "\n",
    "print(x+y)"
   ]
  },
  {
   "cell_type": "code",
   "execution_count": 8,
   "id": "50a04712",
   "metadata": {},
   "outputs": [
    {
     "name": "stdout",
     "output_type": "stream",
     "text": [
      "Sai Preetham Udumula\n"
     ]
    }
   ],
   "source": [
    "first_name = \"Sai Preetham\"\n",
    "last_name = \"Udumula\"\n",
    "\n",
    "print(first_name + \" \" + last_name)"
   ]
  },
  {
   "cell_type": "markdown",
   "id": "c1833d93",
   "metadata": {},
   "source": [
    "### Data Types"
   ]
  },
  {
   "cell_type": "code",
   "execution_count": 9,
   "id": "0cffaf25",
   "metadata": {},
   "outputs": [
    {
     "name": "stdout",
     "output_type": "stream",
     "text": [
      "<class 'str'>\n"
     ]
    }
   ],
   "source": [
    "s = \"3\"\n",
    "\n",
    "print(type(s))"
   ]
  },
  {
   "cell_type": "code",
   "execution_count": 10,
   "id": "b38a6332",
   "metadata": {},
   "outputs": [
    {
     "name": "stdout",
     "output_type": "stream",
     "text": [
      "<class 'int'>\n",
      "<class 'str'>\n",
      "<class 'str'>\n",
      "<class 'float'>\n",
      "<class 'bool'>\n"
     ]
    }
   ],
   "source": [
    "s1 = 3\n",
    "s2 = \"s\"\n",
    "s3 = \"sai\"\n",
    "s4 = 7.8\n",
    "s5 = True\n",
    "\n",
    "print(type(s1))\n",
    "print(type(s2))\n",
    "print(type(s3))\n",
    "print(type(s4))\n",
    "print(type(s5))"
   ]
  },
  {
   "cell_type": "markdown",
   "id": "24c165c0",
   "metadata": {},
   "source": [
    "### Type casting"
   ]
  },
  {
   "cell_type": "code",
   "execution_count": 11,
   "id": "454fe475",
   "metadata": {},
   "outputs": [
    {
     "name": "stdout",
     "output_type": "stream",
     "text": [
      "4\n"
     ]
    }
   ],
   "source": [
    "s1 = 4.6\n",
    "s2 = int(s1)\n",
    "\n",
    "print(s2)"
   ]
  },
  {
   "cell_type": "code",
   "execution_count": 12,
   "id": "85738771",
   "metadata": {},
   "outputs": [
    {
     "name": "stdout",
     "output_type": "stream",
     "text": [
      "2.0\n"
     ]
    }
   ],
   "source": [
    "s1 = 2\n",
    "s2 = float(s1)\n",
    "\n",
    "print(s2)"
   ]
  },
  {
   "cell_type": "code",
   "execution_count": 13,
   "id": "27752fcc",
   "metadata": {},
   "outputs": [
    {
     "name": "stdout",
     "output_type": "stream",
     "text": [
      "5.6 <class 'str'>\n"
     ]
    }
   ],
   "source": [
    "s1 = 5.6\n",
    "s2 = str(s1)\n",
    "\n",
    "print(s2, type(s2))"
   ]
  },
  {
   "cell_type": "code",
   "execution_count": 14,
   "id": "fc594949",
   "metadata": {},
   "outputs": [
    {
     "name": "stdout",
     "output_type": "stream",
     "text": [
      "<class 'str'>\n",
      "10.5\n",
      "10\n"
     ]
    }
   ],
   "source": [
    "s1 = \"10.5\"\n",
    "print(type(s1))\n",
    "\n",
    "s2 = float(s1)\n",
    "print(s2)\n",
    "\n",
    "s3 = int(s2)\n",
    "print(s3)"
   ]
  },
  {
   "cell_type": "code",
   "execution_count": 15,
   "id": "d9615693",
   "metadata": {},
   "outputs": [
    {
     "name": "stdout",
     "output_type": "stream",
     "text": [
      "10\n"
     ]
    }
   ],
   "source": [
    "s1 = \"3.5\"\n",
    "s2 = int(float(s1))\n",
    "\n",
    "print(s3)"
   ]
  },
  {
   "cell_type": "markdown",
   "id": "00ca3848",
   "metadata": {},
   "source": [
    "### Try to un-comment the code and run the cell and see the output."
   ]
  },
  {
   "cell_type": "code",
   "execution_count": 16,
   "id": "1ee7ebb9",
   "metadata": {},
   "outputs": [],
   "source": [
    "# s1 = \"sai\"\n",
    "# s2 = float(s1)\n",
    "\n",
    "# print(s2)"
   ]
  },
  {
   "cell_type": "code",
   "execution_count": 17,
   "id": "9db75afc",
   "metadata": {},
   "outputs": [],
   "source": [
    "# print('Hi, I'm working in Virtusa.')"
   ]
  },
  {
   "cell_type": "code",
   "execution_count": 18,
   "id": "b89cb360",
   "metadata": {},
   "outputs": [
    {
     "name": "stdout",
     "output_type": "stream",
     "text": [
      "<class 'int'> <class 'float'>\n"
     ]
    }
   ],
   "source": [
    "s1, s2 = 2, 3.5\n",
    "\n",
    "print(type(s1), type(s2))"
   ]
  },
  {
   "cell_type": "markdown",
   "id": "d322e264",
   "metadata": {},
   "source": [
    "### Numbers"
   ]
  },
  {
   "cell_type": "code",
   "execution_count": 19,
   "id": "5157568c",
   "metadata": {},
   "outputs": [
    {
     "name": "stdout",
     "output_type": "stream",
     "text": [
      "23.0\n",
      "-450.0\n",
      "10.0\n"
     ]
    }
   ],
   "source": [
    "a, b, c = 2.3e1, -0.45e3, 1e1          # e1 ---> 10 power 1 ---> 10, 2.3e1 ---> 2.3 * 10 = 23\n",
    "\n",
    "print(a)\n",
    "print(b)\n",
    "print(c)"
   ]
  },
  {
   "cell_type": "code",
   "execution_count": 20,
   "id": "8e510718",
   "metadata": {},
   "outputs": [
    {
     "name": "stdout",
     "output_type": "stream",
     "text": [
      "(2+5j) <class 'complex'>\n",
      "5j <class 'complex'>\n",
      "2 <class 'int'>\n"
     ]
    }
   ],
   "source": [
    "x, y, z = 2+5j, 5j, 2\n",
    "\n",
    "print(x, type(x))\n",
    "print(y, type(y))\n",
    "print(z, type(z))"
   ]
  }
 ],
 "metadata": {
  "kernelspec": {
   "display_name": ".venv",
   "language": "python",
   "name": "python3"
  },
  "language_info": {
   "codemirror_mode": {
    "name": "ipython",
    "version": 3
   },
   "file_extension": ".py",
   "mimetype": "text/x-python",
   "name": "python",
   "nbconvert_exporter": "python",
   "pygments_lexer": "ipython3",
   "version": "3.13.7"
  }
 },
 "nbformat": 4,
 "nbformat_minor": 5
}
