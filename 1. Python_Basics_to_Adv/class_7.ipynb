{
 "cells": [
  {
   "cell_type": "markdown",
   "id": "6ce941db",
   "metadata": {},
   "source": [
    "# Dictionary\n",
    "* key : value\n",
    "* cannot have duplicate keys"
   ]
  },
  {
   "cell_type": "code",
   "execution_count": 1,
   "id": "50e6c3c6",
   "metadata": {},
   "outputs": [
    {
     "name": "stdout",
     "output_type": "stream",
     "text": [
      "{'brand': 'Ford', 'model': 'Mustang', 'year': 1964}\n"
     ]
    }
   ],
   "source": [
    "thisdict = {\"brand\" : \"Ford\", \"model\" : \"Mustang\", \"year\" : 1964}\n",
    "\n",
    "print(thisdict)"
   ]
  },
  {
   "cell_type": "markdown",
   "id": "ae6506db",
   "metadata": {},
   "source": [
    "### accessing elements"
   ]
  },
  {
   "cell_type": "code",
   "execution_count": 2,
   "id": "84c099ee",
   "metadata": {},
   "outputs": [
    {
     "name": "stdout",
     "output_type": "stream",
     "text": [
      "Ford\n"
     ]
    }
   ],
   "source": [
    "print(thisdict[\"brand\"])               # thisdict.get(\"brand\")"
   ]
  },
  {
   "cell_type": "markdown",
   "id": "d70e6a18",
   "metadata": {},
   "source": [
    "### add elements"
   ]
  },
  {
   "cell_type": "code",
   "execution_count": 3,
   "id": "8ac019be",
   "metadata": {},
   "outputs": [
    {
     "name": "stdout",
     "output_type": "stream",
     "text": [
      "{'brand': 'Ford', 'model': 'Mustang', 'year': 1964, 'owner': 'Sai Preetham'}\n"
     ]
    }
   ],
   "source": [
    "thisdict[\"owner\"] = \"Sai Preetham\"               # thisdict.update({\"owner\" : \"Sai Preetham\"})\n",
    "\n",
    "print(thisdict)"
   ]
  },
  {
   "cell_type": "markdown",
   "id": "7a4e58c5",
   "metadata": {},
   "source": [
    "### modifying elements"
   ]
  },
  {
   "cell_type": "code",
   "execution_count": 4,
   "id": "edce1f54",
   "metadata": {},
   "outputs": [
    {
     "name": "stdout",
     "output_type": "stream",
     "text": [
      "{'brand': 'Ford', 'model': 'Mustang', 'year': 1980, 'owner': 'Sai Preetham'}\n"
     ]
    }
   ],
   "source": [
    "thisdict[\"year\"] = 1980                   # thisdict.update({\"year\" : 1980})\n",
    "\n",
    "print(thisdict)"
   ]
  },
  {
   "cell_type": "markdown",
   "id": "7111f305",
   "metadata": {},
   "source": [
    "### removing elements"
   ]
  },
  {
   "cell_type": "code",
   "execution_count": 5,
   "id": "5e3fe6bf",
   "metadata": {},
   "outputs": [
    {
     "name": "stdout",
     "output_type": "stream",
     "text": [
      "{'brand': 'Ford', 'model': 'Mustang', 'year': 1980}\n"
     ]
    }
   ],
   "source": [
    "thisdict.pop(\"owner\")\n",
    "\n",
    "print(thisdict)"
   ]
  },
  {
   "cell_type": "code",
   "execution_count": 6,
   "id": "2deb141f",
   "metadata": {},
   "outputs": [
    {
     "name": "stdout",
     "output_type": "stream",
     "text": [
      "{'brand': 'Ford', 'model': 'Mustang'}\n"
     ]
    }
   ],
   "source": [
    "del thisdict[\"year\"]\n",
    "\n",
    "print(thisdict)"
   ]
  },
  {
   "cell_type": "markdown",
   "id": "5e7cae88",
   "metadata": {},
   "source": [
    "### accessing keys"
   ]
  },
  {
   "cell_type": "code",
   "execution_count": 7,
   "id": "779e0a11",
   "metadata": {},
   "outputs": [
    {
     "name": "stdout",
     "output_type": "stream",
     "text": [
      "dict_keys(['brand', 'model'])\n"
     ]
    }
   ],
   "source": [
    "print(thisdict.keys())"
   ]
  },
  {
   "cell_type": "markdown",
   "id": "2b59d2c1",
   "metadata": {},
   "source": [
    "### accessing values"
   ]
  },
  {
   "cell_type": "code",
   "execution_count": 8,
   "id": "f02f5c0a",
   "metadata": {},
   "outputs": [
    {
     "name": "stdout",
     "output_type": "stream",
     "text": [
      "dict_values(['Ford', 'Mustang'])\n"
     ]
    }
   ],
   "source": [
    "print(thisdict.values())"
   ]
  },
  {
   "cell_type": "markdown",
   "id": "94cdf757",
   "metadata": {},
   "source": [
    "### accessing items"
   ]
  },
  {
   "cell_type": "code",
   "execution_count": 9,
   "id": "0407d989",
   "metadata": {},
   "outputs": [
    {
     "name": "stdout",
     "output_type": "stream",
     "text": [
      "dict_items([('brand', 'Ford'), ('model', 'Mustang')])\n"
     ]
    }
   ],
   "source": [
    "print(thisdict.items())"
   ]
  },
  {
   "cell_type": "markdown",
   "id": "f8e4f297",
   "metadata": {},
   "source": [
    "### checking keys are present"
   ]
  },
  {
   "cell_type": "code",
   "execution_count": 10,
   "id": "4cdca2b0",
   "metadata": {},
   "outputs": [
    {
     "name": "stdout",
     "output_type": "stream",
     "text": [
      "the key 'model' is present inside a dictionary\n"
     ]
    }
   ],
   "source": [
    "if \"model\" in thisdict:\n",
    "    print(\"the key 'model' is present inside a dictionary\")\n",
    "else:\n",
    "    print(\"not present\")"
   ]
  },
  {
   "cell_type": "markdown",
   "id": "a930d626",
   "metadata": {},
   "source": [
    "## looping the elements"
   ]
  },
  {
   "cell_type": "code",
   "execution_count": 11,
   "id": "fcbfa6e1",
   "metadata": {},
   "outputs": [
    {
     "data": {
      "text/plain": [
       "{'brand': 'Ford', 'model': 'Mustang'}"
      ]
     },
     "execution_count": 11,
     "metadata": {},
     "output_type": "execute_result"
    }
   ],
   "source": [
    "thisdict"
   ]
  },
  {
   "cell_type": "markdown",
   "id": "83bb21cc",
   "metadata": {},
   "source": [
    "### accessing the keys using loop"
   ]
  },
  {
   "cell_type": "code",
   "execution_count": 12,
   "id": "da6d9537",
   "metadata": {},
   "outputs": [
    {
     "name": "stdout",
     "output_type": "stream",
     "text": [
      "brand\n",
      "model\n",
      "\n",
      "brand\n",
      "model\n"
     ]
    }
   ],
   "source": [
    "for k in thisdict:\n",
    "    print(k)\n",
    "\n",
    "print()\n",
    "\n",
    "for k in thisdict.keys():\n",
    "    print(k)"
   ]
  },
  {
   "cell_type": "markdown",
   "id": "30ef5a56",
   "metadata": {},
   "source": [
    "### accessing values usiing loop"
   ]
  },
  {
   "cell_type": "code",
   "execution_count": 13,
   "id": "e9d482d2",
   "metadata": {},
   "outputs": [
    {
     "name": "stdout",
     "output_type": "stream",
     "text": [
      "Ford\n",
      "Mustang\n",
      "\n",
      "Ford\n",
      "Mustang\n"
     ]
    }
   ],
   "source": [
    "for v in thisdict:\n",
    "    print(thisdict[v])\n",
    "\n",
    "print()\n",
    "\n",
    "for v in thisdict.values():\n",
    "    print(v)"
   ]
  },
  {
   "cell_type": "markdown",
   "id": "354999e4",
   "metadata": {},
   "source": [
    "### accessing items using loop"
   ]
  },
  {
   "cell_type": "code",
   "execution_count": 14,
   "id": "bfb994fd",
   "metadata": {},
   "outputs": [
    {
     "name": "stdout",
     "output_type": "stream",
     "text": [
      "('brand', 'Ford')\n",
      "('model', 'Mustang')\n"
     ]
    }
   ],
   "source": [
    "for i in thisdict.items():\n",
    "    print(i)"
   ]
  },
  {
   "cell_type": "code",
   "execution_count": 15,
   "id": "391c0583",
   "metadata": {},
   "outputs": [
    {
     "name": "stdout",
     "output_type": "stream",
     "text": [
      "brand : Ford\n",
      "model : Mustang\n"
     ]
    }
   ],
   "source": [
    "for i in thisdict.items():\n",
    "    print(f\"{i[0]} : {i[1]}\")"
   ]
  },
  {
   "cell_type": "code",
   "execution_count": 16,
   "id": "cf33eb07",
   "metadata": {},
   "outputs": [
    {
     "name": "stdout",
     "output_type": "stream",
     "text": [
      "key : brand, value : Ford\n",
      "key : model, value : Mustang\n"
     ]
    }
   ],
   "source": [
    "for i in thisdict.items():\n",
    "    print(f\"key : {i[0]}, value : {i[1]}\")"
   ]
  },
  {
   "cell_type": "code",
   "execution_count": 17,
   "id": "1975963b",
   "metadata": {},
   "outputs": [
    {
     "name": "stdout",
     "output_type": "stream",
     "text": [
      "brand\n",
      "model\n"
     ]
    }
   ],
   "source": [
    "for i, j in thisdict.items():\n",
    "    print(i)"
   ]
  },
  {
   "cell_type": "code",
   "execution_count": 18,
   "id": "45ad3df8",
   "metadata": {},
   "outputs": [
    {
     "name": "stdout",
     "output_type": "stream",
     "text": [
      "Ford\n",
      "Mustang\n"
     ]
    }
   ],
   "source": [
    "for i, j in thisdict.items():\n",
    "    print(j)"
   ]
  },
  {
   "cell_type": "markdown",
   "id": "b239ca6f",
   "metadata": {},
   "source": [
    "### nested dictionaries"
   ]
  },
  {
   "cell_type": "code",
   "execution_count": 19,
   "id": "d62af736",
   "metadata": {},
   "outputs": [],
   "source": [
    "myfamily = {\n",
    "    \"child1\" : {\"name\" : \"Emil\", \"year\" : 2004},\n",
    "    \"child2\" : {\"name\" : \"Tobias\", \"year\" : 2007},\n",
    "    \"child3\" : {\"name\" : \"Linus\", \"year\" : 2011}\n",
    "}"
   ]
  },
  {
   "cell_type": "code",
   "execution_count": 20,
   "id": "31276083",
   "metadata": {},
   "outputs": [
    {
     "data": {
      "text/plain": [
       "{'name': 'Tobias', 'year': 2007}"
      ]
     },
     "execution_count": 20,
     "metadata": {},
     "output_type": "execute_result"
    }
   ],
   "source": [
    "myfamily[\"child2\"]"
   ]
  },
  {
   "cell_type": "code",
   "execution_count": 21,
   "id": "1e45b94f",
   "metadata": {},
   "outputs": [
    {
     "data": {
      "text/plain": [
       "'Tobias'"
      ]
     },
     "execution_count": 21,
     "metadata": {},
     "output_type": "execute_result"
    }
   ],
   "source": [
    "myfamily[\"child2\"][\"name\"]"
   ]
  },
  {
   "cell_type": "markdown",
   "id": "31d8476c",
   "metadata": {},
   "source": [
    "### dictionary comprehension"
   ]
  },
  {
   "cell_type": "code",
   "execution_count": 22,
   "id": "bd962d9c",
   "metadata": {},
   "outputs": [
    {
     "name": "stdout",
     "output_type": "stream",
     "text": [
      "{'even number': 28}\n"
     ]
    }
   ],
   "source": [
    "even_numbers = {\"even number\" : i for i in range(1, 30) if i%2 == 0}\n",
    "\n",
    "print(even_numbers)"
   ]
  },
  {
   "cell_type": "code",
   "execution_count": 23,
   "id": "0e7deac1",
   "metadata": {},
   "outputs": [
    {
     "name": "stdout",
     "output_type": "stream",
     "text": [
      "{2: 'even number', 4: 'even number', 6: 'even number', 8: 'even number', 10: 'even number', 12: 'even number', 14: 'even number', 16: 'even number', 18: 'even number', 20: 'even number', 22: 'even number', 24: 'even number', 26: 'even number', 28: 'even number'}\n"
     ]
    }
   ],
   "source": [
    "even_numbers = {i : \"even number\" for i in range(1, 30) if i%2 == 0}\n",
    "\n",
    "print(even_numbers)"
   ]
  }
 ],
 "metadata": {
  "kernelspec": {
   "display_name": ".venv",
   "language": "python",
   "name": "python3"
  },
  "language_info": {
   "codemirror_mode": {
    "name": "ipython",
    "version": 3
   },
   "file_extension": ".py",
   "mimetype": "text/x-python",
   "name": "python",
   "nbconvert_exporter": "python",
   "pygments_lexer": "ipython3",
   "version": "3.13.7"
  }
 },
 "nbformat": 4,
 "nbformat_minor": 5
}
