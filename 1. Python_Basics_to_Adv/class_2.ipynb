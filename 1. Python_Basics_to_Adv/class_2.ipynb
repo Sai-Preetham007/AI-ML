{
 "cells": [
  {
   "cell_type": "markdown",
   "id": "be82d856",
   "metadata": {},
   "source": [
    "# Data Storing\n",
    "* String\n",
    "* List\n",
    "* Tuple\n",
    "* Set\n",
    "* Dictionary"
   ]
  },
  {
   "cell_type": "markdown",
   "id": "12a06ba7",
   "metadata": {},
   "source": [
    "### String"
   ]
  },
  {
   "cell_type": "code",
   "execution_count": 1,
   "id": "0583f86f",
   "metadata": {},
   "outputs": [
    {
     "name": "stdout",
     "output_type": "stream",
     "text": [
      "s : Sai\n",
      "length of s : 3\n"
     ]
    }
   ],
   "source": [
    "s = \"Sai\"\n",
    "\n",
    "print(\"s :\", s)\n",
    "print(\"length of s :\", len(s))"
   ]
  },
  {
   "cell_type": "markdown",
   "id": "f909837c",
   "metadata": {},
   "source": [
    "### accessing string elements"
   ]
  },
  {
   "cell_type": "code",
   "execution_count": 2,
   "id": "10d6d8a1",
   "metadata": {},
   "outputs": [
    {
     "name": "stdout",
     "output_type": "stream",
     "text": [
      "S\n",
      "a\n",
      "i\n"
     ]
    }
   ],
   "source": [
    "print(s[0])\n",
    "print(s[1])\n",
    "print(s[2])\n",
    "# print(s[3])"
   ]
  },
  {
   "cell_type": "code",
   "execution_count": 3,
   "id": "1da3b9fb",
   "metadata": {},
   "outputs": [
    {
     "name": "stdout",
     "output_type": "stream",
     "text": [
      "a\n",
      "l\n",
      "u\n",
      " \n"
     ]
    }
   ],
   "source": [
    "s = \"Sai Preetham reddy udumula\"\n",
    "\n",
    "print(s[-1])\n",
    "print(s[-2])\n",
    "print(s[-3])\n",
    "\n",
    "print(s[3])"
   ]
  },
  {
   "cell_type": "code",
   "execution_count": 4,
   "id": "b038f71d",
   "metadata": {},
   "outputs": [
    {
     "name": "stdout",
     "output_type": "stream",
     "text": [
      "a\n"
     ]
    }
   ],
   "source": [
    "print(s[len(s) - 1])      # or s[-1]     ---> accessing the last element using 'len' keyword."
   ]
  },
  {
   "cell_type": "markdown",
   "id": "9fcd1e64",
   "metadata": {},
   "source": [
    "### String slicing"
   ]
  },
  {
   "cell_type": "code",
   "execution_count": 5,
   "id": "61895bb8",
   "metadata": {},
   "outputs": [
    {
     "name": "stdout",
     "output_type": "stream",
     "text": [
      "Sa\n",
      "Sai 3\n",
      "Sai  4\n",
      " Preeth\n",
      "Preetham re\n"
     ]
    }
   ],
   "source": [
    "print(s[0:2])                        # 0:2 ---> 0 is included, 2 is excluded => 0,1\n",
    "print(s[0:3], len(s[0:3]))\n",
    "print(s[0:4], len(s[0:4]))\n",
    "\n",
    "print(s[3:10])\n",
    "print(s[4:15])"
   ]
  },
  {
   "cell_type": "code",
   "execution_count": 6,
   "id": "d9f77c41",
   "metadata": {},
   "outputs": [
    {
     "name": "stdout",
     "output_type": "stream",
     "text": [
      "\n"
     ]
    }
   ],
   "source": [
    "print(s[9:3])            # the 1st number should be the smaller and the 2nd number should be the bigger"
   ]
  },
  {
   "cell_type": "code",
   "execution_count": 7,
   "id": "39b95b29",
   "metadata": {},
   "outputs": [
    {
     "name": "stdout",
     "output_type": "stream",
     "text": [
      "\n"
     ]
    }
   ],
   "source": [
    "print(s[-1:-3])"
   ]
  },
  {
   "cell_type": "code",
   "execution_count": 8,
   "id": "b298505d",
   "metadata": {},
   "outputs": [
    {
     "name": "stdout",
     "output_type": "stream",
     "text": [
      "ul\n"
     ]
    }
   ],
   "source": [
    "print(s[-3:-1])"
   ]
  },
  {
   "cell_type": "code",
   "execution_count": 9,
   "id": "082c15dc",
   "metadata": {},
   "outputs": [
    {
     "name": "stdout",
     "output_type": "stream",
     "text": [
      "Preetham reddy udumula\n",
      "Sai Pree\n"
     ]
    }
   ],
   "source": [
    "print(s[4:])\n",
    "print(s[:8])"
   ]
  },
  {
   "cell_type": "code",
   "execution_count": 10,
   "id": "6226871c",
   "metadata": {},
   "outputs": [
    {
     "data": {
      "text/plain": [
       "'i pre'"
      ]
     },
     "execution_count": 10,
     "metadata": {},
     "output_type": "execute_result"
    }
   ],
   "source": [
    "s = \"sai preetham\"\n",
    "\n",
    "'''\n",
    "0 -> \"s\"\n",
    "1 -> \"a\"\n",
    "2 -> \"i\"\n",
    "\n",
    "-1 -> \"m\"\n",
    "-2 -> \"a\"\n",
    "-3 -> \"h\"\n",
    "-4 -> \"t\"\n",
    "-5 -> \"e\"\n",
    "'''\n",
    "\n",
    "s[2:-5]"
   ]
  },
  {
   "cell_type": "markdown",
   "id": "3d186ce7",
   "metadata": {},
   "source": [
    "### string methods"
   ]
  },
  {
   "cell_type": "code",
   "execution_count": 11,
   "id": "737522a4",
   "metadata": {},
   "outputs": [],
   "source": [
    "s = \"Krishna Chaitanya Reddy\""
   ]
  },
  {
   "cell_type": "code",
   "execution_count": 12,
   "id": "f840ffb1",
   "metadata": {},
   "outputs": [
    {
     "name": "stdout",
     "output_type": "stream",
     "text": [
      "KRISHNA CHAITANYA REDDY\n",
      "krishna chaitanya reddy\n",
      "Krishna chaitanya reddy\n",
      "Krishna Chaitanya Reddy\n"
     ]
    }
   ],
   "source": [
    "print(s.upper())       # converts all the characters to capital letters\n",
    "print(s.lower())       # converts all the characters to small letters\n",
    "print(s.capitalize())  # only the first letter is capital\n",
    "print(s.title())       # the first letter of each word is capital"
   ]
  },
  {
   "cell_type": "code",
   "execution_count": 13,
   "id": "fb6c0b18",
   "metadata": {},
   "outputs": [
    {
     "name": "stdout",
     "output_type": "stream",
     "text": [
      "1\n",
      "4\n",
      "0\n"
     ]
    }
   ],
   "source": [
    "print(s.count(\"s\"))\n",
    "print(s.count(\"a\"))\n",
    "print(s.count(\"k\"))"
   ]
  },
  {
   "cell_type": "code",
   "execution_count": 14,
   "id": "c1c1c700",
   "metadata": {},
   "outputs": [
    {
     "name": "stdout",
     "output_type": "stream",
     "text": [
      "18\n"
     ]
    }
   ],
   "source": [
    "print(s.index(\"Re\"))\n",
    "# print(s.index(\"udu\"))      # it throws an error when the keyword is not found."
   ]
  },
  {
   "cell_type": "code",
   "execution_count": 15,
   "id": "705e1895",
   "metadata": {},
   "outputs": [
    {
     "name": "stdout",
     "output_type": "stream",
     "text": [
      "18\n",
      "-1\n"
     ]
    }
   ],
   "source": [
    "print(s.find(\"Re\"))\n",
    "print(s.find(\"udu\"))        # it gives you '-1' as a result, if the keyword is not found."
   ]
  },
  {
   "cell_type": "code",
   "execution_count": 16,
   "id": "c152c05a",
   "metadata": {},
   "outputs": [],
   "source": [
    "s = \"Subhashini\""
   ]
  },
  {
   "cell_type": "code",
   "execution_count": 17,
   "id": "3a600bdd",
   "metadata": {},
   "outputs": [
    {
     "name": "stdout",
     "output_type": "stream",
     "text": [
      "True\n"
     ]
    }
   ],
   "source": [
    "print(s.isalpha())"
   ]
  },
  {
   "cell_type": "code",
   "execution_count": 18,
   "id": "72b4afb7",
   "metadata": {},
   "outputs": [
    {
     "name": "stdout",
     "output_type": "stream",
     "text": [
      "False\n"
     ]
    }
   ],
   "source": [
    "print(s.isnumeric())"
   ]
  },
  {
   "cell_type": "code",
   "execution_count": 19,
   "id": "d99ebc07",
   "metadata": {},
   "outputs": [],
   "source": [
    "s = \"4567\""
   ]
  },
  {
   "cell_type": "code",
   "execution_count": 20,
   "id": "ee556dc1",
   "metadata": {},
   "outputs": [
    {
     "name": "stdout",
     "output_type": "stream",
     "text": [
      "False\n"
     ]
    }
   ],
   "source": [
    "print(s.isalpha())"
   ]
  },
  {
   "cell_type": "code",
   "execution_count": 21,
   "id": "987f23a6",
   "metadata": {},
   "outputs": [
    {
     "name": "stdout",
     "output_type": "stream",
     "text": [
      "True\n"
     ]
    }
   ],
   "source": [
    "print(s.isnumeric())"
   ]
  },
  {
   "cell_type": "markdown",
   "id": "c0cd0b37",
   "metadata": {},
   "source": [
    "### split method"
   ]
  },
  {
   "cell_type": "code",
   "execution_count": 22,
   "id": "79c5a33a",
   "metadata": {},
   "outputs": [
    {
     "name": "stdout",
     "output_type": "stream",
     "text": [
      "['Sai', 'Preetham']\n",
      "['S', 'i Preeth', 'm']\n"
     ]
    }
   ],
   "source": [
    "s = \"Sai Preetham\"\n",
    "\n",
    "print(s.split())        # default value of split is \" \"\n",
    "print(s.split(\"a\"))"
   ]
  },
  {
   "cell_type": "markdown",
   "id": "5138cb9d",
   "metadata": {},
   "source": [
    "### strip method"
   ]
  },
  {
   "cell_type": "code",
   "execution_count": 23,
   "id": "6b11d797",
   "metadata": {},
   "outputs": [
    {
     "name": "stdout",
     "output_type": "stream",
     "text": [
      "        Sai Preetham                         44\n",
      "Sai Preetham 12\n"
     ]
    }
   ],
   "source": [
    "s = \"        Sai Preetham                        \"\n",
    "\n",
    "print(s, len(s))\n",
    "\n",
    "s1 = s.strip()\n",
    "print(s1, len(s1))"
   ]
  },
  {
   "cell_type": "markdown",
   "id": "93607b16",
   "metadata": {},
   "source": [
    "### replace method"
   ]
  },
  {
   "cell_type": "code",
   "execution_count": 24,
   "id": "1763b86c",
   "metadata": {},
   "outputs": [
    {
     "name": "stdout",
     "output_type": "stream",
     "text": [
      "SAi PreethAm\n"
     ]
    }
   ],
   "source": [
    "s = \"Sai Preetham\"\n",
    "\n",
    "print(s.replace(\"a\", \"A\"))"
   ]
  },
  {
   "cell_type": "markdown",
   "id": "8899bfd3",
   "metadata": {},
   "source": [
    "### string concatination"
   ]
  },
  {
   "cell_type": "code",
   "execution_count": 25,
   "id": "9fb8edae",
   "metadata": {},
   "outputs": [
    {
     "name": "stdout",
     "output_type": "stream",
     "text": [
      "sai preetham udumula\n"
     ]
    }
   ],
   "source": [
    "first_name, last_name = \"sai preetham\", \"udumula\"\n",
    "full_name = first_name + \" \" + last_name\n",
    "\n",
    "print(full_name)"
   ]
  },
  {
   "cell_type": "code",
   "execution_count": 26,
   "id": "8dc9320d",
   "metadata": {},
   "outputs": [
    {
     "name": "stdout",
     "output_type": "stream",
     "text": [
      "Welcome\n",
      "Coders\n"
     ]
    }
   ],
   "source": [
    "x = 'Welcome'\n",
    "y = 'Coders'\n",
    "\n",
    "print(x + '\\n' + y)"
   ]
  },
  {
   "cell_type": "markdown",
   "id": "f7ed7cc1",
   "metadata": {},
   "source": [
    "### string formatting"
   ]
  },
  {
   "cell_type": "code",
   "execution_count": 27,
   "id": "e7294807",
   "metadata": {},
   "outputs": [
    {
     "name": "stdout",
     "output_type": "stream",
     "text": [
      "Krishna is working in LTI MindTree since 7 years\n",
      "Krishna is working in LTI MindTree since 7.00 years\n",
      "Krishna is working in LTI MindTree since 12 years\n"
     ]
    }
   ],
   "source": [
    "name = \"Krishna\"\n",
    "org = \"LTI MindTree\"\n",
    "year = 7\n",
    "\n",
    "print(f\"{name} is working in {org} since {year} years\")\n",
    "print(f\"{name} is working in {org} since {year:.2f} years\")\n",
    "print(f\"{name} is working in {org} since {year + 5} years\")"
   ]
  },
  {
   "cell_type": "markdown",
   "id": "d67d2df6",
   "metadata": {},
   "source": [
    "### escape characters"
   ]
  },
  {
   "cell_type": "code",
   "execution_count": null,
   "id": "dda3f52c",
   "metadata": {},
   "outputs": [
    {
     "name": "stdout",
     "output_type": "stream",
     "text": [
      "I'm a student.\n",
      "I\"m working in Virtusa.\n"
     ]
    }
   ],
   "source": [
    "print(\"I'm a student.\")\n",
    "print('I\"m working in Virtusa.')\n",
    "print(\"I\\\"m a person who teacher python.\")"
   ]
  },
  {
   "cell_type": "markdown",
   "id": "43d06f74",
   "metadata": {},
   "source": [
    "### if condition in string"
   ]
  },
  {
   "cell_type": "code",
   "execution_count": 30,
   "id": "5a5f5606",
   "metadata": {},
   "outputs": [
    {
     "name": "stdout",
     "output_type": "stream",
     "text": [
      "Special Character is present. \n"
     ]
    }
   ],
   "source": [
    "s = \"Hello Sai, how you are doing?\"\n",
    "\n",
    "if \"?\" in s:\n",
    "    print(\"Special Character is present. \")"
   ]
  },
  {
   "cell_type": "code",
   "execution_count": 31,
   "id": "92af2ac3",
   "metadata": {},
   "outputs": [
    {
     "name": "stdout",
     "output_type": "stream",
     "text": [
      "Special characters are not present.\n"
     ]
    }
   ],
   "source": [
    "s = \"How you are doing\"\n",
    "\n",
    "if \"?\" in s:\n",
    "    print(\"Special Character is present. \")\n",
    "else:\n",
    "    print(\"Special characters are not present.\")"
   ]
  },
  {
   "cell_type": "code",
   "execution_count": 32,
   "id": "8b859e2f",
   "metadata": {},
   "outputs": [
    {
     "name": "stdout",
     "output_type": "stream",
     "text": [
      "? is present\n",
      ", is present\n"
     ]
    }
   ],
   "source": [
    "s = \"Hello Sai, how you are doing?\"\n",
    "\n",
    "if \"?\" in s:\n",
    "    print(\"? is present\")\n",
    "if \",\" in s:\n",
    "    print(\", is present\")\n",
    "else:\n",
    "    print(\"Special characters are not present.\")"
   ]
  },
  {
   "cell_type": "code",
   "execution_count": 33,
   "id": "c94db96d",
   "metadata": {},
   "outputs": [
    {
     "name": "stdout",
     "output_type": "stream",
     "text": [
      ", is present\n"
     ]
    }
   ],
   "source": [
    "s = \"Hello Sai, how you are doing\"\n",
    "\n",
    "if \"?\" in s:\n",
    "    print(\"? is present\")\n",
    "elif \",\" in s:\n",
    "    print(\", is present\")\n",
    "else:\n",
    "    print(\"Special characters are not present.\")"
   ]
  },
  {
   "cell_type": "markdown",
   "id": "791e5af6",
   "metadata": {},
   "source": [
    "### iterating a string"
   ]
  },
  {
   "cell_type": "code",
   "execution_count": 34,
   "id": "147c35ad",
   "metadata": {},
   "outputs": [
    {
     "name": "stdout",
     "output_type": "stream",
     "text": [
      "S\n",
      "a\n",
      "i\n",
      " \n",
      "P\n",
      "r\n",
      "e\n",
      "e\n",
      "t\n",
      "h\n",
      "a\n",
      "m\n"
     ]
    }
   ],
   "source": [
    "s = \"Sai Preetham\"\n",
    "\n",
    "for char in s:\n",
    "    print(char)"
   ]
  },
  {
   "cell_type": "markdown",
   "id": "c65a9ea0",
   "metadata": {},
   "source": [
    "# Quiz"
   ]
  },
  {
   "cell_type": "code",
   "execution_count": 35,
   "id": "715d8e01",
   "metadata": {},
   "outputs": [
    {
     "name": "stdout",
     "output_type": "stream",
     "text": [
      "HiHello\n"
     ]
    }
   ],
   "source": [
    "print(\"Hi\" + \"Hello\")"
   ]
  },
  {
   "cell_type": "code",
   "execution_count": 36,
   "id": "735cd912",
   "metadata": {},
   "outputs": [
    {
     "name": "stdout",
     "output_type": "stream",
     "text": [
      "2221\n"
     ]
    }
   ],
   "source": [
    "print(\"2\" + \"2\" + \"2\" + \"1\")"
   ]
  },
  {
   "cell_type": "code",
   "execution_count": 37,
   "id": "95c1f0d1",
   "metadata": {},
   "outputs": [
    {
     "name": "stdout",
     "output_type": "stream",
     "text": [
      "2221\n"
     ]
    }
   ],
   "source": [
    "print(3 * '2' + '1')        # print(\"2\" + \"2\" + \"2\")"
   ]
  },
  {
   "cell_type": "markdown",
   "id": "75d825bc",
   "metadata": {},
   "source": [
    "* reverse a string"
   ]
  },
  {
   "cell_type": "code",
   "execution_count": 38,
   "id": "4893466b",
   "metadata": {},
   "outputs": [
    {
     "data": {
      "text/plain": [
       "'mahteerP iaS'"
      ]
     },
     "execution_count": 38,
     "metadata": {},
     "output_type": "execute_result"
    }
   ],
   "source": [
    "s = \"Sai Preetham\"\n",
    "# output ---> \"mahteerP iaS\"\n",
    "\n",
    "s[::-1]"
   ]
  },
  {
   "cell_type": "markdown",
   "id": "d641def6",
   "metadata": {},
   "source": [
    "* Calculate the sum and average of the digits present in a string"
   ]
  },
  {
   "cell_type": "code",
   "execution_count": 39,
   "id": "e20752b9",
   "metadata": {},
   "outputs": [
    {
     "name": "stdout",
     "output_type": "stream",
     "text": [
      "24\n"
     ]
    }
   ],
   "source": [
    "s = \"84057\"\n",
    "res = 0\n",
    "\n",
    "for i in s:\n",
    "    # res += int(i)\n",
    "    res = res + int(i)         # res = 8 + 0 = 8 ---> res = 8 + 4 = 12 ---> res = 12 + 0 = 12 ---> res = 12 + 5 = 17 ---> res = 17 + 7 = 24\n",
    "\n",
    "print(res)"
   ]
  }
 ],
 "metadata": {
  "kernelspec": {
   "display_name": "Python 3",
   "language": "python",
   "name": "python3"
  },
  "language_info": {
   "codemirror_mode": {
    "name": "ipython",
    "version": 3
   },
   "file_extension": ".py",
   "mimetype": "text/x-python",
   "name": "python",
   "nbconvert_exporter": "python",
   "pygments_lexer": "ipython3",
   "version": "3.13.7"
  }
 },
 "nbformat": 4,
 "nbformat_minor": 5
}
