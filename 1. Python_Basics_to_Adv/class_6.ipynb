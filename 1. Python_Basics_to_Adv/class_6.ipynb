{
 "cells": [
  {
   "cell_type": "markdown",
   "id": "aba642df",
   "metadata": {},
   "source": [
    "# Sets\n",
    "* It is un-ordered.\n",
    "* It contains only unique values."
   ]
  },
  {
   "cell_type": "code",
   "execution_count": 1,
   "id": "623601c8",
   "metadata": {},
   "outputs": [
    {
     "name": "stdout",
     "output_type": "stream",
     "text": [
      "{'apple', 'cherry', 'banana'}\n"
     ]
    }
   ],
   "source": [
    "myset = {\"apple\", \"banana\", \"cherry\"}              # myset = set((\"sai\", 24, \"A.P\"))\n",
    "\n",
    "print(myset)"
   ]
  },
  {
   "cell_type": "code",
   "execution_count": 2,
   "id": "0e621346",
   "metadata": {},
   "outputs": [
    {
     "name": "stdout",
     "output_type": "stream",
     "text": [
      "{'apple', 1, False, 'cherry', 'banana'}\n",
      "Length of temp : 5\n"
     ]
    }
   ],
   "source": [
    "temp = {\"apple\", \"banana\", \"cherry\", \"apple\", 1, True, False, 0}\n",
    "\n",
    "print(temp)\n",
    "print(f\"Length of temp : {len(temp)}\")"
   ]
  },
  {
   "cell_type": "code",
   "execution_count": 3,
   "id": "b6c148a8",
   "metadata": {},
   "outputs": [
    {
     "name": "stdout",
     "output_type": "stream",
     "text": [
      "{'apple', 'cherry', 'banana'}\n"
     ]
    }
   ],
   "source": [
    "thisset = set((\"apple\", \"banana\", \"cherry\"))       # note the double round-brackets\n",
    "print(thisset)"
   ]
  },
  {
   "cell_type": "markdown",
   "id": "17ac2e30",
   "metadata": {},
   "source": [
    "### accessing the set elements"
   ]
  },
  {
   "cell_type": "code",
   "execution_count": 4,
   "id": "4fc567fd",
   "metadata": {},
   "outputs": [],
   "source": [
    "# temp[0]"
   ]
  },
  {
   "cell_type": "code",
   "execution_count": 5,
   "id": "55cb89fe",
   "metadata": {},
   "outputs": [],
   "source": [
    "# temp[:]"
   ]
  },
  {
   "cell_type": "code",
   "execution_count": 6,
   "id": "46f9345e",
   "metadata": {},
   "outputs": [
    {
     "name": "stdout",
     "output_type": "stream",
     "text": [
      "apple\n",
      "1\n",
      "False\n",
      "cherry\n",
      "banana\n"
     ]
    }
   ],
   "source": [
    "for i in temp:\n",
    "    print(i)"
   ]
  },
  {
   "cell_type": "code",
   "execution_count": 7,
   "id": "6e2fbc01",
   "metadata": {},
   "outputs": [
    {
     "name": "stdout",
     "output_type": "stream",
     "text": [
      "True\n",
      "True\n"
     ]
    }
   ],
   "source": [
    "print(\"apple\" in temp)\n",
    "print(\"sai\" not in temp)"
   ]
  },
  {
   "cell_type": "markdown",
   "id": "4ff114fb",
   "metadata": {},
   "source": [
    "### adding elements into set"
   ]
  },
  {
   "cell_type": "code",
   "execution_count": 8,
   "id": "7754a08b",
   "metadata": {},
   "outputs": [
    {
     "name": "stdout",
     "output_type": "stream",
     "text": [
      "{'apple', 'orange', 'cherry', 'banana'}\n"
     ]
    }
   ],
   "source": [
    "thisset.add(\"orange\")\n",
    "# thisset.add(\"kiwi\", \"papaya\")\n",
    "# thisset.add({\"kiwi\", \"papaya\"})\n",
    "\n",
    "print(thisset)"
   ]
  },
  {
   "cell_type": "code",
   "execution_count": 9,
   "id": "e98600c9",
   "metadata": {},
   "outputs": [
    {
     "name": "stdout",
     "output_type": "stream",
     "text": [
      "{'apple', 'papaya', 'kiwi', 'orange', 'cherry', 'banana'}\n"
     ]
    }
   ],
   "source": [
    "thisset.update({\"kiwi\", \"papaya\"})\n",
    "print(thisset)"
   ]
  },
  {
   "cell_type": "markdown",
   "id": "949127e4",
   "metadata": {},
   "source": [
    "### removing elements in a set"
   ]
  },
  {
   "cell_type": "code",
   "execution_count": 10,
   "id": "ed44a566",
   "metadata": {},
   "outputs": [
    {
     "name": "stdout",
     "output_type": "stream",
     "text": [
      "{'apple', 'papaya', 'kiwi', 'orange', 'cherry'}\n"
     ]
    }
   ],
   "source": [
    "thisset.remove(\"banana\")\n",
    "# thisset.remove(\"sai\")\n",
    "\n",
    "print(thisset)"
   ]
  },
  {
   "cell_type": "code",
   "execution_count": 11,
   "id": "8b633a72",
   "metadata": {},
   "outputs": [
    {
     "name": "stdout",
     "output_type": "stream",
     "text": [
      "{'apple', 'papaya', 'kiwi', 'orange'}\n"
     ]
    }
   ],
   "source": [
    "thisset.discard(\"cherry\")\n",
    "thisset.discard(\"sai\")\n",
    "\n",
    "print(thisset)"
   ]
  },
  {
   "cell_type": "code",
   "execution_count": 12,
   "id": "27b7000e",
   "metadata": {},
   "outputs": [
    {
     "name": "stdout",
     "output_type": "stream",
     "text": [
      "{'papaya', 'kiwi', 'orange'}\n"
     ]
    }
   ],
   "source": [
    "thisset.pop()\n",
    "print(thisset)"
   ]
  },
  {
   "cell_type": "code",
   "execution_count": 13,
   "id": "d6e8a1e3",
   "metadata": {},
   "outputs": [
    {
     "name": "stdout",
     "output_type": "stream",
     "text": [
      "{1, 'c', 2, 3, 'a', 'b'}\n"
     ]
    }
   ],
   "source": [
    "set1 = {\"a\", \"b\", \"c\"}\n",
    "set2 = {1, 2, 3}\n",
    "\n",
    "set3 = set1 | set2          # set3 = set1.union(set2)\n",
    "print(set3)"
   ]
  },
  {
   "cell_type": "code",
   "execution_count": 14,
   "id": "97f0a230",
   "metadata": {},
   "outputs": [
    {
     "name": "stdout",
     "output_type": "stream",
     "text": [
      "{'apple'}\n"
     ]
    }
   ],
   "source": [
    "set1 = {\"apple\", \"banana\", \"cherry\"}\n",
    "set2 = {\"google\", \"microsoft\", \"apple\"}\n",
    "\n",
    "set3 = set1 & set2       # set3 = set1.intersection(set2)\n",
    "print(set3)"
   ]
  },
  {
   "cell_type": "code",
   "execution_count": 15,
   "id": "14b67081",
   "metadata": {},
   "outputs": [
    {
     "name": "stdout",
     "output_type": "stream",
     "text": [
      "{'cherry', 'banana'}\n"
     ]
    }
   ],
   "source": [
    "set1 = {\"apple\", \"banana\", \"cherry\"}\n",
    "set2 = {\"google\", \"microsoft\", \"apple\"}\n",
    "\n",
    "print(set1 - set2)            # set1.difference(set2)"
   ]
  },
  {
   "cell_type": "code",
   "execution_count": 16,
   "id": "9c238193",
   "metadata": {},
   "outputs": [
    {
     "name": "stdout",
     "output_type": "stream",
     "text": [
      "{'microsoft', 'google'}\n"
     ]
    }
   ],
   "source": [
    "print(set2.difference(set1))"
   ]
  },
  {
   "cell_type": "code",
   "execution_count": 17,
   "id": "dae4ddd9",
   "metadata": {},
   "outputs": [
    {
     "name": "stdout",
     "output_type": "stream",
     "text": [
      "{'apple', 'microsoft', 'google', 'cherry', 'banana'}\n"
     ]
    }
   ],
   "source": [
    "temp1 = set1 | set2\n",
    "\n",
    "print(temp1)"
   ]
  },
  {
   "cell_type": "code",
   "execution_count": 18,
   "id": "a7f0f292",
   "metadata": {},
   "outputs": [
    {
     "name": "stdout",
     "output_type": "stream",
     "text": [
      "{'apple'}\n"
     ]
    }
   ],
   "source": [
    "temp2 = set1 & set2\n",
    "\n",
    "print(temp2)"
   ]
  },
  {
   "cell_type": "code",
   "execution_count": 19,
   "id": "579300e5",
   "metadata": {},
   "outputs": [
    {
     "name": "stdout",
     "output_type": "stream",
     "text": [
      "{'banana', 'microsoft', 'cherry', 'google'}\n"
     ]
    }
   ],
   "source": [
    "print(temp1 - temp2)"
   ]
  }
 ],
 "metadata": {
  "kernelspec": {
   "display_name": "Python 3",
   "language": "python",
   "name": "python3"
  },
  "language_info": {
   "codemirror_mode": {
    "name": "ipython",
    "version": 3
   },
   "file_extension": ".py",
   "mimetype": "text/x-python",
   "name": "python",
   "nbconvert_exporter": "python",
   "pygments_lexer": "ipython3",
   "version": "3.13.7"
  }
 },
 "nbformat": 4,
 "nbformat_minor": 5
}
