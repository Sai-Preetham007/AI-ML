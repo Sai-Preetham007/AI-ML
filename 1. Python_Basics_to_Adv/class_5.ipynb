{
 "cells": [
  {
   "cell_type": "markdown",
   "id": "185a3913",
   "metadata": {},
   "source": [
    "# Tuples"
   ]
  },
  {
   "cell_type": "code",
   "execution_count": 1,
   "id": "e7157313",
   "metadata": {},
   "outputs": [
    {
     "name": "stdout",
     "output_type": "stream",
     "text": [
      "(1, 2, 3, 4) <class 'tuple'>\n"
     ]
    }
   ],
   "source": [
    "temp = tuple((1,2,3,4))\n",
    "\n",
    "print(temp, type(temp))"
   ]
  },
  {
   "cell_type": "code",
   "execution_count": 2,
   "id": "69d79f37",
   "metadata": {},
   "outputs": [
    {
     "name": "stdout",
     "output_type": "stream",
     "text": [
      "<class 'int'>\n",
      "<class 'tuple'>\n",
      "<class 'str'>\n"
     ]
    }
   ],
   "source": [
    "temp1 = (1)\n",
    "temp2 = (1,)\n",
    "temp3 = (\"sai\")\n",
    "\n",
    "print(type(temp1))\n",
    "print(type(temp2))\n",
    "print(type(temp3))"
   ]
  },
  {
   "cell_type": "markdown",
   "id": "c27c02d1",
   "metadata": {},
   "source": [
    "### Update Tuples"
   ]
  },
  {
   "cell_type": "code",
   "execution_count": 3,
   "id": "74fa4bc3",
   "metadata": {},
   "outputs": [],
   "source": [
    "students = (\"Sai Preetham\", \"Anajana\", \"Sharmila\", \"Pavani\", \"Krishna\", \"Tejaswari\")"
   ]
  },
  {
   "cell_type": "code",
   "execution_count": 4,
   "id": "858ec6cb",
   "metadata": {},
   "outputs": [],
   "source": [
    "# students.append(\"sai\")\n",
    "# students.extend(\"sai\")"
   ]
  },
  {
   "cell_type": "code",
   "execution_count": 5,
   "id": "f3e8bac1",
   "metadata": {},
   "outputs": [
    {
     "name": "stdout",
     "output_type": "stream",
     "text": [
      "('Sai Preetham', 'Anajana', 'Sharmila', 'Pavani', 'Krishna', 'Tejaswari', 'Thanmayi')\n"
     ]
    }
   ],
   "source": [
    "students = (\"Sai Preetham\", \"Anajana\", \"Sharmila\", \"Pavani\", \"Krishna\", \"Tejaswari\")\n",
    "std1 = (\"Thanmayi\",)\n",
    "\n",
    "print(students + std1)"
   ]
  },
  {
   "cell_type": "code",
   "execution_count": 6,
   "id": "d9bd9cb9",
   "metadata": {},
   "outputs": [
    {
     "name": "stdout",
     "output_type": "stream",
     "text": [
      "('Sai Preetham', 'Anajana', 'Sharmila', 'Pavani', 'Krishna', 'Tejaswari', 'Thanmayi')\n"
     ]
    }
   ],
   "source": [
    "students = (\"Sai Preetham\", \"Anajana\", \"Sharmila\", \"Pavani\", \"Krishna\", \"Tejaswari\")\n",
    "\n",
    "print(students + (\"Thanmayi\",))"
   ]
  },
  {
   "cell_type": "markdown",
   "id": "ee43825a",
   "metadata": {},
   "source": [
    "* concat list and tuple ---> output should be a tuple"
   ]
  },
  {
   "cell_type": "code",
   "execution_count": 7,
   "id": "f22e582b",
   "metadata": {},
   "outputs": [],
   "source": [
    "students = (\"Sai Preetham\", \"Anajana\", \"Sharmila\", \"Pavani\", \"Krishna\", \"Tejaswari\")\n",
    "ages = [24, 20, 21, 19]"
   ]
  },
  {
   "cell_type": "code",
   "execution_count": 8,
   "id": "1b0f9c13",
   "metadata": {},
   "outputs": [
    {
     "name": "stdout",
     "output_type": "stream",
     "text": [
      "['Sai Preetham', 'Anajana', 'Sharmila', 'Pavani', 'Krishna', 'Tejaswari', 24, 20, 21, 19]\n",
      "('Sai Preetham', 'Anajana', 'Sharmila', 'Pavani', 'Krishna', 'Tejaswari', 24, 20, 21, 19)\n"
     ]
    }
   ],
   "source": [
    "print(list(students) + ages)\n",
    "print(tuple(list(students) + ages))"
   ]
  },
  {
   "cell_type": "markdown",
   "id": "4391d129",
   "metadata": {},
   "source": [
    "### unpacking tuples"
   ]
  },
  {
   "cell_type": "code",
   "execution_count": 9,
   "id": "d517f238",
   "metadata": {},
   "outputs": [
    {
     "name": "stdout",
     "output_type": "stream",
     "text": [
      "Tejaswari\n"
     ]
    }
   ],
   "source": [
    "students = (\"Sai Preetham\", \"Anajana\", \"Tejaswari\")\n",
    "\n",
    "x, y, z = students\n",
    "\n",
    "print(z)"
   ]
  },
  {
   "cell_type": "markdown",
   "id": "adcd0ad9",
   "metadata": {},
   "source": [
    "* Print only the integers without duplictaes and sort them in a descending order"
   ]
  },
  {
   "cell_type": "code",
   "execution_count": 10,
   "id": "14447793",
   "metadata": {},
   "outputs": [
    {
     "name": "stdout",
     "output_type": "stream",
     "text": [
      "[5, 2, 78]\n",
      "[2, 5, 78]\n",
      "[78, 5, 2]\n"
     ]
    }
   ],
   "source": [
    "L = [5, 2, 78, \"54\", 34.7, \"98sp\", \"2\", 78]\n",
    "\n",
    "res=[]\n",
    "for x in L:\n",
    "    if type(x)==int and x not in res:\n",
    "        res.append(x)\n",
    "\n",
    "'''\n",
    "x = 5, res = [5]\n",
    "x = 2, res = [5,2]\n",
    "x = 78, res = [5,2,78]\n",
    "x = \"54\", res = [5,2,78]\n",
    "x = 34.7, res = [5,2,78]\n",
    "x = \"98sp\", res = [5,2,78]\n",
    "x = \"2\", res = [5,2,78]\n",
    "x = 78, res = [5,2,78]\n",
    "'''\n",
    "\n",
    "print(res)\n",
    "\n",
    "res.sort()\n",
    "print(res)\n",
    "\n",
    "res.sort(reverse=True)\n",
    "print(res)"
   ]
  },
  {
   "cell_type": "code",
   "execution_count": 11,
   "id": "1273932f",
   "metadata": {},
   "outputs": [],
   "source": [
    "# L = [5, 2, 78, \"54\", 34.7, \"98sp\", \"2\", 78]\n",
    "\n",
    "# result = [ele for ele in L if type(ele)==int and ele not in result]\n",
    "# print(result)"
   ]
  }
 ],
 "metadata": {
  "kernelspec": {
   "display_name": ".venv",
   "language": "python",
   "name": "python3"
  },
  "language_info": {
   "codemirror_mode": {
    "name": "ipython",
    "version": 3
   },
   "file_extension": ".py",
   "mimetype": "text/x-python",
   "name": "python",
   "nbconvert_exporter": "python",
   "pygments_lexer": "ipython3",
   "version": "3.13.7"
  }
 },
 "nbformat": 4,
 "nbformat_minor": 5
}
